{
 "cells": [
  {
   "cell_type": "code",
   "execution_count": 11,
   "metadata": {},
   "outputs": [],
   "source": [
    "import sys\n",
    "from argparse import ArgumentParser, Namespace\n",
    "\n",
    "sys.path.append(\"..\")\n",
    "\n",
    "from src.models import STR2MODEL, train_model"
   ]
  },
  {
   "cell_type": "markdown",
   "metadata": {},
   "source": [
    "## 1. Initialize model "
   ]
  },
  {
   "cell_type": "code",
   "execution_count": 12,
   "metadata": {
    "scrolled": true
   },
   "outputs": [
    {
     "data": {
      "text/plain": [
       "_StoreAction(option_strings=['--patience'], dest='patience', nargs=None, const=None, default=10, type=<class 'int'>, choices=None, help=None, metavar=None)"
      ]
     },
     "execution_count": 12,
     "metadata": {},
     "output_type": "execute_result"
    }
   ],
   "source": [
    "parser = ArgumentParser()\n",
    "parser.add_argument(\"--max_epochs\", type=int, default=1000)\n",
    "parser.add_argument(\"--patience\", type=int, default=10)"
   ]
  },
  {
   "cell_type": "markdown",
   "metadata": {},
   "source": [
    "**Slight modification below:** adding args=[] makes it work for Jupyter notebook https://stackoverflow.com/questions/30656777/how-to-call-module-written-with-argparse-in-ipython-notebook"
   ]
  },
  {
   "cell_type": "code",
   "execution_count": 13,
   "metadata": {},
   "outputs": [],
   "source": [
    "model_args = STR2MODEL[\"land_cover\"].add_model_specific_args(parser).parse_args(args=[])"
   ]
  },
  {
   "cell_type": "code",
   "execution_count": 14,
   "metadata": {},
   "outputs": [
    {
     "data": {
      "text/plain": [
       "Namespace(add_geowiki=True, add_togo=True, alpha=10, batch_size=64, data_folder='/home/gajo/code/togo-crop-mask/notebooks/../data', hidden_vector_size=64, learning_rate=0.001, lstm_dropout=0.2, max_epochs=1000, model_base='lstm', multi_headed=True, num_classification_layers=2, num_lstm_layers=1, patience=10, probability_threshold=0.5, remove_b1_b10=True)"
      ]
     },
     "execution_count": 14,
     "metadata": {},
     "output_type": "execute_result"
    }
   ],
   "source": [
    "model = STR2MODEL[\"land_cover\"](model_args)\n",
    "model.hparams"
   ]
  },
  {
   "cell_type": "markdown",
   "metadata": {},
   "source": [
    "### New models args"
   ]
  },
  {
   "cell_type": "code",
   "execution_count": 15,
   "metadata": {},
   "outputs": [],
   "source": [
    "new_model_args_dict = vars(model_args)"
   ]
  },
  {
   "cell_type": "code",
   "execution_count": 16,
   "metadata": {},
   "outputs": [
    {
     "data": {
      "text/plain": [
       "{'max_epochs': 1000,\n",
       " 'patience': 10,\n",
       " 'data_folder': '/home/gajo/code/togo-crop-mask/notebooks/../data',\n",
       " 'model_base': 'lstm',\n",
       " 'hidden_vector_size': 64,\n",
       " 'learning_rate': 0.001,\n",
       " 'batch_size': 64,\n",
       " 'probability_threshold': 0.5,\n",
       " 'num_classification_layers': 2,\n",
       " 'alpha': 10,\n",
       " 'add_togo': True,\n",
       " 'add_geowiki': True,\n",
       " 'remove_b1_b10': True,\n",
       " 'multi_headed': True,\n",
       " 'num_lstm_layers': 1,\n",
       " 'lstm_dropout': 0.2}"
      ]
     },
     "execution_count": 16,
     "metadata": {},
     "output_type": "execute_result"
    }
   ],
   "source": [
    "new_model_args_dict"
   ]
  },
  {
   "cell_type": "code",
   "execution_count": 17,
   "metadata": {},
   "outputs": [],
   "source": [
    "# SET MODIFICATIONS TO DEFAULT MODEL ARGUMENTS:\n",
    "\n",
    "new_model_args_dict['add_togo'] = False\n",
    "new_model_args_dict['multi_headed'] = False\n",
    "new_model_args_dict['num_classification_layers'] = 1"
   ]
  },
  {
   "cell_type": "code",
   "execution_count": 20,
   "metadata": {},
   "outputs": [
    {
     "data": {
      "text/plain": [
       "Namespace(add_geowiki=True, add_togo=False, alpha=10, batch_size=64, data_folder='/home/gajo/code/togo-crop-mask/notebooks/../data', hidden_vector_size=64, learning_rate=0.001, lstm_dropout=0.2, max_epochs=1000, model_base='lstm', multi_headed=False, num_classification_layers=1, num_lstm_layers=1, patience=10, probability_threshold=0.5, remove_b1_b10=True)"
      ]
     },
     "execution_count": 20,
     "metadata": {},
     "output_type": "execute_result"
    }
   ],
   "source": [
    "# Initialize model with new arguments\n",
    "new_model_args = Namespace(**new_model_args_dict)\n",
    "model = STR2MODEL[\"land_cover\"](new_model_args)\n",
    "model.hparams"
   ]
  },
  {
   "cell_type": "markdown",
   "metadata": {},
   "source": [
    "## 2. Train model "
   ]
  },
  {
   "cell_type": "code",
   "execution_count": 10,
   "metadata": {},
   "outputs": [
    {
     "data": {
      "application/vnd.jupyter.widget-view+json": {
       "model_id": "5b3deda73dec40b49d4557aed01e0b11",
       "version_major": 2,
       "version_minor": 0
      },
      "text/plain": [
       "Validation sanity check:   0%|          | 0/5 [00:00<?, ?it/s]"
      ]
     },
     "metadata": {},
     "output_type": "display_data"
    },
    {
     "data": {
      "application/vnd.jupyter.widget-view+json": {
       "model_id": "a38b601d07714ba284c4f5f20d66521f",
       "version_major": 2,
       "version_minor": 0
      },
      "text/plain": [
       "0it [00:00, ?it/s]"
      ]
     },
     "metadata": {},
     "output_type": "display_data"
    },
    {
     "data": {
      "text/plain": [
       "LandCoverMapper(\n",
       "  (base): LSTM(\n",
       "    (lstm): UnrolledLSTM(\n",
       "      (rnn): UnrolledLSTMCell(\n",
       "        (forget_gate): Sequential(\n",
       "          (0): Linear(in_features=76, out_features=64, bias=True)\n",
       "          (1): Sigmoid()\n",
       "        )\n",
       "        (update_gate): Sequential(\n",
       "          (0): Linear(in_features=76, out_features=64, bias=True)\n",
       "          (1): Sigmoid()\n",
       "        )\n",
       "        (update_candidates): Sequential(\n",
       "          (0): Linear(in_features=76, out_features=64, bias=True)\n",
       "          (1): Tanh()\n",
       "        )\n",
       "        (output_gate): Sequential(\n",
       "          (0): Linear(in_features=76, out_features=64, bias=True)\n",
       "          (1): Sigmoid()\n",
       "        )\n",
       "        (cell_state_activation): Tanh()\n",
       "      )\n",
       "      (dropout): Dropout(p=0.2, inplace=False)\n",
       "    )\n",
       "  )\n",
       "  (global_classifier): Sequential(\n",
       "    (0): Linear(in_features=64, out_features=1, bias=True)\n",
       "  )\n",
       ")"
      ]
     },
     "execution_count": 10,
     "metadata": {},
     "output_type": "execute_result"
    }
   ],
   "source": [
    "train_model(model, new_model_args)"
   ]
  },
  {
   "cell_type": "code",
   "execution_count": null,
   "metadata": {},
   "outputs": [],
   "source": []
  }
 ],
 "metadata": {
  "kernelspec": {
   "display_name": "Python 3",
   "language": "python",
   "name": "python3"
  },
  "language_info": {
   "codemirror_mode": {
    "name": "ipython",
    "version": 3
   },
   "file_extension": ".py",
   "mimetype": "text/x-python",
   "name": "python",
   "nbconvert_exporter": "python",
   "pygments_lexer": "ipython3",
   "version": "3.6.13"
  }
 },
 "nbformat": 4,
 "nbformat_minor": 2
}
