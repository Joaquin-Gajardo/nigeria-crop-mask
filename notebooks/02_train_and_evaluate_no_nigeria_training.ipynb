{
 "cells": [
  {
   "cell_type": "code",
   "execution_count": 2,
   "metadata": {},
   "outputs": [],
   "source": [
    "import sys\n",
    "from argparse import ArgumentParser, Namespace\n",
    "\n",
    "sys.path.append(\"..\")\n",
    "\n",
    "from src.models import STR2MODEL, train_model"
   ]
  },
  {
   "cell_type": "markdown",
   "metadata": {},
   "source": [
    "## 1. Initialize model "
   ]
  },
  {
   "cell_type": "code",
   "execution_count": 3,
   "metadata": {
    "scrolled": true
   },
   "outputs": [
    {
     "data": {
      "text/plain": [
       "_StoreAction(option_strings=['--patience'], dest='patience', nargs=None, const=None, default=10, type=<class 'int'>, choices=None, help=None, metavar=None)"
      ]
     },
     "execution_count": 3,
     "metadata": {},
     "output_type": "execute_result"
    }
   ],
   "source": [
    "parser = ArgumentParser()\n",
    "parser.add_argument(\"--max_epochs\", type=int, default=1000)\n",
    "parser.add_argument(\"--patience\", type=int, default=10)"
   ]
  },
  {
   "cell_type": "markdown",
   "metadata": {},
   "source": [
    "**Slight modification below:** adding args=[] makes it work for Jupyter notebook https://stackoverflow.com/questions/30656777/how-to-call-module-written-with-argparse-in-ipython-notebook"
   ]
  },
  {
   "cell_type": "code",
   "execution_count": 4,
   "metadata": {},
   "outputs": [],
   "source": [
    "model_args = STR2MODEL[\"land_cover\"].add_model_specific_args(parser).parse_args(args=[])"
   ]
  },
  {
   "cell_type": "code",
   "execution_count": 5,
   "metadata": {},
   "outputs": [
    {
     "name": "stdout",
     "output_type": "stream",
     "text": [
      "Number of geowiki instances in training set: 27947\n"
     ]
    },
    {
     "data": {
      "text/plain": [
       "Namespace(add_geowiki=True, add_togo=True, alpha=10, batch_size=64, data_folder='/home/gajo/code/togo-crop-mask/notebooks/../data', hidden_vector_size=64, learning_rate=0.001, lstm_dropout=0.2, max_epochs=1000, model_base='lstm', multi_headed=True, num_classification_layers=2, num_lstm_layers=1, patience=10, probability_threshold=0.5, remove_b1_b10=True)"
      ]
     },
     "execution_count": 5,
     "metadata": {},
     "output_type": "execute_result"
    }
   ],
   "source": [
    "model = STR2MODEL[\"land_cover\"](model_args)\n",
    "model.hparams"
   ]
  },
  {
   "cell_type": "markdown",
   "metadata": {},
   "source": [
    "### New models args"
   ]
  },
  {
   "cell_type": "code",
   "execution_count": 6,
   "metadata": {},
   "outputs": [],
   "source": [
    "new_model_args_dict = vars(model_args)"
   ]
  },
  {
   "cell_type": "code",
   "execution_count": 7,
   "metadata": {},
   "outputs": [
    {
     "data": {
      "text/plain": [
       "{'max_epochs': 1000,\n",
       " 'patience': 10,\n",
       " 'data_folder': '/home/gajo/code/togo-crop-mask/notebooks/../data',\n",
       " 'model_base': 'lstm',\n",
       " 'hidden_vector_size': 64,\n",
       " 'learning_rate': 0.001,\n",
       " 'batch_size': 64,\n",
       " 'probability_threshold': 0.5,\n",
       " 'num_classification_layers': 2,\n",
       " 'alpha': 10,\n",
       " 'add_togo': True,\n",
       " 'add_geowiki': True,\n",
       " 'remove_b1_b10': True,\n",
       " 'multi_headed': True,\n",
       " 'num_lstm_layers': 1,\n",
       " 'lstm_dropout': 0.2}"
      ]
     },
     "execution_count": 7,
     "metadata": {},
     "output_type": "execute_result"
    }
   ],
   "source": [
    "new_model_args_dict"
   ]
  },
  {
   "cell_type": "code",
   "execution_count": 36,
   "metadata": {},
   "outputs": [],
   "source": [
    "# SET MODIFICATIONS TO DEFAULT MODEL ARGUMENTS:\n",
    "\n",
    "new_model_args_dict['add_togo'] = False\n",
    "new_model_args_dict['multi_headed'] = False\n",
    "new_model_args_dict['num_classification_layers'] = 1\n",
    "new_model_args_dict['max_epochs'] = 1 # Just for dev\n",
    "new_model_args_dict['gpus'] = 0\n",
    "new_model_args_dict['remove_b1_b10'] = False"
   ]
  },
  {
   "cell_type": "code",
   "execution_count": 37,
   "metadata": {},
   "outputs": [
    {
     "name": "stdout",
     "output_type": "stream",
     "text": [
      "Number of geowiki instances in training set: 27947\n"
     ]
    },
    {
     "data": {
      "text/plain": [
       "Namespace(add_geowiki=True, add_togo=False, alpha=10, batch_size=64, data_folder='/home/gajo/code/togo-crop-mask/notebooks/../data', gpus=0, hidden_vector_size=64, learning_rate=0.001, lstm_dropout=0.2, max_epochs=1, model_base='lstm', multi_headed=False, num_classification_layers=1, num_lstm_layers=1, patience=10, probability_threshold=0.5, remove_b1_b10=False)"
      ]
     },
     "execution_count": 37,
     "metadata": {},
     "output_type": "execute_result"
    }
   ],
   "source": [
    "# Initialize model with new arguments\n",
    "new_model_args = Namespace(**new_model_args_dict)\n",
    "model = STR2MODEL[\"land_cover\"](new_model_args)\n",
    "model.hparams"
   ]
  },
  {
   "cell_type": "markdown",
   "metadata": {},
   "source": [
    "## 2. Check data class distribution"
   ]
  },
  {
   "cell_type": "code",
   "execution_count": 71,
   "metadata": {},
   "outputs": [],
   "source": [
    "from collections import Counter"
   ]
  },
  {
   "cell_type": "markdown",
   "metadata": {},
   "source": [
    "### Training set"
   ]
  },
  {
   "cell_type": "code",
   "execution_count": 90,
   "metadata": {},
   "outputs": [
    {
     "name": "stdout",
     "output_type": "stream",
     "text": [
      "Number of geowiki instances in training set: 27947\n"
     ]
    }
   ],
   "source": [
    "loader = model.train_dataloader()\n",
    "train_counter = Counter()\n",
    "for sample in loader:\n",
    "    x, y, weight = sample\n",
    "    train_counter.update(y.numpy())"
   ]
  },
  {
   "cell_type": "code",
   "execution_count": 92,
   "metadata": {},
   "outputs": [
    {
     "name": "stdout",
     "output_type": "stream",
     "text": [
      "Non-croplad / Cropland in training set (%):\n"
     ]
    },
    {
     "data": {
      "text/plain": [
       "(0.7786166672630336, 0.22138333273696642)"
      ]
     },
     "execution_count": 92,
     "metadata": {},
     "output_type": "execute_result"
    }
   ],
   "source": [
    "print('Non-croplad / Cropland in training set (%):')\n",
    "a = train_counter[0.0] / (train_counter[0.0] + train_counter[1.0])\n",
    "a, 1-a"
   ]
  },
  {
   "cell_type": "markdown",
   "metadata": {},
   "source": [
    "### Validation set"
   ]
  },
  {
   "cell_type": "code",
   "execution_count": 93,
   "metadata": {},
   "outputs": [
    {
     "name": "stdout",
     "output_type": "stream",
     "text": [
      "Number of geowiki instances in validation set: 7301\n"
     ]
    }
   ],
   "source": [
    "loader = model.val_dataloader()\n",
    "val_counter = Counter()\n",
    "for sample in loader:\n",
    "    x, y, weight = sample\n",
    "    val_counter.update(y.numpy())"
   ]
  },
  {
   "cell_type": "code",
   "execution_count": 94,
   "metadata": {},
   "outputs": [
    {
     "name": "stdout",
     "output_type": "stream",
     "text": [
      "Non-croplad / Cropland in validation set (%):\n"
     ]
    },
    {
     "data": {
      "text/plain": [
       "(0.7883851527188056, 0.2116148472811944)"
      ]
     },
     "execution_count": 94,
     "metadata": {},
     "output_type": "execute_result"
    }
   ],
   "source": [
    "val_counter\n",
    "print('Non-croplad / Cropland in validation set (%):')\n",
    "a = val_counter[0.0] / (val_counter[0.0] + val_counter[1.0])\n",
    "a, 1-a"
   ]
  },
  {
   "cell_type": "markdown",
   "metadata": {},
   "source": [
    "### Test set"
   ]
  },
  {
   "cell_type": "code",
   "execution_count": 95,
   "metadata": {},
   "outputs": [
    {
     "name": "stdout",
     "output_type": "stream",
     "text": [
      "Number of geowiki instances in testing set: 351\n"
     ]
    }
   ],
   "source": [
    "loader = model.test_dataloader()\n",
    "test_counter = Counter()\n",
    "for sample in loader:\n",
    "    x, y, weight = sample\n",
    "    test_counter.update(y.numpy())"
   ]
  },
  {
   "cell_type": "code",
   "execution_count": 96,
   "metadata": {},
   "outputs": [
    {
     "name": "stdout",
     "output_type": "stream",
     "text": [
      "Non-croplad / Cropland in test set (%):\n"
     ]
    },
    {
     "data": {
      "text/plain": [
       "(0.7777777777777778, 0.2222222222222222)"
      ]
     },
     "execution_count": 96,
     "metadata": {},
     "output_type": "execute_result"
    }
   ],
   "source": [
    "test_counter\n",
    "print('Non-croplad / Cropland in test set (%):')\n",
    "a = test_counter[0.0] / (test_counter[0.0] + test_counter[1.0])\n",
    "a, 1-a"
   ]
  },
  {
   "cell_type": "markdown",
   "metadata": {},
   "source": [
    "## 3. Train model "
   ]
  },
  {
   "cell_type": "code",
   "execution_count": 13,
   "metadata": {},
   "outputs": [
    {
     "name": "stdout",
     "output_type": "stream",
     "text": [
      "Number of geowiki instances in validation set: 7301\n"
     ]
    },
    {
     "data": {
      "application/vnd.jupyter.widget-view+json": {
       "model_id": "42f1fe08e6f0406fb81dc453def30054",
       "version_major": 2,
       "version_minor": 0
      },
      "text/plain": [
       "Validation sanity check:   0%|          | 0/5 [00:00<?, ?it/s]"
      ]
     },
     "metadata": {},
     "output_type": "display_data"
    },
    {
     "data": {
      "application/vnd.jupyter.widget-view+json": {
       "model_id": "ff68b028cce1400da5ff565c979b12b6",
       "version_major": 2,
       "version_minor": 0
      },
      "text/plain": [
       "0it [00:00, ?it/s]"
      ]
     },
     "metadata": {},
     "output_type": "display_data"
    },
    {
     "name": "stdout",
     "output_type": "stream",
     "text": [
      "Number of geowiki instances in training set: 27947\n",
      "Number of geowiki instances in validation set: 7301\n"
     ]
    },
    {
     "data": {
      "application/vnd.jupyter.widget-view+json": {
       "model_id": "ec4340fd1e3d45318d4b8bccdedc4795",
       "version_major": 2,
       "version_minor": 0
      },
      "text/plain": [
       "Validating:   0%|          | 0/115 [00:00<?, ?it/s]"
      ]
     },
     "metadata": {},
     "output_type": "display_data"
    },
    {
     "data": {
      "text/plain": [
       "(LandCoverMapper(\n",
       "   (base): LSTM(\n",
       "     (lstm): UnrolledLSTM(\n",
       "       (rnn): UnrolledLSTMCell(\n",
       "         (forget_gate): Sequential(\n",
       "           (0): Linear(in_features=76, out_features=64, bias=True)\n",
       "           (1): Sigmoid()\n",
       "         )\n",
       "         (update_gate): Sequential(\n",
       "           (0): Linear(in_features=76, out_features=64, bias=True)\n",
       "           (1): Sigmoid()\n",
       "         )\n",
       "         (update_candidates): Sequential(\n",
       "           (0): Linear(in_features=76, out_features=64, bias=True)\n",
       "           (1): Tanh()\n",
       "         )\n",
       "         (output_gate): Sequential(\n",
       "           (0): Linear(in_features=76, out_features=64, bias=True)\n",
       "           (1): Sigmoid()\n",
       "         )\n",
       "         (cell_state_activation): Tanh()\n",
       "       )\n",
       "       (dropout): Dropout(p=0.2, inplace=False)\n",
       "     )\n",
       "   )\n",
       "   (global_classifier): Sequential(\n",
       "     (0): Linear(in_features=64, out_features=1, bias=True)\n",
       "   )\n",
       " ),\n",
       " <pytorch_lightning.trainer.trainer.Trainer at 0x7f0aef0b5550>)"
      ]
     },
     "execution_count": 13,
     "metadata": {},
     "output_type": "execute_result"
    }
   ],
   "source": [
    "train_model(model, new_model_args)"
   ]
  },
  {
   "cell_type": "code",
   "execution_count": null,
   "metadata": {},
   "outputs": [],
   "source": []
  }
 ],
 "metadata": {
  "interpreter": {
   "hash": "f1d702b24b358fb38573032b2736288a41648cae2db041d7fdb41486d06c5511"
  },
  "kernelspec": {
   "display_name": "Python 3.6.13 ('togo-paper')",
   "language": "python",
   "name": "python3"
  },
  "language_info": {
   "codemirror_mode": {
    "name": "ipython",
    "version": 3
   },
   "file_extension": ".py",
   "mimetype": "text/x-python",
   "name": "python",
   "nbconvert_exporter": "python",
   "pygments_lexer": "ipython3",
   "version": "3.6.13"
  }
 },
 "nbformat": 4,
 "nbformat_minor": 2
}
