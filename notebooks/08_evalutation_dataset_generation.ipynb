{
 "cells": [
  {
   "cell_type": "code",
   "execution_count": 1,
   "metadata": {},
   "outputs": [],
   "source": [
    "from pathlib import Path\n",
    "from typing import List\n",
    "from math import sin, cos, sqrt, atan2, radians\n",
    "\n",
    "import numpy as np\n",
    "import pandas as pd\n",
    "import geopandas as gpd\n",
    "from shapely.geometry import Point"
   ]
  },
  {
   "cell_type": "code",
   "execution_count": 2,
   "metadata": {},
   "outputs": [],
   "source": [
    "class BoundedUniformSampler:\n",
    "    # Adapted from https://github.com/ServiceNow/seasonal-contrast/blob/main/datasets/seco_downloader.py\n",
    "\n",
    "    def __init__(self, country_shapefile_path):\n",
    "        self.boundaries = gpd.read_file(country_shapefile_path).loc[0, 'geometry']\n",
    "\n",
    "    def sample_point(self) -> List[List]:\n",
    "        '''\n",
    "        Returns lon, lan from within a country.\n",
    "        '''\n",
    "        minx, miny, maxx, maxy = self.boundaries.bounds\n",
    "        lon = np.random.uniform(minx, maxx)\n",
    "        lat = np.random.uniform(miny, maxy)\n",
    "        point = Point(lon, lat)\n",
    "        if point.within(self.boundaries):\n",
    "            return [point.x, point.y]\n",
    "        else:\n",
    "            return self.sample_point()\n",
    "    \n",
    "    def sample_n_points(self, n: int, buffer_km: float) -> gpd.GeoDataFrame:\n",
    "        i = 0\n",
    "        points = []\n",
    "        while i < n:\n",
    "            point = self.sample_point()\n",
    "            too_close = self.check_distance_from_each_point(point[0], point[1], points, buffer_km=buffer_km)\n",
    "            if not too_close:\n",
    "                points.append(point)\n",
    "                i += 1\n",
    "        points = self.to_geodataframe(points)\n",
    "        return points\n",
    "\n",
    "    @staticmethod\n",
    "    def to_geodataframe(points: List[List]) -> gpd.GeoDataFrame:\n",
    "        '''Takes a list of list of lon/lat coordinates and converts it to a geopandas geodataframe.'''\n",
    "        lon_lat = np.array(points)\n",
    "        assert lon_lat.shape[1] == 2\n",
    "        df = pd.DataFrame(lon_lat, columns=[\"lon\", \"lat\"])\n",
    "        return gpd.GeoDataFrame(df, geometry=gpd.points_from_xy(df['lon'], df['lat']), crs=\"EPSG:4326\")\n",
    "    \n",
    "    @staticmethod\n",
    "    def save_geodataframe(gdf: gpd.GeoDataFrame, path: Path, overwrite: bool = False) -> None:\n",
    "        if not path.exists():\n",
    "            gdf.to_file(path)\n",
    "        else:\n",
    "            print(f'File with path {path} already exists!')\n",
    "            if overwrite:\n",
    "                print('Overwriting file.')\n",
    "                gdf.to_file(path)\n",
    "\n",
    "    @staticmethod\n",
    "    def distance_between_two_points_km(lon1, lat1, lon2, lat2):\n",
    "        # https://stackoverflow.com/questions/19412462/getting-distance-between-two-points-based-on-latitude-longitude\n",
    "        R = 6373.0 # approximate radius of earth in km\n",
    "        lat1 = radians(lat1)\n",
    "        lon1 = radians(lon1)\n",
    "        lat2 = radians(lat2)\n",
    "        lon2 = radians(lon2)\n",
    "        dlon = lon2 - lon1\n",
    "        dlat = lat2 - lat1\n",
    "        a = sin(dlat / 2)**2 + cos(lat1) * cos(lat2) * sin(dlon / 2)**2\n",
    "        c = 2 * atan2(sqrt(a), sqrt(1 - a))\n",
    "        distance = R * c\n",
    "\n",
    "        return distance\n",
    "\n",
    "    def check_distance_from_each_point(self, new_lon: float, new_lat: float, points: List[List[float]], buffer_km: float) -> bool:\n",
    "        '''\n",
    "        Returns True if new point is closer than the buffer distance (in km) from any point in points.\n",
    "        ''' \n",
    "        for lon, lat in points:\n",
    "            distance = self.distance_between_two_points_km(new_lon, new_lat, lon, lat)\n",
    "            if distance < buffer_km:\n",
    "                return True\n",
    "        return False"
   ]
  },
  {
   "cell_type": "code",
   "execution_count": 4,
   "metadata": {},
   "outputs": [],
   "source": [
    "path = Path('/home/gajo/DFS/Projects/2021-data-org/4._RESEARCH_n/ML/MLsatellite/Research/WP1_Joaquin/paper-nigeria-cropland/layers/nigeria_borders.shp')\n",
    "sampler = BoundedUniformSampler(path)"
   ]
  },
  {
   "cell_type": "code",
   "execution_count": 4,
   "metadata": {},
   "outputs": [],
   "source": [
    "N = 2000\n",
    "points = sampler.sample_n_points(N, buffer_km=15)\n",
    "sampler.save_geodataframe(points, path.parent / 'nigeria_stratified_v1.shp')"
   ]
  },
  {
   "cell_type": "code",
   "execution_count": 5,
   "metadata": {},
   "outputs": [
    {
     "data": {
      "text/html": [
       "<div>\n",
       "<style scoped>\n",
       "    .dataframe tbody tr th:only-of-type {\n",
       "        vertical-align: middle;\n",
       "    }\n",
       "\n",
       "    .dataframe tbody tr th {\n",
       "        vertical-align: top;\n",
       "    }\n",
       "\n",
       "    .dataframe thead th {\n",
       "        text-align: right;\n",
       "    }\n",
       "</style>\n",
       "<table border=\"1\" class=\"dataframe\">\n",
       "  <thead>\n",
       "    <tr style=\"text-align: right;\">\n",
       "      <th></th>\n",
       "      <th>lon</th>\n",
       "      <th>lat</th>\n",
       "      <th>geometry</th>\n",
       "    </tr>\n",
       "  </thead>\n",
       "  <tbody>\n",
       "    <tr>\n",
       "      <th>0</th>\n",
       "      <td>7.169715</td>\n",
       "      <td>13.062977</td>\n",
       "      <td>POINT (7.16971 13.06298)</td>\n",
       "    </tr>\n",
       "    <tr>\n",
       "      <th>1</th>\n",
       "      <td>5.029259</td>\n",
       "      <td>9.861582</td>\n",
       "      <td>POINT (5.02926 9.86158)</td>\n",
       "    </tr>\n",
       "    <tr>\n",
       "      <th>2</th>\n",
       "      <td>11.673885</td>\n",
       "      <td>10.442239</td>\n",
       "      <td>POINT (11.67388 10.44224)</td>\n",
       "    </tr>\n",
       "    <tr>\n",
       "      <th>3</th>\n",
       "      <td>6.584187</td>\n",
       "      <td>6.506252</td>\n",
       "      <td>POINT (6.58419 6.50625)</td>\n",
       "    </tr>\n",
       "    <tr>\n",
       "      <th>4</th>\n",
       "      <td>7.099293</td>\n",
       "      <td>7.980531</td>\n",
       "      <td>POINT (7.09929 7.98053)</td>\n",
       "    </tr>\n",
       "    <tr>\n",
       "      <th>...</th>\n",
       "      <td>...</td>\n",
       "      <td>...</td>\n",
       "      <td>...</td>\n",
       "    </tr>\n",
       "    <tr>\n",
       "      <th>1995</th>\n",
       "      <td>13.412151</td>\n",
       "      <td>13.281881</td>\n",
       "      <td>POINT (13.41215 13.28188)</td>\n",
       "    </tr>\n",
       "    <tr>\n",
       "      <th>1996</th>\n",
       "      <td>3.703954</td>\n",
       "      <td>8.912081</td>\n",
       "      <td>POINT (3.70395 8.91208)</td>\n",
       "    </tr>\n",
       "    <tr>\n",
       "      <th>1997</th>\n",
       "      <td>4.971758</td>\n",
       "      <td>8.653739</td>\n",
       "      <td>POINT (4.97176 8.65374)</td>\n",
       "    </tr>\n",
       "    <tr>\n",
       "      <th>1998</th>\n",
       "      <td>12.565271</td>\n",
       "      <td>9.802278</td>\n",
       "      <td>POINT (12.56527 9.80228)</td>\n",
       "    </tr>\n",
       "    <tr>\n",
       "      <th>1999</th>\n",
       "      <td>11.235442</td>\n",
       "      <td>9.122383</td>\n",
       "      <td>POINT (11.23544 9.12238)</td>\n",
       "    </tr>\n",
       "  </tbody>\n",
       "</table>\n",
       "<p>2000 rows × 3 columns</p>\n",
       "</div>"
      ],
      "text/plain": [
       "            lon        lat                   geometry\n",
       "0      7.169715  13.062977   POINT (7.16971 13.06298)\n",
       "1      5.029259   9.861582    POINT (5.02926 9.86158)\n",
       "2     11.673885  10.442239  POINT (11.67388 10.44224)\n",
       "3      6.584187   6.506252    POINT (6.58419 6.50625)\n",
       "4      7.099293   7.980531    POINT (7.09929 7.98053)\n",
       "...         ...        ...                        ...\n",
       "1995  13.412151  13.281881  POINT (13.41215 13.28188)\n",
       "1996   3.703954   8.912081    POINT (3.70395 8.91208)\n",
       "1997   4.971758   8.653739    POINT (4.97176 8.65374)\n",
       "1998  12.565271   9.802278   POINT (12.56527 9.80228)\n",
       "1999  11.235442   9.122383   POINT (11.23544 9.12238)\n",
       "\n",
       "[2000 rows x 3 columns]"
      ]
     },
     "execution_count": 5,
     "metadata": {},
     "output_type": "execute_result"
    }
   ],
   "source": [
    "points"
   ]
  },
  {
   "cell_type": "code",
   "execution_count": 6,
   "metadata": {},
   "outputs": [
    {
     "data": {
      "text/plain": [
       "<AxesSubplot:>"
      ]
     },
     "execution_count": 6,
     "metadata": {},
     "output_type": "execute_result"
    },
    {
     "data": {
      "image/png": "[encoded data removed]",
      "text/plain": [
       "<Figure size 432x288 with 1 Axes>"
      ]
     },
     "metadata": {
      "needs_background": "light"
     },
     "output_type": "display_data"
    }
   ],
   "source": [
    "points.plot()"
   ]
  }
 ],
 "metadata": {
  "kernelspec": {
   "display_name": "togo-paper",
   "language": "python",
   "name": "python3"
  },
  "language_info": {
   "codemirror_mode": {
    "name": "ipython",
    "version": 3
   },
   "file_extension": ".py",
   "mimetype": "text/x-python",
   "name": "python",
   "nbconvert_exporter": "python",
   "pygments_lexer": "ipython3",
   "version": "3.6.13 |Anaconda, Inc.| (default, Jun  4 2021, 14:25:59) \n[GCC 7.5.0]"
  },
  "orig_nbformat": 4,
  "vscode": {
   "interpreter": {
    "hash": "f1d702b24b358fb38573032b2736288a41648cae2db041d7fdb41486d06c5511"
   }
  }
 },
 "nbformat": 4,
 "nbformat_minor": 2
}
