{
 "cells": [
  {
   "cell_type": "code",
   "execution_count": 24,
   "metadata": {},
   "outputs": [],
   "source": [
    "import sys\n",
    "from pathlib import Path\n",
    "from argparse import ArgumentParser, Namespace\n",
    "from collections import Counter\n",
    "import pickle\n",
    "\n",
    "import geopandas as gdp\n",
    "from tqdm import tqdm\n",
    "\n",
    "sys.path.append(\"..\")\n",
    "\n",
    "from src.models import STR2MODEL\n",
    "from src.engineer import GeoWikiEngineer\n",
    "from src.exporters.sentinel.cloudfree import BANDS"
   ]
  },
  {
   "cell_type": "markdown",
   "metadata": {},
   "source": [
    "## Initialize model"
   ]
  },
  {
   "cell_type": "markdown",
   "metadata": {},
   "source": [
    "Adding args=[] makes it work for Jupyter notebook https://stackoverflow.com/questions/30656777/how-to-call-module-written-with-argparse-in-ipython-notebook"
   ]
  },
  {
   "cell_type": "code",
   "execution_count": 15,
   "metadata": {},
   "outputs": [
    {
     "name": "stdout",
     "output_type": "stream",
     "text": [
      "Number of geowiki instances in training set: 27947\n"
     ]
    },
    {
     "data": {
      "text/plain": [
       "Namespace(add_geowiki=True, add_togo=False, alpha=10, batch_size=64, data_folder='/home/gajo/code/togo-crop-mask/notebooks/../data', hidden_vector_size=64, learning_rate=0.001, lstm_dropout=0.2, model_base='lstm', multi_headed=False, num_classification_layers=1, num_lstm_layers=1, probability_threshold=0.5, remove_b1_b10=True)"
      ]
     },
     "execution_count": 15,
     "metadata": {},
     "output_type": "execute_result"
    }
   ],
   "source": [
    "# Get model default args\n",
    "parser = ArgumentParser()\n",
    "model_args = STR2MODEL[\"land_cover\"].add_model_specific_args(parser).parse_args(args=[]) \n",
    "model_args_dict = vars(model_args)\n",
    "\n",
    "# Change default hyperparameters\n",
    "model_args_dict['add_togo'] = False\n",
    "model_args_dict['multi_headed'] = False\n",
    "model_args_dict['num_classification_layers'] = 1\n",
    "\n",
    "# Initialize model\n",
    "model_args = Namespace(**model_args_dict)\n",
    "model = STR2MODEL[\"land_cover\"](model_args)\n",
    "model.hparams"
   ]
  },
  {
   "cell_type": "markdown",
   "metadata": {},
   "source": [
    "## 1. Labels distribution"
   ]
  },
  {
   "cell_type": "markdown",
   "metadata": {},
   "source": [
    "### 1a. Geowiki train and validation"
   ]
  },
  {
   "cell_type": "markdown",
   "metadata": {},
   "source": [
    "Training set"
   ]
  },
  {
   "cell_type": "code",
   "execution_count": 16,
   "metadata": {},
   "outputs": [
    {
     "name": "stdout",
     "output_type": "stream",
     "text": [
      "Number of geowiki instances in training set: 27947\n"
     ]
    }
   ],
   "source": [
    "train_loader = model.train_dataloader()\n",
    "counter = Counter()\n",
    "for sample in train_loader:\n",
    "    x, y, weight = sample\n",
    "    counter.update(y.numpy())"
   ]
  },
  {
   "cell_type": "code",
   "execution_count": 17,
   "metadata": {},
   "outputs": [
    {
     "name": "stdout",
     "output_type": "stream",
     "text": [
      "Cropland: 22.1%\n",
      "Non-cropland: 77.9%\n"
     ]
    }
   ],
   "source": [
    "cropland_ratio = counter[1.0] / (counter[0.0] + counter[1.0])\n",
    "print(f'Cropland: {100*cropland_ratio:.1f}%')\n",
    "print(f'Non-cropland: {100*(1-cropland_ratio):.1f}%')"
   ]
  },
  {
   "cell_type": "markdown",
   "metadata": {},
   "source": [
    "Validation set\n"
   ]
  },
  {
   "cell_type": "code",
   "execution_count": 18,
   "metadata": {},
   "outputs": [
    {
     "name": "stdout",
     "output_type": "stream",
     "text": [
      "Number of geowiki instances in validation set: 7301\n"
     ]
    }
   ],
   "source": [
    "val_loader = model.val_dataloader()\n",
    "counter = Counter()\n",
    "for sample in val_loader:\n",
    "    x, y, weight = sample\n",
    "    counter.update(y.numpy())"
   ]
  },
  {
   "cell_type": "code",
   "execution_count": 19,
   "metadata": {},
   "outputs": [
    {
     "name": "stdout",
     "output_type": "stream",
     "text": [
      "Cropland: 21.2%\n",
      "Non-cropland: 78.8%\n"
     ]
    }
   ],
   "source": [
    "cropland_ratio = counter[1.0] / (counter[0.0] + counter[1.0])\n",
    "print(f'Cropland: {100*cropland_ratio:.1f}%')\n",
    "print(f'Non-cropland: {100*(1-cropland_ratio):.1f}%')"
   ]
  },
  {
   "cell_type": "markdown",
   "metadata": {},
   "source": [
    "### 1b. Nigeria farmlands test set"
   ]
  },
  {
   "cell_type": "code",
   "execution_count": 20,
   "metadata": {},
   "outputs": [
    {
     "name": "stdout",
     "output_type": "stream",
     "text": [
      "Evaluating using the Nigeria evaluation dataset!\n",
      "Number of instances in nigeria_farmlands_v2 test set: 739\n"
     ]
    }
   ],
   "source": [
    "test_loader = model.test_dataloader()\n",
    "counter = Counter()\n",
    "for sample in test_loader:\n",
    "    x, y, weight = sample\n",
    "    counter.update(y.numpy())"
   ]
  },
  {
   "cell_type": "code",
   "execution_count": 21,
   "metadata": {},
   "outputs": [
    {
     "name": "stdout",
     "output_type": "stream",
     "text": [
      "Cropland: 53.2%\n",
      "Non-cropland: 46.8%\n"
     ]
    }
   ],
   "source": [
    "cropland_ratio = counter[1.0] / (counter[0.0] + counter[1.0])\n",
    "print(f'Cropland: {100*cropland_ratio:.1f}%')\n",
    "print(f'Non-cropland: {100*(1-cropland_ratio):.1f}%')"
   ]
  },
  {
   "cell_type": "markdown",
   "metadata": {},
   "source": [
    "<font color='red'> **The target dataset has a very different balance of labels, many more cropland labels compared to training and validation set!** </font>"
   ]
  },
  {
   "cell_type": "markdown",
   "metadata": {},
   "source": [
    "## 2. Data distribution"
   ]
  },
  {
   "cell_type": "markdown",
   "metadata": {},
   "source": [
    "Mean and std of each bands in a nice plot. Use normalizing dicts. Normalizing dict has 14 bands but my model has only 12. Anyways plot distribution of all bands."
   ]
  },
  {
   "cell_type": "code",
   "execution_count": 34,
   "metadata": {},
   "outputs": [],
   "source": [
    "# TODO: write helper function for plot of bands distribution"
   ]
  },
  {
   "cell_type": "markdown",
   "metadata": {},
   "source": [
    "### 2a. Geowiki train and val"
   ]
  },
  {
   "cell_type": "code",
   "execution_count": 32,
   "metadata": {},
   "outputs": [
    {
     "data": {
      "text/plain": [
       "['B1', 'B10']"
      ]
     },
     "execution_count": 32,
     "metadata": {},
     "output_type": "execute_result"
    }
   ],
   "source": [
    "bands_to_remove = [\"B1\", \"B10\"] if model.hparams.remove_b1_b10 else []\n",
    "bands_to_remove"
   ]
  },
  {
   "cell_type": "code",
   "execution_count": 35,
   "metadata": {},
   "outputs": [
    {
     "data": {
      "text/plain": [
       "{'mean': array([0.19373134, 0.17126042, 0.16084167, 0.16342165, 0.18624573,\n",
       "        0.25546337, 0.2904783 , 0.27999799, 0.31447817, 0.10164724,\n",
       "        0.00873111, 0.22869711, 0.15183401, 0.3227123 ]),\n",
       " 'std': array([0.14992121, 0.15327113, 0.14417395, 0.1638704 , 0.15853429,\n",
       "        0.14801799, 0.15064628, 0.14358608, 0.14964237, 0.09366979,\n",
       "        0.02781958, 0.11075664, 0.09509689, 0.24010132])}"
      ]
     },
     "execution_count": 35,
     "metadata": {},
     "output_type": "execute_result"
    }
   ],
   "source": [
    "model.normalizing_dict"
   ]
  },
  {
   "cell_type": "markdown",
   "metadata": {},
   "source": [
    "### 2b. Nigeria farmlands test set"
   ]
  },
  {
   "cell_type": "markdown",
   "metadata": {},
   "source": []
  },
  {
   "cell_type": "code",
   "execution_count": null,
   "metadata": {},
   "outputs": [],
   "source": []
  }
 ],
 "metadata": {
  "kernelspec": {
   "display_name": "Python 3.6.13 ('togo-paper')",
   "language": "python",
   "name": "python3"
  },
  "language_info": {
   "codemirror_mode": {
    "name": "ipython",
    "version": 3
   },
   "file_extension": ".py",
   "mimetype": "text/x-python",
   "name": "python",
   "nbconvert_exporter": "python",
   "pygments_lexer": "ipython3",
   "version": "3.6.13"
  },
  "orig_nbformat": 4,
  "vscode": {
   "interpreter": {
    "hash": "f1d702b24b358fb38573032b2736288a41648cae2db041d7fdb41486d06c5511"
   }
  }
 },
 "nbformat": 4,
 "nbformat_minor": 2
}
