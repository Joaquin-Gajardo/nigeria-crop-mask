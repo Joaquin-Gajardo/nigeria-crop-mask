{
 "cells": [
  {
   "cell_type": "code",
   "execution_count": 5,
   "metadata": {},
   "outputs": [],
   "source": [
    "import sys\n",
    "from pathlib import Path\n",
    "\n",
    "import ee\n",
    "\n",
    "sys.path.append(\"..\") \n",
    "\n",
    "from src.exporters import NigeriaSentinelExporterNew, GDriveExporter, cancel_all_tasks\n",
    "from src.processors import NigeriaProcessorNew\n",
    "from src.engineer import NigeriaEngineerNew\n",
    "from src.utils.samplers import BufferedResampler\n",
    "\n",
    "%reload_ext autoreload\n",
    "%autoreload 2"
   ]
  },
  {
   "cell_type": "code",
   "execution_count": null,
   "metadata": {},
   "outputs": [],
   "source": [
    "#ee.Authenticate()"
   ]
  },
  {
   "cell_type": "code",
   "execution_count": null,
   "metadata": {},
   "outputs": [],
   "source": [
    "processor = NigeriaProcessorNew(Path(\"../data\"))\n",
    "processor.process()"
   ]
  },
  {
   "cell_type": "code",
   "execution_count": null,
   "metadata": {},
   "outputs": [],
   "source": [
    "exporter = NigeriaSentinelExporterNew(Path(\"../data\"))\n",
    "exporter.export_for_labels(\n",
    "    num_labelled_points=None, monitor=False, checkpoint=True\n",
    ")"
   ]
  },
  {
   "cell_type": "code",
   "execution_count": null,
   "metadata": {},
   "outputs": [],
   "source": [
    "# exporter = GDriveExporter(Path('../data'), dataset=NigeriaSentinelExporterNew.dataset)\n",
    "# exporter.export()"
   ]
  },
  {
   "cell_type": "code",
   "execution_count": 4,
   "metadata": {},
   "outputs": [],
   "source": [
    "# Only need to run once\n",
    "engineer = NigeriaEngineerNew(Path(\"../data\"))\n",
    "#engineer.engineer(val_set_size=0.2, test_set_size=0.2, calculate_normalizing_dict=True)"
   ]
  },
  {
   "cell_type": "code",
   "execution_count": 9,
   "metadata": {},
   "outputs": [
    {
     "name": "stdout",
     "output_type": "stream",
     "text": [
      "Label distribution:              count  cropland_count     ratio\n",
      "set                                         \n",
      "testing      348.0           129.0  0.370690\n",
      "training    1083.0           442.0  0.408126\n",
      "validation   396.0           174.0  0.439394\n",
      "total       1827.0           745.0  0.407772\n",
      "Resampling...\n"
     ]
    },
    {
     "name": "stderr",
     "output_type": "stream",
     "text": [
      "/home/gajo/miniconda3/envs/togo-paper/lib/python3.6/site-packages/geopandas/geodataframe.py:1322: SettingWithCopyWarning: \n",
      "A value is trying to be set on a copy of a slice from a DataFrame.\n",
      "Try using .loc[row_indexer,col_indexer] = value instead\n",
      "\n",
      "See the caveats in the documentation: https://pandas.pydata.org/pandas-docs/stable/user_guide/indexing.html#returning-a-view-versus-a-copy\n",
      "  super(GeoDataFrame, self).__setitem__(key, value)\n"
     ]
    },
    {
     "name": "stdout",
     "output_type": "stream",
     "text": [
      "Label distribution:              count  cropland_count     ratio\n",
      "new_set                                     \n",
      "testing      456.0           183.0  0.401316\n",
      "training     915.0           381.0  0.416393\n",
      "validation   456.0           181.0  0.396930\n",
      "total       1827.0           745.0  0.407772\n",
      "Saved new normalizing dictionary: ../data/features/nigeria/normalizing_dict.pkl\n"
     ]
    }
   ],
   "source": [
    "resampler = BufferedResampler(data_path=engineer.savedir, test_set_size=0.25, val_set_size=0.25, buffer=30, engineer=engineer)\n",
    "resampler.resample()"
   ]
  },
  {
   "cell_type": "code",
   "execution_count": null,
   "metadata": {},
   "outputs": [],
   "source": []
  }
 ],
 "metadata": {
  "kernelspec": {
   "display_name": "togo-paper",
   "language": "python",
   "name": "python3"
  },
  "language_info": {
   "codemirror_mode": {
    "name": "ipython",
    "version": 3
   },
   "file_extension": ".py",
   "mimetype": "text/x-python",
   "name": "python",
   "nbconvert_exporter": "python",
   "pygments_lexer": "ipython3",
   "version": "3.6.13"
  },
  "orig_nbformat": 4,
  "vscode": {
   "interpreter": {
    "hash": "f1d702b24b358fb38573032b2736288a41648cae2db041d7fdb41486d06c5511"
   }
  }
 },
 "nbformat": 4,
 "nbformat_minor": 2
}
