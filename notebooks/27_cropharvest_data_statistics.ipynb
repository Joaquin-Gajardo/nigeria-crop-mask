{
 "cells": [
  {
   "cell_type": "code",
   "execution_count": 1,
   "metadata": {},
   "outputs": [],
   "source": [
    "import sys\n",
    "from argparse import ArgumentParser, Namespace\n",
    "from pathlib import Path\n",
    "\n",
    "sys.path.append('..')\n",
    "\n",
    "from src.models import STR2MODEL"
   ]
  },
  {
   "cell_type": "code",
   "execution_count": 2,
   "metadata": {},
   "outputs": [],
   "source": [
    "DATA_DIR = Path(\"../data\")"
   ]
  },
  {
   "cell_type": "code",
   "execution_count": 44,
   "metadata": {},
   "outputs": [],
   "source": [
    "def get_model(add_geowiki: bool, add_nigeria: bool, geowiki_subset: str):\n",
    "    parser = ArgumentParser()\n",
    "    parser.add_argument(\"--max_epochs\", type=int, default=100)\n",
    "    parser.add_argument(\"--patience\", type=int, default=10)\n",
    "    parser.add_argument(\"--gpus\", type=int, default=0)\n",
    "    parser.add_argument(\"--wandb\", default=False, action=\"store_true\")\n",
    "\n",
    "    model_args = STR2MODEL[\"land_cover\"].add_model_specific_args(parser).parse_args(args=[])\n",
    "    new_model_args_dict = vars(model_args)\n",
    "\n",
    "    # SET MODIFICATIONS TO DEFAULT MODEL ARGUMENTS:\n",
    "    new_model_args_dict['add_geowiki'] = add_geowiki\n",
    "    new_model_args_dict['add_nigeria'] = add_nigeria\n",
    "    new_model_args_dict['geowiki_subset'] =  geowiki_subset # 'nigeria', 'neighbours1'\n",
    "\n",
    "    new_model_args = Namespace(**new_model_args_dict)\n",
    "    model = STR2MODEL[\"land_cover\"](new_model_args)\n",
    "    \n",
    "    return model\n",
    "\n",
    "\n",
    "def set_statistics(df):\n",
    "    total = len(df)\n",
    "    value_counts = df.is_crop.value_counts()\n",
    "    cropland_ratio = df.is_crop.sum() / total\n",
    "\n",
    "    print(f\"Total points: {total}\")\n",
    "    print(f\"Cropland count: {value_counts[1]}\")\n",
    "    print(f\"Non-cropland count: {value_counts[0]}\")\n",
    "    print(f\"Cropland ratio: {cropland_ratio:.3f}\")\n",
    "    "
   ]
  },
  {
   "cell_type": "markdown",
   "metadata": {},
   "source": [
    "## Geowiki"
   ]
  },
  {
   "cell_type": "markdown",
   "metadata": {},
   "source": [
    "### Geowiki world"
   ]
  },
  {
   "cell_type": "code",
   "execution_count": 46,
   "metadata": {},
   "outputs": [
    {
     "name": "stdout",
     "output_type": "stream",
     "text": [
      "Found normalizing dict geowiki_normalizing_dict.h5\n",
      "Loading normalizing dict geowiki_normalizing_dict.h5\n",
      "Creating Geowiki train split\n",
      "Creating Geowiki val split\n",
      "Number of instances in Geowiki training set: 19808\n",
      "Total number of files used for training: 19808\n",
      "Number of model parameters: 25473\n"
     ]
    },
    {
     "data": {
      "text/plain": [
       "1    13980\n",
       "0    10781\n",
       "Name: is_crop, dtype: int64"
      ]
     },
     "execution_count": 46,
     "metadata": {},
     "output_type": "execute_result"
    }
   ],
   "source": [
    "add_geowiki = True\n",
    "add_nigeria = False\n",
    "geowiki_subset = 'world'\n",
    "landcovermapper = get_model(add_geowiki, add_nigeria, geowiki_subset)\n",
    "df = landcovermapper.geowiki_dataset.labels\n",
    "df.is_crop.value_counts()"
   ]
  },
  {
   "cell_type": "code",
   "execution_count": 47,
   "metadata": {},
   "outputs": [
    {
     "name": "stdout",
     "output_type": "stream",
     "text": [
      "Total points: 24761\n",
      "Cropland count: 13980\n",
      "Non-cropland count: 10781\n",
      "Cropland ratio: 0.565\n"
     ]
    }
   ],
   "source": [
    "set_statistics(df)"
   ]
  },
  {
   "cell_type": "code",
   "execution_count": 49,
   "metadata": {},
   "outputs": [
    {
     "name": "stdout",
     "output_type": "stream",
     "text": [
      "Total points: 19808\n",
      "Cropland count: 11131\n",
      "Non-cropland count: 8677\n",
      "Cropland ratio: 0.562\n"
     ]
    }
   ],
   "source": [
    "set_statistics(landcovermapper.geowiki_train.labels)"
   ]
  },
  {
   "cell_type": "code",
   "execution_count": 50,
   "metadata": {},
   "outputs": [
    {
     "name": "stdout",
     "output_type": "stream",
     "text": [
      "Total points: 4953\n",
      "Cropland count: 2849\n",
      "Non-cropland count: 2104\n",
      "Cropland ratio: 0.575\n"
     ]
    }
   ],
   "source": [
    "set_statistics(landcovermapper.geowiki_val.labels)"
   ]
  },
  {
   "cell_type": "markdown",
   "metadata": {},
   "source": [
    "### Geowiki neighbours"
   ]
  },
  {
   "cell_type": "code",
   "execution_count": 59,
   "metadata": {},
   "outputs": [
    {
     "name": "stdout",
     "output_type": "stream",
     "text": [
      "Found normalizing dict geowiki_normalizing_dict_Ghana_Togo_Nigeria_Cameroon_Benin.h5\n",
      "Loading normalizing dict geowiki_normalizing_dict_Ghana_Togo_Nigeria_Cameroon_Benin.h5\n",
      "Creating Geowiki train split\n",
      "Creating Geowiki val split\n",
      "Number of instances in Geowiki training set: 632\n",
      "Total number of files used for training: 632\n",
      "Number of model parameters: 25473\n"
     ]
    },
    {
     "data": {
      "text/plain": [
       "1    460\n",
       "0    330\n",
       "Name: is_crop, dtype: int64"
      ]
     },
     "execution_count": 59,
     "metadata": {},
     "output_type": "execute_result"
    }
   ],
   "source": [
    "add_geowiki = True\n",
    "add_nigeria = False\n",
    "geowiki_subset = 'neighbours1'\n",
    "landcovermapper = get_model(add_geowiki, add_nigeria, geowiki_subset)\n",
    "df = landcovermapper.geowiki_dataset.labels\n",
    "df.is_crop.value_counts()"
   ]
  },
  {
   "cell_type": "code",
   "execution_count": 60,
   "metadata": {},
   "outputs": [
    {
     "name": "stdout",
     "output_type": "stream",
     "text": [
      "Total points: 790\n",
      "Cropland count: 460\n",
      "Non-cropland count: 330\n",
      "Cropland ratio: 0.582\n"
     ]
    }
   ],
   "source": [
    "set_statistics(df)"
   ]
  },
  {
   "cell_type": "code",
   "execution_count": 61,
   "metadata": {},
   "outputs": [
    {
     "name": "stdout",
     "output_type": "stream",
     "text": [
      "Total points: 632\n",
      "Cropland count: 364\n",
      "Non-cropland count: 268\n",
      "Cropland ratio: 0.576\n"
     ]
    }
   ],
   "source": [
    "set_statistics(landcovermapper.geowiki_train.labels)"
   ]
  },
  {
   "cell_type": "code",
   "execution_count": 62,
   "metadata": {},
   "outputs": [
    {
     "name": "stdout",
     "output_type": "stream",
     "text": [
      "Total points: 158\n",
      "Cropland count: 96\n",
      "Non-cropland count: 62\n",
      "Cropland ratio: 0.608\n"
     ]
    }
   ],
   "source": [
    "set_statistics(landcovermapper.geowiki_val.labels)"
   ]
  },
  {
   "cell_type": "markdown",
   "metadata": {},
   "source": [
    "### Geowiki nigeria"
   ]
  },
  {
   "cell_type": "code",
   "execution_count": 63,
   "metadata": {},
   "outputs": [
    {
     "name": "stdout",
     "output_type": "stream",
     "text": [
      "Found normalizing dict geowiki_normalizing_dict_Nigeria.h5\n",
      "Loading normalizing dict geowiki_normalizing_dict_Nigeria.h5\n",
      "Creating Geowiki train split\n",
      "Creating Geowiki val split\n",
      "Number of instances in Geowiki training set: 361\n",
      "Total number of files used for training: 361\n",
      "Number of model parameters: 25473\n"
     ]
    },
    {
     "data": {
      "text/plain": [
       "1    312\n",
       "0    140\n",
       "Name: is_crop, dtype: int64"
      ]
     },
     "execution_count": 63,
     "metadata": {},
     "output_type": "execute_result"
    }
   ],
   "source": [
    "add_geowiki = True\n",
    "add_nigeria = False\n",
    "geowiki_subset = 'nigeria'\n",
    "landcovermapper = get_model(add_geowiki, add_nigeria, geowiki_subset)\n",
    "df = landcovermapper.geowiki_dataset.labels\n",
    "df.is_crop.value_counts()"
   ]
  },
  {
   "cell_type": "code",
   "execution_count": 64,
   "metadata": {},
   "outputs": [
    {
     "name": "stdout",
     "output_type": "stream",
     "text": [
      "Total points: 452\n",
      "Cropland count: 312\n",
      "Non-cropland count: 140\n",
      "Cropland ratio: 0.690\n"
     ]
    }
   ],
   "source": [
    "set_statistics(df)"
   ]
  },
  {
   "cell_type": "code",
   "execution_count": 65,
   "metadata": {},
   "outputs": [
    {
     "name": "stdout",
     "output_type": "stream",
     "text": [
      "Total points: 361\n",
      "Cropland count: 244\n",
      "Non-cropland count: 117\n",
      "Cropland ratio: 0.676\n"
     ]
    }
   ],
   "source": [
    "set_statistics(landcovermapper.geowiki_train.labels)"
   ]
  },
  {
   "cell_type": "code",
   "execution_count": 66,
   "metadata": {},
   "outputs": [
    {
     "name": "stdout",
     "output_type": "stream",
     "text": [
      "Total points: 91\n",
      "Cropland count: 68\n",
      "Non-cropland count: 23\n",
      "Cropland ratio: 0.747\n"
     ]
    }
   ],
   "source": [
    "set_statistics(landcovermapper.geowiki_val.labels)"
   ]
  },
  {
   "cell_type": "markdown",
   "metadata": {},
   "source": [
    "## Nigeria"
   ]
  },
  {
   "cell_type": "code",
   "execution_count": 67,
   "metadata": {},
   "outputs": [
    {
     "name": "stdout",
     "output_type": "stream",
     "text": [
      "Number of instances in Nigeria training set: 913\n",
      "Total number of files used for training: 913\n",
      "Number of model parameters: 25473\n"
     ]
    }
   ],
   "source": [
    "add_geowiki = False\n",
    "add_nigeria = True\n",
    "landcovermapper = get_model(add_geowiki, add_nigeria, geowiki_subset)"
   ]
  },
  {
   "cell_type": "code",
   "execution_count": 68,
   "metadata": {},
   "outputs": [
    {
     "name": "stdout",
     "output_type": "stream",
     "text": [
      "Number of instances in Nigeria training set: 913\n",
      "Total number of files used for training: 913\n",
      "Number of instances in Nigeria validation set: 454\n",
      "Total number of files used for validation: 454\n",
      "Number of instances in Nigeria testing set: 455\n"
     ]
    }
   ],
   "source": [
    "train_dataset = landcovermapper.get_dataset(subset=\"training\")\n",
    "val_dataset = landcovermapper.get_dataset(subset=\"validation\", normalizing_dict=landcovermapper.normalizing_dict)\n",
    "test_dataset = landcovermapper.get_dataset(subset=\"testing\", normalizing_dict=landcovermapper.normalizing_dict)"
   ]
  },
  {
   "cell_type": "code",
   "execution_count": 69,
   "metadata": {},
   "outputs": [
    {
     "data": {
      "text/plain": [
       "1822"
      ]
     },
     "execution_count": 69,
     "metadata": {},
     "output_type": "execute_result"
    }
   ],
   "source": [
    "len(train_dataset) + len(val_dataset) + len(test_dataset)"
   ]
  },
  {
   "cell_type": "code",
   "execution_count": 80,
   "metadata": {},
   "outputs": [
    {
     "data": {
      "text/plain": [
       "745"
      ]
     },
     "execution_count": 80,
     "metadata": {},
     "output_type": "execute_result"
    }
   ],
   "source": [
    "# Cropland points\n",
    "train_dataset.datasets['nigeria'].is_crop.sum() + val_dataset.datasets['nigeria'].is_crop.sum() + test_dataset.datasets['nigeria'].is_crop.sum()"
   ]
  },
  {
   "cell_type": "code",
   "execution_count": 81,
   "metadata": {},
   "outputs": [
    {
     "data": {
      "text/plain": [
       "0.409"
      ]
     },
     "execution_count": 81,
     "metadata": {},
     "output_type": "execute_result"
    }
   ],
   "source": [
    "# Cropland ratio\n",
    "round((train_dataset.datasets['nigeria'].is_crop.sum() + val_dataset.datasets['nigeria'].is_crop.sum() + test_dataset.datasets['nigeria'].is_crop.sum()) / (train_dataset.datasets['nigeria'].is_crop.shape[0] + val_dataset.datasets['nigeria'].is_crop.shape[0] + test_dataset.datasets['nigeria'].is_crop.shape[0]), 3)"
   ]
  },
  {
   "cell_type": "code",
   "execution_count": 73,
   "metadata": {},
   "outputs": [
    {
     "name": "stdout",
     "output_type": "stream",
     "text": [
      "Total points: 913\n",
      "Cropland count: 381\n",
      "Non-cropland count: 532\n",
      "Cropland ratio: 0.417\n"
     ]
    }
   ],
   "source": [
    "set_statistics(train_dataset.datasets['nigeria'])"
   ]
  },
  {
   "cell_type": "code",
   "execution_count": 74,
   "metadata": {},
   "outputs": [
    {
     "name": "stdout",
     "output_type": "stream",
     "text": [
      "Total points: 454\n",
      "Cropland count: 181\n",
      "Non-cropland count: 273\n",
      "Cropland ratio: 0.399\n"
     ]
    }
   ],
   "source": [
    "set_statistics(val_dataset.datasets['nigeria'])"
   ]
  },
  {
   "cell_type": "code",
   "execution_count": 75,
   "metadata": {},
   "outputs": [
    {
     "name": "stdout",
     "output_type": "stream",
     "text": [
      "Total points: 455\n",
      "Cropland count: 183\n",
      "Non-cropland count: 272\n",
      "Cropland ratio: 0.402\n"
     ]
    }
   ],
   "source": [
    "set_statistics(test_dataset.datasets['nigeria'])"
   ]
  },
  {
   "cell_type": "code",
   "execution_count": null,
   "metadata": {},
   "outputs": [],
   "source": []
  }
 ],
 "metadata": {
  "kernelspec": {
   "display_name": "nigeria-crop-mask-gpu",
   "language": "python",
   "name": "python3"
  },
  "language_info": {
   "codemirror_mode": {
    "name": "ipython",
    "version": 3
   },
   "file_extension": ".py",
   "mimetype": "text/x-python",
   "name": "python",
   "nbconvert_exporter": "python",
   "pygments_lexer": "ipython3",
   "version": "3.7.16"
  },
  "orig_nbformat": 4
 },
 "nbformat": 4,
 "nbformat_minor": 2
}
