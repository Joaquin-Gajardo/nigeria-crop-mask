{
 "cells": [
  {
   "cell_type": "code",
   "execution_count": 10,
   "metadata": {},
   "outputs": [],
   "source": [
    "import sys\n",
    "from argparse import ArgumentParser, Namespace\n",
    "from pathlib import Path\n",
    "\n",
    "sys.path.append('..')\n",
    "\n",
    "from src.models import STR2MODEL"
   ]
  },
  {
   "cell_type": "code",
   "execution_count": 11,
   "metadata": {},
   "outputs": [],
   "source": [
    "DATA_DIR = Path(\"../data\")"
   ]
  },
  {
   "cell_type": "code",
   "execution_count": 12,
   "metadata": {},
   "outputs": [],
   "source": [
    "def get_model(add_geowiki: bool, add_nigeria: bool, geowiki_subset: str):\n",
    "    parser = ArgumentParser()\n",
    "    parser.add_argument(\"--max_epochs\", type=int, default=100)\n",
    "    parser.add_argument(\"--patience\", type=int, default=10)\n",
    "    parser.add_argument(\"--gpus\", type=int, default=0)\n",
    "    parser.add_argument(\"--wandb\", default=False, action=\"store_true\")\n",
    "\n",
    "    model_args = STR2MODEL[\"land_cover\"].add_model_specific_args(parser).parse_args(args=[])\n",
    "    new_model_args_dict = vars(model_args)\n",
    "\n",
    "    # SET MODIFICATIONS TO DEFAULT MODEL ARGUMENTS:\n",
    "    new_model_args_dict['add_geowiki'] = add_geowiki\n",
    "    new_model_args_dict['add_nigeria'] = add_nigeria\n",
    "    new_model_args_dict['geowiki_subset'] =  geowiki_subset # 'nigeria', 'neighbours1'\n",
    "\n",
    "    new_model_args = Namespace(**new_model_args_dict)\n",
    "    model = STR2MODEL[\"land_cover\"](new_model_args)\n",
    "    \n",
    "    return model"
   ]
  },
  {
   "cell_type": "code",
   "execution_count": 13,
   "metadata": {},
   "outputs": [],
   "source": [
    "add_geowiki = True\n",
    "add_nigeria = False\n",
    "geowiki_subset = 'world'\n",
    "landcovermapper = get_model(add_geowiki, add_nigeria, geowiki_subset)\n",
    "df = landcovermapper.geowiki_dataset.labels\n",
    "df.is_crop.value_counts()"
   ]
  },
  {
   "cell_type": "code",
   "execution_count": 29,
   "metadata": {},
   "outputs": [
    {
     "name": "stdout",
     "output_type": "stream",
     "text": [
      "Found normalizing dict geowiki_normalizing_dict_Ghana_Togo_Nigeria_Cameroon_Benin.h5\n",
      "Loading normalizing dict geowiki_normalizing_dict_Ghana_Togo_Nigeria_Cameroon_Benin.h5\n",
      "Creating Geowiki train split\n",
      "Creating Geowiki val split\n",
      "Number of instances in Geowiki training set: 632\n",
      "Total number of files used for training: 632\n",
      "Number of model parameters: 25473\n"
     ]
    },
    {
     "data": {
      "text/plain": [
       "1    460\n",
       "0    330\n",
       "Name: is_crop, dtype: int64"
      ]
     },
     "execution_count": 29,
     "metadata": {},
     "output_type": "execute_result"
    }
   ],
   "source": [
    "add_geowiki = True\n",
    "add_nigeria = False\n",
    "geowiki_subset = 'neighbours1'\n",
    "landcovermapper = get_model(add_geowiki, add_nigeria, geowiki_subset)\n",
    "df = landcovermapper.geowiki_dataset.labels\n",
    "df.is_crop.value_counts()"
   ]
  },
  {
   "cell_type": "code",
   "execution_count": 30,
   "metadata": {},
   "outputs": [
    {
     "name": "stdout",
     "output_type": "stream",
     "text": [
      "Found normalizing dict geowiki_normalizing_dict_Nigeria.h5\n",
      "Loading normalizing dict geowiki_normalizing_dict_Nigeria.h5\n",
      "Creating Geowiki train split\n",
      "Creating Geowiki val split\n",
      "Number of instances in Geowiki training set: 361\n",
      "Total number of files used for training: 361\n",
      "Number of model parameters: 25473\n"
     ]
    },
    {
     "data": {
      "text/plain": [
       "1    312\n",
       "0    140\n",
       "Name: is_crop, dtype: int64"
      ]
     },
     "execution_count": 30,
     "metadata": {},
     "output_type": "execute_result"
    }
   ],
   "source": [
    "add_geowiki = True\n",
    "add_nigeria = False\n",
    "geowiki_subset = 'nigeria'\n",
    "landcovermapper = get_model(add_geowiki, add_nigeria, geowiki_subset)\n",
    "df = landcovermapper.geowiki_dataset.labels\n",
    "df.is_crop.value_counts()"
   ]
  },
  {
   "cell_type": "code",
   "execution_count": 31,
   "metadata": {},
   "outputs": [
    {
     "name": "stdout",
     "output_type": "stream",
     "text": [
      "Number of instances in Nigeria training set: 913\n",
      "Total number of files used for training: 913\n",
      "Number of model parameters: 25473\n"
     ]
    }
   ],
   "source": [
    "add_geowiki = False\n",
    "add_nigeria = True\n",
    "landcovermapper = get_model(add_geowiki, add_nigeria, geowiki_subset)"
   ]
  },
  {
   "cell_type": "code",
   "execution_count": 32,
   "metadata": {},
   "outputs": [
    {
     "name": "stdout",
     "output_type": "stream",
     "text": [
      "Number of instances in Nigeria training set: 913\n",
      "Total number of files used for training: 913\n",
      "Number of instances in Nigeria validation set: 454\n",
      "Total number of files used for validation: 454\n",
      "Number of instances in Nigeria testing set: 455\n"
     ]
    }
   ],
   "source": [
    "train_dataset = landcovermapper.get_dataset(subset=\"training\")\n",
    "val_dataset = landcovermapper.get_dataset(subset=\"validation\", normalizing_dict=landcovermapper.normalizing_dict)\n",
    "test_dataset = landcovermapper.get_dataset(subset=\"testing\", normalizing_dict=landcovermapper.normalizing_dict)"
   ]
  },
  {
   "cell_type": "code",
   "execution_count": 33,
   "metadata": {},
   "outputs": [
    {
     "data": {
      "text/plain": [
       "1822"
      ]
     },
     "execution_count": 33,
     "metadata": {},
     "output_type": "execute_result"
    }
   ],
   "source": [
    "len(train_dataset) + len(val_dataset) + len(test_dataset)"
   ]
  },
  {
   "cell_type": "code",
   "execution_count": 37,
   "metadata": {},
   "outputs": [
    {
     "data": {
      "text/plain": [
       "count    913.000000\n",
       "mean       0.417306\n",
       "std        0.493384\n",
       "min        0.000000\n",
       "25%        0.000000\n",
       "50%        0.000000\n",
       "75%        1.000000\n",
       "max        1.000000\n",
       "Name: is_crop, dtype: float64"
      ]
     },
     "execution_count": 37,
     "metadata": {},
     "output_type": "execute_result"
    }
   ],
   "source": [
    "train_dataset.datasets['nigeria'].is_crop.describe()"
   ]
  },
  {
   "cell_type": "code",
   "execution_count": 40,
   "metadata": {},
   "outputs": [
    {
     "data": {
      "text/plain": [
       "count    454.000000\n",
       "mean       0.398678\n",
       "std        0.490166\n",
       "min        0.000000\n",
       "25%        0.000000\n",
       "50%        0.000000\n",
       "75%        1.000000\n",
       "max        1.000000\n",
       "Name: is_crop, dtype: float64"
      ]
     },
     "execution_count": 40,
     "metadata": {},
     "output_type": "execute_result"
    }
   ],
   "source": [
    "val_dataset.datasets['nigeria'].is_crop.describe()"
   ]
  },
  {
   "cell_type": "code",
   "execution_count": 39,
   "metadata": {},
   "outputs": [
    {
     "data": {
      "text/plain": [
       "count    455.000000\n",
       "mean       0.402198\n",
       "std        0.490881\n",
       "min        0.000000\n",
       "25%        0.000000\n",
       "50%        0.000000\n",
       "75%        1.000000\n",
       "max        1.000000\n",
       "Name: is_crop, dtype: float64"
      ]
     },
     "execution_count": 39,
     "metadata": {},
     "output_type": "execute_result"
    }
   ],
   "source": [
    "test_dataset.datasets['nigeria'].is_crop.describe()"
   ]
  },
  {
   "cell_type": "code",
   "execution_count": 44,
   "metadata": {},
   "outputs": [
    {
     "data": {
      "text/plain": [
       "0.4088913282107574"
      ]
     },
     "execution_count": 44,
     "metadata": {},
     "output_type": "execute_result"
    }
   ],
   "source": [
    "(train_dataset.datasets['nigeria'].is_crop.sum() + val_dataset.datasets['nigeria'].is_crop.sum() + test_dataset.datasets['nigeria'].is_crop.sum()) / (train_dataset.datasets['nigeria'].is_crop.shape[0] + val_dataset.datasets['nigeria'].is_crop.shape[0] + test_dataset.datasets['nigeria'].is_crop.shape[0])"
   ]
  },
  {
   "cell_type": "code",
   "execution_count": null,
   "metadata": {},
   "outputs": [],
   "source": []
  }
 ],
 "metadata": {
  "kernelspec": {
   "display_name": "nigeria-crop-mask-gpu",
   "language": "python",
   "name": "python3"
  },
  "language_info": {
   "codemirror_mode": {
    "name": "ipython",
    "version": 3
   },
   "file_extension": ".py",
   "mimetype": "text/x-python",
   "name": "python",
   "nbconvert_exporter": "python",
   "pygments_lexer": "ipython3",
   "version": "3.7.16"
  },
  "orig_nbformat": 4
 },
 "nbformat": 4,
 "nbformat_minor": 2
}
