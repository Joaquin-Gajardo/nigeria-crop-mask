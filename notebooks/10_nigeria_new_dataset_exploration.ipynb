{
 "cells": [
  {
   "cell_type": "code",
   "execution_count": null,
   "metadata": {},
   "outputs": [],
   "source": [
    "import sys\n",
    "from pathlib import Path\n",
    "import pickle\n",
    "\n",
    "import numpy as np\n",
    "import pandas as pd\n",
    "import geopandas as gpd\n",
    "from tqdm import tqdm\n",
    "import matplotlib.pyplot as plt\n",
    "from scipy import stats\n",
    "\n",
    "sys.path.append('..')\n",
    "\n",
    "from src.engineer.geowiki import GeoWikiDataInstance\n",
    "from src.engineer.nigeria import NigeriaDataInstance\n",
    "from src.exporters.sentinel.cloudfree import BANDS\n",
    "\n",
    "%reload_ext autoreload\n",
    "%autoreload 2"
   ]
  },
  {
   "attachments": {},
   "cell_type": "markdown",
   "metadata": {},
   "source": [
    "## Get data"
   ]
  },
  {
   "cell_type": "code",
   "execution_count": null,
   "metadata": {},
   "outputs": [],
   "source": [
    "data_path = Path('../data_split_test/nigeria')"
   ]
  },
  {
   "cell_type": "code",
   "execution_count": null,
   "metadata": {},
   "outputs": [],
   "source": [
    "subsets = ['training', 'validation', 'testing']\n",
    "rows = []\n",
    "for subset in subsets:\n",
    "    pickle_files = [file for file in (data_path / subset).glob('*.pkl')]\n",
    "    for file in pickle_files:\n",
    "        identifier = file.name.split('_')[0]\n",
    "        date = '_'.join(pickle_files[0].name.split('_')[1:]).split('.')[0]\n",
    "        with file.open(\"rb\") as f:\n",
    "            target_datainstance = pickle.load(f)\n",
    "        assert isinstance(target_datainstance, NigeriaDataInstance), 'Pickle file is not an instance of geowiki data'\n",
    "        label = target_datainstance.is_crop\n",
    "\n",
    "        rows.append((\n",
    "            identifier,\n",
    "            date,\n",
    "            target_datainstance.instance_lat,\n",
    "            target_datainstance.instance_lon,\n",
    "            label,\n",
    "            file.name,\n",
    "            subset\n",
    "            ))"
   ]
  },
  {
   "cell_type": "code",
   "execution_count": null,
   "metadata": {},
   "outputs": [],
   "source": [
    "df = pd.DataFrame(rows, columns=['identifier', 'date', 'lat', 'lon', 'label', 'filename', 'set'])\n",
    "gdf = gpd.GeoDataFrame(df, geometry=gpd.points_from_xy(x=df.lon, y=df.lat), crs='epsg:4326')\n",
    "gdf"
   ]
  },
  {
   "attachments": {},
   "cell_type": "markdown",
   "metadata": {},
   "source": [
    "## Label distribution"
   ]
  },
  {
   "cell_type": "code",
   "execution_count": null,
   "metadata": {},
   "outputs": [],
   "source": [
    "label_dist = gdf.groupby(['set'])['label'].agg(['count', 'sum'])\n",
    "label_dist['ratio'] = label_dist['sum'] / label_dist['count']\n",
    "label_dist.loc['total'] = [len(gdf), gdf['label'].sum(), gdf['label'].sum()/len(gdf)]\n",
    "label_dist.rename(columns={'sum': 'cropland_count'}, inplace=True)\n",
    "label_dist"
   ]
  },
  {
   "attachments": {},
   "cell_type": "markdown",
   "metadata": {},
   "source": [
    "## Visualize spatial distribution and save"
   ]
  },
  {
   "cell_type": "code",
   "execution_count": null,
   "metadata": {},
   "outputs": [],
   "source": [
    "gdf.plot(column='set', legend=True)"
   ]
  },
  {
   "cell_type": "code",
   "execution_count": null,
   "metadata": {},
   "outputs": [],
   "source": [
    "gdf.to_file(data_path / 'nigeria_stratified_labelled_v1_splits.shp')"
   ]
  },
  {
   "cell_type": "markdown",
   "metadata": {},
   "source": []
  }
 ],
 "metadata": {
  "kernelspec": {
   "display_name": "togo-paper",
   "language": "python",
   "name": "python3"
  },
  "language_info": {
   "codemirror_mode": {
    "name": "ipython",
    "version": 3
   },
   "file_extension": ".py",
   "mimetype": "text/x-python",
   "name": "python",
   "nbconvert_exporter": "python",
   "pygments_lexer": "ipython3",
   "version": "3.6.13"
  },
  "orig_nbformat": 4,
  "vscode": {
   "interpreter": {
    "hash": "f1d702b24b358fb38573032b2736288a41648cae2db041d7fdb41486d06c5511"
   }
  }
 },
 "nbformat": 4,
 "nbformat_minor": 2
}
