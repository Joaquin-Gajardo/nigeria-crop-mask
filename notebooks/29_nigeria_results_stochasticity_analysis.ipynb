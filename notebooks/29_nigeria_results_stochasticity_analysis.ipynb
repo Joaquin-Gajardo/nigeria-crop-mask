{
 "cells": [
  {
   "cell_type": "code",
   "execution_count": null,
   "metadata": {},
   "outputs": [],
   "source": [
    "from argparse import ArgumentParser, Namespace\n",
    "import h5py\n",
    "from itertools import permutations\n",
    "from pathlib import Path\n",
    "from typing import cast, Optional, List, Tuple, Dict, Type, TypeVar, Sequence\n",
    "from tqdm import tqdm\n",
    "import sys\n",
    "\n",
    "import numpy as np\n",
    "import pandas as pd\n",
    "import geopandas as gpd\n",
    "import matplotlib.pyplot as plt\n",
    "import torch\n",
    "from torch.utils.data import Dataset\n",
    "from shapely.geometry import Point\n",
    "from sklearn.ensemble import RandomForestClassifier\n",
    "from sklearn.model_selection import train_test_split\n",
    "from sklearn.metrics import f1_score, precision_score, recall_score, roc_auc_score, accuracy_score\n",
    "from cropharvest.datasets import CropHarvest, CropHarvestLabels, Task\n",
    "from cropharvest.columns import NullableColumns, RequiredColumns\n",
    "from cropharvest.config import FEATURES_DIR\n",
    "from cropharvest.engineer import Engineer\n",
    "from cropharvest.utils import load_normalizing_dict\n",
    "from cropharvest.bands import BANDS, DYNAMIC_BANDS, STATIC_BANDS, REMOVED_BANDS\n",
    "\n",
    "sys.path.append(\"..\")\n",
    "\n",
    "from src.models import STR2MODEL, STR2BASE, train_model\n",
    "\n",
    "\n",
    "S2_BANDS = ['B2','B3','B4','B5','B6','B7','B8','B8A','B9','B11','B12','NDVI']"
   ]
  },
  {
   "cell_type": "markdown",
   "metadata": {},
   "source": [
    "## Stochasticity analysis"
   ]
  },
  {
   "cell_type": "code",
   "execution_count": null,
   "metadata": {},
   "outputs": [],
   "source": [
    "def get_model(add_geowiki: bool, add_nigeria: bool, geowiki_subset: str, seed: int, exp_name: str):\n",
    "    parser = ArgumentParser()\n",
    "    parser.add_argument(\"--max_epochs\", type=int, default=100)\n",
    "    parser.add_argument(\"--patience\", type=int, default=10)\n",
    "    parser.add_argument(\"--gpus\", type=int, default=0)\n",
    "    parser.add_argument(\"--wandb\", default=False, action=\"store_true\")\n",
    "    parser.add_argument(\"--seed\", type=int, default=0)\n",
    "\n",
    "    model_args = STR2MODEL[\"land_cover\"].add_model_specific_args(parser).parse_args(args=[])\n",
    "    new_model_args_dict = vars(model_args)\n",
    "\n",
    "    # SET MODIFICATIONS TO DEFAULT MODEL ARGUMENTS:\n",
    "    new_model_args_dict['add_geowiki'] = add_geowiki\n",
    "    new_model_args_dict['add_nigeria'] = add_nigeria\n",
    "    new_model_args_dict['geowiki_subset'] =  geowiki_subset # 'nigeria', 'neighbours1'\n",
    "    new_model_args_dict['weighted_loss_fn'] = True\n",
    "    new_model_args_dict['seed'] = seed\n",
    "    new_model_args_dict['inference'] = True\n",
    "    new_model_args_dict['exp_name'] = exp_name\n",
    "\n",
    "    new_model_args = Namespace(**new_model_args_dict)\n",
    "    model = STR2MODEL[\"land_cover\"](new_model_args)\n",
    "    print('Model arguments: ', new_model_args)\n",
    "    \n",
    "    return model, new_model_args"
   ]
  },
  {
   "cell_type": "code",
   "execution_count": null,
   "metadata": {},
   "outputs": [],
   "source": [
    "num_runs = 10\n",
    "random_seeds = np.random.randint(1, 1000, size=num_runs).tolist()\n",
    "random_seeds"
   ]
  },
  {
   "cell_type": "code",
   "execution_count": null,
   "metadata": {},
   "outputs": [],
   "source": [
    "trained = []\n",
    "for i in range(num_runs):\n",
    "    print(f'Run: {i}, seed: {random_seeds[i]}')\n",
    "    model, new_model_args = get_model(True, True, 'neighbours1', random_seeds[i], exp_name='stochasticity_analysis_neighbours1')\n",
    "    trainer = train_model(model, new_model_args)\n",
    "    trained.append(trainer)"
   ]
  },
  {
   "cell_type": "code",
   "execution_count": null,
   "metadata": {},
   "outputs": [],
   "source": [
    "trained"
   ]
  },
  {
   "cell_type": "code",
   "execution_count": null,
   "metadata": {},
   "outputs": [],
   "source": [
    "for _trainer in trained:\n",
    "    _trainer.test()"
   ]
  },
  {
   "cell_type": "markdown",
   "metadata": {},
   "source": [
    "Need to run `python parse_results.py stochasticity_analysis_neighbours1 lstm` first"
   ]
  },
  {
   "cell_type": "code",
   "execution_count": null,
   "metadata": {},
   "outputs": [],
   "source": [
    "df = pd.read_csv('../results/stochasticity_analysis_neighbours1/lstm/results_stochasticity_analysis_neighbours1_lstm.csv')\n",
    "df"
   ]
  },
  {
   "cell_type": "code",
   "execution_count": null,
   "metadata": {},
   "outputs": [],
   "source": [
    "df.test_accuracy.mean(), df.test_accuracy.std()"
   ]
  },
  {
   "cell_type": "code",
   "execution_count": null,
   "metadata": {},
   "outputs": [],
   "source": [
    "df.test_f1_score.mean(), df.test_f1_score.std()"
   ]
  },
  {
   "cell_type": "markdown",
   "metadata": {},
   "source": [
    "Need to run `python parse_results.py stochasticity_analysis lstm` first (nigeria)"
   ]
  },
  {
   "cell_type": "code",
   "execution_count": null,
   "metadata": {},
   "outputs": [],
   "source": [
    "df = pd.read_csv('../results/stochasticity_analysis/lstm/results_stochasticity_analysis_lstm.csv')\n",
    "df"
   ]
  },
  {
   "cell_type": "code",
   "execution_count": null,
   "metadata": {},
   "outputs": [],
   "source": [
    "df.test_accuracy.mean(), df.test_accuracy.std()\n"
   ]
  },
  {
   "cell_type": "code",
   "execution_count": null,
   "metadata": {},
   "outputs": [],
   "source": [
    "df.test_f1_score.mean(), df.test_f1_score.std()"
   ]
  }
 ],
 "metadata": {
  "kernelspec": {
   "display_name": "cropharvest",
   "language": "python",
   "name": "python3"
  },
  "language_info": {
   "codemirror_mode": {
    "name": "ipython",
    "version": 3
   },
   "file_extension": ".py",
   "mimetype": "text/x-python",
   "name": "python",
   "nbconvert_exporter": "python",
   "pygments_lexer": "ipython3",
   "version": "3.7.16"
  },
  "orig_nbformat": 4
 },
 "nbformat": 4,
 "nbformat_minor": 2
}
