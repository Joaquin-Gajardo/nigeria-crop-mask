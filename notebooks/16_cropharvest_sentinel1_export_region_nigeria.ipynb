{
 "cells": [
  {
   "cell_type": "code",
   "execution_count": null,
   "metadata": {},
   "outputs": [],
   "source": [
    "import sys\n",
    "from datetime import date\n",
    "from pathlib import Path\n",
    "\n",
    "import ee\n",
    "import gdown\n",
    "from cropharvest.eo import EarthEngineExporter\n",
    "from cropharvest.countries import BBox\n",
    "\n",
    "sys.path.append('..')\n",
    "from src.exporters import GDriveExporter"
   ]
  },
  {
   "cell_type": "code",
   "execution_count": null,
   "metadata": {},
   "outputs": [],
   "source": [
    "#ee.Authenticate()"
   ]
  },
  {
   "cell_type": "code",
   "execution_count": null,
   "metadata": {},
   "outputs": [],
   "source": [
    "google_drive_exporter = EarthEngineExporter()"
   ]
  },
  {
   "cell_type": "code",
   "execution_count": null,
   "metadata": {},
   "outputs": [],
   "source": [
    "# By default data will be exported to Google Drive\n",
    "google_drive_exporter.export_for_bbox(\n",
    "    bbox=BBox(min_lon=2.6917, max_lon=14.5772, min_lat=4.2406, max_lat=13.8659), # https://gist.github.com/graydon/11198540 in W, S, E, N aprox. to 4 decimal\n",
    "    bbox_name=\"Nigeria\",\n",
    "    start_date=date(2019, 4, 3),\n",
    "    end_date=date(2020, 3, 28),\n",
    "    metres_per_polygon=20000,\n",
    ")\n",
    "\n",
    "# NOTE: Since 3000 is the max of tasks GEE can handle simulanteously and we have 3563 tasks int total I added a small patch to the source code of export_for_bbox() at cropharvest.eo.EarthEngineExplorer:\n",
    "# ...\n",
    "# for identifier, region in zip(ids, regions):\n",
    "#             if int(identifier.split('_')[1].split('/')[0]) > 3020:   --> ADDITION\n",
    "#                 return_obj[identifier] = self._export_for_polygon(\n",
    "#                     polygon=region,\n",
    "#                     polygon_identifier=f\"{bbox_name}/{identifier}\",\n",
    "#                     start_date=start_date,\n",
    "#                     end_date=end_date,\n",
    "#                     file_dimensions=file_dimensions,\n",
    "#                     test=True,\n",
    "#                 )\n",
    "# ..."
   ]
  },
  {
   "cell_type": "markdown",
   "metadata": {},
   "source": [
    "### Experimenting with how to download from google drive to local (see scripts/export.py now for all files!)"
   ]
  },
  {
   "cell_type": "code",
   "execution_count": null,
   "metadata": {},
   "outputs": [],
   "source": [
    "exporter = GDriveExporter(Path('/media/Elements-12TB/satellite_images/nigeria'), dataset='nigeria-full-country-2020')\n",
    "file_info = exporter.list_files_in_folder(folder_name='test_eo_data') "
   ]
  },
  {
   "cell_type": "code",
   "execution_count": null,
   "metadata": {},
   "outputs": [],
   "source": [
    "file_info"
   ]
  },
  {
   "cell_type": "code",
   "execution_count": null,
   "metadata": {},
   "outputs": [],
   "source": [
    "for i, file in enumerate(file_info):\n",
    "    file_id = file['id']\n",
    "    file_name = file['name']\n",
    "    output_path = exporter.output_folder / file_name.split('/')[-1]\n",
    "    gdown.download(id=file_id, output=output_path, quiet=False)"
   ]
  },
  {
   "cell_type": "code",
   "execution_count": null,
   "metadata": {},
   "outputs": [],
   "source": [
    "file_id = '1p2kUd4U4304v0kEQRjG5C4MgFefc1m8y' #'1bzWtQTtpeJhD4h8HwbkGvprPOLya8VVu'\n",
    "file_name = 'Nigeria/batch_3415/3415-0000001792-0000001792.tif'\n",
    "output_path = exporter.output_folder / file_name.split('/')[-1]\n",
    "gdown.download(id=file_id, output=str(output_path), quiet=False)"
   ]
  },
  {
   "cell_type": "code",
   "execution_count": null,
   "metadata": {},
   "outputs": [],
   "source": [
    "gdown.download(id=file_info[0]['id'], output=file_info[0]['name'].split('/')[-1], quiet=False)"
   ]
  },
  {
   "cell_type": "code",
   "execution_count": null,
   "metadata": {},
   "outputs": [],
   "source": [
    "str(output_path)"
   ]
  },
  {
   "cell_type": "code",
   "execution_count": null,
   "metadata": {},
   "outputs": [],
   "source": []
  }
 ],
 "metadata": {
  "kernelspec": {
   "display_name": "nigeria-crop-mask-gpu",
   "language": "python",
   "name": "python3"
  },
  "language_info": {
   "codemirror_mode": {
    "name": "ipython",
    "version": 3
   },
   "file_extension": ".py",
   "mimetype": "text/x-python",
   "name": "python",
   "nbconvert_exporter": "python",
   "pygments_lexer": "ipython3",
   "version": "3.7.16"
  },
  "orig_nbformat": 4
 },
 "nbformat": 4,
 "nbformat_minor": 2
}
