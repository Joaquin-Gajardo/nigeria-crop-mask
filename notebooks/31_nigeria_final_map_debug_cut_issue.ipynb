{
 "cells": [
  {
   "cell_type": "code",
   "execution_count": 3,
   "metadata": {},
   "outputs": [],
   "source": [
    "from pathlib import Path\n",
    "\n",
    "import numpy as np\n",
    "import rasterio\n",
    "from rasterio.mask import mask\n",
    "import geopandas as gpd"
   ]
  },
  {
   "cell_type": "markdown",
   "metadata": {},
   "source": [
    "## Checks"
   ]
  },
  {
   "cell_type": "markdown",
   "metadata": {},
   "source": [
    "**Problem**: Probability map is cut off at the bottom, but the binary map is fine.\n",
    "\n",
    "Facts:\n",
    "\n",
    "    - The combined.tif and also the binary map are not cut at the bottom.\n",
    "    - The intermediate probability map (before clipping) but already compressed and casted to uint8 also has the cut. This means the issue is not due to clipping.\n",
    "    - The cut happens at different places for different versions of the map.\n",
    "\n",
    "**Hypothesis**: The cut depends on the transformed data values and maybe on the compression.\n",
    "- Check 1: check that the no data value are mantained in the binary map first. -> OK\n",
    "- Check 2: make probability map without clipping, compression or casting to uint8 (only changing no-data value). -> OK\n",
    "- Check 3: make probability map without clipping or compression (but with casting to uint8) -> OK, no cut, this mean the problem is in compression.\n",
    "- Check 4: check that no data values are mantained between raw predictions and probability map without compression. -> OK\n",
    "- Check 5: make probability map without compression, but with casting to uint8 and clipping. Check that it's not cut. -> OK, I could use this map already (it's 14GB though)\n",
    "- Check 6: check that final probability and binary maps have the same missing values. -> OK\n",
    "\n",
    "**Solution**: Make clipped probability map without compression (final size: 14GB)."
   ]
  },
  {
   "cell_type": "markdown",
   "metadata": {},
   "source": [
    "### Check 1: combined.tif and binary intermediate mask should preserve the no-data values ->**OK**"
   ]
  },
  {
   "cell_type": "code",
   "execution_count": 7,
   "metadata": {},
   "outputs": [],
   "source": [
    "map_version = 4\n",
    "preds_dir = Path(f\"../data/predictions/nigeria-cropharvest-full-country-2020/v{map_version}\")\n",
    "base_filename = 'combined'\n",
    "tif_path = preds_dir / f'{base_filename}.tif'"
   ]
  },
  {
   "cell_type": "code",
   "execution_count": 8,
   "metadata": {},
   "outputs": [
    {
     "data": {
      "text/plain": [
       "{'driver': 'GTiff',\n",
       " 'dtype': 'float32',\n",
       " 'nodata': nan,\n",
       " 'width': 134346,\n",
       " 'height': 109171,\n",
       " 'count': 1,\n",
       " 'crs': CRS.from_epsg(4326),\n",
       " 'transform': Affine(8.983152841193114e-05, 0.0, 2.6916220858073223,\n",
       "        0.0, -8.983152841193113e-05, 14.047584918475842)}"
      ]
     },
     "execution_count": 8,
     "metadata": {},
     "output_type": "execute_result"
    }
   ],
   "source": [
    "with rasterio.open(tif_path) as map:\n",
    "    meta = map.meta\n",
    "    bounds = map.bounds\n",
    "meta"
   ]
  },
  {
   "cell_type": "code",
   "execution_count": 9,
   "metadata": {},
   "outputs": [
    {
     "data": {
      "text/plain": [
       "array([[0.41090655, 0.64520943, 0.6577012 , ..., 0.08016538, 0.0814566 ,\n",
       "        0.08545445],\n",
       "       [0.25899586, 0.35356057, 0.38515893, ..., 0.08041115, 0.07872102,\n",
       "        0.08439897],\n",
       "       [0.1724457 , 0.24476607, 0.28418174, ..., 0.08397247, 0.07885724,\n",
       "        0.08129588],\n",
       "       ...,\n",
       "       [       nan,        nan,        nan, ..., 0.00918175, 0.01175091,\n",
       "        0.488538  ],\n",
       "       [       nan,        nan,        nan, ..., 0.00550667, 0.00620588,\n",
       "        0.47301495],\n",
       "       [       nan,        nan,        nan, ..., 0.01732424, 0.04461752,\n",
       "        0.40613696]], dtype=float32)"
      ]
     },
     "execution_count": 9,
     "metadata": {},
     "output_type": "execute_result"
    }
   ],
   "source": [
    "with rasterio.open(tif_path) as map:\n",
    "    data = map.read(1)\n",
    "data"
   ]
  },
  {
   "cell_type": "code",
   "execution_count": 11,
   "metadata": {},
   "outputs": [
    {
     "data": {
      "text/plain": [
       "58.666748664"
      ]
     },
     "execution_count": 11,
     "metadata": {},
     "output_type": "execute_result"
    }
   ],
   "source": [
    "data.nbytes / 1e9"
   ]
  },
  {
   "cell_type": "code",
   "execution_count": 12,
   "metadata": {},
   "outputs": [],
   "source": [
    "nan_mask = np.isnan(data)"
   ]
  },
  {
   "cell_type": "code",
   "execution_count": 15,
   "metadata": {},
   "outputs": [
    {
     "data": {
      "text/plain": [
       "14.666687166"
      ]
     },
     "execution_count": 15,
     "metadata": {},
     "output_type": "execute_result"
    }
   ],
   "source": [
    "nan_mask.nbytes / 1e9"
   ]
  },
  {
   "cell_type": "code",
   "execution_count": 17,
   "metadata": {},
   "outputs": [
    {
     "data": {
      "text/plain": [
       "array([[False, False, False, ..., False, False, False],\n",
       "       [False, False, False, ..., False, False, False],\n",
       "       [False, False, False, ..., False, False, False],\n",
       "       ...,\n",
       "       [ True,  True,  True, ..., False, False, False],\n",
       "       [ True,  True,  True, ..., False, False, False],\n",
       "       [ True,  True,  True, ..., False, False, False]])"
      ]
     },
     "execution_count": 17,
     "metadata": {},
     "output_type": "execute_result"
    }
   ],
   "source": [
    "nan_mask"
   ]
  },
  {
   "cell_type": "markdown",
   "metadata": {},
   "source": [
    "\n",
    "Load binary intermediate mask"
   ]
  },
  {
   "cell_type": "code",
   "execution_count": 22,
   "metadata": {},
   "outputs": [],
   "source": [
    "tif_path = preds_dir / f'{base_filename}_binary_uint8_lzw.tif'"
   ]
  },
  {
   "cell_type": "code",
   "execution_count": 23,
   "metadata": {},
   "outputs": [
    {
     "data": {
      "text/plain": [
       "({'driver': 'GTiff',\n",
       "  'dtype': 'uint8',\n",
       "  'nodata': 255.0,\n",
       "  'width': 134346,\n",
       "  'height': 109171,\n",
       "  'count': 1,\n",
       "  'crs': CRS.from_epsg(4326),\n",
       "  'transform': Affine(8.983152841193114e-05, 0.0, 2.6916220858073223,\n",
       "         0.0, -8.983152841193113e-05, 14.047584918475842)},\n",
       " array([[  0,   1,   1, ...,   0,   0,   0],\n",
       "        [  0,   0,   0, ...,   0,   0,   0],\n",
       "        [  0,   0,   0, ...,   0,   0,   0],\n",
       "        ...,\n",
       "        [255, 255, 255, ...,   0,   0,   0],\n",
       "        [255, 255, 255, ...,   0,   0,   0],\n",
       "        [255, 255, 255, ...,   0,   0,   0]], dtype=uint8))"
      ]
     },
     "execution_count": 23,
     "metadata": {},
     "output_type": "execute_result"
    }
   ],
   "source": [
    "with rasterio.open(tif_path) as map:\n",
    "    meta = map.meta\n",
    "    data = map.read(1)\n",
    "meta, data"
   ]
  },
  {
   "cell_type": "code",
   "execution_count": 25,
   "metadata": {},
   "outputs": [
    {
     "data": {
      "text/plain": [
       "255.0"
      ]
     },
     "execution_count": 25,
     "metadata": {},
     "output_type": "execute_result"
    }
   ],
   "source": [
    "nodata_value = meta['nodata']\n",
    "nodata_value"
   ]
  },
  {
   "cell_type": "code",
   "execution_count": 26,
   "metadata": {},
   "outputs": [
    {
     "data": {
      "text/plain": [
       "masked_array(\n",
       "  data=[[0, 1, 1, ..., 0, 0, 0],\n",
       "        [0, 0, 0, ..., 0, 0, 0],\n",
       "        [0, 0, 0, ..., 0, 0, 0],\n",
       "        ...,\n",
       "        [--, --, --, ..., 0, 0, 0],\n",
       "        [--, --, --, ..., 0, 0, 0],\n",
       "        [--, --, --, ..., 0, 0, 0]],\n",
       "  mask=[[False, False, False, ..., False, False, False],\n",
       "        [False, False, False, ..., False, False, False],\n",
       "        [False, False, False, ..., False, False, False],\n",
       "        ...,\n",
       "        [ True,  True,  True, ..., False, False, False],\n",
       "        [ True,  True,  True, ..., False, False, False],\n",
       "        [ True,  True,  True, ..., False, False, False]],\n",
       "  fill_value=999999,\n",
       "  dtype=uint8)"
      ]
     },
     "execution_count": 26,
     "metadata": {},
     "output_type": "execute_result"
    }
   ],
   "source": [
    "arr = np.ma.array(data, mask=(data == int(nodata_value)))\n",
    "arr"
   ]
  },
  {
   "cell_type": "code",
   "execution_count": 30,
   "metadata": {},
   "outputs": [
    {
     "data": {
      "text/plain": [
       "array([[False, False, False, ..., False, False, False],\n",
       "       [False, False, False, ..., False, False, False],\n",
       "       [False, False, False, ..., False, False, False],\n",
       "       ...,\n",
       "       [ True,  True,  True, ..., False, False, False],\n",
       "       [ True,  True,  True, ..., False, False, False],\n",
       "       [ True,  True,  True, ..., False, False, False]])"
      ]
     },
     "execution_count": 30,
     "metadata": {},
     "output_type": "execute_result"
    }
   ],
   "source": [
    "arr.mask"
   ]
  },
  {
   "cell_type": "code",
   "execution_count": 31,
   "metadata": {},
   "outputs": [
    {
     "data": {
      "text/plain": [
       "array([[False, False, False, ..., False, False, False],\n",
       "       [False, False, False, ..., False, False, False],\n",
       "       [False, False, False, ..., False, False, False],\n",
       "       ...,\n",
       "       [ True,  True,  True, ..., False, False, False],\n",
       "       [ True,  True,  True, ..., False, False, False],\n",
       "       [ True,  True,  True, ..., False, False, False]])"
      ]
     },
     "execution_count": 31,
     "metadata": {},
     "output_type": "execute_result"
    }
   ],
   "source": [
    "nan_mask"
   ]
  },
  {
   "cell_type": "code",
   "execution_count": 33,
   "metadata": {},
   "outputs": [],
   "source": [
    "binary_nans_comparison = nan_mask == arr.mask"
   ]
  },
  {
   "cell_type": "code",
   "execution_count": 36,
   "metadata": {},
   "outputs": [
    {
     "data": {
      "text/plain": [
       "True"
      ]
     },
     "execution_count": 36,
     "metadata": {},
     "output_type": "execute_result"
    }
   ],
   "source": [
    "all(binary_nans_comparison.flatten())"
   ]
  },
  {
   "cell_type": "markdown",
   "metadata": {},
   "source": [
    "The missing values match!"
   ]
  },
  {
   "cell_type": "markdown",
   "metadata": {},
   "source": [
    "### Check 2: Make probability map without clipping, compression or casting to uint8 -> **OK, map doesn't have the cut**"
   ]
  },
  {
   "cell_type": "code",
   "execution_count": 2,
   "metadata": {},
   "outputs": [],
   "source": [
    "map_version = 4\n",
    "preds_dir = Path(f\"../data/predictions/nigeria-cropharvest-full-country-2020/v{map_version}\")\n",
    "base_filename = 'combined'\n",
    "tif_path = preds_dir / f'{base_filename}.tif'"
   ]
  },
  {
   "cell_type": "code",
   "execution_count": 3,
   "metadata": {},
   "outputs": [
    {
     "data": {
      "text/plain": [
       "({'driver': 'GTiff',\n",
       "  'dtype': 'float32',\n",
       "  'nodata': nan,\n",
       "  'width': 134346,\n",
       "  'height': 109171,\n",
       "  'count': 1,\n",
       "  'crs': CRS.from_epsg(4326),\n",
       "  'transform': Affine(8.983152841193114e-05, 0.0, 2.6916220858073223,\n",
       "         0.0, -8.983152841193113e-05, 14.047584918475842)},\n",
       " array([[0.41090655, 0.64520943, 0.6577012 , ..., 0.08016538, 0.0814566 ,\n",
       "         0.08545445],\n",
       "        [0.25899586, 0.35356057, 0.38515893, ..., 0.08041115, 0.07872102,\n",
       "         0.08439897],\n",
       "        [0.1724457 , 0.24476607, 0.28418174, ..., 0.08397247, 0.07885724,\n",
       "         0.08129588],\n",
       "        ...,\n",
       "        [       nan,        nan,        nan, ..., 0.00918175, 0.01175091,\n",
       "         0.488538  ],\n",
       "        [       nan,        nan,        nan, ..., 0.00550667, 0.00620588,\n",
       "         0.47301495],\n",
       "        [       nan,        nan,        nan, ..., 0.01732424, 0.04461752,\n",
       "         0.40613696]], dtype=float32))"
      ]
     },
     "execution_count": 3,
     "metadata": {},
     "output_type": "execute_result"
    }
   ],
   "source": [
    "with rasterio.open(tif_path) as map:\n",
    "    meta = map.meta\n",
    "    bounds = map.bounds\n",
    "    data = map.read(1)\n",
    "meta, data"
   ]
  },
  {
   "cell_type": "code",
   "execution_count": 4,
   "metadata": {},
   "outputs": [],
   "source": [
    "nan_mask = np.isnan(data)"
   ]
  },
  {
   "cell_type": "code",
   "execution_count": 5,
   "metadata": {},
   "outputs": [],
   "source": [
    "NODATA_VALUE = 255"
   ]
  },
  {
   "cell_type": "code",
   "execution_count": 6,
   "metadata": {},
   "outputs": [],
   "source": [
    "data[nan_mask] = NODATA_VALUE"
   ]
  },
  {
   "cell_type": "code",
   "execution_count": 7,
   "metadata": {},
   "outputs": [
    {
     "data": {
      "text/plain": [
       "array([[4.1090655e-01, 6.4520943e-01, 6.5770119e-01, ..., 8.0165379e-02,\n",
       "        8.1456602e-02, 8.5454449e-02],\n",
       "       [2.5899586e-01, 3.5356057e-01, 3.8515893e-01, ..., 8.0411151e-02,\n",
       "        7.8721024e-02, 8.4398970e-02],\n",
       "       [1.7244570e-01, 2.4476607e-01, 2.8418174e-01, ..., 8.3972469e-02,\n",
       "        7.8857243e-02, 8.1295878e-02],\n",
       "       ...,\n",
       "       [2.5500000e+02, 2.5500000e+02, 2.5500000e+02, ..., 9.1817519e-03,\n",
       "        1.1750906e-02, 4.8853800e-01],\n",
       "       [2.5500000e+02, 2.5500000e+02, 2.5500000e+02, ..., 5.5066673e-03,\n",
       "        6.2058782e-03, 4.7301495e-01],\n",
       "       [2.5500000e+02, 2.5500000e+02, 2.5500000e+02, ..., 1.7324237e-02,\n",
       "        4.4617515e-02, 4.0613696e-01]], dtype=float32)"
      ]
     },
     "execution_count": 7,
     "metadata": {},
     "output_type": "execute_result"
    }
   ],
   "source": [
    "data"
   ]
  },
  {
   "cell_type": "code",
   "execution_count": 8,
   "metadata": {},
   "outputs": [],
   "source": [
    "meta.update({'nodata': NODATA_VALUE})"
   ]
  },
  {
   "cell_type": "code",
   "execution_count": 11,
   "metadata": {},
   "outputs": [
    {
     "data": {
      "text/plain": [
       "{'driver': 'GTiff',\n",
       " 'dtype': 'float32',\n",
       " 'nodata': 255,\n",
       " 'width': 134346,\n",
       " 'height': 109171,\n",
       " 'count': 1,\n",
       " 'crs': CRS.from_epsg(4326),\n",
       " 'transform': Affine(8.983152841193114e-05, 0.0, 2.6916220858073223,\n",
       "        0.0, -8.983152841193113e-05, 14.047584918475842)}"
      ]
     },
     "execution_count": 11,
     "metadata": {},
     "output_type": "execute_result"
    }
   ],
   "source": [
    "meta"
   ]
  },
  {
   "cell_type": "code",
   "execution_count": 12,
   "metadata": {},
   "outputs": [
    {
     "data": {
      "text/plain": [
       "'float32'"
      ]
     },
     "execution_count": 12,
     "metadata": {},
     "output_type": "execute_result"
    }
   ],
   "source": [
    "dtype = meta['dtype']\n",
    "dtype"
   ]
  },
  {
   "cell_type": "code",
   "execution_count": 14,
   "metadata": {},
   "outputs": [
    {
     "data": {
      "text/plain": [
       "PosixPath('../data/predictions/nigeria-cropharvest-full-country-2020/v4/combined_probability_float32.tif')"
      ]
     },
     "execution_count": 14,
     "metadata": {},
     "output_type": "execute_result"
    }
   ],
   "source": [
    "target_path = preds_dir / f'{base_filename}_probability_{dtype}.tif'\n",
    "target_path"
   ]
  },
  {
   "cell_type": "code",
   "execution_count": 15,
   "metadata": {},
   "outputs": [],
   "source": [
    "with rasterio.open(target_path, 'w', **meta) as dst:\n",
    "    dst.write(data, 1)"
   ]
  },
  {
   "cell_type": "markdown",
   "metadata": {},
   "source": [
    "\n",
    "Here we're only updating the no-data value to 255. Map size remains the same (55GB). When visualizing in QGIS, map doesn't have the cut!"
   ]
  },
  {
   "cell_type": "markdown",
   "metadata": {},
   "source": [
    "### Check 3: Make probability map without clipping or compression (but with casting to uint8) -> **OK, map doesn't have the cut**"
   ]
  },
  {
   "cell_type": "code",
   "execution_count": 2,
   "metadata": {},
   "outputs": [],
   "source": [
    "NODATA_VALUE = 255\n",
    "DTYPE = rasterio.uint8"
   ]
  },
  {
   "cell_type": "code",
   "execution_count": 3,
   "metadata": {},
   "outputs": [],
   "source": [
    "map_version = 4\n",
    "preds_dir = Path(f\"../data/predictions/nigeria-cropharvest-full-country-2020/v{map_version}\")\n",
    "base_filename = 'combined'\n",
    "tif_path = preds_dir / f'{base_filename}.tif'"
   ]
  },
  {
   "cell_type": "code",
   "execution_count": 4,
   "metadata": {},
   "outputs": [
    {
     "data": {
      "text/plain": [
       "({'driver': 'GTiff',\n",
       "  'dtype': 'float32',\n",
       "  'nodata': nan,\n",
       "  'width': 134346,\n",
       "  'height': 109171,\n",
       "  'count': 1,\n",
       "  'crs': CRS.from_epsg(4326),\n",
       "  'transform': Affine(8.983152841193114e-05, 0.0, 2.6916220858073223,\n",
       "         0.0, -8.983152841193113e-05, 14.047584918475842)},\n",
       " array([[0.41090655, 0.64520943, 0.6577012 , ..., 0.08016538, 0.0814566 ,\n",
       "         0.08545445],\n",
       "        [0.25899586, 0.35356057, 0.38515893, ..., 0.08041115, 0.07872102,\n",
       "         0.08439897],\n",
       "        [0.1724457 , 0.24476607, 0.28418174, ..., 0.08397247, 0.07885724,\n",
       "         0.08129588],\n",
       "        ...,\n",
       "        [       nan,        nan,        nan, ..., 0.00918175, 0.01175091,\n",
       "         0.488538  ],\n",
       "        [       nan,        nan,        nan, ..., 0.00550667, 0.00620588,\n",
       "         0.47301495],\n",
       "        [       nan,        nan,        nan, ..., 0.01732424, 0.04461752,\n",
       "         0.40613696]], dtype=float32))"
      ]
     },
     "execution_count": 4,
     "metadata": {},
     "output_type": "execute_result"
    }
   ],
   "source": [
    "with rasterio.open(tif_path) as map:\n",
    "    meta = map.meta\n",
    "    bounds = map.bounds\n",
    "    data = map.read(1)\n",
    "meta, data"
   ]
  },
  {
   "cell_type": "code",
   "execution_count": 5,
   "metadata": {},
   "outputs": [],
   "source": [
    "nan_mask = np.isnan(data)"
   ]
  },
  {
   "cell_type": "code",
   "execution_count": 6,
   "metadata": {},
   "outputs": [
    {
     "data": {
      "text/plain": [
       "array([[41.090656  , 64.52094   , 65.77012   , ...,  8.016538  ,\n",
       "         8.14566   ,  8.5454445 ],\n",
       "       [25.899586  , 35.356056  , 38.515892  , ...,  8.041115  ,\n",
       "         7.8721023 ,  8.439897  ],\n",
       "       [17.24457   , 24.476606  , 28.418175  , ...,  8.397247  ,\n",
       "         7.885724  ,  8.129588  ],\n",
       "       ...,\n",
       "       [        nan,         nan,         nan, ...,  0.91817516,\n",
       "         1.1750906 , 48.853798  ],\n",
       "       [        nan,         nan,         nan, ...,  0.55066675,\n",
       "         0.6205878 , 47.301495  ],\n",
       "       [        nan,         nan,         nan, ...,  1.7324237 ,\n",
       "         4.4617515 , 40.613697  ]], dtype=float32)"
      ]
     },
     "execution_count": 6,
     "metadata": {},
     "output_type": "execute_result"
    }
   ],
   "source": [
    "data = data * 100\n",
    "data"
   ]
  },
  {
   "cell_type": "code",
   "execution_count": 7,
   "metadata": {},
   "outputs": [
    {
     "data": {
      "text/plain": [
       "array([[41, 64, 65, ...,  8,  8,  8],\n",
       "       [25, 35, 38, ...,  8,  7,  8],\n",
       "       [17, 24, 28, ...,  8,  7,  8],\n",
       "       ...,\n",
       "       [ 0,  0,  0, ...,  0,  1, 48],\n",
       "       [ 0,  0,  0, ...,  0,  0, 47],\n",
       "       [ 0,  0,  0, ...,  1,  4, 40]], dtype=uint8)"
      ]
     },
     "execution_count": 7,
     "metadata": {},
     "output_type": "execute_result"
    }
   ],
   "source": [
    "data = data.astype(DTYPE)\n",
    "data"
   ]
  },
  {
   "cell_type": "code",
   "execution_count": 8,
   "metadata": {},
   "outputs": [],
   "source": [
    "nan_mask2 = np.isnan(data)"
   ]
  },
  {
   "cell_type": "code",
   "execution_count": 9,
   "metadata": {},
   "outputs": [
    {
     "data": {
      "text/plain": [
       "0"
      ]
     },
     "execution_count": 9,
     "metadata": {},
     "output_type": "execute_result"
    }
   ],
   "source": [
    "nan_mask2.sum() # 0 means no NaNs and that when doing data.astype(DTYPE) the NaNs were converted to 0s"
   ]
  },
  {
   "cell_type": "code",
   "execution_count": 10,
   "metadata": {},
   "outputs": [],
   "source": [
    "data[nan_mask] = NODATA_VALUE"
   ]
  },
  {
   "cell_type": "code",
   "execution_count": 11,
   "metadata": {},
   "outputs": [
    {
     "data": {
      "text/plain": [
       "array([[ 41,  64,  65, ...,   8,   8,   8],\n",
       "       [ 25,  35,  38, ...,   8,   7,   8],\n",
       "       [ 17,  24,  28, ...,   8,   7,   8],\n",
       "       ...,\n",
       "       [255, 255, 255, ...,   0,   1,  48],\n",
       "       [255, 255, 255, ...,   0,   0,  47],\n",
       "       [255, 255, 255, ...,   1,   4,  40]], dtype=uint8)"
      ]
     },
     "execution_count": 11,
     "metadata": {},
     "output_type": "execute_result"
    }
   ],
   "source": [
    "data"
   ]
  },
  {
   "cell_type": "code",
   "execution_count": 12,
   "metadata": {},
   "outputs": [
    {
     "data": {
      "text/plain": [
       "{'driver': 'GTiff',\n",
       " 'dtype': 'float32',\n",
       " 'nodata': nan,\n",
       " 'width': 134346,\n",
       " 'height': 109171,\n",
       " 'count': 1,\n",
       " 'crs': CRS.from_epsg(4326),\n",
       " 'transform': Affine(8.983152841193114e-05, 0.0, 2.6916220858073223,\n",
       "        0.0, -8.983152841193113e-05, 14.047584918475842)}"
      ]
     },
     "execution_count": 12,
     "metadata": {},
     "output_type": "execute_result"
    }
   ],
   "source": [
    "meta"
   ]
  },
  {
   "cell_type": "code",
   "execution_count": 13,
   "metadata": {},
   "outputs": [
    {
     "data": {
      "text/plain": [
       "{'driver': 'GTiff',\n",
       " 'dtype': 'uint8',\n",
       " 'nodata': 255,\n",
       " 'width': 134346,\n",
       " 'height': 109171,\n",
       " 'count': 1,\n",
       " 'crs': CRS.from_epsg(4326),\n",
       " 'transform': Affine(8.983152841193114e-05, 0.0, 2.6916220858073223,\n",
       "        0.0, -8.983152841193113e-05, 14.047584918475842)}"
      ]
     },
     "execution_count": 13,
     "metadata": {},
     "output_type": "execute_result"
    }
   ],
   "source": [
    "meta.update({'nodata': NODATA_VALUE, 'dtype': DTYPE})\n",
    "meta"
   ]
  },
  {
   "cell_type": "code",
   "execution_count": 14,
   "metadata": {},
   "outputs": [
    {
     "data": {
      "text/plain": [
       "'uint8'"
      ]
     },
     "execution_count": 14,
     "metadata": {},
     "output_type": "execute_result"
    }
   ],
   "source": [
    "dtype = meta['dtype']\n",
    "dtype"
   ]
  },
  {
   "cell_type": "code",
   "execution_count": 15,
   "metadata": {},
   "outputs": [
    {
     "data": {
      "text/plain": [
       "PosixPath('../data/predictions/nigeria-cropharvest-full-country-2020/v4/combined_probability_uint8.tif')"
      ]
     },
     "execution_count": 15,
     "metadata": {},
     "output_type": "execute_result"
    }
   ],
   "source": [
    "target_path = preds_dir / f'{base_filename}_probability_{dtype}.tif'\n",
    "target_path"
   ]
  },
  {
   "cell_type": "code",
   "execution_count": 16,
   "metadata": {},
   "outputs": [],
   "source": [
    "with rasterio.open(target_path, 'w', **meta) as dst:\n",
    "    dst.write(data, 1)"
   ]
  },
  {
   "cell_type": "markdown",
   "metadata": {},
   "source": [
    "### Check 4: check that no data values are mantained between raw predictions and probability map without compression. -> **OK**"
   ]
  },
  {
   "cell_type": "code",
   "execution_count": 4,
   "metadata": {},
   "outputs": [],
   "source": [
    "NODATA_VALUE = 255\n",
    "DTYPE = rasterio.uint8"
   ]
  },
  {
   "cell_type": "code",
   "execution_count": 5,
   "metadata": {},
   "outputs": [],
   "source": [
    "map_version = 4\n",
    "preds_dir = Path(f\"../data/predictions/nigeria-cropharvest-full-country-2020/v{map_version}\")\n",
    "base_filename = 'combined'\n",
    "tif_path = preds_dir / f'{base_filename}_probability_uint8.tif'"
   ]
  },
  {
   "cell_type": "code",
   "execution_count": 6,
   "metadata": {},
   "outputs": [
    {
     "data": {
      "text/plain": [
       "({'driver': 'GTiff',\n",
       "  'dtype': 'uint8',\n",
       "  'nodata': 255.0,\n",
       "  'width': 134346,\n",
       "  'height': 109171,\n",
       "  'count': 1,\n",
       "  'crs': CRS.from_epsg(4326),\n",
       "  'transform': Affine(8.983152841193114e-05, 0.0, 2.6916220858073223,\n",
       "         0.0, -8.983152841193113e-05, 14.047584918475842)},\n",
       " array([[ 41,  64,  65, ...,   8,   8,   8],\n",
       "        [ 25,  35,  38, ...,   8,   7,   8],\n",
       "        [ 17,  24,  28, ...,   8,   7,   8],\n",
       "        ...,\n",
       "        [255, 255, 255, ...,   0,   1,  48],\n",
       "        [255, 255, 255, ...,   0,   0,  47],\n",
       "        [255, 255, 255, ...,   1,   4,  40]], dtype=uint8))"
      ]
     },
     "execution_count": 6,
     "metadata": {},
     "output_type": "execute_result"
    }
   ],
   "source": [
    "with rasterio.open(tif_path) as map:\n",
    "    meta = map.meta\n",
    "    bounds = map.bounds\n",
    "    data = map.read(1)\n",
    "meta, data"
   ]
  },
  {
   "cell_type": "code",
   "execution_count": 10,
   "metadata": {},
   "outputs": [
    {
     "data": {
      "text/plain": [
       "255.0"
      ]
     },
     "execution_count": 10,
     "metadata": {},
     "output_type": "execute_result"
    }
   ],
   "source": [
    "nodata_value = meta['nodata']\n",
    "nodata_value"
   ]
  },
  {
   "cell_type": "code",
   "execution_count": 11,
   "metadata": {},
   "outputs": [
    {
     "data": {
      "text/plain": [
       "masked_array(\n",
       "  data=[[41, 64, 65, ..., 8, 8, 8],\n",
       "        [25, 35, 38, ..., 8, 7, 8],\n",
       "        [17, 24, 28, ..., 8, 7, 8],\n",
       "        ...,\n",
       "        [--, --, --, ..., 0, 1, 48],\n",
       "        [--, --, --, ..., 0, 0, 47],\n",
       "        [--, --, --, ..., 1, 4, 40]],\n",
       "  mask=[[False, False, False, ..., False, False, False],\n",
       "        [False, False, False, ..., False, False, False],\n",
       "        [False, False, False, ..., False, False, False],\n",
       "        ...,\n",
       "        [ True,  True,  True, ..., False, False, False],\n",
       "        [ True,  True,  True, ..., False, False, False],\n",
       "        [ True,  True,  True, ..., False, False, False]],\n",
       "  fill_value=999999,\n",
       "  dtype=uint8)"
      ]
     },
     "execution_count": 11,
     "metadata": {},
     "output_type": "execute_result"
    }
   ],
   "source": [
    "arr = np.ma.array(data, mask=(data == int(nodata_value)))\n",
    "arr"
   ]
  },
  {
   "cell_type": "code",
   "execution_count": 12,
   "metadata": {},
   "outputs": [
    {
     "data": {
      "text/plain": [
       "array([[False, False, False, ..., False, False, False],\n",
       "       [False, False, False, ..., False, False, False],\n",
       "       [False, False, False, ..., False, False, False],\n",
       "       ...,\n",
       "       [ True,  True,  True, ..., False, False, False],\n",
       "       [ True,  True,  True, ..., False, False, False],\n",
       "       [ True,  True,  True, ..., False, False, False]])"
      ]
     },
     "execution_count": 12,
     "metadata": {},
     "output_type": "execute_result"
    }
   ],
   "source": [
    "arr.mask"
   ]
  },
  {
   "cell_type": "markdown",
   "metadata": {},
   "source": [
    "Load tif with original predictions"
   ]
  },
  {
   "cell_type": "code",
   "execution_count": 20,
   "metadata": {},
   "outputs": [
    {
     "data": {
      "text/plain": [
       "PosixPath('../data/predictions/nigeria-cropharvest-full-country-2020/v4/combined.tif')"
      ]
     },
     "execution_count": 20,
     "metadata": {},
     "output_type": "execute_result"
    }
   ],
   "source": [
    "tif_path = preds_dir / f'{base_filename}.tif'\n",
    "tif_path"
   ]
  },
  {
   "cell_type": "code",
   "execution_count": 19,
   "metadata": {},
   "outputs": [
    {
     "data": {
      "text/plain": [
       "({'driver': 'GTiff',\n",
       "  'dtype': 'float32',\n",
       "  'nodata': nan,\n",
       "  'width': 134346,\n",
       "  'height': 109171,\n",
       "  'count': 1,\n",
       "  'crs': CRS.from_epsg(4326),\n",
       "  'transform': Affine(8.983152841193114e-05, 0.0, 2.6916220858073223,\n",
       "         0.0, -8.983152841193113e-05, 14.047584918475842)},\n",
       " array([[0.41090655, 0.64520943, 0.6577012 , ..., 0.08016538, 0.0814566 ,\n",
       "         0.08545445],\n",
       "        [0.25899586, 0.35356057, 0.38515893, ..., 0.08041115, 0.07872102,\n",
       "         0.08439897],\n",
       "        [0.1724457 , 0.24476607, 0.28418174, ..., 0.08397247, 0.07885724,\n",
       "         0.08129588],\n",
       "        ...,\n",
       "        [       nan,        nan,        nan, ..., 0.00918175, 0.01175091,\n",
       "         0.488538  ],\n",
       "        [       nan,        nan,        nan, ..., 0.00550667, 0.00620588,\n",
       "         0.47301495],\n",
       "        [       nan,        nan,        nan, ..., 0.01732424, 0.04461752,\n",
       "         0.40613696]], dtype=float32))"
      ]
     },
     "execution_count": 19,
     "metadata": {},
     "output_type": "execute_result"
    }
   ],
   "source": [
    "with rasterio.open(tif_path) as map:\n",
    "    meta = map.meta\n",
    "    bounds = map.bounds\n",
    "    data = map.read(1)\n",
    "meta, data"
   ]
  },
  {
   "cell_type": "code",
   "execution_count": 21,
   "metadata": {},
   "outputs": [],
   "source": [
    "nan_mask = np.isnan(data)"
   ]
  },
  {
   "cell_type": "code",
   "execution_count": 22,
   "metadata": {},
   "outputs": [
    {
     "data": {
      "text/plain": [
       "array([[False, False, False, ..., False, False, False],\n",
       "       [False, False, False, ..., False, False, False],\n",
       "       [False, False, False, ..., False, False, False],\n",
       "       ...,\n",
       "       [ True,  True,  True, ..., False, False, False],\n",
       "       [ True,  True,  True, ..., False, False, False],\n",
       "       [ True,  True,  True, ..., False, False, False]])"
      ]
     },
     "execution_count": 22,
     "metadata": {},
     "output_type": "execute_result"
    }
   ],
   "source": [
    "nan_mask"
   ]
  },
  {
   "cell_type": "code",
   "execution_count": 23,
   "metadata": {},
   "outputs": [],
   "source": [
    "binary_nans_comparison = nan_mask == arr.mask"
   ]
  },
  {
   "cell_type": "code",
   "execution_count": 24,
   "metadata": {},
   "outputs": [
    {
     "data": {
      "text/plain": [
       "True"
      ]
     },
     "execution_count": 24,
     "metadata": {},
     "output_type": "execute_result"
    }
   ],
   "source": [
    "all(binary_nans_comparison.flatten())"
   ]
  },
  {
   "cell_type": "markdown",
   "metadata": {},
   "source": [
    "### Check 5: Make probability map without compression but with clipping -> **OK, clipped probability map finally looks good. Issue was compression**"
   ]
  },
  {
   "cell_type": "code",
   "execution_count": 4,
   "metadata": {},
   "outputs": [
    {
     "data": {
      "image/svg+xml": [
       "<svg xmlns=\"http://www.w3.org/2000/svg\" xmlns:xlink=\"http://www.w3.org/1999/xlink\" width=\"100.0\" height=\"100.0\" viewBox=\"2.2083906249999994 3.799748046874988 12.896402343750012 10.550748046875015\" preserveAspectRatio=\"xMinYMin meet\"><g transform=\"matrix(1,0,0,-1,0,18.15024414062499)\"><g><path fill-rule=\"evenodd\" fill=\"#66cc99\" stroke=\"#555555\" stroke-width=\"0.25792804687500026\" opacity=\"0.6\" d=\"M 7.30078125,4.418164062499997 L 7.203906250000017,4.387646484374997 L 7.140429687500017,4.3951171874999915 L 7.227343750000017,4.52734375 L 7.271386718750023,4.498925781249994 L 7.327929687500017,4.487207031249994 L 7.30078125,4.418164062499997 z\" /><path fill-rule=\"evenodd\" fill=\"#66cc99\" stroke=\"#555555\" stroke-width=\"0.25792804687500026\" opacity=\"0.6\" d=\"M 13.606347656250023,13.70458984375 L 13.763476562500017,13.489550781250003 L 13.932324218750011,13.258496093749997 L 14.06396484375,13.078515624999994 L 14.160058593750023,12.61279296875 L 14.170312500000023,12.524072265624994 L 14.177636718750023,12.484082031249997 L 14.184863281250017,12.447216796874997 L 14.197460937500011,12.3837890625 L 14.272851562500023,12.356494140624989 L 14.415429687500023,12.344140624999994 L 14.518945312500023,12.298242187499994 L 14.580957031250023,12.222070312499994 L 14.587011718750006,12.209423828124997 L 14.619726562500006,12.150976562499991 L 14.627148437500011,12.108691406249989 L 14.6181640625,11.986621093749989 L 14.597363281250011,11.829833984375 L 14.561816406250017,11.728710937499997 L 14.581640625000006,11.591162109374991 L 14.575390625000011,11.532421874999997 L 14.559765625000011,11.492285156249991 L 14.49609375,11.446142578124991 L 14.409472656250017,11.401171874999989 L 14.202343750000011,11.268164062499991 L 14.143261718750011,11.24853515625 L 14.056738281250006,11.245019531249994 L 13.9814453125,11.211865234374997 L 13.89208984375,11.140087890624997 L 13.699902343750011,10.873144531249991 L 13.535351562500011,10.605078124999991 L 13.478515625,10.383251953124997 L 13.41455078125,10.171435546874989 L 13.269921875000023,10.036181640624989 L 13.249804687500017,9.960058593749991 L 13.243750000000006,9.915917968749994 L 13.23876953125,9.814013671874989 L 13.22119140625,9.645166015624994 L 13.19873046875,9.563769531249989 L 13.175488281250011,9.539648437499991 L 13.019433593750023,9.488330078124989 L 12.929492187500017,9.42626953125 L 12.875683593750011,9.303515624999989 L 12.85595703125,9.170751953124991 L 12.824414062500011,9.019433593749994 L 12.806542968750023,8.886621093749994 L 12.7822265625,8.81787109375 L 12.731152343750011,8.745654296874989 L 12.651562500000011,8.667773437499989 L 12.582714843750011,8.624121093749991 L 12.403515625000011,8.595556640624991 L 12.311328125000017,8.419726562499989 L 12.2333984375,8.282324218749991 L 12.231152343750011,8.227392578124991 L 12.155957031250011,7.9424804687499915 L 12.025195312500017,7.727783203125 L 12.0166015625,7.652001953124994 L 12.016015625000023,7.589746093749994 L 11.852441406250023,7.4007324218749915 L 11.809179687500006,7.3450683593749915 L 11.767382812500017,7.272265624999989 L 11.80859375,7.201953124999989 L 11.854785156250017,7.137988281249989 L 11.861425781250006,7.116406249999997 L 11.787011718750023,7.056201171874989 L 11.657519531250017,6.951562499999994 L 11.580078125,6.888867187499997 L 11.56298828125,6.854638671874994 L 11.551660156250023,6.697265625 L 11.529101562500017,6.655029296875 L 11.4775390625,6.597412109375 L 11.401757812500023,6.533935546875 L 11.324609375000023,6.484667968749989 L 11.2373046875,6.4505371093749915 L 11.1533203125,6.437939453124997 L 11.1064453125,6.457714843749997 L 11.079687500000006,6.505517578124994 L 11.032519531250017,6.697900390624994 L 11.008691406250023,6.7391113281249915 L 10.954199218750006,6.776562499999997 L 10.846484375000017,6.881787109374997 L 10.737597656250017,6.98828125 L 10.606250000000017,7.0630859374999915 L 10.578125,7.0577148437499915 L 10.556347656250011,7.0374511718749915 L 10.51904296875,6.930468749999989 L 10.482324218750023,6.891259765624994 L 10.413183593750006,6.877734374999989 L 10.293066406250006,6.876757812499989 L 10.205468750000023,6.8916015625 L 10.185546875,6.912792968749997 L 10.167773437500017,6.959179687499997 L 10.1435546875,6.9964355468749915 L 10.038867187500017,6.92138671875 L 9.874218750000011,6.803271484374989 L 9.820703125000023,6.783935546875 L 9.779882812500006,6.760156249999994 L 9.7255859375,6.6499999999999915 L 9.659960937500017,6.531982421875 L 9.574023437500017,6.470410156249997 L 9.490234375,6.418652343749997 L 9.442187500000017,6.3733886718749915 L 9.373339843750017,6.319628906249989 L 9.23876953125,6.1861328124999915 L 9.060156250000006,6.009082031249989 L 8.997167968750006,5.917724609375 L 8.93505859375,5.781005859375 L 8.898828125000023,5.629687499999989 L 8.859179687500017,5.463769531249994 L 8.800976562500011,5.197460937499997 L 8.715625000000017,5.046875 L 8.640527343750023,4.927001953125 L 8.585156250000011,4.832812499999989 L 8.555859375000011,4.7552246093749915 L 8.543750000000017,4.7578125 L 8.514843750000011,4.7247070312499915 L 8.431347656250011,4.746240234374994 L 8.393652343750006,4.813769531249989 L 8.342089843750017,4.824755859374989 L 8.252734375000017,4.923974609374994 L 8.233789062500023,4.907470703125 L 8.328027343750023,4.6561035156249915 L 8.293066406250006,4.5576171875 L 8.028515625000011,4.555371093749997 L 7.80078125,4.522265624999989 L 7.644238281250011,4.525341796874997 L 7.565625000000011,4.560937499999994 L 7.53076171875,4.655175781249994 L 7.517382812500017,4.645458984374997 L 7.509472656250011,4.594921874999997 L 7.459863281250023,4.555224609374989 L 7.284375000000011,4.547656249999989 L 7.206738281250011,4.612060546875 L 7.143847656250017,4.68408203125 L 7.076562500000023,4.7161621093749915 L 7.0869140625,4.685839843749989 L 7.164160156250006,4.6155761718749915 L 7.154687500000023,4.514404296875 L 7.013378906250011,4.3973144531249915 L 6.923242187500023,4.390673828124989 L 6.867871093750011,4.441113281249997 L 6.839160156250017,4.523486328124989 L 6.82470703125,4.645263671875 L 6.78759765625,4.7247070312499915 L 6.767675781250006,4.7247070312499915 L 6.786035156250023,4.652001953124994 L 6.792187500000011,4.5926269531249915 L 6.793066406250006,4.469140624999994 L 6.8603515625,4.373339843749989 L 6.757031250000011,4.343554687499989 L 6.715136718750017,4.342431640624994 L 6.633007812500011,4.340234374999994 L 6.617285156250006,4.375781249999989 L 6.6015625,4.4551757812499915 L 6.579980468750023,4.475976562499994 L 6.554589843750023,4.3414062499999915 L 6.5,4.331933593749994 L 6.462109375000011,4.333154296874994 L 6.2998046875,4.303857421874994 L 6.263671875,4.3094238281249915 L 6.255957031250006,4.33447265625 L 6.275292968750023,4.3716796874999915 L 6.27099609375,4.43212890625 L 6.214648437500017,4.385498046875 L 6.20556640625,4.292285156249989 L 6.17333984375,4.277392578124989 L 6.076562500000023,4.2906249999999915 L 5.970703125,4.338574218749997 L 5.906445312500011,4.387744140624989 L 5.798632812500017,4.455957031249994 L 5.587792968750023,4.647216796875 L 5.553613281250023,4.733203124999989 L 5.493261718750006,4.838769531249994 L 5.448144531250023,4.945849609374989 L 5.38330078125,5.1290039062499915 L 5.403222656250023,5.142285156249997 L 5.4521484375,5.1265624999999915 L 5.475976562500023,5.153857421874989 L 5.388281250000006,5.173779296874997 L 5.370019531250023,5.195019531249997 L 5.364160156250023,5.25927734375 L 5.367968750000017,5.3377441406249915 L 5.439257812500017,5.3653320312499915 L 5.500878906250023,5.378613281249997 L 5.531835937500006,5.4263671874999915 L 5.549707031250023,5.4742187499999915 L 5.385839843750006,5.401757812499994 L 5.232421875,5.483789062499994 L 5.19921875,5.5335449218749915 L 5.2158203125,5.571679687499994 L 5.2890625,5.5774902343749915 L 5.393847656250017,5.574511718749989 L 5.456640625000006,5.611718749999994 L 5.418066406250006,5.624707031249997 L 5.350292968750011,5.623291015625 L 5.325292968750006,5.64794921875 L 5.327343750000011,5.70751953125 L 5.305371093750011,5.6943359375 L 5.276269531250023,5.641552734374997 L 5.1728515625,5.602734374999997 L 5.112402343750006,5.641552734374997 L 5.106250000000017,5.7281249999999915 L 5.093066406250017,5.76708984375 L 5.042089843750006,5.797509765624994 L 4.861035156250011,6.026318359374997 L 4.633593750000017,6.217187499999994 L 4.431347656250011,6.348583984374997 L 4.125878906250023,6.411376953125 L 3.486621093750017,6.408935546875 L 3.4507812500000057,6.427050781249989 L 3.4899414062500114,6.457275390625 L 3.5460937500000114,6.477441406249994 L 3.7516601562500114,6.5838378906249915 L 3.7169921875000114,6.597949218749989 L 3.5033203125000227,6.5313476562499915 L 3.43017578125,6.5249999999999915 L 3.3355468750000057,6.396923828124997 L 2.7724609375,6.375732421875 L 2.7064453125000227,6.3692382812499915 L 2.7080078125,6.427685546874997 L 2.735644531250017,6.595703125 L 2.753710937500017,6.661767578124994 L 2.7746093750000114,6.711718749999989 L 2.7529296875,6.771630859374994 L 2.731738281250017,6.852832031249989 L 2.7213867187500114,6.980273437499989 L 2.7477539062500114,7.019824218749989 L 2.7567382812500227,7.067919921874989 L 2.7505859375000057,7.143212890624994 L 2.75048828125,7.395068359374989 L 2.7658203125000114,7.422509765624994 L 2.783984375000017,7.443408203124989 L 2.78515625,7.476855468749989 L 2.7509765625,7.541894531249994 L 2.7193359375000057,7.616259765624989 L 2.7204101562500114,7.723095703124997 L 2.7077148437500114,7.826611328124997 L 2.68603515625,7.873730468749997 L 2.7023437500000114,8.0498046875 L 2.7115234375000057,8.272998046874989 L 2.703125,8.371826171875 L 2.7236328125,8.44189453125 L 2.734667968750017,8.614013671875 L 2.73291015625,8.782519531249989 L 2.7748046875000227,9.048535156249997 L 2.8980468750000057,9.061376953124991 L 3.044921875,9.083837890624991 L 3.1104492187500057,9.188281249999989 L 3.1480468750000057,9.320605468749989 L 3.1361328125000227,9.451611328124997 L 3.1646484375000057,9.494677734374989 L 3.223437500000017,9.565624999999997 L 3.3294921875000227,9.667041015624989 L 3.3251953125,9.778466796874994 L 3.3544921875,9.812792968749989 L 3.40478515625,9.838623046875 L 3.4767578125000114,9.851904296874991 L 3.5572265625000057,9.907324218749991 L 3.60205078125,10.004541015624994 L 3.6458984375000227,10.16015625 L 3.5765625000000227,10.268359374999989 L 3.577929687500017,10.29248046875 L 3.6041015625000057,10.350683593749991 L 3.6465820312500057,10.408984374999989 L 3.6802734375000057,10.427783203124989 L 3.7584960937500114,10.412695312499991 L 3.771777343750017,10.417626953124994 L 3.7837890625000057,10.435888671874991 L 3.83447265625,10.607421875 L 3.8296875000000057,10.653759765624997 L 3.7568359375,10.768749999999997 L 3.744921875000017,10.850439453124991 L 3.734179687500017,10.971923828125 L 3.7164062500000057,11.07958984375 L 3.6953125,11.120312499999997 L 3.65625,11.154589843749989 L 3.6388671875000114,11.176855468749991 L 3.48779296875,11.395410156249994 L 3.490527343750017,11.499218749999997 L 3.5539062500000114,11.631884765624989 L 3.5954101562500114,11.6962890625 L 3.653125000000017,11.731835937499994 L 3.6647460937500114,11.762451171875 L 3.6473632812500227,11.799658203124991 L 3.618457031250017,11.827734374999991 L 3.61181640625,11.887304687499991 L 3.6201171875,11.926953124999997 L 3.640625,11.970361328124994 L 3.6325195312500114,12.061572265624989 L 3.6341796875000227,12.201611328124997 L 3.643847656250017,12.4052734375 L 3.6466796875000114,12.529980468749997 L 3.7692382812500114,12.622167968749991 L 3.9478515625000057,12.775048828124994 L 4.038769531250011,12.934667968749991 L 4.08740234375,13.055468749999989 L 4.147558593750006,13.457714843749997 L 4.190820312500023,13.482128906249997 L 4.2421875,13.501074218749991 L 4.42138671875,13.647509765625003 L 4.559472656250023,13.701806640624994 L 4.664843750000017,13.733203125000003 L 4.823339843750006,13.759765625 L 4.921679687500017,13.749121093749991 L 5.100878906250017,13.742724609375003 L 5.241894531250011,13.757226562499994 L 5.361621093750017,13.836865234374997 L 5.415820312500017,13.859179687500003 L 5.491992187500017,13.872851562500003 L 5.838183593750017,13.765380859375 L 6.184277343750011,13.663671874999991 L 6.247167968750006,13.672998046874994 L 6.2998046875,13.658789062499991 L 6.386328125000006,13.603613281249991 L 6.514062500000023,13.485400390625003 L 6.589941406250006,13.409130859374997 L 6.626562500000006,13.3642578125 L 6.804296875000006,13.107666015625 L 6.87060546875,13.043261718749989 L 6.937207031250011,13.008203124999994 L 7.005078125000011,12.995556640624997 L 7.056738281250006,13.000195312499997 L 7.106054687500006,13.029101562499989 L 7.173046875000011,13.086328124999994 L 7.274707031250017,13.112255859374997 L 7.357812500000023,13.107177734375 L 7.788671875000006,13.337890625 L 7.830468750000023,13.340917968749991 L 7.955761718750011,13.32275390625 L 8.095019531250017,13.291162109374994 L 8.4560546875,13.059667968749991 L 8.750585937500006,12.908154296874997 L 8.957617187500006,12.857470703124989 L 9.201562500000023,12.821484374999997 L 9.615917968750011,12.810644531249991 L 9.929296875000006,13.13525390625 L 10.045117187500011,13.206152343749991 L 10.184667968750006,13.270117187499991 L 10.229589843750006,13.281005859375 L 10.475878906250017,13.330224609374994 L 10.958886718750023,13.371533203124997 L 11.411914062500017,13.353613281249991 L 11.501074218750006,13.340527343749997 L 11.693359375,13.297705078124991 L 11.990039062500017,13.191796874999994 L 12.117968750000017,13.090429687499991 L 12.319042968750011,13.073681640624997 L 12.463183593750017,13.09375 L 12.510156250000023,13.1943359375 L 12.65478515625,13.326562499999994 L 12.759960937500011,13.38037109375 L 12.871679687500006,13.449023437500003 L 13.048437500000006,13.534521484374991 L 13.19384765625,13.573046875000003 L 13.323828125000006,13.670849609374997 L 13.426953125000011,13.701757812499991 L 13.606347656250023,13.70458984375 z\" /></g></g></svg>"
      ],
      "text/plain": [
       "<shapely.geometry.multipolygon.MultiPolygon at 0x7f10ff40ded0>"
      ]
     },
     "execution_count": 4,
     "metadata": {},
     "output_type": "execute_result"
    }
   ],
   "source": [
    "borders_file = gpd.read_file(Path('../assets/nigeria_borders.shp'))\n",
    "borders_geometry = borders_file.geometry[0]\n",
    "borders_geometry"
   ]
  },
  {
   "cell_type": "code",
   "execution_count": 5,
   "metadata": {},
   "outputs": [
    {
     "data": {
      "text/plain": [
       "[<shapely.geometry.polygon.Polygon at 0x7f10fe95e250>,\n",
       " <shapely.geometry.polygon.Polygon at 0x7f10fe95e050>]"
      ]
     },
     "execution_count": 5,
     "metadata": {},
     "output_type": "execute_result"
    }
   ],
   "source": [
    "[geom for geom in borders_geometry.geoms]"
   ]
  },
  {
   "cell_type": "code",
   "execution_count": 6,
   "metadata": {},
   "outputs": [],
   "source": [
    "NODATA_VALUE = 255\n",
    "DTYPE = rasterio.uint8"
   ]
  },
  {
   "cell_type": "code",
   "execution_count": 7,
   "metadata": {},
   "outputs": [
    {
     "data": {
      "text/plain": [
       "PosixPath('../data/predictions/nigeria-cropharvest-full-country-2020/v4/combined_probability_uint8.tif')"
      ]
     },
     "execution_count": 7,
     "metadata": {},
     "output_type": "execute_result"
    }
   ],
   "source": [
    "map_version = 4\n",
    "preds_dir = Path(f\"../data/predictions/nigeria-cropharvest-full-country-2020/v{map_version}\")\n",
    "base_filename = 'combined'\n",
    "tif_path = preds_dir / f'{base_filename}_probability_uint8.tif'\n",
    "tif_path"
   ]
  },
  {
   "cell_type": "code",
   "execution_count": 8,
   "metadata": {},
   "outputs": [
    {
     "name": "stderr",
     "output_type": "stream",
     "text": [
      "/mnt/Data/jgajardo/miniconda3/envs/nigeria-crop-mask-gpu3/lib/python3.7/site-packages/rasterio/features.py:441: ShapelyDeprecationWarning: Iteration over multi-part geometries is deprecated and will be removed in Shapely 2.0. Use the `geoms` property to access the constituent parts of a multi-part geometry.\n",
      "  all_bounds = [bounds(shape, transform=~dataset.transform) for shape in shapes]\n",
      "/mnt/Data/jgajardo/miniconda3/envs/nigeria-crop-mask-gpu3/lib/python3.7/site-packages/rasterio/features.py:284: ShapelyDeprecationWarning: Iteration over multi-part geometries is deprecated and will be removed in Shapely 2.0. Use the `geoms` property to access the constituent parts of a multi-part geometry.\n",
      "  for index, item in enumerate(shapes):\n"
     ]
    },
    {
     "data": {
      "text/plain": [
       "({'driver': 'GTiff',\n",
       "  'dtype': 'uint8',\n",
       "  'nodata': 255.0,\n",
       "  'width': 134346,\n",
       "  'height': 109171,\n",
       "  'count': 1,\n",
       "  'crs': CRS.from_epsg(4326),\n",
       "  'transform': Affine(8.983152841193114e-05, 0.0, 2.6916220858073223,\n",
       "         0.0, -8.983152841193113e-05, 14.047584918475842)},\n",
       " array([[[255, 255, 255, ..., 255, 255, 255],\n",
       "         [255, 255, 255, ..., 255, 255, 255],\n",
       "         [255, 255, 255, ..., 255, 255, 255],\n",
       "         ...,\n",
       "         [255, 255, 255, ..., 255, 255, 255],\n",
       "         [255, 255, 255, ..., 255, 255, 255],\n",
       "         [255, 255, 255, ..., 255, 255, 255]]], dtype=uint8),\n",
       " Affine(8.983152841193114e-05, 0.0, 2.6916220858073223,\n",
       "        0.0, -8.983152841193113e-05, 13.872862595714636))"
      ]
     },
     "execution_count": 8,
     "metadata": {},
     "output_type": "execute_result"
    }
   ],
   "source": [
    "with rasterio.open(tif_path) as src:\n",
    "    meta = src.meta\n",
    "    data, transform = mask(src, borders_geometry, crop=True, all_touched=True, nodata=NODATA_VALUE)\n",
    "meta, data, transform"
   ]
  },
  {
   "cell_type": "code",
   "execution_count": 9,
   "metadata": {},
   "outputs": [
    {
     "data": {
      "text/plain": [
       "255.0"
      ]
     },
     "execution_count": 9,
     "metadata": {},
     "output_type": "execute_result"
    }
   ],
   "source": [
    "nodata_value = meta['nodata']\n",
    "nodata_value"
   ]
  },
  {
   "cell_type": "code",
   "execution_count": 10,
   "metadata": {},
   "outputs": [
    {
     "data": {
      "text/plain": [
       "masked_array(\n",
       "  data=[[[--, --, --, ..., --, --, --],\n",
       "         [--, --, --, ..., --, --, --],\n",
       "         [--, --, --, ..., --, --, --],\n",
       "         ...,\n",
       "         [--, --, --, ..., --, --, --],\n",
       "         [--, --, --, ..., --, --, --],\n",
       "         [--, --, --, ..., --, --, --]]],\n",
       "  mask=[[[ True,  True,  True, ...,  True,  True,  True],\n",
       "         [ True,  True,  True, ...,  True,  True,  True],\n",
       "         [ True,  True,  True, ...,  True,  True,  True],\n",
       "         ...,\n",
       "         [ True,  True,  True, ...,  True,  True,  True],\n",
       "         [ True,  True,  True, ...,  True,  True,  True],\n",
       "         [ True,  True,  True, ...,  True,  True,  True]]],\n",
       "  fill_value=999999,\n",
       "  dtype=uint8)"
      ]
     },
     "execution_count": 10,
     "metadata": {},
     "output_type": "execute_result"
    }
   ],
   "source": [
    "arr = np.ma.array(data, mask=(data == int(nodata_value)))\n",
    "arr"
   ]
  },
  {
   "cell_type": "code",
   "execution_count": 14,
   "metadata": {},
   "outputs": [
    {
     "data": {
      "text/plain": [
       "0.3477281886136159"
      ]
     },
     "execution_count": 14,
     "metadata": {},
     "output_type": "execute_result"
    }
   ],
   "source": [
    "arr.mask.sum() / arr.mask.size"
   ]
  },
  {
   "cell_type": "code",
   "execution_count": 15,
   "metadata": {},
   "outputs": [
    {
     "data": {
      "text/plain": [
       "{'driver': 'GTiff',\n",
       " 'dtype': 'uint8',\n",
       " 'nodata': 255.0,\n",
       " 'width': 134346,\n",
       " 'height': 109171,\n",
       " 'count': 1,\n",
       " 'crs': CRS.from_epsg(4326),\n",
       " 'transform': Affine(8.983152841193114e-05, 0.0, 2.6916220858073223,\n",
       "        0.0, -8.983152841193113e-05, 14.047584918475842)}"
      ]
     },
     "execution_count": 15,
     "metadata": {},
     "output_type": "execute_result"
    }
   ],
   "source": [
    "meta"
   ]
  },
  {
   "cell_type": "code",
   "execution_count": 17,
   "metadata": {},
   "outputs": [
    {
     "data": {
      "text/plain": [
       "array([[255, 255, 255, ..., 255, 255, 255],\n",
       "       [255, 255, 255, ..., 255, 255, 255],\n",
       "       [255, 255, 255, ..., 255, 255, 255],\n",
       "       ...,\n",
       "       [255, 255, 255, ..., 255, 255, 255],\n",
       "       [255, 255, 255, ..., 255, 255, 255],\n",
       "       [255, 255, 255, ..., 255, 255, 255]], dtype=uint8)"
      ]
     },
     "execution_count": 17,
     "metadata": {},
     "output_type": "execute_result"
    }
   ],
   "source": [
    "data = np.squeeze(data) # seems to save space in the final tif\n",
    "data"
   ]
  },
  {
   "cell_type": "code",
   "execution_count": 18,
   "metadata": {},
   "outputs": [
    {
     "data": {
      "text/plain": [
       "{'driver': 'GTiff',\n",
       " 'dtype': 'uint8',\n",
       " 'nodata': 255.0,\n",
       " 'width': 132866,\n",
       " 'height': 106817,\n",
       " 'count': 1,\n",
       " 'crs': CRS.from_epsg(4326),\n",
       " 'transform': Affine(8.983152841193114e-05, 0.0, 2.6916220858073223,\n",
       "        0.0, -8.983152841193113e-05, 13.872862595714636)}"
      ]
     },
     "execution_count": 18,
     "metadata": {},
     "output_type": "execute_result"
    }
   ],
   "source": [
    "meta.update({\n",
    "        \"height\": data.shape[0],\n",
    "        \"width\": data.shape[1],\n",
    "        \"transform\": transform\n",
    "        })\n",
    "meta"
   ]
  },
  {
   "cell_type": "code",
   "execution_count": 19,
   "metadata": {},
   "outputs": [
    {
     "data": {
      "text/plain": [
       "PosixPath('../data/predictions/nigeria-cropharvest-full-country-2020/v4/combined_probability_uint8_clipped.tif')"
      ]
     },
     "execution_count": 19,
     "metadata": {},
     "output_type": "execute_result"
    }
   ],
   "source": [
    "final_tif_path = Path(str(tif_path).replace('.tif', '_clipped.tif'))\n",
    "final_tif_path"
   ]
  },
  {
   "cell_type": "code",
   "execution_count": 20,
   "metadata": {},
   "outputs": [],
   "source": [
    "with rasterio.open(final_tif_path, \"w\", **meta) as dst:\n",
    "        dst.write(data, 1)"
   ]
  },
  {
   "cell_type": "markdown",
   "metadata": {},
   "source": [
    "### Check 6: check that final probability and binary maps have the same missing values. -> **OK**"
   ]
  },
  {
   "cell_type": "code",
   "execution_count": null,
   "metadata": {},
   "outputs": [],
   "source": [
    "NODATA_VALUE = 255\n",
    "DTYPE = rasterio.uint8"
   ]
  },
  {
   "cell_type": "code",
   "execution_count": 21,
   "metadata": {},
   "outputs": [],
   "source": [
    "map_version = 4\n",
    "preds_dir = Path(f\"../data/predictions/nigeria-cropharvest-full-country-2020/v{map_version}\")\n",
    "base_filename = 'combined'\n",
    "binary_map = preds_dir / f'{base_filename}_binary_uint8_lzw_clipped.tif'\n",
    "prob_map = preds_dir / f'{base_filename}_probability_uint8_clipped.tif'"
   ]
  },
  {
   "cell_type": "code",
   "execution_count": 22,
   "metadata": {},
   "outputs": [
    {
     "data": {
      "text/plain": [
       "({'driver': 'GTiff',\n",
       "  'dtype': 'uint8',\n",
       "  'nodata': 255.0,\n",
       "  'width': 132866,\n",
       "  'height': 106817,\n",
       "  'count': 1,\n",
       "  'crs': CRS.from_epsg(4326),\n",
       "  'transform': Affine(8.983152841193114e-05, 0.0, 2.6916220858073223,\n",
       "         0.0, -8.983152841193113e-05, 13.872862595714636)},\n",
       " array([[255, 255, 255, ..., 255, 255, 255],\n",
       "        [255, 255, 255, ..., 255, 255, 255],\n",
       "        [255, 255, 255, ..., 255, 255, 255],\n",
       "        ...,\n",
       "        [255, 255, 255, ..., 255, 255, 255],\n",
       "        [255, 255, 255, ..., 255, 255, 255],\n",
       "        [255, 255, 255, ..., 255, 255, 255]], dtype=uint8))"
      ]
     },
     "execution_count": 22,
     "metadata": {},
     "output_type": "execute_result"
    }
   ],
   "source": [
    "with rasterio.open(binary_map) as map:\n",
    "    meta = map.meta\n",
    "    data = map.read(1)\n",
    "meta, data"
   ]
  },
  {
   "cell_type": "code",
   "execution_count": 23,
   "metadata": {},
   "outputs": [
    {
     "data": {
      "text/plain": [
       "255.0"
      ]
     },
     "execution_count": 23,
     "metadata": {},
     "output_type": "execute_result"
    }
   ],
   "source": [
    "nodata_value = meta['nodata']\n",
    "nodata_value"
   ]
  },
  {
   "cell_type": "code",
   "execution_count": 24,
   "metadata": {},
   "outputs": [
    {
     "data": {
      "text/plain": [
       "masked_array(\n",
       "  data=[[--, --, --, ..., --, --, --],\n",
       "        [--, --, --, ..., --, --, --],\n",
       "        [--, --, --, ..., --, --, --],\n",
       "        ...,\n",
       "        [--, --, --, ..., --, --, --],\n",
       "        [--, --, --, ..., --, --, --],\n",
       "        [--, --, --, ..., --, --, --]],\n",
       "  mask=[[ True,  True,  True, ...,  True,  True,  True],\n",
       "        [ True,  True,  True, ...,  True,  True,  True],\n",
       "        [ True,  True,  True, ...,  True,  True,  True],\n",
       "        ...,\n",
       "        [ True,  True,  True, ...,  True,  True,  True],\n",
       "        [ True,  True,  True, ...,  True,  True,  True],\n",
       "        [ True,  True,  True, ...,  True,  True,  True]],\n",
       "  fill_value=999999,\n",
       "  dtype=uint8)"
      ]
     },
     "execution_count": 24,
     "metadata": {},
     "output_type": "execute_result"
    }
   ],
   "source": [
    "arr1 = np.ma.array(data, mask=(data == int(nodata_value)))\n",
    "arr1"
   ]
  },
  {
   "cell_type": "code",
   "execution_count": 25,
   "metadata": {},
   "outputs": [
    {
     "data": {
      "text/plain": [
       "array([[ True,  True,  True, ...,  True,  True,  True],\n",
       "       [ True,  True,  True, ...,  True,  True,  True],\n",
       "       [ True,  True,  True, ...,  True,  True,  True],\n",
       "       ...,\n",
       "       [ True,  True,  True, ...,  True,  True,  True],\n",
       "       [ True,  True,  True, ...,  True,  True,  True],\n",
       "       [ True,  True,  True, ...,  True,  True,  True]])"
      ]
     },
     "execution_count": 25,
     "metadata": {},
     "output_type": "execute_result"
    }
   ],
   "source": [
    "arr1.mask"
   ]
  },
  {
   "cell_type": "markdown",
   "metadata": {},
   "source": [
    "Load tif with probability map"
   ]
  },
  {
   "cell_type": "code",
   "execution_count": 26,
   "metadata": {},
   "outputs": [
    {
     "data": {
      "text/plain": [
       "({'driver': 'GTiff',\n",
       "  'dtype': 'uint8',\n",
       "  'nodata': 255.0,\n",
       "  'width': 132866,\n",
       "  'height': 106817,\n",
       "  'count': 1,\n",
       "  'crs': CRS.from_epsg(4326),\n",
       "  'transform': Affine(8.983152841193114e-05, 0.0, 2.6916220858073223,\n",
       "         0.0, -8.983152841193113e-05, 13.872862595714636)},\n",
       " array([[255, 255, 255, ..., 255, 255, 255],\n",
       "        [255, 255, 255, ..., 255, 255, 255],\n",
       "        [255, 255, 255, ..., 255, 255, 255],\n",
       "        ...,\n",
       "        [255, 255, 255, ..., 255, 255, 255],\n",
       "        [255, 255, 255, ..., 255, 255, 255],\n",
       "        [255, 255, 255, ..., 255, 255, 255]], dtype=uint8))"
      ]
     },
     "execution_count": 26,
     "metadata": {},
     "output_type": "execute_result"
    }
   ],
   "source": [
    "with rasterio.open(prob_map) as map:\n",
    "    meta = map.meta\n",
    "    data = map.read(1)\n",
    "meta, data"
   ]
  },
  {
   "cell_type": "code",
   "execution_count": 27,
   "metadata": {},
   "outputs": [
    {
     "data": {
      "text/plain": [
       "masked_array(\n",
       "  data=[[--, --, --, ..., --, --, --],\n",
       "        [--, --, --, ..., --, --, --],\n",
       "        [--, --, --, ..., --, --, --],\n",
       "        ...,\n",
       "        [--, --, --, ..., --, --, --],\n",
       "        [--, --, --, ..., --, --, --],\n",
       "        [--, --, --, ..., --, --, --]],\n",
       "  mask=[[ True,  True,  True, ...,  True,  True,  True],\n",
       "        [ True,  True,  True, ...,  True,  True,  True],\n",
       "        [ True,  True,  True, ...,  True,  True,  True],\n",
       "        ...,\n",
       "        [ True,  True,  True, ...,  True,  True,  True],\n",
       "        [ True,  True,  True, ...,  True,  True,  True],\n",
       "        [ True,  True,  True, ...,  True,  True,  True]],\n",
       "  fill_value=999999,\n",
       "  dtype=uint8)"
      ]
     },
     "execution_count": 27,
     "metadata": {},
     "output_type": "execute_result"
    }
   ],
   "source": [
    "arr2 = np.ma.array(data, mask=(data == int(nodata_value)))\n",
    "arr2"
   ]
  },
  {
   "cell_type": "code",
   "execution_count": 28,
   "metadata": {},
   "outputs": [
    {
     "data": {
      "text/plain": [
       "array([[ True,  True,  True, ...,  True,  True,  True],\n",
       "       [ True,  True,  True, ...,  True,  True,  True],\n",
       "       [ True,  True,  True, ...,  True,  True,  True],\n",
       "       ...,\n",
       "       [ True,  True,  True, ...,  True,  True,  True],\n",
       "       [ True,  True,  True, ...,  True,  True,  True],\n",
       "       [ True,  True,  True, ...,  True,  True,  True]])"
      ]
     },
     "execution_count": 28,
     "metadata": {},
     "output_type": "execute_result"
    }
   ],
   "source": [
    "arr2.mask"
   ]
  },
  {
   "cell_type": "code",
   "execution_count": 29,
   "metadata": {},
   "outputs": [],
   "source": [
    "nodata_comparison = arr1.mask == arr2.mask"
   ]
  },
  {
   "cell_type": "code",
   "execution_count": 30,
   "metadata": {},
   "outputs": [
    {
     "data": {
      "text/plain": [
       "True"
      ]
     },
     "execution_count": 30,
     "metadata": {},
     "output_type": "execute_result"
    },
    {
     "ename": "",
     "evalue": "",
     "output_type": "error",
     "traceback": [
      "\u001b[1;31mThe Kernel crashed while executing code in the the current cell or a previous cell. Please review the code in the cell(s) to identify a possible cause of the failure. Click <a href='https://aka.ms/vscodeJupyterKernelCrash'>here</a> for more info. View Jupyter <a href='command:jupyter.viewOutput'>log</a> for further details."
     ]
    }
   ],
   "source": [
    "all(nodata_comparison.flatten())"
   ]
  }
 ],
 "metadata": {
  "kernelspec": {
   "display_name": "nigeria-crop-mask-gpu3",
   "language": "python",
   "name": "python3"
  },
  "language_info": {
   "codemirror_mode": {
    "name": "ipython",
    "version": 3
   },
   "file_extension": ".py",
   "mimetype": "text/x-python",
   "name": "python",
   "nbconvert_exporter": "python",
   "pygments_lexer": "ipython3",
   "version": "3.7.16"
  }
 },
 "nbformat": 4,
 "nbformat_minor": 2
}
