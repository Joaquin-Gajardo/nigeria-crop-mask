{
 "cells": [
  {
   "cell_type": "code",
   "execution_count": null,
   "metadata": {},
   "outputs": [],
   "source": [
    "import os\n",
    "from pathlib import Path\n",
    "import sys\n",
    "\n",
    "import numpy as np\n",
    "import matplotlib as mpl\n",
    "import matplotlib.pyplot as plt\n",
    "import geopandas as gpd\n",
    "import shapely\n",
    "import xarray\n",
    "import rioxarray\n",
    "import rasterio"
   ]
  },
  {
   "cell_type": "code",
   "execution_count": null,
   "metadata": {},
   "outputs": [],
   "source": [
    "borders = gpd.read_file(Path('../assets/nigeria_borders.shp'))\n",
    "borders.boundary.plot(color='grey');"
   ]
  },
  {
   "cell_type": "code",
   "execution_count": null,
   "metadata": {},
   "outputs": [],
   "source": [
    "nigeria_states = gpd.read_file('../assets/ngaadmbndaadm1osgof20161215.geojson')\n",
    "#nigeria_states.to_crs(borders.crs, inplace=True)\n",
    "nigeria_states"
   ]
  },
  {
   "cell_type": "markdown",
   "metadata": {},
   "source": [
    "## Binary map"
   ]
  },
  {
   "cell_type": "markdown",
   "metadata": {},
   "source": [
    "### Read raster and convert to numpy array"
   ]
  },
  {
   "cell_type": "code",
   "execution_count": null,
   "metadata": {},
   "outputs": [],
   "source": [
    "version = 3\n",
    "preds_dir = Path(f\"../data/predictions/nigeria-cropharvest-full-country-2020/v{version}\")\n",
    "map_type = 'binary' # 'probability'\n",
    "tif_path = preds_dir / f'combined_{map_type}_uint8_lzw_clipped.tif'\n",
    "assert tif_path.exists()"
   ]
  },
  {
   "cell_type": "code",
   "execution_count": null,
   "metadata": {},
   "outputs": [],
   "source": [
    "# Open and check size in RAM, plot\n",
    "with rasterio.open(tif_path) as src:\n",
    "    meta = src.meta\n",
    "    compress = src.profile['compress']\n",
    "    data = src.read(1)\n",
    "meta, compress, data.shape"
   ]
  },
  {
   "cell_type": "code",
   "execution_count": null,
   "metadata": {},
   "outputs": [],
   "source": [
    "data"
   ]
  },
  {
   "cell_type": "code",
   "execution_count": null,
   "metadata": {},
   "outputs": [],
   "source": [
    "nodata_value = meta['nodata']\n",
    "nodata_value\n",
    "#masked_data = np.where(data == int(nodata_value), np.nan, data)"
   ]
  },
  {
   "cell_type": "code",
   "execution_count": null,
   "metadata": {},
   "outputs": [],
   "source": [
    "#data_subset = data[:1000, :1000]\n",
    "#data_subset[data_subset == 0] = np.nan"
   ]
  },
  {
   "cell_type": "code",
   "execution_count": null,
   "metadata": {},
   "outputs": [],
   "source": [
    "#values, counts = np.unique(data, return_counts=True)"
   ]
  },
  {
   "cell_type": "code",
   "execution_count": null,
   "metadata": {},
   "outputs": [],
   "source": [
    "# https://stackoverflow.com/questions/2578752/how-can-i-plot-nan-values-as-a-special-color-with-imshow-in-matplotlib\n",
    "arr = np.ma.array(data, mask=(data == int(nodata_value)))\n",
    "arr"
   ]
  },
  {
   "cell_type": "code",
   "execution_count": null,
   "metadata": {},
   "outputs": [],
   "source": [
    "arr.shape"
   ]
  },
  {
   "cell_type": "code",
   "execution_count": null,
   "metadata": {},
   "outputs": [],
   "source": [
    "del data"
   ]
  },
  {
   "cell_type": "code",
   "execution_count": null,
   "metadata": {},
   "outputs": [],
   "source": [
    "# strip = 10\n",
    "# strip_width = 10000\n",
    "# start = strip * strip_width\n",
    "# stop = (strip + 1) * strip_width\n",
    "#value, counts = np.unique(arr[-50000:, start: stop], return_counts=True)\n",
    "#value"
   ]
  },
  {
   "cell_type": "markdown",
   "metadata": {},
   "source": [
    "### Plot"
   ]
  },
  {
   "cell_type": "code",
   "execution_count": null,
   "metadata": {},
   "outputs": [],
   "source": [
    "from rasterio.plot import show\n",
    "from matplotlib.colors import ListedColormap, BoundaryNorm\n",
    "import matplotlib.colors as colors\n",
    "from matplotlib.patches import Patch\n",
    "from matplotlib_scalebar.scalebar import ScaleBar\n",
    "from sklearn.metrics.pairwise import haversine_distances"
   ]
  },
  {
   "cell_type": "code",
   "execution_count": null,
   "metadata": {},
   "outputs": [],
   "source": [
    "#https://stackoverflow.com/questions/2578752/how-can-i-plot-nan-values-as-a-special-color-with-imshow-in-matplotlib\n",
    "#arr = np.ma.array(data, mask=(data == int(nodata_value)))\n",
    "cmap = mpl.cm.get_cmap().copy()\n",
    "cmap = plt.cm.get_cmap('binary', 2)\n",
    "cmap.set_bad(color='white')\n",
    "\n",
    "#colors =[\"black\", \"white\"]\n",
    "colors = [\"wheat\", \"green\"]\n",
    "cmap = ListedColormap(colors)\n",
    "\n",
    "# Define a normalization from values -> colors\n",
    "norm = mpl.colors.BoundaryNorm([0, 1], 2)"
   ]
  },
  {
   "cell_type": "code",
   "execution_count": null,
   "metadata": {},
   "outputs": [],
   "source": [
    "lat, lon = 9.042217, 7.288160\n",
    "EARTH_RADIUS = 6371000 # meters\n",
    "A = [lon * np.pi / 180., lat * np.pi / 180.] #Latitude of interest here 40.7 deg, longitude -74.5\n",
    "B = [(lon + 1) * np.pi / 180., lat * np.pi / 180.] ##Latitude of interest here 40.7 deg, longitude -74.5+1\n",
    "dx = (EARTH_RADIUS) * haversine_distances([A, B])[0, 1]"
   ]
  },
  {
   "cell_type": "code",
   "execution_count": null,
   "metadata": {},
   "outputs": [],
   "source": [
    "#plt.figure(figsize=(10,10))\n",
    "fig, ax = plt.subplots(figsize=(16, 16))\n",
    "strip = 0\n",
    "strip_width = 20000\n",
    "start = strip * strip_width\n",
    "stop = (strip + 1) * strip_width\n",
    "#plt.imshow(data[start:stop])\n",
    "# semi-colon suppresses output, very important for not getting RAM issue as explained here (https://stackoverflow.com/questions/9525706/excessive-memory-usage-in-matplotlib-imshow)\n",
    "#plt.imshow(arr[-50000:, start: stop], cmap='gray');\n",
    "\n",
    "borders.boundary.plot(ax=ax, color='grey', linewidth=0.5)\n",
    "nigeria_states.boundary.plot(ax=ax, color='grey', linewidth=0.3)\n",
    "show(arr[:, 0:10000], ax=ax, cmap=cmap, norm=norm, interpolation=\"nearest\", transform=meta['transform']);\n",
    "#show(arr, ax=ax, cmap=cmap, norm=norm, interpolation=\"nearest\", transform=meta['transform'])\n",
    "\n",
    "# Legend\n",
    "legend_labels = {colors[1]: \"cropland\", colors[0]: \"non-cropland\"}\n",
    "patches = [Patch(facecolor=color, label=label, edgecolor=\"black\") for color, label in legend_labels.items()]\n",
    "ax.legend(handles=patches, facecolor=\"white\", fontsize=20, loc=\"lower right\") #,bbox_to_anchor=(0.98, 0.98))\n",
    "\n",
    "# North arrow\n",
    "#ax.text(x=15, y=14.1, s='N', fontsize=34, horizontalalignment='center')\n",
    "#ax.arrow(15, 14.1, 0, 0.01, width=0, length_includes_head=True, head_width=0.4, head_length=0.4, overhang=.3, facecolor='k', transform=ax.transData)\n",
    "ax.annotate('N', xy=(0.95, 0.92), fontsize=34, xycoords='axes fraction', horizontalalignment='center', verticalalignment='bottom')\n",
    "ax.arrow(0.95, 0.92, 0, 0.01, length_includes_head=True, head_width=0.03, head_length=0.03, overhang=.3, facecolor='k', transform=ax.transAxes)\n",
    "\n",
    "# Scale bar\n",
    "scalebar = ScaleBar(dx, \"m\", length_fraction=0.25, location=\"lower left\", border_pad=1, font_properties={'size': 16}) # when CRS is in UTM dx can be set to 1\n",
    "ax.add_artist(scalebar)\n",
    "\n",
    "ax.annotate(\"A\", xy=(0.02, 0.95), xycoords='axes fraction', fontsize=30, fontweight='bold')\n",
    "\n",
    "#plt.colorbar()\n",
    "plt.title(\"Map Preview\", fontsize=24)\n",
    "plt.tick_params(labelsize=16)\n",
    "plt.xlabel(\"Longitude\", fontsize=20)\n",
    "plt.ylabel(\"Latitude\", fontsize=20)\n",
    "plt.minorticks_on()\n",
    "plt.margins(0.1)\n",
    "#plt.axis(\"off\")"
   ]
  },
  {
   "cell_type": "code",
   "execution_count": null,
   "metadata": {},
   "outputs": [],
   "source": [
    "from mpl_toolkits.basemap import Basemap\n",
    "import matplotlib.pyplot as plt\n",
    "\n",
    "map = Basemap(llcrnrlon=3.75,llcrnrlat=39.75,urcrnrlon=4.35,urcrnrlat=40.15, epsg=5520)\n",
    "#http://server.arcgisonline.com/arcgis/rest/services\n",
    "\n",
    "map.arcgisimage(service='ESRI_Imagery_World_2D', xpixels = 1500, verbose= True)\n",
    "plt.show()"
   ]
  },
  {
   "cell_type": "markdown",
   "metadata": {},
   "source": [
    "## Probability map"
   ]
  },
  {
   "cell_type": "code",
   "execution_count": null,
   "metadata": {},
   "outputs": [],
   "source": [
    "version = 3\n",
    "preds_dir = Path(f\"../data/predictions/nigeria-cropharvest-full-country-2020/v{version}\")\n",
    "map_type = 'probability' # 'probability'\n",
    "tif_path = preds_dir / f'combined_{map_type}_uint8_lzw_clipped.tif'\n",
    "assert tif_path.exists()"
   ]
  },
  {
   "cell_type": "code",
   "execution_count": null,
   "metadata": {},
   "outputs": [],
   "source": [
    "# Open and check size in RAM, plot\n",
    "with rasterio.open(tif_path) as src:\n",
    "    meta = src.meta\n",
    "    compress = src.profile['compress']\n",
    "    data = src.read(1)\n",
    "meta, compress, data.shape"
   ]
  },
  {
   "cell_type": "code",
   "execution_count": null,
   "metadata": {},
   "outputs": [],
   "source": [
    "nodata_value = meta['nodata']\n",
    "nodata_value"
   ]
  },
  {
   "cell_type": "code",
   "execution_count": null,
   "metadata": {},
   "outputs": [],
   "source": [
    "# https://stackoverflow.com/questions/2578752/how-can-i-plot-nan-values-as-a-special-color-with-imshow-in-matplotlib\n",
    "arr = np.ma.array(data, mask=(data == int(nodata_value))) # too expensive to convert to 0-1 float array so just modify colorbar\n",
    "arr"
   ]
  },
  {
   "cell_type": "code",
   "execution_count": null,
   "metadata": {},
   "outputs": [],
   "source": [
    "from rasterio.plot import show\n",
    "from matplotlib.colors import ListedColormap, BoundaryNorm\n",
    "from matplotlib.patches import Patch\n",
    "from matplotlib_scalebar.scalebar import ScaleBar\n",
    "from sklearn.metrics.pairwise import haversine_distances"
   ]
  },
  {
   "cell_type": "code",
   "execution_count": null,
   "metadata": {},
   "outputs": [],
   "source": [
    "cmap = mpl.cm.get_cmap().copy()"
   ]
  },
  {
   "cell_type": "code",
   "execution_count": null,
   "metadata": {},
   "outputs": [],
   "source": [
    "lat, lon = 9.042217, 7.288160\n",
    "EARTH_RADIUS = 6371000 # meters\n",
    "A = [lon * np.pi / 180., lat * np.pi / 180.] #Latitude of interest here 40.7 deg, longitude -74.5\n",
    "B = [(lon + 1) * np.pi / 180., lat * np.pi / 180.] ##Latitude of interest here 40.7 deg, longitude -74.5+1\n",
    "dx = (EARTH_RADIUS) * haversine_distances([A, B])[0, 1]"
   ]
  },
  {
   "cell_type": "code",
   "execution_count": null,
   "metadata": {},
   "outputs": [],
   "source": [
    "#plt.figure(figsize=(10,10))\n",
    "fig, ax = plt.subplots(figsize=(10, 10))\n",
    "strip = 0\n",
    "strip_width = 20000\n",
    "start = strip * strip_width\n",
    "stop = (strip + 1) * strip_width\n",
    "#plt.imshow(data[start:stop])\n",
    "# semi-colon suppresses output, very important for not getting RAM issue as explained here (https://stackoverflow.com/questions/9525706/excessive-memory-usage-in-matplotlib-imshow)\n",
    "borders.boundary.plot(ax=ax, color='grey', linewidth=0.5)\n",
    "#probability_map = plt.imshow(arr[:, 0:10000], cmap=cmap);\n",
    "\n",
    "ax = show(arr[-10000:, :], ax=ax, cmap=cmap, interpolation=\"nearest\", transform=meta['transform']);\n",
    "#show(arr[:, 0:10000], ax=ax, cmap=cmap, norm=norm, interpolation=\"nearest\", transform=meta['transform']);\n",
    "\n",
    "# Legend\n",
    "# legend_labels = {colors[1]: \"cropland\", colors[0]: \"non-cropland\"}\n",
    "# patches = [Patch(facecolor=color, label=label, edgecolor=\"black\") for color, label in legend_labels.items()]\n",
    "# ax.legend(handles=patches, facecolor=\"white\", fontsize=12, loc=\"lower right\") #,bbox_to_anchor=(0.98, 0.98))\n",
    "\n",
    "# North arrow\n",
    "ax.text(x=3, y=13, s='N', fontsize=20, horizontalalignment='center')\n",
    "ax.arrow(3, 13 , 0, 0.01, width=0, length_includes_head=True, head_width=0.4, head_length=0.4, overhang=.3, facecolor='k')\n",
    "\n",
    "# Scale bar\n",
    "scalebar = ScaleBar(dx, \"m\", length_fraction=0.25, location=\"lower left\", border_pad=1) # when CRS is in UTM dx can be set to 1\n",
    "ax.add_artist(scalebar)\n",
    "\n",
    "# Colorbar\n",
    "cbar = plt.colorbar(ax.get_images()[0], ax=ax, fraction=0.031)\n",
    "tick_labels = [f'{tick/100:.1f}' for tick in cbar.get_ticks()]\n",
    "cbar.set_ticklabels(tick_labels)\n",
    "cbar.set_label('Cropland probability', fontsize=12)\n",
    "\n",
    "# Common stuff\n",
    "plt.title(\"Map Preview\", fontsize=16)\n",
    "plt.xlabel(\"Longitude\", fontsize=12)\n",
    "plt.ylabel(\"Latitude\", fontsize=12)\n",
    "plt.minorticks_on()\n",
    "plt.margins(0.1)\n",
    "#plt.axis(\"off\")"
   ]
  },
  {
   "cell_type": "code",
   "execution_count": null,
   "metadata": {},
   "outputs": [],
   "source": [
    "cbar.get_ticks()"
   ]
  },
  {
   "cell_type": "code",
   "execution_count": null,
   "metadata": {},
   "outputs": [],
   "source": [
    "labels = [0.1, 0.2, 0.3, 0.4, 0.5, 0.6, 0.7, 0.8, 0.9, 1.0]"
   ]
  },
  {
   "cell_type": "code",
   "execution_count": null,
   "metadata": {},
   "outputs": [],
   "source": [
    "cbar.set_ticklabels(labels)"
   ]
  },
  {
   "cell_type": "code",
   "execution_count": null,
   "metadata": {},
   "outputs": [],
   "source": [
    "cbar.get_ticks()"
   ]
  },
  {
   "cell_type": "code",
   "execution_count": null,
   "metadata": {},
   "outputs": [],
   "source": []
  }
 ],
 "metadata": {
  "kernelspec": {
   "display_name": "nigeria-crop-mask-gpu",
   "language": "python",
   "name": "python3"
  },
  "language_info": {
   "codemirror_mode": {
    "name": "ipython",
    "version": 3
   },
   "file_extension": ".py",
   "mimetype": "text/x-python",
   "name": "python",
   "nbconvert_exporter": "python",
   "pygments_lexer": "ipython3",
   "version": "3.7.16"
  },
  "orig_nbformat": 4
 },
 "nbformat": 4,
 "nbformat_minor": 2
}
