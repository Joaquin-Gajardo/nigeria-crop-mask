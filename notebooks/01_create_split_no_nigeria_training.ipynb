{
 "cells": [
  {
   "cell_type": "markdown",
   "metadata": {},
   "source": [
    "## Explore GeoWiki processing code to exclude country "
   ]
  },
  {
   "cell_type": "markdown",
   "metadata": {},
   "source": [
    "### GeoWiki Processor"
   ]
  },
  {
   "cell_type": "code",
   "execution_count": 1,
   "metadata": {},
   "outputs": [],
   "source": [
    "from argparse import ArgumentParser, Namespace\n",
    "from pathlib import Path\n",
    "import sys\n",
    "from collections import Counter\n",
    "import pickle\n",
    "\n",
    "import numpy as np\n",
    "import pandas as pd\n",
    "import geopandas as gpd\n",
    "import xarray\n",
    "import matplotlib.pyplot as plt\n",
    "\n",
    "sys.path.append(\"..\")\n",
    "\n",
    "from src.processors import (\n",
    "    GeoWikiProcessor,\n",
    "    TogoProcessor,\n",
    ")\n",
    "from src.engineer import (\n",
    "    GeoWikiEngineer,\n",
    "    TogoEngineer,\n",
    "    TogoEvaluationEngineer,\n",
    ")\n",
    "from src.models import STR2MODEL"
   ]
  },
  {
   "cell_type": "code",
   "execution_count": 2,
   "metadata": {},
   "outputs": [],
   "source": [
    "processor = GeoWikiProcessor(Path('../data'))"
   ]
  },
  {
   "cell_type": "code",
   "execution_count": 3,
   "metadata": {},
   "outputs": [],
   "source": [
    "location_data = processor.load_raw_data('all')"
   ]
  },
  {
   "cell_type": "code",
   "execution_count": 4,
   "metadata": {},
   "outputs": [],
   "source": [
    "mean_per_location = (\n",
    "            location_data[[\"location_id\", \"sumcrop\", \"loc_cent_X\", \"loc_cent_Y\"]]\n",
    "            .groupby(\"location_id\")\n",
    "            .mean()\n",
    "        )"
   ]
  },
  {
   "cell_type": "code",
   "execution_count": 5,
   "metadata": {},
   "outputs": [],
   "source": [
    "mean_per_location = mean_per_location.rename(\n",
    "            {\"loc_cent_X\": \"lon\", \"loc_cent_Y\": \"lat\", \"sumcrop\": \"mean_sumcrop\"},\n",
    "            axis=\"columns\",\n",
    "            errors=\"raise\",\n",
    "        )"
   ]
  },
  {
   "cell_type": "code",
   "execution_count": 6,
   "metadata": {},
   "outputs": [],
   "source": [
    "output_xr = (\n",
    "            mean_per_location.reset_index()\n",
    "            .set_index([\"lon\", \"lat\"])[\"mean_sumcrop\"]\n",
    "            .to_xarray()\n",
    "        )"
   ]
  },
  {
   "cell_type": "markdown",
   "metadata": {},
   "source": [
    "### GeoWiki Engineer"
   ]
  },
  {
   "cell_type": "code",
   "execution_count": 7,
   "metadata": {},
   "outputs": [],
   "source": [
    "xarr = xarray.open_dataset(processor.output_folder/'data.nc').to_dataframe().dropna().reset_index()"
   ]
  },
  {
   "cell_type": "code",
   "execution_count": 8,
   "metadata": {},
   "outputs": [
    {
     "data": {
      "text/plain": [
       "0       -68.75\n",
       "1       -68.25\n",
       "2       -68.75\n",
       "3       -68.25\n",
       "4       -69.75\n",
       "         ...  \n",
       "35861   -46.25\n",
       "35862   -43.25\n",
       "35863   -24.75\n",
       "35864   -23.75\n",
       "35865   -30.25\n",
       "Name: lon, Length: 35866, dtype: float64"
      ]
     },
     "execution_count": 8,
     "metadata": {},
     "output_type": "execute_result"
    }
   ],
   "source": [
    "xarr['lon']"
   ]
  },
  {
   "cell_type": "code",
   "execution_count": 9,
   "metadata": {},
   "outputs": [
    {
     "data": {
      "text/html": [
       "<div>\n",
       "<style scoped>\n",
       "    .dataframe tbody tr th:only-of-type {\n",
       "        vertical-align: middle;\n",
       "    }\n",
       "\n",
       "    .dataframe tbody tr th {\n",
       "        vertical-align: top;\n",
       "    }\n",
       "\n",
       "    .dataframe thead th {\n",
       "        text-align: right;\n",
       "    }\n",
       "</style>\n",
       "<table border=\"1\" class=\"dataframe\">\n",
       "  <thead>\n",
       "    <tr style=\"text-align: right;\">\n",
       "      <th></th>\n",
       "      <th>lat</th>\n",
       "      <th>lon</th>\n",
       "      <th>mean_sumcrop</th>\n",
       "    </tr>\n",
       "  </thead>\n",
       "  <tbody>\n",
       "    <tr>\n",
       "      <th>0</th>\n",
       "      <td>-54.547619</td>\n",
       "      <td>-68.75</td>\n",
       "      <td>0.0</td>\n",
       "    </tr>\n",
       "    <tr>\n",
       "      <th>1</th>\n",
       "      <td>-54.047619</td>\n",
       "      <td>-68.25</td>\n",
       "      <td>0.0</td>\n",
       "    </tr>\n",
       "    <tr>\n",
       "      <th>2</th>\n",
       "      <td>-53.547619</td>\n",
       "      <td>-68.75</td>\n",
       "      <td>0.0</td>\n",
       "    </tr>\n",
       "    <tr>\n",
       "      <th>3</th>\n",
       "      <td>-53.547619</td>\n",
       "      <td>-68.25</td>\n",
       "      <td>4.8</td>\n",
       "    </tr>\n",
       "    <tr>\n",
       "      <th>4</th>\n",
       "      <td>-53.047619</td>\n",
       "      <td>-69.75</td>\n",
       "      <td>0.0</td>\n",
       "    </tr>\n",
       "    <tr>\n",
       "      <th>...</th>\n",
       "      <td>...</td>\n",
       "      <td>...</td>\n",
       "      <td>...</td>\n",
       "    </tr>\n",
       "    <tr>\n",
       "      <th>35861</th>\n",
       "      <td>82.452381</td>\n",
       "      <td>-46.25</td>\n",
       "      <td>0.0</td>\n",
       "    </tr>\n",
       "    <tr>\n",
       "      <th>35862</th>\n",
       "      <td>82.452381</td>\n",
       "      <td>-43.25</td>\n",
       "      <td>0.0</td>\n",
       "    </tr>\n",
       "    <tr>\n",
       "      <th>35863</th>\n",
       "      <td>82.452381</td>\n",
       "      <td>-24.75</td>\n",
       "      <td>0.0</td>\n",
       "    </tr>\n",
       "    <tr>\n",
       "      <th>35864</th>\n",
       "      <td>82.452381</td>\n",
       "      <td>-23.75</td>\n",
       "      <td>0.0</td>\n",
       "    </tr>\n",
       "    <tr>\n",
       "      <th>35865</th>\n",
       "      <td>83.452381</td>\n",
       "      <td>-30.25</td>\n",
       "      <td>0.0</td>\n",
       "    </tr>\n",
       "  </tbody>\n",
       "</table>\n",
       "<p>35866 rows × 3 columns</p>\n",
       "</div>"
      ],
      "text/plain": [
       "             lat    lon  mean_sumcrop\n",
       "0     -54.547619 -68.75           0.0\n",
       "1     -54.047619 -68.25           0.0\n",
       "2     -53.547619 -68.75           0.0\n",
       "3     -53.547619 -68.25           4.8\n",
       "4     -53.047619 -69.75           0.0\n",
       "...          ...    ...           ...\n",
       "35861  82.452381 -46.25           0.0\n",
       "35862  82.452381 -43.25           0.0\n",
       "35863  82.452381 -24.75           0.0\n",
       "35864  82.452381 -23.75           0.0\n",
       "35865  83.452381 -30.25           0.0\n",
       "\n",
       "[35866 rows x 3 columns]"
      ]
     },
     "execution_count": 9,
     "metadata": {},
     "output_type": "execute_result"
    }
   ],
   "source": [
    "xarr"
   ]
  },
  {
   "cell_type": "code",
   "execution_count": 10,
   "metadata": {},
   "outputs": [],
   "source": [
    "engineer = GeoWikiEngineer(Path('../data'))"
   ]
  },
  {
   "cell_type": "code",
   "execution_count": 11,
   "metadata": {},
   "outputs": [
    {
     "data": {
      "text/plain": [
       "False"
      ]
     },
     "execution_count": 11,
     "metadata": {},
     "output_type": "execute_result"
    }
   ],
   "source": [
    "engineer.eval_only"
   ]
  },
  {
   "cell_type": "code",
   "execution_count": 12,
   "metadata": {},
   "outputs": [
    {
     "data": {
      "text/html": [
       "<div>\n",
       "<style scoped>\n",
       "    .dataframe tbody tr th:only-of-type {\n",
       "        vertical-align: middle;\n",
       "    }\n",
       "\n",
       "    .dataframe tbody tr th {\n",
       "        vertical-align: top;\n",
       "    }\n",
       "\n",
       "    .dataframe thead th {\n",
       "        text-align: right;\n",
       "    }\n",
       "</style>\n",
       "<table border=\"1\" class=\"dataframe\">\n",
       "  <thead>\n",
       "    <tr style=\"text-align: right;\">\n",
       "      <th></th>\n",
       "      <th>lat</th>\n",
       "      <th>lon</th>\n",
       "      <th>mean_sumcrop</th>\n",
       "    </tr>\n",
       "  </thead>\n",
       "  <tbody>\n",
       "    <tr>\n",
       "      <th>0</th>\n",
       "      <td>-54.547619</td>\n",
       "      <td>-68.75</td>\n",
       "      <td>0.0</td>\n",
       "    </tr>\n",
       "    <tr>\n",
       "      <th>1</th>\n",
       "      <td>-54.047619</td>\n",
       "      <td>-68.25</td>\n",
       "      <td>0.0</td>\n",
       "    </tr>\n",
       "    <tr>\n",
       "      <th>2</th>\n",
       "      <td>-53.547619</td>\n",
       "      <td>-68.75</td>\n",
       "      <td>0.0</td>\n",
       "    </tr>\n",
       "    <tr>\n",
       "      <th>3</th>\n",
       "      <td>-53.547619</td>\n",
       "      <td>-68.25</td>\n",
       "      <td>4.8</td>\n",
       "    </tr>\n",
       "    <tr>\n",
       "      <th>4</th>\n",
       "      <td>-53.047619</td>\n",
       "      <td>-69.75</td>\n",
       "      <td>0.0</td>\n",
       "    </tr>\n",
       "    <tr>\n",
       "      <th>...</th>\n",
       "      <td>...</td>\n",
       "      <td>...</td>\n",
       "      <td>...</td>\n",
       "    </tr>\n",
       "    <tr>\n",
       "      <th>35861</th>\n",
       "      <td>82.452381</td>\n",
       "      <td>-46.25</td>\n",
       "      <td>0.0</td>\n",
       "    </tr>\n",
       "    <tr>\n",
       "      <th>35862</th>\n",
       "      <td>82.452381</td>\n",
       "      <td>-43.25</td>\n",
       "      <td>0.0</td>\n",
       "    </tr>\n",
       "    <tr>\n",
       "      <th>35863</th>\n",
       "      <td>82.452381</td>\n",
       "      <td>-24.75</td>\n",
       "      <td>0.0</td>\n",
       "    </tr>\n",
       "    <tr>\n",
       "      <th>35864</th>\n",
       "      <td>82.452381</td>\n",
       "      <td>-23.75</td>\n",
       "      <td>0.0</td>\n",
       "    </tr>\n",
       "    <tr>\n",
       "      <th>35865</th>\n",
       "      <td>83.452381</td>\n",
       "      <td>-30.25</td>\n",
       "      <td>0.0</td>\n",
       "    </tr>\n",
       "  </tbody>\n",
       "</table>\n",
       "<p>35866 rows × 3 columns</p>\n",
       "</div>"
      ],
      "text/plain": [
       "             lat    lon  mean_sumcrop\n",
       "0     -54.547619 -68.75           0.0\n",
       "1     -54.047619 -68.25           0.0\n",
       "2     -53.547619 -68.75           0.0\n",
       "3     -53.547619 -68.25           4.8\n",
       "4     -53.047619 -69.75           0.0\n",
       "...          ...    ...           ...\n",
       "35861  82.452381 -46.25           0.0\n",
       "35862  82.452381 -43.25           0.0\n",
       "35863  82.452381 -24.75           0.0\n",
       "35864  82.452381 -23.75           0.0\n",
       "35865  83.452381 -30.25           0.0\n",
       "\n",
       "[35866 rows x 3 columns]"
      ]
     },
     "execution_count": 12,
     "metadata": {},
     "output_type": "execute_result"
    }
   ],
   "source": [
    "engineer.labels # same as 'data.nc'"
   ]
  },
  {
   "cell_type": "markdown",
   "metadata": {},
   "source": [
    "#### Recreate process_single_file() function in engineer/geowiki.py"
   ]
  },
  {
   "cell_type": "code",
   "execution_count": 13,
   "metadata": {},
   "outputs": [
    {
     "data": {
      "text/plain": [
       "PosixPath('../data/raw/earth_engine_geowiki/1060_2017-03-28_2018-03-28.tif')"
      ]
     },
     "execution_count": 13,
     "metadata": {},
     "output_type": "execute_result"
    }
   ],
   "source": [
    "tif_example_path = engineer.geospatial_files[0]\n",
    "tif_example_path"
   ]
  },
  {
   "cell_type": "code",
   "execution_count": 14,
   "metadata": {},
   "outputs": [
    {
     "data": {
      "text/plain": [
       "('1060',\n",
       " datetime.datetime(2017, 3, 28, 0, 0),\n",
       " datetime.datetime(2018, 3, 28, 0, 0))"
      ]
     },
     "execution_count": 14,
     "metadata": {},
     "output_type": "execute_result"
    }
   ],
   "source": [
    "file_info = engineer.process_filename(tif_example_path.name, True)\n",
    "file_info"
   ]
  },
  {
   "cell_type": "code",
   "execution_count": 15,
   "metadata": {},
   "outputs": [],
   "source": [
    "val_set_size = 0.2\n",
    "test_set_size = 0.0\n",
    "if engineer.eval_only:\n",
    "    data_subset = \"testing\"\n",
    "else:\n",
    "    random_float = np.random.uniform()\n",
    "    # we split into (val, test, train)\n",
    "    if random_float <= (val_set_size + test_set_size):\n",
    "        if random_float <= val_set_size:\n",
    "            data_subset = \"validation\"\n",
    "        else:\n",
    "            data_subset = \"testing\"\n",
    "    else:\n",
    "        data_subset = \"training\"                "
   ]
  },
  {
   "cell_type": "code",
   "execution_count": 16,
   "metadata": {},
   "outputs": [
    {
     "data": {
      "text/plain": [
       "'training'"
      ]
     },
     "execution_count": 16,
     "metadata": {},
     "output_type": "execute_result"
    }
   ],
   "source": [
    "data_subset"
   ]
  },
  {
   "cell_type": "code",
   "execution_count": 17,
   "metadata": {
    "scrolled": true
   },
   "outputs": [
    {
     "data": {
      "text/html": [
       "<div><svg style=\"position: absolute; width: 0; height: 0; overflow: hidden\">\n",
       "<defs>\n",
       "<symbol id=\"icon-database\" viewBox=\"0 0 32 32\">\n",
       "<path d=\"M16 0c-8.837 0-16 2.239-16 5v4c0 2.761 7.163 5 16 5s16-2.239 16-5v-4c0-2.761-7.163-5-16-5z\"></path>\n",
       "<path d=\"M16 17c-8.837 0-16-2.239-16-5v6c0 2.761 7.163 5 16 5s16-2.239 16-5v-6c0 2.761-7.163 5-16 5z\"></path>\n",
       "<path d=\"M16 26c-8.837 0-16-2.239-16-5v6c0 2.761 7.163 5 16 5s16-2.239 16-5v-6c0 2.761-7.163 5-16 5z\"></path>\n",
       "</symbol>\n",
       "<symbol id=\"icon-file-text2\" viewBox=\"0 0 32 32\">\n",
       "<path d=\"M28.681 7.159c-0.694-0.947-1.662-2.053-2.724-3.116s-2.169-2.030-3.116-2.724c-1.612-1.182-2.393-1.319-2.841-1.319h-15.5c-1.378 0-2.5 1.121-2.5 2.5v27c0 1.378 1.122 2.5 2.5 2.5h23c1.378 0 2.5-1.122 2.5-2.5v-19.5c0-0.448-0.137-1.23-1.319-2.841zM24.543 5.457c0.959 0.959 1.712 1.825 2.268 2.543h-4.811v-4.811c0.718 0.556 1.584 1.309 2.543 2.268zM28 29.5c0 0.271-0.229 0.5-0.5 0.5h-23c-0.271 0-0.5-0.229-0.5-0.5v-27c0-0.271 0.229-0.5 0.5-0.5 0 0 15.499-0 15.5 0v7c0 0.552 0.448 1 1 1h7v19.5z\"></path>\n",
       "<path d=\"M23 26h-14c-0.552 0-1-0.448-1-1s0.448-1 1-1h14c0.552 0 1 0.448 1 1s-0.448 1-1 1z\"></path>\n",
       "<path d=\"M23 22h-14c-0.552 0-1-0.448-1-1s0.448-1 1-1h14c0.552 0 1 0.448 1 1s-0.448 1-1 1z\"></path>\n",
       "<path d=\"M23 18h-14c-0.552 0-1-0.448-1-1s0.448-1 1-1h14c0.552 0 1 0.448 1 1s-0.448 1-1 1z\"></path>\n",
       "</symbol>\n",
       "</defs>\n",
       "</svg>\n",
       "<style>/* CSS stylesheet for displaying xarray objects in jupyterlab.\n",
       " *\n",
       " */\n",
       "\n",
       ":root {\n",
       "  --xr-font-color0: var(--jp-content-font-color0, rgba(0, 0, 0, 1));\n",
       "  --xr-font-color2: var(--jp-content-font-color2, rgba(0, 0, 0, 0.54));\n",
       "  --xr-font-color3: var(--jp-content-font-color3, rgba(0, 0, 0, 0.38));\n",
       "  --xr-border-color: var(--jp-border-color2, #e0e0e0);\n",
       "  --xr-disabled-color: var(--jp-layout-color3, #bdbdbd);\n",
       "  --xr-background-color: var(--jp-layout-color0, white);\n",
       "  --xr-background-color-row-even: var(--jp-layout-color1, white);\n",
       "  --xr-background-color-row-odd: var(--jp-layout-color2, #eeeeee);\n",
       "}\n",
       "\n",
       "html[theme=dark],\n",
       "body.vscode-dark {\n",
       "  --xr-font-color0: rgba(255, 255, 255, 1);\n",
       "  --xr-font-color2: rgba(255, 255, 255, 0.54);\n",
       "  --xr-font-color3: rgba(255, 255, 255, 0.38);\n",
       "  --xr-border-color: #1F1F1F;\n",
       "  --xr-disabled-color: #515151;\n",
       "  --xr-background-color: #111111;\n",
       "  --xr-background-color-row-even: #111111;\n",
       "  --xr-background-color-row-odd: #313131;\n",
       "}\n",
       "\n",
       ".xr-wrap {\n",
       "  display: block;\n",
       "  min-width: 300px;\n",
       "  max-width: 700px;\n",
       "}\n",
       "\n",
       ".xr-text-repr-fallback {\n",
       "  /* fallback to plain text repr when CSS is not injected (untrusted notebook) */\n",
       "  display: none;\n",
       "}\n",
       "\n",
       ".xr-header {\n",
       "  padding-top: 6px;\n",
       "  padding-bottom: 6px;\n",
       "  margin-bottom: 4px;\n",
       "  border-bottom: solid 1px var(--xr-border-color);\n",
       "}\n",
       "\n",
       ".xr-header > div,\n",
       ".xr-header > ul {\n",
       "  display: inline;\n",
       "  margin-top: 0;\n",
       "  margin-bottom: 0;\n",
       "}\n",
       "\n",
       ".xr-obj-type,\n",
       ".xr-array-name {\n",
       "  margin-left: 2px;\n",
       "  margin-right: 10px;\n",
       "}\n",
       "\n",
       ".xr-obj-type {\n",
       "  color: var(--xr-font-color2);\n",
       "}\n",
       "\n",
       ".xr-sections {\n",
       "  padding-left: 0 !important;\n",
       "  display: grid;\n",
       "  grid-template-columns: 150px auto auto 1fr 20px 20px;\n",
       "}\n",
       "\n",
       ".xr-section-item {\n",
       "  display: contents;\n",
       "}\n",
       "\n",
       ".xr-section-item input {\n",
       "  display: none;\n",
       "}\n",
       "\n",
       ".xr-section-item input + label {\n",
       "  color: var(--xr-disabled-color);\n",
       "}\n",
       "\n",
       ".xr-section-item input:enabled + label {\n",
       "  cursor: pointer;\n",
       "  color: var(--xr-font-color2);\n",
       "}\n",
       "\n",
       ".xr-section-item input:enabled + label:hover {\n",
       "  color: var(--xr-font-color0);\n",
       "}\n",
       "\n",
       ".xr-section-summary {\n",
       "  grid-column: 1;\n",
       "  color: var(--xr-font-color2);\n",
       "  font-weight: 500;\n",
       "}\n",
       "\n",
       ".xr-section-summary > span {\n",
       "  display: inline-block;\n",
       "  padding-left: 0.5em;\n",
       "}\n",
       "\n",
       ".xr-section-summary-in:disabled + label {\n",
       "  color: var(--xr-font-color2);\n",
       "}\n",
       "\n",
       ".xr-section-summary-in + label:before {\n",
       "  display: inline-block;\n",
       "  content: '►';\n",
       "  font-size: 11px;\n",
       "  width: 15px;\n",
       "  text-align: center;\n",
       "}\n",
       "\n",
       ".xr-section-summary-in:disabled + label:before {\n",
       "  color: var(--xr-disabled-color);\n",
       "}\n",
       "\n",
       ".xr-section-summary-in:checked + label:before {\n",
       "  content: '▼';\n",
       "}\n",
       "\n",
       ".xr-section-summary-in:checked + label > span {\n",
       "  display: none;\n",
       "}\n",
       "\n",
       ".xr-section-summary,\n",
       ".xr-section-inline-details {\n",
       "  padding-top: 4px;\n",
       "  padding-bottom: 4px;\n",
       "}\n",
       "\n",
       ".xr-section-inline-details {\n",
       "  grid-column: 2 / -1;\n",
       "}\n",
       "\n",
       ".xr-section-details {\n",
       "  display: none;\n",
       "  grid-column: 1 / -1;\n",
       "  margin-bottom: 5px;\n",
       "}\n",
       "\n",
       ".xr-section-summary-in:checked ~ .xr-section-details {\n",
       "  display: contents;\n",
       "}\n",
       "\n",
       ".xr-array-wrap {\n",
       "  grid-column: 1 / -1;\n",
       "  display: grid;\n",
       "  grid-template-columns: 20px auto;\n",
       "}\n",
       "\n",
       ".xr-array-wrap > label {\n",
       "  grid-column: 1;\n",
       "  vertical-align: top;\n",
       "}\n",
       "\n",
       ".xr-preview {\n",
       "  color: var(--xr-font-color3);\n",
       "}\n",
       "\n",
       ".xr-array-preview,\n",
       ".xr-array-data {\n",
       "  padding: 0 5px !important;\n",
       "  grid-column: 2;\n",
       "}\n",
       "\n",
       ".xr-array-data,\n",
       ".xr-array-in:checked ~ .xr-array-preview {\n",
       "  display: none;\n",
       "}\n",
       "\n",
       ".xr-array-in:checked ~ .xr-array-data,\n",
       ".xr-array-preview {\n",
       "  display: inline-block;\n",
       "}\n",
       "\n",
       ".xr-dim-list {\n",
       "  display: inline-block !important;\n",
       "  list-style: none;\n",
       "  padding: 0 !important;\n",
       "  margin: 0;\n",
       "}\n",
       "\n",
       ".xr-dim-list li {\n",
       "  display: inline-block;\n",
       "  padding: 0;\n",
       "  margin: 0;\n",
       "}\n",
       "\n",
       ".xr-dim-list:before {\n",
       "  content: '(';\n",
       "}\n",
       "\n",
       ".xr-dim-list:after {\n",
       "  content: ')';\n",
       "}\n",
       "\n",
       ".xr-dim-list li:not(:last-child):after {\n",
       "  content: ',';\n",
       "  padding-right: 5px;\n",
       "}\n",
       "\n",
       ".xr-has-index {\n",
       "  font-weight: bold;\n",
       "}\n",
       "\n",
       ".xr-var-list,\n",
       ".xr-var-item {\n",
       "  display: contents;\n",
       "}\n",
       "\n",
       ".xr-var-item > div,\n",
       ".xr-var-item label,\n",
       ".xr-var-item > .xr-var-name span {\n",
       "  background-color: var(--xr-background-color-row-even);\n",
       "  margin-bottom: 0;\n",
       "}\n",
       "\n",
       ".xr-var-item > .xr-var-name:hover span {\n",
       "  padding-right: 5px;\n",
       "}\n",
       "\n",
       ".xr-var-list > li:nth-child(odd) > div,\n",
       ".xr-var-list > li:nth-child(odd) > label,\n",
       ".xr-var-list > li:nth-child(odd) > .xr-var-name span {\n",
       "  background-color: var(--xr-background-color-row-odd);\n",
       "}\n",
       "\n",
       ".xr-var-name {\n",
       "  grid-column: 1;\n",
       "}\n",
       "\n",
       ".xr-var-dims {\n",
       "  grid-column: 2;\n",
       "}\n",
       "\n",
       ".xr-var-dtype {\n",
       "  grid-column: 3;\n",
       "  text-align: right;\n",
       "  color: var(--xr-font-color2);\n",
       "}\n",
       "\n",
       ".xr-var-preview {\n",
       "  grid-column: 4;\n",
       "}\n",
       "\n",
       ".xr-var-name,\n",
       ".xr-var-dims,\n",
       ".xr-var-dtype,\n",
       ".xr-preview,\n",
       ".xr-attrs dt {\n",
       "  white-space: nowrap;\n",
       "  overflow: hidden;\n",
       "  text-overflow: ellipsis;\n",
       "  padding-right: 10px;\n",
       "}\n",
       "\n",
       ".xr-var-name:hover,\n",
       ".xr-var-dims:hover,\n",
       ".xr-var-dtype:hover,\n",
       ".xr-attrs dt:hover {\n",
       "  overflow: visible;\n",
       "  width: auto;\n",
       "  z-index: 1;\n",
       "}\n",
       "\n",
       ".xr-var-attrs,\n",
       ".xr-var-data {\n",
       "  display: none;\n",
       "  background-color: var(--xr-background-color) !important;\n",
       "  padding-bottom: 5px !important;\n",
       "}\n",
       "\n",
       ".xr-var-attrs-in:checked ~ .xr-var-attrs,\n",
       ".xr-var-data-in:checked ~ .xr-var-data {\n",
       "  display: block;\n",
       "}\n",
       "\n",
       ".xr-var-data > table {\n",
       "  float: right;\n",
       "}\n",
       "\n",
       ".xr-var-name span,\n",
       ".xr-var-data,\n",
       ".xr-attrs {\n",
       "  padding-left: 25px !important;\n",
       "}\n",
       "\n",
       ".xr-attrs,\n",
       ".xr-var-attrs,\n",
       ".xr-var-data {\n",
       "  grid-column: 1 / -1;\n",
       "}\n",
       "\n",
       "dl.xr-attrs {\n",
       "  padding: 0;\n",
       "  margin: 0;\n",
       "  display: grid;\n",
       "  grid-template-columns: 125px auto;\n",
       "}\n",
       "\n",
       ".xr-attrs dt, dd {\n",
       "  padding: 0;\n",
       "  margin: 0;\n",
       "  float: left;\n",
       "  padding-right: 10px;\n",
       "  width: auto;\n",
       "}\n",
       "\n",
       ".xr-attrs dt {\n",
       "  font-weight: normal;\n",
       "  grid-column: 1;\n",
       "}\n",
       "\n",
       ".xr-attrs dt:hover span {\n",
       "  display: inline-block;\n",
       "  background: var(--xr-background-color);\n",
       "  padding-right: 10px;\n",
       "}\n",
       "\n",
       ".xr-attrs dd {\n",
       "  grid-column: 2;\n",
       "  white-space: pre-wrap;\n",
       "  word-break: break-all;\n",
       "}\n",
       "\n",
       ".xr-icon-database,\n",
       ".xr-icon-file-text2 {\n",
       "  display: inline-block;\n",
       "  vertical-align: middle;\n",
       "  width: 1em;\n",
       "  height: 1.5em !important;\n",
       "  stroke-width: 0;\n",
       "  stroke: currentColor;\n",
       "  fill: currentColor;\n",
       "}\n",
       "</style><pre class='xr-text-repr-fallback'>&lt;xarray.DataArray &#x27;FEATURES&#x27; (time: 12, band: 13, y: 17, x: 20)&gt;\n",
       "array([[[[0.5254, 0.5254, 0.5254, ..., 0.4357, 0.4357, 0.4357],\n",
       "         [0.5254, 0.5254, 0.5254, ..., 0.4357, 0.4357, 0.4357],\n",
       "         [0.5254, 0.5254, 0.5254, ..., 0.4357, 0.4357, 0.4357],\n",
       "         ...,\n",
       "         [0.5442, 0.5442, 0.5442, ..., 0.3065, 0.3065, 0.2662],\n",
       "         [0.5442, 0.5442, 0.5442, ..., 0.3065, 0.3065, 0.2662],\n",
       "         [0.5442, 0.5442, 0.5442, ..., 0.3065, 0.3065, 0.2662]],\n",
       "\n",
       "        [[0.5138, 0.5151, 0.518 , ..., 0.448 , 0.4359, 0.4359],\n",
       "         [0.5073, 0.509 , 0.5104, ..., 0.445 , 0.4339, 0.4339],\n",
       "         [0.4946, 0.4966, 0.5023, ..., 0.434 , 0.4254, 0.4254],\n",
       "         ...,\n",
       "         [0.5551, 0.5375, 0.5375, ..., 0.2314, 0.2202, 0.2194],\n",
       "         [0.5594, 0.5391, 0.5391, ..., 0.2145, 0.2083, 0.218 ],\n",
       "         [0.5635, 0.5479, 0.5479, ..., 0.198 , 0.1953, 0.2066]],\n",
       "\n",
       "        [[0.4815, 0.4843, 0.4872, ..., 0.4256, 0.413 , 0.413 ],\n",
       "         [0.4698, 0.4726, 0.486 , ..., 0.4173, 0.402 , 0.402 ],\n",
       "         [0.4644, 0.4579, 0.4666, ..., 0.3978, 0.3863, 0.3863],\n",
       "         ...,\n",
       "...\n",
       "         ...,\n",
       "         [0.0017, 0.0017, 0.0017, ..., 0.0016, 0.0016, 0.0019],\n",
       "         [0.0017, 0.0017, 0.0017, ..., 0.0016, 0.0016, 0.0019],\n",
       "         [0.0018, 0.0018, 0.0018, ..., 0.0018, 0.0018, 0.002 ]],\n",
       "\n",
       "        [[0.4195, 0.4147, 0.4147, ..., 0.4353, 0.4353, 0.4533],\n",
       "         [0.41  , 0.4014, 0.4014, ..., 0.4377, 0.4377, 0.4502],\n",
       "         [0.41  , 0.4014, 0.4014, ..., 0.4377, 0.4377, 0.4502],\n",
       "         ...,\n",
       "         [0.4367, 0.4371, 0.4371, ..., 0.4249, 0.4249, 0.4472],\n",
       "         [0.4365, 0.4368, 0.4368, ..., 0.43  , 0.43  , 0.4494],\n",
       "         [0.4453, 0.4439, 0.4439, ..., 0.44  , 0.44  , 0.4573]],\n",
       "\n",
       "        [[0.3457, 0.3384, 0.3384, ..., 0.3734, 0.3734, 0.3708],\n",
       "         [0.3268, 0.3224, 0.3224, ..., 0.3761, 0.3761, 0.3724],\n",
       "         [0.3268, 0.3224, 0.3224, ..., 0.3761, 0.3761, 0.3724],\n",
       "         ...,\n",
       "         [0.3721, 0.3723, 0.3723, ..., 0.354 , 0.354 , 0.3575],\n",
       "         [0.377 , 0.377 , 0.377 , ..., 0.3622, 0.3622, 0.3619],\n",
       "         [0.3762, 0.3762, 0.3762, ..., 0.3633, 0.3633, 0.3639]]]])\n",
       "Coordinates:\n",
       "  * band     (band) int64 0 1 2 3 4 5 6 7 8 9 10 11 12\n",
       "  * y        (y) float64 -32.75 -32.75 -32.75 -32.75 ... -32.75 -32.75 -32.75\n",
       "  * x        (x) float64 138.7 138.7 138.7 138.7 ... 138.7 138.7 138.7 138.7\n",
       "  * time     (time) datetime64[ns] 2017-03-28 2017-04-27 ... 2018-02-21\n",
       "Attributes:\n",
       "    band_descriptions:  [&#x27;B1&#x27;, &#x27;B2&#x27;, &#x27;B3&#x27;, &#x27;B4&#x27;, &#x27;B5&#x27;, &#x27;B6&#x27;, &#x27;B7&#x27;, &#x27;B8&#x27;, &#x27;B8A...</pre><div class='xr-wrap' hidden><div class='xr-header'><div class='xr-obj-type'>xarray.DataArray</div><div class='xr-array-name'>'FEATURES'</div><ul class='xr-dim-list'><li><span class='xr-has-index'>time</span>: 12</li><li><span class='xr-has-index'>band</span>: 13</li><li><span class='xr-has-index'>y</span>: 17</li><li><span class='xr-has-index'>x</span>: 20</li></ul></div><ul class='xr-sections'><li class='xr-section-item'><div class='xr-array-wrap'><input id='section-a59ba15f-8d63-4833-bed7-4d3f82d39654' class='xr-array-in' type='checkbox' checked><label for='section-a59ba15f-8d63-4833-bed7-4d3f82d39654' title='Show/hide data repr'><svg class='icon xr-icon-database'><use xlink:href='#icon-database'></use></svg></label><div class='xr-array-preview xr-preview'><span>0.5254 0.5254 0.5254 0.5254 0.5254 ... 0.3853 0.3633 0.3633 0.3639</span></div><div class='xr-array-data'><pre>array([[[[0.5254, 0.5254, 0.5254, ..., 0.4357, 0.4357, 0.4357],\n",
       "         [0.5254, 0.5254, 0.5254, ..., 0.4357, 0.4357, 0.4357],\n",
       "         [0.5254, 0.5254, 0.5254, ..., 0.4357, 0.4357, 0.4357],\n",
       "         ...,\n",
       "         [0.5442, 0.5442, 0.5442, ..., 0.3065, 0.3065, 0.2662],\n",
       "         [0.5442, 0.5442, 0.5442, ..., 0.3065, 0.3065, 0.2662],\n",
       "         [0.5442, 0.5442, 0.5442, ..., 0.3065, 0.3065, 0.2662]],\n",
       "\n",
       "        [[0.5138, 0.5151, 0.518 , ..., 0.448 , 0.4359, 0.4359],\n",
       "         [0.5073, 0.509 , 0.5104, ..., 0.445 , 0.4339, 0.4339],\n",
       "         [0.4946, 0.4966, 0.5023, ..., 0.434 , 0.4254, 0.4254],\n",
       "         ...,\n",
       "         [0.5551, 0.5375, 0.5375, ..., 0.2314, 0.2202, 0.2194],\n",
       "         [0.5594, 0.5391, 0.5391, ..., 0.2145, 0.2083, 0.218 ],\n",
       "         [0.5635, 0.5479, 0.5479, ..., 0.198 , 0.1953, 0.2066]],\n",
       "\n",
       "        [[0.4815, 0.4843, 0.4872, ..., 0.4256, 0.413 , 0.413 ],\n",
       "         [0.4698, 0.4726, 0.486 , ..., 0.4173, 0.402 , 0.402 ],\n",
       "         [0.4644, 0.4579, 0.4666, ..., 0.3978, 0.3863, 0.3863],\n",
       "         ...,\n",
       "...\n",
       "         ...,\n",
       "         [0.0017, 0.0017, 0.0017, ..., 0.0016, 0.0016, 0.0019],\n",
       "         [0.0017, 0.0017, 0.0017, ..., 0.0016, 0.0016, 0.0019],\n",
       "         [0.0018, 0.0018, 0.0018, ..., 0.0018, 0.0018, 0.002 ]],\n",
       "\n",
       "        [[0.4195, 0.4147, 0.4147, ..., 0.4353, 0.4353, 0.4533],\n",
       "         [0.41  , 0.4014, 0.4014, ..., 0.4377, 0.4377, 0.4502],\n",
       "         [0.41  , 0.4014, 0.4014, ..., 0.4377, 0.4377, 0.4502],\n",
       "         ...,\n",
       "         [0.4367, 0.4371, 0.4371, ..., 0.4249, 0.4249, 0.4472],\n",
       "         [0.4365, 0.4368, 0.4368, ..., 0.43  , 0.43  , 0.4494],\n",
       "         [0.4453, 0.4439, 0.4439, ..., 0.44  , 0.44  , 0.4573]],\n",
       "\n",
       "        [[0.3457, 0.3384, 0.3384, ..., 0.3734, 0.3734, 0.3708],\n",
       "         [0.3268, 0.3224, 0.3224, ..., 0.3761, 0.3761, 0.3724],\n",
       "         [0.3268, 0.3224, 0.3224, ..., 0.3761, 0.3761, 0.3724],\n",
       "         ...,\n",
       "         [0.3721, 0.3723, 0.3723, ..., 0.354 , 0.354 , 0.3575],\n",
       "         [0.377 , 0.377 , 0.377 , ..., 0.3622, 0.3622, 0.3619],\n",
       "         [0.3762, 0.3762, 0.3762, ..., 0.3633, 0.3633, 0.3639]]]])</pre></div></div></li><li class='xr-section-item'><input id='section-e9f2d0e4-e471-4887-9a6d-cfdcad969ab5' class='xr-section-summary-in' type='checkbox'  checked><label for='section-e9f2d0e4-e471-4887-9a6d-cfdcad969ab5' class='xr-section-summary' >Coordinates: <span>(4)</span></label><div class='xr-section-inline-details'></div><div class='xr-section-details'><ul class='xr-var-list'><li class='xr-var-item'><div class='xr-var-name'><span class='xr-has-index'>band</span></div><div class='xr-var-dims'>(band)</div><div class='xr-var-dtype'>int64</div><div class='xr-var-preview xr-preview'>0 1 2 3 4 5 6 7 8 9 10 11 12</div><input id='attrs-49983444-3a02-4b7f-b17a-4f3b6794ca3d' class='xr-var-attrs-in' type='checkbox' disabled><label for='attrs-49983444-3a02-4b7f-b17a-4f3b6794ca3d' title='Show/Hide attributes'><svg class='icon xr-icon-file-text2'><use xlink:href='#icon-file-text2'></use></svg></label><input id='data-f0609d94-8ae9-4067-a67c-447204bca3fa' class='xr-var-data-in' type='checkbox'><label for='data-f0609d94-8ae9-4067-a67c-447204bca3fa' title='Show/Hide data repr'><svg class='icon xr-icon-database'><use xlink:href='#icon-database'></use></svg></label><div class='xr-var-attrs'><dl class='xr-attrs'></dl></div><div class='xr-var-data'><pre>array([ 0,  1,  2,  3,  4,  5,  6,  7,  8,  9, 10, 11, 12])</pre></div></li><li class='xr-var-item'><div class='xr-var-name'><span class='xr-has-index'>y</span></div><div class='xr-var-dims'>(y)</div><div class='xr-var-dtype'>float64</div><div class='xr-var-preview xr-preview'>-32.75 -32.75 ... -32.75 -32.75</div><input id='attrs-1e4f26b6-61bf-4437-916e-eadfda41c5e9' class='xr-var-attrs-in' type='checkbox' disabled><label for='attrs-1e4f26b6-61bf-4437-916e-eadfda41c5e9' title='Show/Hide attributes'><svg class='icon xr-icon-file-text2'><use xlink:href='#icon-file-text2'></use></svg></label><input id='data-4041784d-ae54-42c5-8180-40faeaf0ea90' class='xr-var-data-in' type='checkbox'><label for='data-4041784d-ae54-42c5-8180-40faeaf0ea90' title='Show/Hide data repr'><svg class='icon xr-icon-database'><use xlink:href='#icon-database'></use></svg></label><div class='xr-var-attrs'><dl class='xr-attrs'></dl></div><div class='xr-var-data'><pre>array([-32.749296, -32.749386, -32.749476, -32.749566, -32.749656, -32.749746,\n",
       "       -32.749835, -32.749925, -32.750015, -32.750105, -32.750195, -32.750285,\n",
       "       -32.750374, -32.750464, -32.750554, -32.750644, -32.750734])</pre></div></li><li class='xr-var-item'><div class='xr-var-name'><span class='xr-has-index'>x</span></div><div class='xr-var-dims'>(x)</div><div class='xr-var-dtype'>float64</div><div class='xr-var-preview xr-preview'>138.7 138.7 138.7 ... 138.7 138.7</div><input id='attrs-5b5073c4-e8cb-4839-8683-161462ddcb8a' class='xr-var-attrs-in' type='checkbox' disabled><label for='attrs-5b5073c4-e8cb-4839-8683-161462ddcb8a' title='Show/Hide attributes'><svg class='icon xr-icon-file-text2'><use xlink:href='#icon-file-text2'></use></svg></label><input id='data-287eb0e7-c8e9-425e-978a-6ed47d85837e' class='xr-var-data-in' type='checkbox'><label for='data-287eb0e7-c8e9-425e-978a-6ed47d85837e' title='Show/Hide data repr'><svg class='icon xr-icon-database'><use xlink:href='#icon-database'></use></svg></label><div class='xr-var-attrs'><dl class='xr-attrs'></dl></div><div class='xr-var-data'><pre>array([138.650967, 138.651056, 138.651146, 138.651236, 138.651326, 138.651416,\n",
       "       138.651506, 138.651595, 138.651685, 138.651775, 138.651865, 138.651955,\n",
       "       138.652045, 138.652134, 138.652224, 138.652314, 138.652404, 138.652494,\n",
       "       138.652584, 138.652673])</pre></div></li><li class='xr-var-item'><div class='xr-var-name'><span class='xr-has-index'>time</span></div><div class='xr-var-dims'>(time)</div><div class='xr-var-dtype'>datetime64[ns]</div><div class='xr-var-preview xr-preview'>2017-03-28 ... 2018-02-21</div><input id='attrs-55c88d9b-fead-4351-8f86-f12188a45750' class='xr-var-attrs-in' type='checkbox' disabled><label for='attrs-55c88d9b-fead-4351-8f86-f12188a45750' title='Show/Hide attributes'><svg class='icon xr-icon-file-text2'><use xlink:href='#icon-file-text2'></use></svg></label><input id='data-8ff154cf-483d-400a-9777-0abb488773ca' class='xr-var-data-in' type='checkbox'><label for='data-8ff154cf-483d-400a-9777-0abb488773ca' title='Show/Hide data repr'><svg class='icon xr-icon-database'><use xlink:href='#icon-database'></use></svg></label><div class='xr-var-attrs'><dl class='xr-attrs'></dl></div><div class='xr-var-data'><pre>array([&#x27;2017-03-28T00:00:00.000000000&#x27;, &#x27;2017-04-27T00:00:00.000000000&#x27;,\n",
       "       &#x27;2017-05-27T00:00:00.000000000&#x27;, &#x27;2017-06-26T00:00:00.000000000&#x27;,\n",
       "       &#x27;2017-07-26T00:00:00.000000000&#x27;, &#x27;2017-08-25T00:00:00.000000000&#x27;,\n",
       "       &#x27;2017-09-24T00:00:00.000000000&#x27;, &#x27;2017-10-24T00:00:00.000000000&#x27;,\n",
       "       &#x27;2017-11-23T00:00:00.000000000&#x27;, &#x27;2017-12-23T00:00:00.000000000&#x27;,\n",
       "       &#x27;2018-01-22T00:00:00.000000000&#x27;, &#x27;2018-02-21T00:00:00.000000000&#x27;],\n",
       "      dtype=&#x27;datetime64[ns]&#x27;)</pre></div></li></ul></div></li><li class='xr-section-item'><input id='section-19b184a6-fcc2-4db3-abd9-49f79b013b3a' class='xr-section-summary-in' type='checkbox'  checked><label for='section-19b184a6-fcc2-4db3-abd9-49f79b013b3a' class='xr-section-summary' >Attributes: <span>(1)</span></label><div class='xr-section-inline-details'></div><div class='xr-section-details'><dl class='xr-attrs'><dt><span>band_descriptions :</span></dt><dd>[&#x27;B1&#x27;, &#x27;B2&#x27;, &#x27;B3&#x27;, &#x27;B4&#x27;, &#x27;B5&#x27;, &#x27;B6&#x27;, &#x27;B7&#x27;, &#x27;B8&#x27;, &#x27;B8A&#x27;, &#x27;B9&#x27;, &#x27;B10&#x27;, &#x27;B11&#x27;, &#x27;B12&#x27;]</dd></dl></div></li></ul></div></div>"
      ],
      "text/plain": [
       "<xarray.DataArray 'FEATURES' (time: 12, band: 13, y: 17, x: 20)>\n",
       "array([[[[0.5254, 0.5254, 0.5254, ..., 0.4357, 0.4357, 0.4357],\n",
       "         [0.5254, 0.5254, 0.5254, ..., 0.4357, 0.4357, 0.4357],\n",
       "         [0.5254, 0.5254, 0.5254, ..., 0.4357, 0.4357, 0.4357],\n",
       "         ...,\n",
       "         [0.5442, 0.5442, 0.5442, ..., 0.3065, 0.3065, 0.2662],\n",
       "         [0.5442, 0.5442, 0.5442, ..., 0.3065, 0.3065, 0.2662],\n",
       "         [0.5442, 0.5442, 0.5442, ..., 0.3065, 0.3065, 0.2662]],\n",
       "\n",
       "        [[0.5138, 0.5151, 0.518 , ..., 0.448 , 0.4359, 0.4359],\n",
       "         [0.5073, 0.509 , 0.5104, ..., 0.445 , 0.4339, 0.4339],\n",
       "         [0.4946, 0.4966, 0.5023, ..., 0.434 , 0.4254, 0.4254],\n",
       "         ...,\n",
       "         [0.5551, 0.5375, 0.5375, ..., 0.2314, 0.2202, 0.2194],\n",
       "         [0.5594, 0.5391, 0.5391, ..., 0.2145, 0.2083, 0.218 ],\n",
       "         [0.5635, 0.5479, 0.5479, ..., 0.198 , 0.1953, 0.2066]],\n",
       "\n",
       "        [[0.4815, 0.4843, 0.4872, ..., 0.4256, 0.413 , 0.413 ],\n",
       "         [0.4698, 0.4726, 0.486 , ..., 0.4173, 0.402 , 0.402 ],\n",
       "         [0.4644, 0.4579, 0.4666, ..., 0.3978, 0.3863, 0.3863],\n",
       "         ...,\n",
       "...\n",
       "         ...,\n",
       "         [0.0017, 0.0017, 0.0017, ..., 0.0016, 0.0016, 0.0019],\n",
       "         [0.0017, 0.0017, 0.0017, ..., 0.0016, 0.0016, 0.0019],\n",
       "         [0.0018, 0.0018, 0.0018, ..., 0.0018, 0.0018, 0.002 ]],\n",
       "\n",
       "        [[0.4195, 0.4147, 0.4147, ..., 0.4353, 0.4353, 0.4533],\n",
       "         [0.41  , 0.4014, 0.4014, ..., 0.4377, 0.4377, 0.4502],\n",
       "         [0.41  , 0.4014, 0.4014, ..., 0.4377, 0.4377, 0.4502],\n",
       "         ...,\n",
       "         [0.4367, 0.4371, 0.4371, ..., 0.4249, 0.4249, 0.4472],\n",
       "         [0.4365, 0.4368, 0.4368, ..., 0.43  , 0.43  , 0.4494],\n",
       "         [0.4453, 0.4439, 0.4439, ..., 0.44  , 0.44  , 0.4573]],\n",
       "\n",
       "        [[0.3457, 0.3384, 0.3384, ..., 0.3734, 0.3734, 0.3708],\n",
       "         [0.3268, 0.3224, 0.3224, ..., 0.3761, 0.3761, 0.3724],\n",
       "         [0.3268, 0.3224, 0.3224, ..., 0.3761, 0.3761, 0.3724],\n",
       "         ...,\n",
       "         [0.3721, 0.3723, 0.3723, ..., 0.354 , 0.354 , 0.3575],\n",
       "         [0.377 , 0.377 , 0.377 , ..., 0.3622, 0.3622, 0.3619],\n",
       "         [0.3762, 0.3762, 0.3762, ..., 0.3633, 0.3633, 0.3639]]]])\n",
       "Coordinates:\n",
       "  * band     (band) int64 0 1 2 3 4 5 6 7 8 9 10 11 12\n",
       "  * y        (y) float64 -32.75 -32.75 -32.75 -32.75 ... -32.75 -32.75 -32.75\n",
       "  * x        (x) float64 138.7 138.7 138.7 138.7 ... 138.7 138.7 138.7 138.7\n",
       "  * time     (time) datetime64[ns] 2017-03-28 2017-04-27 ... 2018-02-21\n",
       "Attributes:\n",
       "    band_descriptions:  ['B1', 'B2', 'B3', 'B4', 'B5', 'B6', 'B7', 'B8', 'B8A..."
      ]
     },
     "execution_count": 17,
     "metadata": {},
     "output_type": "execute_result"
    }
   ],
   "source": [
    "da = engineer.load_tif(tif_example_path, days_per_timestep=30, start_date=file_info[1])\n",
    "da"
   ]
  },
  {
   "cell_type": "code",
   "execution_count": 18,
   "metadata": {},
   "outputs": [],
   "source": [
    "min_lon, min_lat = float(da.x.min()), float(da.y.min())\n",
    "max_lon, max_lat = float(da.x.max()), float(da.y.max())\n",
    "# Get the \"labelled pixel\" that this tif contains (kind of filtering engineer.lables by a bounding box given by tif bounds)\n",
    "overlap = engineer.labels[\n",
    "            (\n",
    "                (engineer.labels.lon <= max_lon)\n",
    "                & (engineer.labels.lon >= min_lon)\n",
    "                & (engineer.labels.lat <= max_lat)\n",
    "                & (engineer.labels.lat >= min_lat)\n",
    "            )\n",
    "        ]"
   ]
  },
  {
   "cell_type": "code",
   "execution_count": 19,
   "metadata": {},
   "outputs": [
    {
     "data": {
      "text/html": [
       "<div>\n",
       "<style scoped>\n",
       "    .dataframe tbody tr th:only-of-type {\n",
       "        vertical-align: middle;\n",
       "    }\n",
       "\n",
       "    .dataframe tbody tr th {\n",
       "        vertical-align: top;\n",
       "    }\n",
       "\n",
       "    .dataframe thead th {\n",
       "        text-align: right;\n",
       "    }\n",
       "</style>\n",
       "<table border=\"1\" class=\"dataframe\">\n",
       "  <thead>\n",
       "    <tr style=\"text-align: right;\">\n",
       "      <th></th>\n",
       "      <th>lat</th>\n",
       "      <th>lon</th>\n",
       "      <th>mean_sumcrop</th>\n",
       "    </tr>\n",
       "  </thead>\n",
       "  <tbody>\n",
       "    <tr>\n",
       "      <th>1060</th>\n",
       "      <td>-32.75</td>\n",
       "      <td>138.651786</td>\n",
       "      <td>25.0</td>\n",
       "    </tr>\n",
       "  </tbody>\n",
       "</table>\n",
       "</div>"
      ],
      "text/plain": [
       "        lat         lon  mean_sumcrop\n",
       "1060 -32.75  138.651786          25.0"
      ]
     },
     "execution_count": 19,
     "metadata": {},
     "output_type": "execute_result"
    }
   ],
   "source": [
    "overlap"
   ]
  },
  {
   "cell_type": "code",
   "execution_count": 20,
   "metadata": {},
   "outputs": [],
   "source": [
    "label_lat = overlap.iloc[0].lat\n",
    "label_lon = overlap.iloc[0].lon\n",
    "\n",
    "# we turn the percentage into a fraction\n",
    "crop_probability = overlap.iloc[0].mean_sumcrop / 100\n",
    "\n",
    "# find the x,y of the pixel that matches the label better\n",
    "closest_lon = engineer.find_nearest(da.x, label_lon)\n",
    "closest_lat = engineer.find_nearest(da.y, label_lat)"
   ]
  },
  {
   "cell_type": "code",
   "execution_count": 21,
   "metadata": {},
   "outputs": [
    {
     "data": {
      "text/plain": [
       "(-32.75, -32.75001506043801)"
      ]
     },
     "execution_count": 21,
     "metadata": {},
     "output_type": "execute_result"
    }
   ],
   "source": [
    "label_lat, closest_lat"
   ]
  },
  {
   "cell_type": "code",
   "execution_count": 22,
   "metadata": {},
   "outputs": [
    {
     "data": {
      "text/plain": [
       "(138.65178569999998, 138.6517750845895)"
      ]
     },
     "execution_count": 22,
     "metadata": {},
     "output_type": "execute_result"
    }
   ],
   "source": [
    "label_lon, closest_lon"
   ]
  },
  {
   "cell_type": "code",
   "execution_count": 23,
   "metadata": {},
   "outputs": [
    {
     "data": {
      "text/plain": [
       "0.25"
      ]
     },
     "execution_count": 23,
     "metadata": {},
     "output_type": "execute_result"
    }
   ],
   "source": [
    "crop_probability"
   ]
  },
  {
   "cell_type": "code",
   "execution_count": 24,
   "metadata": {},
   "outputs": [],
   "source": [
    "labelled_np = da.sel(x=closest_lon).sel(y=closest_lat).values"
   ]
  },
  {
   "cell_type": "code",
   "execution_count": 25,
   "metadata": {},
   "outputs": [
    {
     "data": {
      "text/plain": [
       "(12, 13)"
      ]
     },
     "execution_count": 25,
     "metadata": {},
     "output_type": "execute_result"
    }
   ],
   "source": [
    "da.sel(x=closest_lon).sel(y=closest_lat).values.shape"
   ]
  },
  {
   "cell_type": "code",
   "execution_count": 26,
   "metadata": {},
   "outputs": [],
   "source": [
    "instance = engineer.process_single_file(\n",
    "                path_to_file=tif_example_path,\n",
    "                nan_fill=0.0,\n",
    "                max_nan_ratio=0.3,\n",
    "                add_ndvi=True,\n",
    "                calculate_normalizing_dict=False,\n",
    "                start_date=file_info[1],\n",
    "                days_per_timestep=30,\n",
    "                is_test=True if data_subset == \"testing\" else False,\n",
    ")"
   ]
  },
  {
   "cell_type": "code",
   "execution_count": 27,
   "metadata": {},
   "outputs": [
    {
     "data": {
      "text/plain": [
       "GeoWikiDataInstance(label_lat=-32.75, label_lon=138.65178569999998, instance_lat=-32.75001506043801, instance_lon=138.6517750845895, labelled_array=array([[0.4853    , 0.5092    , 0.475     , 0.5008    , 0.5131    ,\n",
       "        0.5211    , 0.54      , 0.5623    , 0.5529    , 0.3012    ,\n",
       "        0.0069    , 0.486     , 0.3653    , 0.05784968],\n",
       "       [0.182     , 0.1192    , 0.1168    , 0.1163    , 0.1481    ,\n",
       "        0.2243    , 0.2554    , 0.2126    , 0.2834    , 0.1071    ,\n",
       "        0.003     , 0.2346    , 0.1951    , 0.29279416],\n",
       "       [0.1376    , 0.109     , 0.1053    , 0.1141    , 0.1593    ,\n",
       "        0.2346    , 0.2739    , 0.2571    , 0.2987    , 0.115     ,\n",
       "        0.0016    , 0.3003    , 0.2016    , 0.38523707],\n",
       "       [0.2232    , 0.2412    , 0.2081    , 0.2176    , 0.2376    ,\n",
       "        0.2899    , 0.316     , 0.3421    , 0.343     , 0.1162    ,\n",
       "        0.0017    , 0.3061    , 0.2109    , 0.22244059],\n",
       "       [0.128     , 0.1106    , 0.1091    , 0.1338    , 0.1646    ,\n",
       "        0.2285    , 0.2554    , 0.2485    , 0.2846    , 0.1033    ,\n",
       "        0.0016    , 0.317     , 0.2269    , 0.30002616],\n",
       "       [0.1357    , 0.1237    , 0.1218    , 0.1659    , 0.1921    ,\n",
       "        0.2235    , 0.248     , 0.2435    , 0.2742    , 0.1393    ,\n",
       "        0.0034    , 0.3689    , 0.2898    , 0.18954568],\n",
       "       [0.1391    , 0.1327    , 0.1414    , 0.2032    , 0.2203    ,\n",
       "        0.241     , 0.2588    , 0.2522    , 0.2898    , 0.1166    ,\n",
       "        0.0019    , 0.4182    , 0.3415    , 0.10759772],\n",
       "       [0.1453    , 0.1358    , 0.1452    , 0.2017    , 0.2267    ,\n",
       "        0.2472    , 0.2684    , 0.2497    , 0.2996    , 0.0895    ,\n",
       "        0.0019    , 0.426     , 0.3344    , 0.10633584],\n",
       "       [0.1398    , 0.1296    , 0.1442    , 0.2019    , 0.2269    ,\n",
       "        0.2477    , 0.2654    , 0.2516    , 0.2884    , 0.0934    ,\n",
       "        0.0016    , 0.4337    , 0.3741    , 0.10959206],\n",
       "       [0.1434    , 0.1262    , 0.1302    , 0.1602    , 0.1759    ,\n",
       "        0.1975    , 0.2172    , 0.2087    , 0.235     , 0.0896    ,\n",
       "        0.0091    , 0.3143    , 0.2559    , 0.13147194],\n",
       "       [0.1415    , 0.1343    , 0.1504    , 0.2181    , 0.2441    ,\n",
       "        0.2755    , 0.3008    , 0.29      , 0.3271    , 0.0972    ,\n",
       "        0.0018    , 0.4356    , 0.361     , 0.14150758],\n",
       "       [0.1395    , 0.1312    , 0.1507    , 0.215     , 0.2408    ,\n",
       "        0.271     , 0.291     , 0.2851    , 0.32      , 0.116     ,\n",
       "        0.0016    , 0.4335    , 0.3667    , 0.14017197]]), crop_probability=0.25, neighbouring_array=array([[0.4859    , 0.4795    , 0.4438    , 0.4679    , 0.4908    ,\n",
       "        0.4943    , 0.5135    , 0.5334    , 0.5318    , 0.2998    ,\n",
       "        0.0064    , 0.457     , 0.3402    , 0.06541496],\n",
       "       [0.1805    , 0.1468    , 0.1416    , 0.1277    , 0.1629    ,\n",
       "        0.2411    , 0.2672    , 0.2613    , 0.2869    , 0.1104    ,\n",
       "        0.0164    , 0.2145    , 0.1523    , 0.34344473],\n",
       "       [0.1345    , 0.1062    , 0.0995    , 0.0952    , 0.1432    ,\n",
       "        0.2271    , 0.2703    , 0.2804    , 0.3053    , 0.1118    ,\n",
       "        0.0017    , 0.2733    , 0.1612    , 0.49307774],\n",
       "       [0.3064    , 0.2888    , 0.2737    , 0.2992    , 0.324     ,\n",
       "        0.3724    , 0.4012    , 0.3935    , 0.4269    , 0.1762    ,\n",
       "        0.0107    , 0.3506    , 0.2603    , 0.13613397],\n",
       "       [0.1329    , 0.1118    , 0.1071    , 0.1185    , 0.1523    ,\n",
       "        0.2173    , 0.2467    , 0.251     , 0.2729    , 0.1029    ,\n",
       "        0.0016    , 0.2922    , 0.1952    , 0.35859269],\n",
       "       [0.1765    , 0.1596    , 0.1553    , 0.1868    , 0.2183    ,\n",
       "        0.261     , 0.2874    , 0.2904    , 0.3126    , 0.1638    ,\n",
       "        0.0081    , 0.341     , 0.2523    , 0.21709975],\n",
       "       [0.139     , 0.131     , 0.1383    , 0.1914    , 0.2075    ,\n",
       "        0.2263    , 0.2485    , 0.2558    , 0.2781    , 0.1102    ,\n",
       "        0.002     , 0.4029    , 0.3066    , 0.14400716],\n",
       "       [0.162     , 0.1572    , 0.1651    , 0.2193    , 0.2285    ,\n",
       "        0.2471    , 0.2711    , 0.2707    , 0.2988    , 0.1017    ,\n",
       "        0.004     , 0.4205    , 0.3213    , 0.10489796],\n",
       "       [0.1609    , 0.1533    , 0.1652    , 0.2236    , 0.2342    ,\n",
       "        0.2511    , 0.2734    , 0.2677    , 0.2981    , 0.1035    ,\n",
       "        0.0016    , 0.4274    , 0.3646    , 0.08976186],\n",
       "       [0.1467    , 0.1333    , 0.1403    , 0.1856    , 0.1954    ,\n",
       "        0.2131    , 0.2318    , 0.2265    , 0.2546    , 0.0971    ,\n",
       "        0.0086    , 0.3538    , 0.2899    , 0.09924776],\n",
       "       [0.1914    , 0.1736    , 0.1847    , 0.2426    , 0.2597    ,\n",
       "        0.2913    , 0.3167    , 0.3083    , 0.3431    , 0.1325    ,\n",
       "        0.0177    , 0.428     , 0.3467    , 0.11925939],\n",
       "       [0.1434    , 0.1357    , 0.1518    , 0.2143    , 0.2279    ,\n",
       "        0.2537    , 0.2779    , 0.2765    , 0.3025    , 0.1145    ,\n",
       "        0.0017    , 0.4163    , 0.3472    , 0.12673187]]))"
      ]
     },
     "execution_count": 27,
     "metadata": {},
     "output_type": "execute_result"
    }
   ],
   "source": [
    "instance"
   ]
  },
  {
   "cell_type": "code",
   "execution_count": 28,
   "metadata": {},
   "outputs": [],
   "source": [
    "togoeval_engineer = TogoEvaluationEngineer(Path('../data'))"
   ]
  },
  {
   "cell_type": "code",
   "execution_count": 29,
   "metadata": {},
   "outputs": [
    {
     "data": {
      "text/plain": [
       "True"
      ]
     },
     "execution_count": 29,
     "metadata": {},
     "output_type": "execute_result"
    }
   ],
   "source": [
    "togoeval_engineer.eval_only"
   ]
  },
  {
   "cell_type": "markdown",
   "metadata": {},
   "source": [
    "## Filter engineer.labels by Nigeria and create splits"
   ]
  },
  {
   "cell_type": "markdown",
   "metadata": {},
   "source": [
    "Probably can't trust the identifier of the tif files to be the same as the index in the data.nc file, so will need to load all tifs of geowiki in order to get the lat/lon and get the subset inside a country and leave them out the training set. Make a function modifying base.py --> engineer() to get the lat/lon of each instance (output of process_single_file fuction) together with the identifier. Then transfrom this into a geodataframe to make a column of which country the fall on, which I can then use to create my custom train/val/test splits out of geowiki.\n",
    "<br/>\n",
    "<br/>\n",
    "**Steps**:\n",
    "1. Loop over the geospatial files and append the lat/lon of each instance as well as the identifier to a tuple.\n",
    "2. Convert into geospatial dataframe\n",
    "3. Get shapefile of India and Nigeria (perhaps from CropHarvest) to see which labels (identifiers) fall there (or merge with shp of a country to add a column for each country of labels)\n",
    "4. Separate .pkl files of the country of interest\n",
    "5. Assing .pkl files of country of interest to val/test splits\n",
    "6. Assign remaiding geowiki points to train/val split\n",
    "7. Create normalization dictionary from train and val sets"
   ]
  },
  {
   "cell_type": "markdown",
   "metadata": {},
   "source": [
    "**1. Match identifier with lat/lon of label**"
   ]
  },
  {
   "cell_type": "markdown",
   "metadata": {},
   "source": [
    "The following block originally is meant to go inside the for loop processing each file. I just copied it here to have the data_subset variable define so it doesn't complain leater."
   ]
  },
  {
   "cell_type": "code",
   "execution_count": 30,
   "metadata": {},
   "outputs": [],
   "source": [
    "val_set_size = 0.2\n",
    "test_set_size = 0.0\n",
    "if engineer.eval_only:\n",
    "    data_subset = \"testing\"\n",
    "else:\n",
    "    random_float = np.random.uniform()\n",
    "    # we split into (val, test, train)\n",
    "    if random_float <= (val_set_size + test_set_size):\n",
    "        if random_float <= val_set_size:\n",
    "            data_subset = \"validation\"\n",
    "        else:\n",
    "            data_subset = \"testing\"\n",
    "    else:\n",
    "        data_subset = \"training\"                "
   ]
  },
  {
   "cell_type": "code",
   "execution_count": 31,
   "metadata": {},
   "outputs": [
    {
     "data": {
      "text/plain": [
       "0.3745401188473625"
      ]
     },
     "execution_count": 31,
     "metadata": {},
     "output_type": "execute_result"
    }
   ],
   "source": [
    "random_float"
   ]
  },
  {
   "cell_type": "code",
   "execution_count": 32,
   "metadata": {},
   "outputs": [
    {
     "name": "stdout",
     "output_type": "stream",
     "text": [
      "File identifiers_plus_cropland_prob.csv loaded!\n"
     ]
    }
   ],
   "source": [
    "target_file = 'identifiers_plus_cropland_prob.csv'\n",
    "path = engineer.savedir / target_file\n",
    "if path.exists():\n",
    "    df = pd.read_csv(engineer.savedir / target_file)\n",
    "    print(f'File {target_file} loaded!')\n",
    "else:\n",
    "    tuples = []\n",
    "    for file_path in engineer.geospatial_files:\n",
    "        file_info = engineer.process_filename(file_path.name, True)\n",
    "        if file_info is None:\n",
    "            continue\n",
    "        identifier, start_date, end_date = file_info\n",
    "        file_name = f\"{identifier}_{str(start_date.date())}_{str(end_date.date())}\"\n",
    "\n",
    "        instance = engineer.process_single_file(\n",
    "                    file_path,\n",
    "                    nan_fill=0.0,\n",
    "                    max_nan_ratio=0.3,\n",
    "                    add_ndvi=True,\n",
    "                    calculate_normalizing_dict=False,\n",
    "                    start_date=start_date,\n",
    "                    days_per_timestep=30,\n",
    "                    is_test=True if data_subset == \"testing\" else False,\n",
    "                )\n",
    "        tuples.append((identifier, instance.instance_lat, instance.instance_lon, instance.crop_probability))\n",
    "        \n",
    "    df = pd.DataFrame(tuples, columns=['identifier', 'lat', 'lon', 'crop_probability'])\n",
    "    df.to_csv(engineer.savedir / target_file, index=False)\n",
    "    print(f'File {target_file} written to disk!')"
   ]
  },
  {
   "cell_type": "code",
   "execution_count": 33,
   "metadata": {},
   "outputs": [],
   "source": [
    "df = df.sort_values(by=['identifier']).reset_index(drop=True)"
   ]
  },
  {
   "cell_type": "code",
   "execution_count": 34,
   "metadata": {},
   "outputs": [
    {
     "data": {
      "text/html": [
       "<div>\n",
       "<style scoped>\n",
       "    .dataframe tbody tr th:only-of-type {\n",
       "        vertical-align: middle;\n",
       "    }\n",
       "\n",
       "    .dataframe tbody tr th {\n",
       "        vertical-align: top;\n",
       "    }\n",
       "\n",
       "    .dataframe thead th {\n",
       "        text-align: right;\n",
       "    }\n",
       "</style>\n",
       "<table border=\"1\" class=\"dataframe\">\n",
       "  <thead>\n",
       "    <tr style=\"text-align: right;\">\n",
       "      <th></th>\n",
       "      <th>identifier</th>\n",
       "      <th>lat</th>\n",
       "      <th>lon</th>\n",
       "      <th>crop_probability</th>\n",
       "    </tr>\n",
       "  </thead>\n",
       "  <tbody>\n",
       "    <tr>\n",
       "      <th>0</th>\n",
       "      <td>0</td>\n",
       "      <td>-54.547635</td>\n",
       "      <td>-68.750000</td>\n",
       "      <td>0.000</td>\n",
       "    </tr>\n",
       "    <tr>\n",
       "      <th>1</th>\n",
       "      <td>1</td>\n",
       "      <td>-54.047633</td>\n",
       "      <td>-68.249998</td>\n",
       "      <td>0.000</td>\n",
       "    </tr>\n",
       "    <tr>\n",
       "      <th>2</th>\n",
       "      <td>2</td>\n",
       "      <td>-53.547631</td>\n",
       "      <td>-68.750000</td>\n",
       "      <td>0.000</td>\n",
       "    </tr>\n",
       "    <tr>\n",
       "      <th>3</th>\n",
       "      <td>3</td>\n",
       "      <td>-53.547631</td>\n",
       "      <td>-68.249998</td>\n",
       "      <td>0.048</td>\n",
       "    </tr>\n",
       "    <tr>\n",
       "      <th>4</th>\n",
       "      <td>4</td>\n",
       "      <td>-53.047629</td>\n",
       "      <td>-69.750005</td>\n",
       "      <td>0.000</td>\n",
       "    </tr>\n",
       "    <tr>\n",
       "      <th>...</th>\n",
       "      <td>...</td>\n",
       "      <td>...</td>\n",
       "      <td>...</td>\n",
       "      <td>...</td>\n",
       "    </tr>\n",
       "    <tr>\n",
       "      <th>35594</th>\n",
       "      <td>35610</td>\n",
       "      <td>60.952354</td>\n",
       "      <td>73.750023</td>\n",
       "      <td>0.140</td>\n",
       "    </tr>\n",
       "    <tr>\n",
       "      <th>35595</th>\n",
       "      <td>35611</td>\n",
       "      <td>60.952354</td>\n",
       "      <td>163.749985</td>\n",
       "      <td>0.000</td>\n",
       "    </tr>\n",
       "    <tr>\n",
       "      <th>35596</th>\n",
       "      <td>35612</td>\n",
       "      <td>60.952354</td>\n",
       "      <td>50.250005</td>\n",
       "      <td>0.600</td>\n",
       "    </tr>\n",
       "    <tr>\n",
       "      <th>35597</th>\n",
       "      <td>35614</td>\n",
       "      <td>61.249966</td>\n",
       "      <td>22.952360</td>\n",
       "      <td>0.130</td>\n",
       "    </tr>\n",
       "    <tr>\n",
       "      <th>35598</th>\n",
       "      <td>35622</td>\n",
       "      <td>61.452356</td>\n",
       "      <td>-6.749986</td>\n",
       "      <td>0.000</td>\n",
       "    </tr>\n",
       "  </tbody>\n",
       "</table>\n",
       "<p>35599 rows × 4 columns</p>\n",
       "</div>"
      ],
      "text/plain": [
       "       identifier        lat         lon  crop_probability\n",
       "0               0 -54.547635  -68.750000             0.000\n",
       "1               1 -54.047633  -68.249998             0.000\n",
       "2               2 -53.547631  -68.750000             0.000\n",
       "3               3 -53.547631  -68.249998             0.048\n",
       "4               4 -53.047629  -69.750005             0.000\n",
       "...           ...        ...         ...               ...\n",
       "35594       35610  60.952354   73.750023             0.140\n",
       "35595       35611  60.952354  163.749985             0.000\n",
       "35596       35612  60.952354   50.250005             0.600\n",
       "35597       35614  61.249966   22.952360             0.130\n",
       "35598       35622  61.452356   -6.749986             0.000\n",
       "\n",
       "[35599 rows x 4 columns]"
      ]
     },
     "execution_count": 34,
     "metadata": {},
     "output_type": "execute_result"
    }
   ],
   "source": [
    "df"
   ]
  },
  {
   "cell_type": "markdown",
   "metadata": {},
   "source": [
    "**2. Convert into geospatial dataframe**"
   ]
  },
  {
   "cell_type": "code",
   "execution_count": 35,
   "metadata": {},
   "outputs": [],
   "source": [
    "geowiki_points = gpd.GeoDataFrame(df, geometry=gpd.points_from_xy(df['lon'], df['lat']))"
   ]
  },
  {
   "cell_type": "code",
   "execution_count": 36,
   "metadata": {},
   "outputs": [
    {
     "data": {
      "text/html": [
       "<div>\n",
       "<style scoped>\n",
       "    .dataframe tbody tr th:only-of-type {\n",
       "        vertical-align: middle;\n",
       "    }\n",
       "\n",
       "    .dataframe tbody tr th {\n",
       "        vertical-align: top;\n",
       "    }\n",
       "\n",
       "    .dataframe thead th {\n",
       "        text-align: right;\n",
       "    }\n",
       "</style>\n",
       "<table border=\"1\" class=\"dataframe\">\n",
       "  <thead>\n",
       "    <tr style=\"text-align: right;\">\n",
       "      <th></th>\n",
       "      <th>identifier</th>\n",
       "      <th>lat</th>\n",
       "      <th>lon</th>\n",
       "      <th>crop_probability</th>\n",
       "      <th>geometry</th>\n",
       "    </tr>\n",
       "  </thead>\n",
       "  <tbody>\n",
       "    <tr>\n",
       "      <th>0</th>\n",
       "      <td>0</td>\n",
       "      <td>-54.547635</td>\n",
       "      <td>-68.750000</td>\n",
       "      <td>0.000</td>\n",
       "      <td>POINT (-68.75000 -54.54764)</td>\n",
       "    </tr>\n",
       "    <tr>\n",
       "      <th>1</th>\n",
       "      <td>1</td>\n",
       "      <td>-54.047633</td>\n",
       "      <td>-68.249998</td>\n",
       "      <td>0.000</td>\n",
       "      <td>POINT (-68.25000 -54.04763)</td>\n",
       "    </tr>\n",
       "    <tr>\n",
       "      <th>2</th>\n",
       "      <td>2</td>\n",
       "      <td>-53.547631</td>\n",
       "      <td>-68.750000</td>\n",
       "      <td>0.000</td>\n",
       "      <td>POINT (-68.75000 -53.54763)</td>\n",
       "    </tr>\n",
       "    <tr>\n",
       "      <th>3</th>\n",
       "      <td>3</td>\n",
       "      <td>-53.547631</td>\n",
       "      <td>-68.249998</td>\n",
       "      <td>0.048</td>\n",
       "      <td>POINT (-68.25000 -53.54763)</td>\n",
       "    </tr>\n",
       "    <tr>\n",
       "      <th>4</th>\n",
       "      <td>4</td>\n",
       "      <td>-53.047629</td>\n",
       "      <td>-69.750005</td>\n",
       "      <td>0.000</td>\n",
       "      <td>POINT (-69.75000 -53.04763)</td>\n",
       "    </tr>\n",
       "    <tr>\n",
       "      <th>...</th>\n",
       "      <td>...</td>\n",
       "      <td>...</td>\n",
       "      <td>...</td>\n",
       "      <td>...</td>\n",
       "      <td>...</td>\n",
       "    </tr>\n",
       "    <tr>\n",
       "      <th>35594</th>\n",
       "      <td>35610</td>\n",
       "      <td>60.952354</td>\n",
       "      <td>73.750023</td>\n",
       "      <td>0.140</td>\n",
       "      <td>POINT (73.75002 60.95235)</td>\n",
       "    </tr>\n",
       "    <tr>\n",
       "      <th>35595</th>\n",
       "      <td>35611</td>\n",
       "      <td>60.952354</td>\n",
       "      <td>163.749985</td>\n",
       "      <td>0.000</td>\n",
       "      <td>POINT (163.74999 60.95235)</td>\n",
       "    </tr>\n",
       "    <tr>\n",
       "      <th>35596</th>\n",
       "      <td>35612</td>\n",
       "      <td>60.952354</td>\n",
       "      <td>50.250005</td>\n",
       "      <td>0.600</td>\n",
       "      <td>POINT (50.25001 60.95235)</td>\n",
       "    </tr>\n",
       "    <tr>\n",
       "      <th>35597</th>\n",
       "      <td>35614</td>\n",
       "      <td>61.249966</td>\n",
       "      <td>22.952360</td>\n",
       "      <td>0.130</td>\n",
       "      <td>POINT (22.95236 61.24997)</td>\n",
       "    </tr>\n",
       "    <tr>\n",
       "      <th>35598</th>\n",
       "      <td>35622</td>\n",
       "      <td>61.452356</td>\n",
       "      <td>-6.749986</td>\n",
       "      <td>0.000</td>\n",
       "      <td>POINT (-6.74999 61.45236)</td>\n",
       "    </tr>\n",
       "  </tbody>\n",
       "</table>\n",
       "<p>35599 rows × 5 columns</p>\n",
       "</div>"
      ],
      "text/plain": [
       "       identifier        lat         lon  crop_probability  \\\n",
       "0               0 -54.547635  -68.750000             0.000   \n",
       "1               1 -54.047633  -68.249998             0.000   \n",
       "2               2 -53.547631  -68.750000             0.000   \n",
       "3               3 -53.547631  -68.249998             0.048   \n",
       "4               4 -53.047629  -69.750005             0.000   \n",
       "...           ...        ...         ...               ...   \n",
       "35594       35610  60.952354   73.750023             0.140   \n",
       "35595       35611  60.952354  163.749985             0.000   \n",
       "35596       35612  60.952354   50.250005             0.600   \n",
       "35597       35614  61.249966   22.952360             0.130   \n",
       "35598       35622  61.452356   -6.749986             0.000   \n",
       "\n",
       "                          geometry  \n",
       "0      POINT (-68.75000 -54.54764)  \n",
       "1      POINT (-68.25000 -54.04763)  \n",
       "2      POINT (-68.75000 -53.54763)  \n",
       "3      POINT (-68.25000 -53.54763)  \n",
       "4      POINT (-69.75000 -53.04763)  \n",
       "...                            ...  \n",
       "35594    POINT (73.75002 60.95235)  \n",
       "35595   POINT (163.74999 60.95235)  \n",
       "35596    POINT (50.25001 60.95235)  \n",
       "35597    POINT (22.95236 61.24997)  \n",
       "35598    POINT (-6.74999 61.45236)  \n",
       "\n",
       "[35599 rows x 5 columns]"
      ]
     },
     "execution_count": 36,
     "metadata": {},
     "output_type": "execute_result"
    }
   ],
   "source": [
    "geowiki_points"
   ]
  },
  {
   "cell_type": "code",
   "execution_count": 37,
   "metadata": {},
   "outputs": [
    {
     "data": {
      "text/plain": [
       "<AxesSubplot:>"
      ]
     },
     "execution_count": 37,
     "metadata": {},
     "output_type": "execute_result"
    },
    {
     "data": {
      "image/png": "[encoded data removed]",
      "text/plain": [
       "<Figure size 432x288 with 1 Axes>"
      ]
     },
     "metadata": {
      "needs_background": "light"
     },
     "output_type": "display_data"
    }
   ],
   "source": [
    "geowiki_points.plot()"
   ]
  },
  {
   "cell_type": "markdown",
   "metadata": {},
   "source": [
    "**3. Get shape file of India and Nigeria and get identifiers of geowiki that fall there**"
   ]
  },
  {
   "cell_type": "code",
   "execution_count": 38,
   "metadata": {},
   "outputs": [],
   "source": [
    "#world_map = gpd.read_file('/home/gajo/miniconda3/envs/mlcropland-himachal/lib/python3.9/site-packages/cropharvest/country_shapefile/ne_50m_admin_0_countries.shp')\n",
    "world_map = gpd.read_file('../assets/ne_50m_admin_0_countries/ne_50m_admin_0_countries.shp')"
   ]
  },
  {
   "cell_type": "code",
   "execution_count": 39,
   "metadata": {},
   "outputs": [
    {
     "data": {
      "text/plain": [
       "<AxesSubplot:>"
      ]
     },
     "execution_count": 39,
     "metadata": {},
     "output_type": "execute_result"
    },
    {
     "data": {
      "image/png": "[encoded data removed]",
      "text/plain": [
       "<Figure size 432x288 with 1 Axes>"
      ]
     },
     "metadata": {
      "needs_background": "light"
     },
     "output_type": "display_data"
    }
   ],
   "source": [
    "world_map.plot()"
   ]
  },
  {
   "cell_type": "code",
   "execution_count": 40,
   "metadata": {},
   "outputs": [
    {
     "data": {
      "text/plain": [
       "<AxesSubplot:>"
      ]
     },
     "execution_count": 40,
     "metadata": {},
     "output_type": "execute_result"
    },
    {
     "data": {
      "image/png": "[encoded data removed]",
      "text/plain": [
       "<Figure size 720x720 with 1 Axes>"
      ]
     },
     "metadata": {
      "needs_background": "light"
     },
     "output_type": "display_data"
    }
   ],
   "source": [
    "country = 'Nigeria' # 'India'\n",
    "country_shp = world_map[world_map['SOVEREIGNT'] == country].reset_index(drop=True)\n",
    "\n",
    "country_points_mask = geowiki_points.within(country_shp.loc[0, 'geometry'])\n",
    "country_points = geowiki_points.loc[country_points_mask]\n",
    "\n",
    "#Plot\n",
    "fig, ax = plt.subplots(1,1, figsize=(10,10))\n",
    "country_shp.plot(ax=ax)\n",
    "country_points.plot(ax=ax,color='red')"
   ]
  },
  {
   "cell_type": "code",
   "execution_count": 41,
   "metadata": {
    "scrolled": true
   },
   "outputs": [
    {
     "data": {
      "text/plain": [
       "490"
      ]
     },
     "execution_count": 41,
     "metadata": {},
     "output_type": "execute_result"
    }
   ],
   "source": [
    "ids = country_points['identifier'].values.tolist()\n",
    "len(ids)"
   ]
  },
  {
   "cell_type": "code",
   "execution_count": 42,
   "metadata": {},
   "outputs": [
    {
     "name": "stdout",
     "output_type": "stream",
     "text": [
      "None\n"
     ]
    }
   ],
   "source": [
    "print(country_points.crs)"
   ]
  },
  {
   "cell_type": "code",
   "execution_count": 43,
   "metadata": {},
   "outputs": [],
   "source": [
    "country_points\n",
    "country_points = country_points.set_crs('epsg:4326')"
   ]
  },
  {
   "cell_type": "code",
   "execution_count": 44,
   "metadata": {},
   "outputs": [
    {
     "data": {
      "text/plain": [
       "<Geographic 2D CRS: EPSG:4326>\n",
       "Name: WGS 84\n",
       "Axis Info [ellipsoidal]:\n",
       "- Lat[north]: Geodetic latitude (degree)\n",
       "- Lon[east]: Geodetic longitude (degree)\n",
       "Area of Use:\n",
       "- name: World\n",
       "- bounds: (-180.0, -90.0, 180.0, 90.0)\n",
       "Datum: World Geodetic System 1984\n",
       "- Ellipsoid: WGS 84\n",
       "- Prime Meridian: Greenwich"
      ]
     },
     "execution_count": 44,
     "metadata": {},
     "output_type": "execute_result"
    }
   ],
   "source": [
    "country_points.crs"
   ]
  },
  {
   "cell_type": "code",
   "execution_count": 45,
   "metadata": {},
   "outputs": [
    {
     "data": {
      "text/plain": [
       "<Geographic 2D CRS: EPSG:4326>\n",
       "Name: WGS 84\n",
       "Axis Info [ellipsoidal]:\n",
       "- Lat[north]: Geodetic latitude (degree)\n",
       "- Lon[east]: Geodetic longitude (degree)\n",
       "Area of Use:\n",
       "- name: World\n",
       "- bounds: (-180.0, -90.0, 180.0, 90.0)\n",
       "Datum: World Geodetic System 1984\n",
       "- Ellipsoid: WGS 84\n",
       "- Prime Meridian: Greenwich"
      ]
     },
     "execution_count": 45,
     "metadata": {},
     "output_type": "execute_result"
    }
   ],
   "source": [
    "country_points.crs"
   ]
  },
  {
   "cell_type": "code",
   "execution_count": 46,
   "metadata": {},
   "outputs": [],
   "source": [
    "out_path = Path(f'/mnt/N/dataorg-datasets/MLsatellite/cropland-GEE-data/Global/Geowiki/country_points/{country}_points.shp')\n",
    "if not path.exists():\n",
    "    country_points.to_file(out_path)\n",
    "    print(f'File {out_path} written to disk!')"
   ]
  },
  {
   "cell_type": "markdown",
   "metadata": {},
   "source": [
    "**4. Separate .pkl files from country of interest into validation set**"
   ]
  },
  {
   "cell_type": "markdown",
   "metadata": {},
   "source": [
    "Easiest is to just use the processed .pkl files and move them around for train/val/test. I have already created a folder and copied all the processed geowiki files with bash commands"
   ]
  },
  {
   "cell_type": "code",
   "execution_count": 67,
   "metadata": {},
   "outputs": [],
   "source": [
    "subfolder = 'fully_exclude_nigeria'\n",
    "pkl_files = list((engineer.savedir / subfolder / 'all').glob('*.pkl'))"
   ]
  },
  {
   "cell_type": "code",
   "execution_count": 68,
   "metadata": {},
   "outputs": [
    {
     "data": {
      "text/plain": [
       "35599"
      ]
     },
     "execution_count": 68,
     "metadata": {},
     "output_type": "execute_result"
    }
   ],
   "source": [
    "len(pkl_files)"
   ]
  },
  {
   "cell_type": "markdown",
   "metadata": {},
   "source": [
    "The previously defined ids variable contains the geowiki files identifiers belonging to the target country. We can use it to filter the pickle files."
   ]
  },
  {
   "cell_type": "code",
   "execution_count": 69,
   "metadata": {},
   "outputs": [],
   "source": [
    "files = []\n",
    "for file_path in pkl_files:\n",
    "    file_info = engineer.process_filename(file_path.name, True)\n",
    "    identifier, start_date, end_date = file_info\n",
    "    if int(identifier) in ids:\n",
    "        files.append(file_path)"
   ]
  },
  {
   "cell_type": "code",
   "execution_count": 70,
   "metadata": {},
   "outputs": [
    {
     "data": {
      "text/plain": [
       "(490,\n",
       " PosixPath('../data/features/geowiki_landcover_2017/fully_exclude_nigeria/all/11281_2017-03-28_2018-03-28.pkl'))"
      ]
     },
     "execution_count": 70,
     "metadata": {},
     "output_type": "execute_result"
    }
   ],
   "source": [
    "len(files), files[0]"
   ]
  },
  {
   "cell_type": "markdown",
   "metadata": {},
   "source": [
    "Create validation folder and move all Nigeria files there"
   ]
  },
  {
   "cell_type": "code",
   "execution_count": 71,
   "metadata": {},
   "outputs": [],
   "source": [
    "data_subset = 'validation'\n",
    "target_folder = engineer.savedir / subfolder / data_subset\n",
    "target_folder.mkdir(exist_ok=True)"
   ]
  },
  {
   "cell_type": "code",
   "execution_count": 72,
   "metadata": {},
   "outputs": [],
   "source": [
    "for file in files:\n",
    "    file.rename(target_folder / file.name)"
   ]
  },
  {
   "cell_type": "markdown",
   "metadata": {},
   "source": [
    "**5. Assign .pkl files of country of interest to val/test splits**"
   ]
  },
  {
   "cell_type": "code",
   "execution_count": 74,
   "metadata": {},
   "outputs": [],
   "source": [
    "files = list((engineer.savedir / subfolder / 'validation').glob('*.pkl'))"
   ]
  },
  {
   "cell_type": "code",
   "execution_count": 75,
   "metadata": {},
   "outputs": [
    {
     "data": {
      "text/plain": [
       "490"
      ]
     },
     "execution_count": 75,
     "metadata": {},
     "output_type": "execute_result"
    }
   ],
   "source": [
    "len(files)"
   ]
  },
  {
   "cell_type": "markdown",
   "metadata": {},
   "source": [
    "**IMPORTANT: note that this is only random splitting without considering spatial correlation**"
   ]
  },
  {
   "cell_type": "code",
   "execution_count": 76,
   "metadata": {},
   "outputs": [],
   "source": [
    "np.random.seed(0)\n",
    "test_set_size = 0.7  #given that for validation we still have geowiki data\n",
    "\n",
    "for file in files:\n",
    "    random_float = np.random.uniform()\n",
    "    # Move to testing folder only if \n",
    "    if random_float <= test_set_size:\n",
    "        data_subset = \"testing\"\n",
    "        target_folder = engineer.savedir / subfolder / data_subset\n",
    "        target_folder.mkdir(exist_ok=True)\n",
    "        file.rename(target_folder / file.name)"
   ]
  },
  {
   "cell_type": "markdown",
   "metadata": {},
   "source": [
    "**6. Assign remaining geowiki points to train/val split**"
   ]
  },
  {
   "cell_type": "code",
   "execution_count": 77,
   "metadata": {},
   "outputs": [],
   "source": [
    "pkl_files_rest = list((engineer.savedir / subfolder / 'all').glob('*.pkl'))"
   ]
  },
  {
   "cell_type": "code",
   "execution_count": 78,
   "metadata": {},
   "outputs": [
    {
     "data": {
      "text/plain": [
       "35109"
      ]
     },
     "execution_count": 78,
     "metadata": {},
     "output_type": "execute_result"
    }
   ],
   "source": [
    "len(pkl_files_rest)"
   ]
  },
  {
   "cell_type": "code",
   "execution_count": 79,
   "metadata": {},
   "outputs": [],
   "source": [
    "data_subset = 'training'\n",
    "target_folder = engineer.savedir / subfolder / data_subset\n",
    "target_folder.mkdir(exist_ok=True)"
   ]
  },
  {
   "cell_type": "code",
   "execution_count": 80,
   "metadata": {},
   "outputs": [],
   "source": [
    "for file in pkl_files_rest:\n",
    "    file.rename(target_folder / file.name)"
   ]
  },
  {
   "cell_type": "markdown",
   "metadata": {},
   "source": [
    "Split geowiki between training and validation"
   ]
  },
  {
   "cell_type": "code",
   "execution_count": 81,
   "metadata": {},
   "outputs": [],
   "source": [
    "pkl_files_rest = list((engineer.savedir / subfolder / 'training').glob('*.pkl'))"
   ]
  },
  {
   "cell_type": "code",
   "execution_count": 82,
   "metadata": {},
   "outputs": [
    {
     "data": {
      "text/plain": [
       "35109"
      ]
     },
     "execution_count": 82,
     "metadata": {},
     "output_type": "execute_result"
    }
   ],
   "source": [
    "len(pkl_files_rest)"
   ]
  },
  {
   "cell_type": "code",
   "execution_count": 83,
   "metadata": {},
   "outputs": [],
   "source": [
    "np.random.seed(0)\n",
    "val_set_size = 0.2\n",
    "test_set_size = 0.0\n",
    "\n",
    "for file in pkl_files_rest:\n",
    "    # Determine where to move file \n",
    "    if engineer.eval_only:\n",
    "        data_subset = \"testing\"\n",
    "    else:\n",
    "        random_float = np.random.uniform()\n",
    "        # we split into (val, test, train)\n",
    "        if random_float <= (val_set_size + test_set_size):\n",
    "            if random_float <= val_set_size:\n",
    "                data_subset = \"validation\"\n",
    "            else:\n",
    "                data_subset = \"testing\"\n",
    "        else:\n",
    "            data_subset = \"training\"\n",
    "    # Move file\n",
    "    target_path = engineer.savedir / subfolder / data_subset / file.name   \n",
    "    file.rename(target_path)"
   ]
  },
  {
   "cell_type": "code",
   "execution_count": 84,
   "metadata": {},
   "outputs": [],
   "source": [
    "(engineer.savedir / subfolder / 'all').rmdir()"
   ]
  },
  {
   "cell_type": "markdown",
   "metadata": {},
   "source": [
    "Final split results in approx. 78.5%/20.5%/1%: ((27957+7301+351)/35599)"
   ]
  },
  {
   "cell_type": "markdown",
   "metadata": {},
   "source": [
    "**7. Create normalizing dictionaries from training and validation set**"
   ]
  },
  {
   "cell_type": "markdown",
   "metadata": {},
   "source": [
    "Normally the normalizing dict is created when using the engineer, but since we create this folder in another way, we need to create it manually."
   ]
  },
  {
   "cell_type": "markdown",
   "metadata": {},
   "source": [
    "We initialize a model so to be able to access the train, val data loaders to create the normalizing dictionary "
   ]
  },
  {
   "cell_type": "code",
   "execution_count": 15,
   "metadata": {},
   "outputs": [
    {
     "name": "stdout",
     "output_type": "stream",
     "text": [
      "Number of geowiki instances in training set: 27947\n"
     ]
    },
    {
     "data": {
      "text/plain": [
       "Namespace(add_geowiki=True, add_togo=False, alpha=10, batch_size=64, data_folder='/home/gajo/code/togo-crop-mask/notebooks/../data', hidden_vector_size=64, learning_rate=0.001, rnn_dropout=0.2, model_base='lstm', multi_headed=False, num_classification_layers=1, num_rnn_layers=1, probability_threshold=0.5, remove_b1_b10=False)"
      ]
     },
     "execution_count": 15,
     "metadata": {},
     "output_type": "execute_result"
    }
   ],
   "source": [
    "#Get model default args\n",
    "parser = ArgumentParser()\n",
    "model_args = STR2MODEL[\"land_cover\"].add_model_specific_args(parser).parse_args(args=[]) \n",
    "model_args_dict = vars(model_args)\n",
    "\n",
    "# Change default hyperparameters\n",
    "model_args_dict['add_togo'] = False\n",
    "model_args_dict['multi_headed'] = False\n",
    "model_args_dict['num_classification_layers'] = 1\n",
    "model_args_dict['remove_b1_b10'] = False\n",
    "\n",
    "# Initialize model\n",
    "model_args = Namespace(**model_args_dict)\n",
    "model = STR2MODEL[\"land_cover\"](model_args)\n",
    "model.hparams"
   ]
  },
  {
   "cell_type": "code",
   "execution_count": 16,
   "metadata": {},
   "outputs": [
    {
     "name": "stdout",
     "output_type": "stream",
     "text": [
      "Normalizing dict already exists and can be access through model.normalizing_dict.\n"
     ]
    }
   ],
   "source": [
    "# Calculate normalizing dict of folder with custom split\n",
    "if not model.normalizing_dict:\n",
    "    engineer = GeoWikiEngineer(Path('../data'))\n",
    "    \n",
    "    # Use both train and val data loaders\n",
    "    for batch in model.train_dataloader(): # This won't create the normalizing dict so val values will be the raw ones\n",
    "        batch_x, batch_y, batch_weight = batch\n",
    "        for x in batch_x:\n",
    "            engineer.update_normalizing_values(x.numpy())\n",
    "\n",
    "    for batch in model.val_dataloader():\n",
    "        batch_x, batch_y, batch_weight = batch\n",
    "        for x in batch_x:\n",
    "            engineer.update_normalizing_values(x.numpy())\n",
    "\n",
    "    normalizing_dict = engineer.calculate_normalizing_dict()\n",
    "    model.normalizing_dict = normalizing_dict\n",
    "\n",
    "    savedir = model.data_folder / \"features\" / engineer.dataset / 'fully_exclude_nigeria'\n",
    "    if normalizing_dict is not None:\n",
    "        save_path = savedir / \"normalizing_dict.pkl\"\n",
    "        with save_path.open(\"wb\") as f:\n",
    "            pickle.dump(normalizing_dict, f)\n",
    "    else:\n",
    "        print(\"No normalizing dict calculated!\")\n",
    "else:\n",
    "    print('Normalizing dict already exists and can be access through model.normalizing_dict.')"
   ]
  },
  {
   "cell_type": "code",
   "execution_count": null,
   "metadata": {},
   "outputs": [],
   "source": []
  }
 ],
 "metadata": {
  "kernelspec": {
   "display_name": "Python 3.6.13 ('togo-paper')",
   "language": "python",
   "name": "python3"
  },
  "language_info": {
   "codemirror_mode": {
    "name": "ipython",
    "version": 3
   },
   "file_extension": ".py",
   "mimetype": "text/x-python",
   "name": "python",
   "nbconvert_exporter": "python",
   "pygments_lexer": "ipython3",
   "version": "3.6.13"
  },
  "vscode": {
   "interpreter": {
    "hash": "f1d702b24b358fb38573032b2736288a41648cae2db041d7fdb41486d06c5511"
   }
  }
 },
 "nbformat": 4,
 "nbformat_minor": 4
}
