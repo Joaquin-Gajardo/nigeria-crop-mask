{
 "cells": [
  {
   "cell_type": "code",
   "execution_count": 2,
   "metadata": {},
   "outputs": [],
   "source": [
    "import os\n",
    "from pathlib import Path\n",
    "import sys\n",
    "\n",
    "import numpy as np\n",
    "import matplotlib.pyplot as plt\n",
    "import geopandas as gpd\n",
    "import shapely\n",
    "import xarray\n",
    "import rioxarray\n",
    "import rasterio"
   ]
  },
  {
   "cell_type": "markdown",
   "metadata": {},
   "source": [
    "### Read Nigeria shapefile"
   ]
  },
  {
   "cell_type": "code",
   "execution_count": 3,
   "metadata": {},
   "outputs": [
    {
     "data": {
      "text/html": [
       "<div>\n",
       "<style scoped>\n",
       "    .dataframe tbody tr th:only-of-type {\n",
       "        vertical-align: middle;\n",
       "    }\n",
       "\n",
       "    .dataframe tbody tr th {\n",
       "        vertical-align: top;\n",
       "    }\n",
       "\n",
       "    .dataframe thead th {\n",
       "        text-align: right;\n",
       "    }\n",
       "</style>\n",
       "<table border=\"1\" class=\"dataframe\">\n",
       "  <thead>\n",
       "    <tr style=\"text-align: right;\">\n",
       "      <th></th>\n",
       "      <th>featurecla</th>\n",
       "      <th>scalerank</th>\n",
       "      <th>LABELRANK</th>\n",
       "      <th>SOVEREIGNT</th>\n",
       "      <th>SOV_A3</th>\n",
       "      <th>ADM0_DIF</th>\n",
       "      <th>LEVEL</th>\n",
       "      <th>TYPE</th>\n",
       "      <th>ADMIN</th>\n",
       "      <th>ADM0_A3</th>\n",
       "      <th>...</th>\n",
       "      <th>FCLASS_TR</th>\n",
       "      <th>FCLASS_ID</th>\n",
       "      <th>FCLASS_PL</th>\n",
       "      <th>FCLASS_GR</th>\n",
       "      <th>FCLASS_IT</th>\n",
       "      <th>FCLASS_NL</th>\n",
       "      <th>FCLASS_SE</th>\n",
       "      <th>FCLASS_BD</th>\n",
       "      <th>FCLASS_UA</th>\n",
       "      <th>geometry</th>\n",
       "    </tr>\n",
       "  </thead>\n",
       "  <tbody>\n",
       "    <tr>\n",
       "      <th>0</th>\n",
       "      <td>Admin-0 country</td>\n",
       "      <td>1</td>\n",
       "      <td>2</td>\n",
       "      <td>Nigeria</td>\n",
       "      <td>NGA</td>\n",
       "      <td>0</td>\n",
       "      <td>2</td>\n",
       "      <td>Sovereign country</td>\n",
       "      <td>Nigeria</td>\n",
       "      <td>NGA</td>\n",
       "      <td>...</td>\n",
       "      <td>None</td>\n",
       "      <td>None</td>\n",
       "      <td>None</td>\n",
       "      <td>None</td>\n",
       "      <td>None</td>\n",
       "      <td>None</td>\n",
       "      <td>None</td>\n",
       "      <td>None</td>\n",
       "      <td>None</td>\n",
       "      <td>MULTIPOLYGON (((7.30078 4.41816, 7.20391 4.387...</td>\n",
       "    </tr>\n",
       "  </tbody>\n",
       "</table>\n",
       "<p>1 rows × 162 columns</p>\n",
       "</div>"
      ],
      "text/plain": [
       "        featurecla  scalerank  LABELRANK SOVEREIGNT SOV_A3  ADM0_DIF  LEVEL  \\\n",
       "0  Admin-0 country          1          2    Nigeria    NGA         0      2   \n",
       "\n",
       "                TYPE    ADMIN ADM0_A3  ...  FCLASS_TR FCLASS_ID FCLASS_PL  \\\n",
       "0  Sovereign country  Nigeria     NGA  ...       None      None      None   \n",
       "\n",
       "   FCLASS_GR FCLASS_IT FCLASS_NL  FCLASS_SE FCLASS_BD FCLASS_UA  \\\n",
       "0       None      None      None       None      None      None   \n",
       "\n",
       "                                            geometry  \n",
       "0  MULTIPOLYGON (((7.30078 4.41816, 7.20391 4.387...  \n",
       "\n",
       "[1 rows x 162 columns]"
      ]
     },
     "execution_count": 3,
     "metadata": {},
     "output_type": "execute_result"
    }
   ],
   "source": [
    "borders = gpd.read_file(Path('../assets/nigeria_borders.shp'))\n",
    "borders"
   ]
  },
  {
   "cell_type": "code",
   "execution_count": 6,
   "metadata": {},
   "outputs": [
    {
     "data": {
      "text/plain": [
       "<Geographic 2D CRS: EPSG:4326>\n",
       "Name: WGS 84\n",
       "Axis Info [ellipsoidal]:\n",
       "- Lat[north]: Geodetic latitude (degree)\n",
       "- Lon[east]: Geodetic longitude (degree)\n",
       "Area of Use:\n",
       "- name: World\n",
       "- bounds: (-180.0, -90.0, 180.0, 90.0)\n",
       "Datum: World Geodetic System 1984\n",
       "- Ellipsoid: WGS 84\n",
       "- Prime Meridian: Greenwich"
      ]
     },
     "execution_count": 6,
     "metadata": {},
     "output_type": "execute_result"
    }
   ],
   "source": [
    "borders.crs"
   ]
  },
  {
   "cell_type": "code",
   "execution_count": 4,
   "metadata": {},
   "outputs": [
    {
     "data": {
      "text/plain": [
       "<AxesSubplot:>"
      ]
     },
     "execution_count": 4,
     "metadata": {},
     "output_type": "execute_result"
    },
    {
     "data": {
      "image/png": "[encoded data removed]",
      "text/plain": [
       "<Figure size 640x480 with 1 Axes>"
      ]
     },
     "metadata": {},
     "output_type": "display_data"
    }
   ],
   "source": [
    "borders.plot()"
   ]
  },
  {
   "cell_type": "code",
   "execution_count": 7,
   "metadata": {},
   "outputs": [
    {
     "data": {
      "text/plain": [
       "{'type': 'MultiPolygon',\n",
       " 'coordinates': [(((7.30078125, 4.418164062499997),\n",
       "    (7.203906250000017, 4.387646484374997),\n",
       "    (7.140429687500017, 4.3951171874999915),\n",
       "    (7.227343750000017, 4.52734375),\n",
       "    (7.271386718750023, 4.498925781249994),\n",
       "    (7.327929687500017, 4.487207031249994),\n",
       "    (7.30078125, 4.418164062499997)),),\n",
       "  (((13.606347656250023, 13.70458984375),\n",
       "    (13.763476562500017, 13.489550781250003),\n",
       "    (13.932324218750011, 13.258496093749997),\n",
       "    (14.06396484375, 13.078515624999994),\n",
       "    (14.160058593750023, 12.61279296875),\n",
       "    (14.170312500000023, 12.524072265624994),\n",
       "    (14.177636718750023, 12.484082031249997),\n",
       "    (14.184863281250017, 12.447216796874997),\n",
       "    (14.197460937500011, 12.3837890625),\n",
       "    (14.272851562500023, 12.356494140624989),\n",
       "    (14.415429687500023, 12.344140624999994),\n",
       "    (14.518945312500023, 12.298242187499994),\n",
       "    (14.580957031250023, 12.222070312499994),\n",
       "    (14.587011718750006, 12.209423828124997),\n",
       "    (14.619726562500006, 12.150976562499991),\n",
       "    (14.627148437500011, 12.108691406249989),\n",
       "    (14.6181640625, 11.986621093749989),\n",
       "    (14.597363281250011, 11.829833984375),\n",
       "    (14.561816406250017, 11.728710937499997),\n",
       "    (14.581640625000006, 11.591162109374991),\n",
       "    (14.575390625000011, 11.532421874999997),\n",
       "    (14.559765625000011, 11.492285156249991),\n",
       "    (14.49609375, 11.446142578124991),\n",
       "    (14.409472656250017, 11.401171874999989),\n",
       "    (14.202343750000011, 11.268164062499991),\n",
       "    (14.143261718750011, 11.24853515625),\n",
       "    (14.056738281250006, 11.245019531249994),\n",
       "    (13.9814453125, 11.211865234374997),\n",
       "    (13.89208984375, 11.140087890624997),\n",
       "    (13.699902343750011, 10.873144531249991),\n",
       "    (13.535351562500011, 10.605078124999991),\n",
       "    (13.478515625, 10.383251953124997),\n",
       "    (13.41455078125, 10.171435546874989),\n",
       "    (13.269921875000023, 10.036181640624989),\n",
       "    (13.249804687500017, 9.960058593749991),\n",
       "    (13.243750000000006, 9.915917968749994),\n",
       "    (13.23876953125, 9.814013671874989),\n",
       "    (13.22119140625, 9.645166015624994),\n",
       "    (13.19873046875, 9.563769531249989),\n",
       "    (13.175488281250011, 9.539648437499991),\n",
       "    (13.019433593750023, 9.488330078124989),\n",
       "    (12.929492187500017, 9.42626953125),\n",
       "    (12.875683593750011, 9.303515624999989),\n",
       "    (12.85595703125, 9.170751953124991),\n",
       "    (12.824414062500011, 9.019433593749994),\n",
       "    (12.806542968750023, 8.886621093749994),\n",
       "    (12.7822265625, 8.81787109375),\n",
       "    (12.731152343750011, 8.745654296874989),\n",
       "    (12.651562500000011, 8.667773437499989),\n",
       "    (12.582714843750011, 8.624121093749991),\n",
       "    (12.403515625000011, 8.595556640624991),\n",
       "    (12.311328125000017, 8.419726562499989),\n",
       "    (12.2333984375, 8.282324218749991),\n",
       "    (12.231152343750011, 8.227392578124991),\n",
       "    (12.155957031250011, 7.9424804687499915),\n",
       "    (12.025195312500017, 7.727783203125),\n",
       "    (12.0166015625, 7.652001953124994),\n",
       "    (12.016015625000023, 7.589746093749994),\n",
       "    (11.852441406250023, 7.4007324218749915),\n",
       "    (11.809179687500006, 7.3450683593749915),\n",
       "    (11.767382812500017, 7.272265624999989),\n",
       "    (11.80859375, 7.201953124999989),\n",
       "    (11.854785156250017, 7.137988281249989),\n",
       "    (11.861425781250006, 7.116406249999997),\n",
       "    (11.787011718750023, 7.056201171874989),\n",
       "    (11.657519531250017, 6.951562499999994),\n",
       "    (11.580078125, 6.888867187499997),\n",
       "    (11.56298828125, 6.854638671874994),\n",
       "    (11.551660156250023, 6.697265625),\n",
       "    (11.529101562500017, 6.655029296875),\n",
       "    (11.4775390625, 6.597412109375),\n",
       "    (11.401757812500023, 6.533935546875),\n",
       "    (11.324609375000023, 6.484667968749989),\n",
       "    (11.2373046875, 6.4505371093749915),\n",
       "    (11.1533203125, 6.437939453124997),\n",
       "    (11.1064453125, 6.457714843749997),\n",
       "    (11.079687500000006, 6.505517578124994),\n",
       "    (11.032519531250017, 6.697900390624994),\n",
       "    (11.008691406250023, 6.7391113281249915),\n",
       "    (10.954199218750006, 6.776562499999997),\n",
       "    (10.846484375000017, 6.881787109374997),\n",
       "    (10.737597656250017, 6.98828125),\n",
       "    (10.606250000000017, 7.0630859374999915),\n",
       "    (10.578125, 7.0577148437499915),\n",
       "    (10.556347656250011, 7.0374511718749915),\n",
       "    (10.51904296875, 6.930468749999989),\n",
       "    (10.482324218750023, 6.891259765624994),\n",
       "    (10.413183593750006, 6.877734374999989),\n",
       "    (10.293066406250006, 6.876757812499989),\n",
       "    (10.205468750000023, 6.8916015625),\n",
       "    (10.185546875, 6.912792968749997),\n",
       "    (10.167773437500017, 6.959179687499997),\n",
       "    (10.1435546875, 6.9964355468749915),\n",
       "    (10.038867187500017, 6.92138671875),\n",
       "    (9.874218750000011, 6.803271484374989),\n",
       "    (9.820703125000023, 6.783935546875),\n",
       "    (9.779882812500006, 6.760156249999994),\n",
       "    (9.7255859375, 6.6499999999999915),\n",
       "    (9.659960937500017, 6.531982421875),\n",
       "    (9.574023437500017, 6.470410156249997),\n",
       "    (9.490234375, 6.418652343749997),\n",
       "    (9.442187500000017, 6.3733886718749915),\n",
       "    (9.373339843750017, 6.319628906249989),\n",
       "    (9.23876953125, 6.1861328124999915),\n",
       "    (9.060156250000006, 6.009082031249989),\n",
       "    (8.997167968750006, 5.917724609375),\n",
       "    (8.93505859375, 5.781005859375),\n",
       "    (8.898828125000023, 5.629687499999989),\n",
       "    (8.859179687500017, 5.463769531249994),\n",
       "    (8.800976562500011, 5.197460937499997),\n",
       "    (8.715625000000017, 5.046875),\n",
       "    (8.640527343750023, 4.927001953125),\n",
       "    (8.585156250000011, 4.832812499999989),\n",
       "    (8.555859375000011, 4.7552246093749915),\n",
       "    (8.543750000000017, 4.7578125),\n",
       "    (8.514843750000011, 4.7247070312499915),\n",
       "    (8.431347656250011, 4.746240234374994),\n",
       "    (8.393652343750006, 4.813769531249989),\n",
       "    (8.342089843750017, 4.824755859374989),\n",
       "    (8.252734375000017, 4.923974609374994),\n",
       "    (8.233789062500023, 4.907470703125),\n",
       "    (8.328027343750023, 4.6561035156249915),\n",
       "    (8.293066406250006, 4.5576171875),\n",
       "    (8.028515625000011, 4.555371093749997),\n",
       "    (7.80078125, 4.522265624999989),\n",
       "    (7.644238281250011, 4.525341796874997),\n",
       "    (7.565625000000011, 4.560937499999994),\n",
       "    (7.53076171875, 4.655175781249994),\n",
       "    (7.517382812500017, 4.645458984374997),\n",
       "    (7.509472656250011, 4.594921874999997),\n",
       "    (7.459863281250023, 4.555224609374989),\n",
       "    (7.284375000000011, 4.547656249999989),\n",
       "    (7.206738281250011, 4.612060546875),\n",
       "    (7.143847656250017, 4.68408203125),\n",
       "    (7.076562500000023, 4.7161621093749915),\n",
       "    (7.0869140625, 4.685839843749989),\n",
       "    (7.164160156250006, 4.6155761718749915),\n",
       "    (7.154687500000023, 4.514404296875),\n",
       "    (7.013378906250011, 4.3973144531249915),\n",
       "    (6.923242187500023, 4.390673828124989),\n",
       "    (6.867871093750011, 4.441113281249997),\n",
       "    (6.839160156250017, 4.523486328124989),\n",
       "    (6.82470703125, 4.645263671875),\n",
       "    (6.78759765625, 4.7247070312499915),\n",
       "    (6.767675781250006, 4.7247070312499915),\n",
       "    (6.786035156250023, 4.652001953124994),\n",
       "    (6.792187500000011, 4.5926269531249915),\n",
       "    (6.793066406250006, 4.469140624999994),\n",
       "    (6.8603515625, 4.373339843749989),\n",
       "    (6.757031250000011, 4.343554687499989),\n",
       "    (6.715136718750017, 4.342431640624994),\n",
       "    (6.633007812500011, 4.340234374999994),\n",
       "    (6.617285156250006, 4.375781249999989),\n",
       "    (6.6015625, 4.4551757812499915),\n",
       "    (6.579980468750023, 4.475976562499994),\n",
       "    (6.554589843750023, 4.3414062499999915),\n",
       "    (6.5, 4.331933593749994),\n",
       "    (6.462109375000011, 4.333154296874994),\n",
       "    (6.2998046875, 4.303857421874994),\n",
       "    (6.263671875, 4.3094238281249915),\n",
       "    (6.255957031250006, 4.33447265625),\n",
       "    (6.275292968750023, 4.3716796874999915),\n",
       "    (6.27099609375, 4.43212890625),\n",
       "    (6.214648437500017, 4.385498046875),\n",
       "    (6.20556640625, 4.292285156249989),\n",
       "    (6.17333984375, 4.277392578124989),\n",
       "    (6.076562500000023, 4.2906249999999915),\n",
       "    (5.970703125, 4.338574218749997),\n",
       "    (5.906445312500011, 4.387744140624989),\n",
       "    (5.798632812500017, 4.455957031249994),\n",
       "    (5.587792968750023, 4.647216796875),\n",
       "    (5.553613281250023, 4.733203124999989),\n",
       "    (5.493261718750006, 4.838769531249994),\n",
       "    (5.448144531250023, 4.945849609374989),\n",
       "    (5.38330078125, 5.1290039062499915),\n",
       "    (5.403222656250023, 5.142285156249997),\n",
       "    (5.4521484375, 5.1265624999999915),\n",
       "    (5.475976562500023, 5.153857421874989),\n",
       "    (5.388281250000006, 5.173779296874997),\n",
       "    (5.370019531250023, 5.195019531249997),\n",
       "    (5.364160156250023, 5.25927734375),\n",
       "    (5.367968750000017, 5.3377441406249915),\n",
       "    (5.439257812500017, 5.3653320312499915),\n",
       "    (5.500878906250023, 5.378613281249997),\n",
       "    (5.531835937500006, 5.4263671874999915),\n",
       "    (5.549707031250023, 5.4742187499999915),\n",
       "    (5.385839843750006, 5.401757812499994),\n",
       "    (5.232421875, 5.483789062499994),\n",
       "    (5.19921875, 5.5335449218749915),\n",
       "    (5.2158203125, 5.571679687499994),\n",
       "    (5.2890625, 5.5774902343749915),\n",
       "    (5.393847656250017, 5.574511718749989),\n",
       "    (5.456640625000006, 5.611718749999994),\n",
       "    (5.418066406250006, 5.624707031249997),\n",
       "    (5.350292968750011, 5.623291015625),\n",
       "    (5.325292968750006, 5.64794921875),\n",
       "    (5.327343750000011, 5.70751953125),\n",
       "    (5.305371093750011, 5.6943359375),\n",
       "    (5.276269531250023, 5.641552734374997),\n",
       "    (5.1728515625, 5.602734374999997),\n",
       "    (5.112402343750006, 5.641552734374997),\n",
       "    (5.106250000000017, 5.7281249999999915),\n",
       "    (5.093066406250017, 5.76708984375),\n",
       "    (5.042089843750006, 5.797509765624994),\n",
       "    (4.861035156250011, 6.026318359374997),\n",
       "    (4.633593750000017, 6.217187499999994),\n",
       "    (4.431347656250011, 6.348583984374997),\n",
       "    (4.125878906250023, 6.411376953125),\n",
       "    (3.486621093750017, 6.408935546875),\n",
       "    (3.4507812500000057, 6.427050781249989),\n",
       "    (3.4899414062500114, 6.457275390625),\n",
       "    (3.5460937500000114, 6.477441406249994),\n",
       "    (3.7516601562500114, 6.5838378906249915),\n",
       "    (3.7169921875000114, 6.597949218749989),\n",
       "    (3.5033203125000227, 6.5313476562499915),\n",
       "    (3.43017578125, 6.5249999999999915),\n",
       "    (3.3355468750000057, 6.396923828124997),\n",
       "    (2.7724609375, 6.375732421875),\n",
       "    (2.7064453125000227, 6.3692382812499915),\n",
       "    (2.7080078125, 6.427685546874997),\n",
       "    (2.735644531250017, 6.595703125),\n",
       "    (2.753710937500017, 6.661767578124994),\n",
       "    (2.7746093750000114, 6.711718749999989),\n",
       "    (2.7529296875, 6.771630859374994),\n",
       "    (2.731738281250017, 6.852832031249989),\n",
       "    (2.7213867187500114, 6.980273437499989),\n",
       "    (2.7477539062500114, 7.019824218749989),\n",
       "    (2.7567382812500227, 7.067919921874989),\n",
       "    (2.7505859375000057, 7.143212890624994),\n",
       "    (2.75048828125, 7.395068359374989),\n",
       "    (2.7658203125000114, 7.422509765624994),\n",
       "    (2.783984375000017, 7.443408203124989),\n",
       "    (2.78515625, 7.476855468749989),\n",
       "    (2.7509765625, 7.541894531249994),\n",
       "    (2.7193359375000057, 7.616259765624989),\n",
       "    (2.7204101562500114, 7.723095703124997),\n",
       "    (2.7077148437500114, 7.826611328124997),\n",
       "    (2.68603515625, 7.873730468749997),\n",
       "    (2.7023437500000114, 8.0498046875),\n",
       "    (2.7115234375000057, 8.272998046874989),\n",
       "    (2.703125, 8.371826171875),\n",
       "    (2.7236328125, 8.44189453125),\n",
       "    (2.734667968750017, 8.614013671875),\n",
       "    (2.73291015625, 8.782519531249989),\n",
       "    (2.7748046875000227, 9.048535156249997),\n",
       "    (2.8980468750000057, 9.061376953124991),\n",
       "    (3.044921875, 9.083837890624991),\n",
       "    (3.1104492187500057, 9.188281249999989),\n",
       "    (3.1480468750000057, 9.320605468749989),\n",
       "    (3.1361328125000227, 9.451611328124997),\n",
       "    (3.1646484375000057, 9.494677734374989),\n",
       "    (3.223437500000017, 9.565624999999997),\n",
       "    (3.3294921875000227, 9.667041015624989),\n",
       "    (3.3251953125, 9.778466796874994),\n",
       "    (3.3544921875, 9.812792968749989),\n",
       "    (3.40478515625, 9.838623046875),\n",
       "    (3.4767578125000114, 9.851904296874991),\n",
       "    (3.5572265625000057, 9.907324218749991),\n",
       "    (3.60205078125, 10.004541015624994),\n",
       "    (3.6458984375000227, 10.16015625),\n",
       "    (3.5765625000000227, 10.268359374999989),\n",
       "    (3.577929687500017, 10.29248046875),\n",
       "    (3.6041015625000057, 10.350683593749991),\n",
       "    (3.6465820312500057, 10.408984374999989),\n",
       "    (3.6802734375000057, 10.427783203124989),\n",
       "    (3.7584960937500114, 10.412695312499991),\n",
       "    (3.771777343750017, 10.417626953124994),\n",
       "    (3.7837890625000057, 10.435888671874991),\n",
       "    (3.83447265625, 10.607421875),\n",
       "    (3.8296875000000057, 10.653759765624997),\n",
       "    (3.7568359375, 10.768749999999997),\n",
       "    (3.744921875000017, 10.850439453124991),\n",
       "    (3.734179687500017, 10.971923828125),\n",
       "    (3.7164062500000057, 11.07958984375),\n",
       "    (3.6953125, 11.120312499999997),\n",
       "    (3.65625, 11.154589843749989),\n",
       "    (3.6388671875000114, 11.176855468749991),\n",
       "    (3.48779296875, 11.395410156249994),\n",
       "    (3.490527343750017, 11.499218749999997),\n",
       "    (3.5539062500000114, 11.631884765624989),\n",
       "    (3.5954101562500114, 11.6962890625),\n",
       "    (3.653125000000017, 11.731835937499994),\n",
       "    (3.6647460937500114, 11.762451171875),\n",
       "    (3.6473632812500227, 11.799658203124991),\n",
       "    (3.618457031250017, 11.827734374999991),\n",
       "    (3.61181640625, 11.887304687499991),\n",
       "    (3.6201171875, 11.926953124999997),\n",
       "    (3.640625, 11.970361328124994),\n",
       "    (3.6325195312500114, 12.061572265624989),\n",
       "    (3.6341796875000227, 12.201611328124997),\n",
       "    (3.643847656250017, 12.4052734375),\n",
       "    (3.6466796875000114, 12.529980468749997),\n",
       "    (3.7692382812500114, 12.622167968749991),\n",
       "    (3.9478515625000057, 12.775048828124994),\n",
       "    (4.038769531250011, 12.934667968749991),\n",
       "    (4.08740234375, 13.055468749999989),\n",
       "    (4.147558593750006, 13.457714843749997),\n",
       "    (4.190820312500023, 13.482128906249997),\n",
       "    (4.2421875, 13.501074218749991),\n",
       "    (4.42138671875, 13.647509765625003),\n",
       "    (4.559472656250023, 13.701806640624994),\n",
       "    (4.664843750000017, 13.733203125000003),\n",
       "    (4.823339843750006, 13.759765625),\n",
       "    (4.921679687500017, 13.749121093749991),\n",
       "    (5.100878906250017, 13.742724609375003),\n",
       "    (5.241894531250011, 13.757226562499994),\n",
       "    (5.361621093750017, 13.836865234374997),\n",
       "    (5.415820312500017, 13.859179687500003),\n",
       "    (5.491992187500017, 13.872851562500003),\n",
       "    (5.838183593750017, 13.765380859375),\n",
       "    (6.184277343750011, 13.663671874999991),\n",
       "    (6.247167968750006, 13.672998046874994),\n",
       "    (6.2998046875, 13.658789062499991),\n",
       "    (6.386328125000006, 13.603613281249991),\n",
       "    (6.514062500000023, 13.485400390625003),\n",
       "    (6.589941406250006, 13.409130859374997),\n",
       "    (6.626562500000006, 13.3642578125),\n",
       "    (6.804296875000006, 13.107666015625),\n",
       "    (6.87060546875, 13.043261718749989),\n",
       "    (6.937207031250011, 13.008203124999994),\n",
       "    (7.005078125000011, 12.995556640624997),\n",
       "    (7.056738281250006, 13.000195312499997),\n",
       "    (7.106054687500006, 13.029101562499989),\n",
       "    (7.173046875000011, 13.086328124999994),\n",
       "    (7.274707031250017, 13.112255859374997),\n",
       "    (7.357812500000023, 13.107177734375),\n",
       "    (7.788671875000006, 13.337890625),\n",
       "    (7.830468750000023, 13.340917968749991),\n",
       "    (7.955761718750011, 13.32275390625),\n",
       "    (8.095019531250017, 13.291162109374994),\n",
       "    (8.4560546875, 13.059667968749991),\n",
       "    (8.750585937500006, 12.908154296874997),\n",
       "    (8.957617187500006, 12.857470703124989),\n",
       "    (9.201562500000023, 12.821484374999997),\n",
       "    (9.615917968750011, 12.810644531249991),\n",
       "    (9.929296875000006, 13.13525390625),\n",
       "    (10.045117187500011, 13.206152343749991),\n",
       "    (10.184667968750006, 13.270117187499991),\n",
       "    (10.229589843750006, 13.281005859375),\n",
       "    (10.475878906250017, 13.330224609374994),\n",
       "    (10.958886718750023, 13.371533203124997),\n",
       "    (11.411914062500017, 13.353613281249991),\n",
       "    (11.501074218750006, 13.340527343749997),\n",
       "    (11.693359375, 13.297705078124991),\n",
       "    (11.990039062500017, 13.191796874999994),\n",
       "    (12.117968750000017, 13.090429687499991),\n",
       "    (12.319042968750011, 13.073681640624997),\n",
       "    (12.463183593750017, 13.09375),\n",
       "    (12.510156250000023, 13.1943359375),\n",
       "    (12.65478515625, 13.326562499999994),\n",
       "    (12.759960937500011, 13.38037109375),\n",
       "    (12.871679687500006, 13.449023437500003),\n",
       "    (13.048437500000006, 13.534521484374991),\n",
       "    (13.19384765625, 13.573046875000003),\n",
       "    (13.323828125000006, 13.670849609374997),\n",
       "    (13.426953125000011, 13.701757812499991),\n",
       "    (13.606347656250023, 13.70458984375)),)]}"
      ]
     },
     "execution_count": 7,
     "metadata": {},
     "output_type": "execute_result"
    }
   ],
   "source": [
    "shapes = shapely.geometry.mapping(borders.geometry[0])\n",
    "shapes"
   ]
  },
  {
   "cell_type": "markdown",
   "metadata": {},
   "source": [
    "### Read raster"
   ]
  },
  {
   "cell_type": "code",
   "execution_count": 8,
   "metadata": {},
   "outputs": [],
   "source": [
    "preds_dir = Path(\"../data/predictions/nigeria-cropharvest-full-country-2020\")\n",
    "base_filename = 'combined'\n",
    "tif_path = preds_dir / f'{base_filename}_binary_uint8_lzw.tif'"
   ]
  },
  {
   "cell_type": "code",
   "execution_count": 22,
   "metadata": {},
   "outputs": [
    {
     "data": {
      "text/plain": [
       "({'driver': 'GTiff',\n",
       "  'dtype': 'uint8',\n",
       "  'nodata': 255.0,\n",
       "  'width': 134346,\n",
       "  'height': 109171,\n",
       "  'count': 1,\n",
       "  'crs': CRS.from_epsg(4326),\n",
       "  'transform': Affine(8.983152841193114e-05, 0.0, 2.6916220858073223,\n",
       "         0.0, -8.983152841193113e-05, 14.047584918475842)},\n",
       " 'lzw')"
      ]
     },
     "execution_count": 22,
     "metadata": {},
     "output_type": "execute_result"
    }
   ],
   "source": [
    "# Open and check size in RAM, plot\n",
    "with rasterio.open(tif_path) as map:\n",
    "    meta = map.meta\n",
    "    compress = map.profile['compress']\n",
    "    #data = map.read(1)\n",
    "meta, compress"
   ]
  },
  {
   "cell_type": "markdown",
   "metadata": {},
   "source": [
    "### Clip"
   ]
  },
  {
   "cell_type": "code",
   "execution_count": 27,
   "metadata": {},
   "outputs": [
    {
     "name": "stderr",
     "output_type": "stream",
     "text": [
      "/mnt/Data/jgajardo/miniconda3/envs/nigeria-crop-mask-gpu/lib/python3.7/site-packages/rasterio/features.py:441: ShapelyDeprecationWarning: Iteration over multi-part geometries is deprecated and will be removed in Shapely 2.0. Use the `geoms` property to access the constituent parts of a multi-part geometry.\n",
      "  all_bounds = [bounds(shape, transform=~dataset.transform) for shape in shapes]\n",
      "/mnt/Data/jgajardo/miniconda3/envs/nigeria-crop-mask-gpu/lib/python3.7/site-packages/rasterio/features.py:284: ShapelyDeprecationWarning: Iteration over multi-part geometries is deprecated and will be removed in Shapely 2.0. Use the `geoms` property to access the constituent parts of a multi-part geometry.\n",
      "  for index, item in enumerate(shapes):\n"
     ]
    }
   ],
   "source": [
    "# read imagery file\n",
    "with rasterio.open(tif_path) as src:\n",
    "    out_image, out_transform = rasterio.mask.mask(src, borders.geometry[0], crop=True, all_touched=True, nodata=meta['nodata'])\n",
    "    out_meta = src.meta\n",
    "    compress = src.profile['compress']"
   ]
  },
  {
   "cell_type": "code",
   "execution_count": 28,
   "metadata": {},
   "outputs": [
    {
     "data": {
      "text/plain": [
       "array([[[255, 255, 255, ..., 255, 255, 255],\n",
       "        [255, 255, 255, ..., 255, 255, 255],\n",
       "        [255, 255, 255, ..., 255, 255, 255],\n",
       "        ...,\n",
       "        [255, 255, 255, ..., 255, 255, 255],\n",
       "        [255, 255, 255, ..., 255, 255, 255],\n",
       "        [255, 255, 255, ..., 255, 255, 255]]], dtype=uint8)"
      ]
     },
     "execution_count": 28,
     "metadata": {},
     "output_type": "execute_result"
    }
   ],
   "source": [
    "out_image"
   ]
  },
  {
   "cell_type": "code",
   "execution_count": 29,
   "metadata": {},
   "outputs": [
    {
     "data": {
      "text/plain": [
       "(1, 106817, 132866)"
      ]
     },
     "execution_count": 29,
     "metadata": {},
     "output_type": "execute_result"
    }
   ],
   "source": [
    "out_image.shape"
   ]
  },
  {
   "cell_type": "code",
   "execution_count": 30,
   "metadata": {},
   "outputs": [
    {
     "data": {
      "text/plain": [
       "Affine(8.983152841193114e-05, 0.0, 2.6916220858073223,\n",
       "       0.0, -8.983152841193113e-05, 13.872862595714636)"
      ]
     },
     "execution_count": 30,
     "metadata": {},
     "output_type": "execute_result"
    }
   ],
   "source": [
    "out_transform"
   ]
  },
  {
   "cell_type": "code",
   "execution_count": 31,
   "metadata": {},
   "outputs": [
    {
     "data": {
      "text/plain": [
       "{'driver': 'GTiff',\n",
       " 'dtype': 'uint8',\n",
       " 'nodata': 255.0,\n",
       " 'width': 134346,\n",
       " 'height': 109171,\n",
       " 'count': 1,\n",
       " 'crs': CRS.from_epsg(4326),\n",
       " 'transform': Affine(8.983152841193114e-05, 0.0, 2.6916220858073223,\n",
       "        0.0, -8.983152841193113e-05, 14.047584918475842)}"
      ]
     },
     "execution_count": 31,
     "metadata": {},
     "output_type": "execute_result"
    }
   ],
   "source": [
    "out_meta"
   ]
  },
  {
   "cell_type": "code",
   "execution_count": 32,
   "metadata": {},
   "outputs": [
    {
     "data": {
      "text/plain": [
       "{'driver': 'GTiff',\n",
       " 'dtype': 'uint8',\n",
       " 'nodata': 255.0,\n",
       " 'width': 134346,\n",
       " 'height': 109171,\n",
       " 'count': 1,\n",
       " 'crs': CRS.from_epsg(4326),\n",
       " 'transform': Affine(8.983152841193114e-05, 0.0, 2.6916220858073223,\n",
       "        0.0, -8.983152841193113e-05, 13.872862595714636),\n",
       " 'compress': 'lzw'}"
      ]
     },
     "execution_count": 32,
     "metadata": {},
     "output_type": "execute_result"
    }
   ],
   "source": [
    "out_meta.update({'transform': out_transform, 'compress': compress})\n",
    "out_meta"
   ]
  },
  {
   "cell_type": "code",
   "execution_count": 35,
   "metadata": {},
   "outputs": [],
   "source": [
    "data = np.squeeze(out_image)"
   ]
  },
  {
   "cell_type": "code",
   "execution_count": 36,
   "metadata": {},
   "outputs": [],
   "source": [
    "clip_path = tif_path.parent / tif_path.name.replace('.tif', '_clipped.tif')"
   ]
  },
  {
   "cell_type": "code",
   "execution_count": 37,
   "metadata": {},
   "outputs": [],
   "source": [
    "# Save clipped image\n",
    "with rasterio.open(clip_path, \"w\", **out_meta) as dst:\n",
    "    dst.write(data, 1) # new file is 14GB so it's not compressing for some reason"
   ]
  },
  {
   "cell_type": "markdown",
   "metadata": {},
   "source": [
    "### Repeat for probability raster"
   ]
  },
  {
   "cell_type": "code",
   "execution_count": 40,
   "metadata": {},
   "outputs": [
    {
     "data": {
      "text/plain": [
       "PosixPath('../data/predictions/nigeria-cropharvest-full-country-2020/combined_prob_uint8_lzw.tif')"
      ]
     },
     "execution_count": 40,
     "metadata": {},
     "output_type": "execute_result"
    }
   ],
   "source": [
    "prob_tif_path = Path(str(tif_path).replace('binary', 'prob'))\n",
    "prob_tif_path"
   ]
  },
  {
   "cell_type": "code",
   "execution_count": 48,
   "metadata": {},
   "outputs": [
    {
     "name": "stderr",
     "output_type": "stream",
     "text": [
      "/mnt/Data/jgajardo/miniconda3/envs/nigeria-crop-mask-gpu/lib/python3.7/site-packages/rasterio/features.py:441: ShapelyDeprecationWarning: Iteration over multi-part geometries is deprecated and will be removed in Shapely 2.0. Use the `geoms` property to access the constituent parts of a multi-part geometry.\n",
      "  all_bounds = [bounds(shape, transform=~dataset.transform) for shape in shapes]\n",
      "/mnt/Data/jgajardo/miniconda3/envs/nigeria-crop-mask-gpu/lib/python3.7/site-packages/rasterio/features.py:284: ShapelyDeprecationWarning: Iteration over multi-part geometries is deprecated and will be removed in Shapely 2.0. Use the `geoms` property to access the constituent parts of a multi-part geometry.\n",
      "  for index, item in enumerate(shapes):\n"
     ]
    }
   ],
   "source": [
    "# read imagery file\n",
    "with rasterio.open(prob_tif_path) as src:\n",
    "    out_image, out_transform = rasterio.mask.mask(src, borders.geometry[0], crop=True, all_touched=True, nodata=meta['nodata'])\n",
    "    out_meta = src.meta\n",
    "    compress = src.profile['compress']"
   ]
  },
  {
   "cell_type": "code",
   "execution_count": 49,
   "metadata": {},
   "outputs": [
    {
     "data": {
      "text/plain": [
       "{'driver': 'GTiff',\n",
       " 'dtype': 'uint8',\n",
       " 'nodata': 255.0,\n",
       " 'width': 134346,\n",
       " 'height': 109171,\n",
       " 'count': 1,\n",
       " 'crs': CRS.from_epsg(4326),\n",
       " 'transform': Affine(8.983152841193114e-05, 0.0, 2.6916220858073223,\n",
       "        0.0, -8.983152841193113e-05, 13.872862595714636),\n",
       " 'compress': 'lzw'}"
      ]
     },
     "execution_count": 49,
     "metadata": {},
     "output_type": "execute_result"
    }
   ],
   "source": [
    "out_meta.update({'transform': out_transform, 'compress': compress})\n",
    "out_meta"
   ]
  },
  {
   "cell_type": "code",
   "execution_count": 50,
   "metadata": {},
   "outputs": [],
   "source": [
    "data = np.squeeze(out_image)"
   ]
  },
  {
   "cell_type": "code",
   "execution_count": 51,
   "metadata": {},
   "outputs": [
    {
     "data": {
      "text/plain": [
       "PosixPath('../data/predictions/nigeria-cropharvest-full-country-2020/combined_prob_uint8_lzw_clipped.tif')"
      ]
     },
     "execution_count": 51,
     "metadata": {},
     "output_type": "execute_result"
    }
   ],
   "source": [
    "clip_path = prob_tif_path.parent / prob_tif_path.name.replace('.tif', '_clipped.tif')\n",
    "clip_path"
   ]
  },
  {
   "cell_type": "code",
   "execution_count": 52,
   "metadata": {},
   "outputs": [],
   "source": [
    "# Save clipped image\n",
    "with rasterio.open(clip_path, \"w\", **out_meta) as dst:\n",
    "    dst.write(data, 1)"
   ]
  },
  {
   "cell_type": "code",
   "execution_count": null,
   "metadata": {},
   "outputs": [],
   "source": []
  }
 ],
 "metadata": {
  "kernelspec": {
   "display_name": "nigeria-crop-mask-gpu",
   "language": "python",
   "name": "python3"
  },
  "language_info": {
   "codemirror_mode": {
    "name": "ipython",
    "version": 3
   },
   "file_extension": ".py",
   "mimetype": "text/x-python",
   "name": "python",
   "nbconvert_exporter": "python",
   "pygments_lexer": "ipython3",
   "version": "3.7.16"
  },
  "orig_nbformat": 4
 },
 "nbformat": 4,
 "nbformat_minor": 2
}
