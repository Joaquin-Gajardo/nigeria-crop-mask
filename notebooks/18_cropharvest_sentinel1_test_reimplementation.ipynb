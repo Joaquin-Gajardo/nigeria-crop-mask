{
 "cells": [
  {
   "cell_type": "code",
   "execution_count": 1,
   "metadata": {},
   "outputs": [],
   "source": [
    "from argparse import ArgumentParser, Namespace\n",
    "import h5py\n",
    "from itertools import permutations\n",
    "from pathlib import Path\n",
    "from typing import cast, Optional, List, Tuple, Dict, Type, TypeVar, Sequence\n",
    "from tqdm import tqdm\n",
    "import sys\n",
    "\n",
    "import numpy as np\n",
    "import pandas as pd\n",
    "import geopandas as gpd\n",
    "import matplotlib.pyplot as plt\n",
    "import torch\n",
    "from torch.utils.data import Dataset\n",
    "from shapely.geometry import Point\n",
    "from sklearn.ensemble import RandomForestClassifier\n",
    "from sklearn.model_selection import train_test_split\n",
    "from sklearn.metrics import f1_score, precision_score, recall_score, roc_auc_score, accuracy_score\n",
    "from cropharvest.datasets import CropHarvest, CropHarvestLabels, Task\n",
    "from cropharvest.columns import NullableColumns, RequiredColumns\n",
    "from cropharvest.config import FEATURES_DIR\n",
    "from cropharvest.engineer import Engineer\n",
    "from cropharvest.utils import load_normalizing_dict\n",
    "from cropharvest.bands import BANDS, DYNAMIC_BANDS, STATIC_BANDS, REMOVED_BANDS\n",
    "\n",
    "sys.path.append(\"..\")\n",
    "\n",
    "from src.models import STR2MODEL, STR2BASE, train_model\n",
    "\n",
    "\n",
    "S2_BANDS = ['B2','B3','B4','B5','B6','B7','B8','B8A','B9','B11','B12','NDVI']"
   ]
  },
  {
   "attachments": {},
   "cell_type": "markdown",
   "metadata": {},
   "source": [
    "## LSTM model"
   ]
  },
  {
   "cell_type": "markdown",
   "metadata": {},
   "source": [
    "### Recycle old model and train on Nigeria train split"
   ]
  },
  {
   "cell_type": "code",
   "execution_count": 2,
   "metadata": {},
   "outputs": [
    {
     "name": "stdout",
     "output_type": "stream",
     "text": [
      "Found normalizing dict geowiki_normalizing_dict.h5\n",
      "Loading normalizing dict geowiki_normalizing_dict.h5\n",
      "Creating Geowiki train split\n",
      "Creating Geowiki val split\n",
      "Number of instances in Geowiki training set: 19808\n",
      "Number of instances in Nigeria training set: 913\n",
      "Total number of files used for training: 20721\n",
      "Number of model parameters: 25473\n"
     ]
    }
   ],
   "source": [
    "parser = ArgumentParser()\n",
    "\n",
    "parser.add_argument(\"--max_epochs\", type=int, default=100)\n",
    "parser.add_argument(\"--patience\", type=int, default=10)\n",
    "parser.add_argument(\"--gpus\", type=int, default=0)\n",
    "parser.add_argument(\"--wandb\", default=False, action=\"store_true\")\n",
    "\n",
    "model_args = STR2MODEL[\"land_cover\"].add_model_specific_args(parser).parse_args(args=[])\n",
    "model = STR2MODEL[\"land_cover\"](model_args)"
   ]
  },
  {
   "cell_type": "code",
   "execution_count": 3,
   "metadata": {},
   "outputs": [
    {
     "data": {
      "text/plain": [
       "Namespace(add_geowiki=True, add_nigeria=True, add_togo=False, alpha=10, batch_size=64, data_folder='/home/gajo/code/togo-crop-mask/notebooks/../data', geowiki_subset='world', gpus=0, hidden_vector_size=64, learning_rate=0.001, lstm_dropout=0.2, max_epochs=100, model_base='lstm', multi_headed=False, num_classification_layers=2, num_lstm_layers=1, patience=10, probability_threshold=0.5, remove_b1_b10=True, wandb=False, weighted_loss_fn=False)"
      ]
     },
     "execution_count": 3,
     "metadata": {},
     "output_type": "execute_result"
    }
   ],
   "source": [
    "model_args"
   ]
  },
  {
   "cell_type": "code",
   "execution_count": 4,
   "metadata": {},
   "outputs": [],
   "source": [
    "new_model_args_dict = vars(model_args)"
   ]
  },
  {
   "cell_type": "code",
   "execution_count": 17,
   "metadata": {},
   "outputs": [],
   "source": [
    "# SET MODIFICATIONS TO DEFAULT MODEL ARGUMENTS:\n",
    "new_model_args_dict['add_geowiki'] = True\n",
    "new_model_args_dict['add_nigeria'] = True\n",
    "#new_model_args_dict['multi_headed'] = False\n",
    "# new_model_args_dict['num_classification_layers'] = 1\n",
    "new_model_args_dict['max_epochs'] = 50 # Just for dev\n",
    "# new_model_args_dict['weighted_loss_fn'] = True\n",
    "# new_model_args_dict['hidden_vector_size'] = 64"
   ]
  },
  {
   "cell_type": "code",
   "execution_count": 18,
   "metadata": {},
   "outputs": [
    {
     "name": "stdout",
     "output_type": "stream",
     "text": [
      "Found normalizing dict geowiki_normalizing_dict.h5\n",
      "Loading normalizing dict geowiki_normalizing_dict.h5\n",
      "Creating Geowiki train split\n",
      "Creating Geowiki val split\n",
      "Number of instances in Geowiki training set: 19808\n",
      "Number of instances in Nigeria training set: 913\n",
      "Total number of files used for training: 20721\n",
      "Number of model parameters: 25473\n"
     ]
    },
    {
     "data": {
      "text/plain": [
       "\"add_geowiki\":               True\n",
       "\"add_nigeria\":               True\n",
       "\"add_togo\":                  False\n",
       "\"alpha\":                     10\n",
       "\"batch_size\":                64\n",
       "\"data_folder\":               /home/gajo/code/togo-crop-mask/notebooks/../data\n",
       "\"geowiki_subset\":            world\n",
       "\"gpus\":                      0\n",
       "\"hidden_vector_size\":        64\n",
       "\"learning_rate\":             0.001\n",
       "\"lstm_dropout\":              0.2\n",
       "\"max_epochs\":                50\n",
       "\"model_base\":                lstm\n",
       "\"multi_headed\":              False\n",
       "\"num_classification_layers\": 2\n",
       "\"num_lstm_layers\":           1\n",
       "\"patience\":                  10\n",
       "\"probability_threshold\":     0.5\n",
       "\"remove_b1_b10\":             True\n",
       "\"wandb\":                     False\n",
       "\"weighted_loss_fn\":          False"
      ]
     },
     "execution_count": 18,
     "metadata": {},
     "output_type": "execute_result"
    }
   ],
   "source": [
    "# Initialize model with new arguments\n",
    "new_model_args = Namespace(**new_model_args_dict)\n",
    "model = STR2MODEL[\"land_cover\"](new_model_args)\n",
    "model.hparams"
   ]
  },
  {
   "cell_type": "code",
   "execution_count": 19,
   "metadata": {},
   "outputs": [
    {
     "data": {
      "text/plain": [
       "Namespace(add_geowiki=True, add_nigeria=True, add_togo=False, alpha=10, batch_size=64, data_folder='/home/gajo/code/togo-crop-mask/notebooks/../data', geowiki_subset='world', gpus=0, hidden_vector_size=64, learning_rate=0.001, lstm_dropout=0.2, max_epochs=50, model_base='lstm', multi_headed=False, num_classification_layers=2, num_lstm_layers=1, patience=10, probability_threshold=0.5, remove_b1_b10=True, wandb=False, weighted_loss_fn=False)"
      ]
     },
     "execution_count": 19,
     "metadata": {},
     "output_type": "execute_result"
    }
   ],
   "source": [
    "new_model_args"
   ]
  },
  {
   "cell_type": "code",
   "execution_count": 20,
   "metadata": {},
   "outputs": [
    {
     "name": "stderr",
     "output_type": "stream",
     "text": [
      "GPU available: True, used: False\n",
      "TPU available: False, using: 0 TPU cores\n",
      "\n",
      "  | Name              | Type       | Params\n",
      "-------------------------------------------------\n",
      "0 | base              | LSTM       | 21 K  \n",
      "1 | global_classifier | Sequential | 4 K   \n"
     ]
    },
    {
     "name": "stdout",
     "output_type": "stream",
     "text": [
      "Number of instances in Geowiki validation set: 4953\n",
      "Number of instances in Nigeria validation set: 454\n",
      "Total number of files used for validation: 5407\n"
     ]
    },
    {
     "data": {
      "application/vnd.jupyter.widget-view+json": {
       "model_id": "fd480ebc452f4bc390788103c96ce39e",
       "version_major": 2,
       "version_minor": 0
      },
      "text/plain": [
       "Validation sanity check: 0it [00:00, ?it/s]"
      ]
     },
     "metadata": {},
     "output_type": "display_data"
    },
    {
     "name": "stdout",
     "output_type": "stream",
     "text": [
      "confusion matrix: [[52  0]\n",
      " [76  0]]\n",
      "Number of instances in Geowiki training set: 19808\n",
      "Number of instances in Nigeria training set: 913\n",
      "Total number of files used for training: 20721\n",
      "Number of instances in Geowiki validation set: 4953\n",
      "Number of instances in Nigeria validation set: 454\n",
      "Total number of files used for validation: 5407\n"
     ]
    },
    {
     "data": {
      "application/vnd.jupyter.widget-view+json": {
       "model_id": "8fbd5ab40e384d89bcf0c6194535321e",
       "version_major": 2,
       "version_minor": 0
      },
      "text/plain": [
       "Training: 0it [00:00, ?it/s]"
      ]
     },
     "metadata": {},
     "output_type": "display_data"
    },
    {
     "data": {
      "application/vnd.jupyter.widget-view+json": {
       "model_id": "51cd82acb6b34426b2a1dd308d7785b8",
       "version_major": 2,
       "version_minor": 0
      },
      "text/plain": [
       "Validating: 0it [00:00, ?it/s]"
      ]
     },
     "metadata": {},
     "output_type": "display_data"
    },
    {
     "name": "stdout",
     "output_type": "stream",
     "text": [
      "confusion matrix: [[1713  664]\n",
      " [ 964 2066]]\n"
     ]
    },
    {
     "data": {
      "application/vnd.jupyter.widget-view+json": {
       "model_id": "be634476513e4e2b9cd399c9d01af299",
       "version_major": 2,
       "version_minor": 0
      },
      "text/plain": [
       "Validating: 0it [00:00, ?it/s]"
      ]
     },
     "metadata": {},
     "output_type": "display_data"
    },
    {
     "name": "stdout",
     "output_type": "stream",
     "text": [
      "confusion matrix: [[1666  711]\n",
      " [ 850 2180]]\n"
     ]
    },
    {
     "data": {
      "application/vnd.jupyter.widget-view+json": {
       "model_id": "590a635985ec41f8a707a6046e2f4a0b",
       "version_major": 2,
       "version_minor": 0
      },
      "text/plain": [
       "Validating: 0it [00:00, ?it/s]"
      ]
     },
     "metadata": {},
     "output_type": "display_data"
    },
    {
     "name": "stdout",
     "output_type": "stream",
     "text": [
      "confusion matrix: [[1704  673]\n",
      " [ 838 2192]]\n"
     ]
    },
    {
     "data": {
      "application/vnd.jupyter.widget-view+json": {
       "model_id": "f1d0fc4d2e2248319c500e6b32ea3692",
       "version_major": 2,
       "version_minor": 0
      },
      "text/plain": [
       "Validating: 0it [00:00, ?it/s]"
      ]
     },
     "metadata": {},
     "output_type": "display_data"
    },
    {
     "name": "stdout",
     "output_type": "stream",
     "text": [
      "confusion matrix: [[1593  784]\n",
      " [ 711 2319]]\n"
     ]
    },
    {
     "data": {
      "application/vnd.jupyter.widget-view+json": {
       "model_id": "bfa20a168a474041b9c6ee339b76b410",
       "version_major": 2,
       "version_minor": 0
      },
      "text/plain": [
       "Validating: 0it [00:00, ?it/s]"
      ]
     },
     "metadata": {},
     "output_type": "display_data"
    },
    {
     "name": "stdout",
     "output_type": "stream",
     "text": [
      "confusion matrix: [[1721  656]\n",
      " [ 820 2210]]\n"
     ]
    },
    {
     "data": {
      "application/vnd.jupyter.widget-view+json": {
       "model_id": "6b6cd6637aeb474fbc2e55b7c890d5ea",
       "version_major": 2,
       "version_minor": 0
      },
      "text/plain": [
       "Validating: 0it [00:00, ?it/s]"
      ]
     },
     "metadata": {},
     "output_type": "display_data"
    },
    {
     "name": "stdout",
     "output_type": "stream",
     "text": [
      "confusion matrix: [[1761  616]\n",
      " [ 830 2200]]\n"
     ]
    },
    {
     "data": {
      "application/vnd.jupyter.widget-view+json": {
       "model_id": "2bb4ae68fcfd44a0a084986710376fc3",
       "version_major": 2,
       "version_minor": 0
      },
      "text/plain": [
       "Validating: 0it [00:00, ?it/s]"
      ]
     },
     "metadata": {},
     "output_type": "display_data"
    },
    {
     "name": "stdout",
     "output_type": "stream",
     "text": [
      "confusion matrix: [[1794  583]\n",
      " [ 896 2134]]\n"
     ]
    },
    {
     "data": {
      "application/vnd.jupyter.widget-view+json": {
       "model_id": "711ba315d29b488382e583ae20c47f08",
       "version_major": 2,
       "version_minor": 0
      },
      "text/plain": [
       "Validating: 0it [00:00, ?it/s]"
      ]
     },
     "metadata": {},
     "output_type": "display_data"
    },
    {
     "name": "stdout",
     "output_type": "stream",
     "text": [
      "confusion matrix: [[1699  678]\n",
      " [ 770 2260]]\n"
     ]
    }
   ],
   "source": [
    "trainer = train_model(model, new_model_args) "
   ]
  },
  {
   "cell_type": "code",
   "execution_count": null,
   "metadata": {},
   "outputs": [
    {
     "data": {
      "text/plain": [
       "{'mean': array([-1.11145875e+01, -1.83695470e+01,  1.52960034e+03,  1.52106053e+03,\n",
       "         1.57221665e+03,  1.79048354e+03,  2.54191155e+03,  2.96519233e+03,\n",
       "         2.80609321e+03,  3.26681681e+03,  7.02900024e+02,  2.86986717e+03,\n",
       "         1.90742782e+03,  2.99788003e+02,  3.93802458e-03,  3.24957571e+02,\n",
       "         3.50859630e+00,  3.30125508e-01]),\n",
       " 'std': array([3.88630623e+00, 4.88522927e+00, 7.66991639e+02, 7.60186317e+02,\n",
       "        9.44870974e+02, 8.73766432e+02, 8.06759587e+02, 8.77939336e+02,\n",
       "        8.19407925e+02, 9.05889813e+02, 5.56644420e+02, 1.11925709e+03,\n",
       "        1.03326184e+03, 2.78615972e+00, 3.94202669e-03, 2.19158225e+02,\n",
       "        4.01912168e+00, 1.28905131e-01])}"
      ]
     },
     "execution_count": 15,
     "metadata": {},
     "output_type": "execute_result"
    }
   ],
   "source": [
    "model.normalizing_dict"
   ]
  },
  {
   "cell_type": "code",
   "execution_count": null,
   "metadata": {},
   "outputs": [
    {
     "name": "stdout",
     "output_type": "stream",
     "text": [
      "Number of instances in Nigeria testing set: 455\n"
     ]
    },
    {
     "data": {
      "application/vnd.jupyter.widget-view+json": {
       "model_id": "c969d7d131ac414bbc35bbc22e5d8750",
       "version_major": 2,
       "version_minor": 0
      },
      "text/plain": [
       "Testing: 0it [00:00, ?it/s]"
      ]
     },
     "metadata": {},
     "output_type": "display_data"
    },
    {
     "name": "stdout",
     "output_type": "stream",
     "text": [
      "confusion matrix: [[237  35]\n",
      " [ 46 137]]\n",
      "--------------------------------------------------------------------------------\n",
      "TEST RESULTS\n",
      "{'test_accuracy': 0.8219780219780219,\n",
      " 'test_f1_score': 0.771830985915493,\n",
      " 'test_loss': 0.39456379413604736,\n",
      " 'test_precision_score': 0.7965116279069767,\n",
      " 'test_recall_score': 0.7486338797814208,\n",
      " 'test_roc_auc_score': 0.9066618450658953}\n",
      "--------------------------------------------------------------------------------\n"
     ]
    },
    {
     "data": {
      "text/plain": [
       "{'test_loss': 0.39456379413604736,\n",
       " 'test_roc_auc_score': 0.9066618450658953,\n",
       " 'test_precision_score': 0.7965116279069767,\n",
       " 'test_recall_score': 0.7486338797814208,\n",
       " 'test_f1_score': 0.771830985915493,\n",
       " 'test_accuracy': 0.8219780219780219}"
      ]
     },
     "execution_count": 16,
     "metadata": {},
     "output_type": "execute_result"
    }
   ],
   "source": [
    "trainer.test()"
   ]
  },
  {
   "cell_type": "code",
   "execution_count": null,
   "metadata": {},
   "outputs": [],
   "source": []
  },
  {
   "cell_type": "code",
   "execution_count": null,
   "metadata": {},
   "outputs": [],
   "source": []
  },
  {
   "cell_type": "code",
   "execution_count": null,
   "metadata": {},
   "outputs": [],
   "source": []
  },
  {
   "cell_type": "code",
   "execution_count": null,
   "metadata": {},
   "outputs": [],
   "source": []
  }
 ],
 "metadata": {
  "kernelspec": {
   "display_name": "cropharvest",
   "language": "python",
   "name": "python3"
  },
  "language_info": {
   "codemirror_mode": {
    "name": "ipython",
    "version": 3
   },
   "file_extension": ".py",
   "mimetype": "text/x-python",
   "name": "python",
   "nbconvert_exporter": "python",
   "pygments_lexer": "ipython3",
   "version": "3.7.16"
  },
  "orig_nbformat": 4
 },
 "nbformat": 4,
 "nbformat_minor": 2
}
