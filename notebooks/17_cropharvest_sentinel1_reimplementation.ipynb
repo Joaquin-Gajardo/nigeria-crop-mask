{
 "cells": [
  {
   "cell_type": "code",
   "execution_count": 146,
   "metadata": {},
   "outputs": [],
   "source": [
    "from argparse import ArgumentParser\n",
    "import h5py\n",
    "from itertools import permutations\n",
    "from pathlib import Path\n",
    "from typing import cast, Optional, List, Tuple, Dict, Type, TypeVar, Sequence\n",
    "from tqdm import tqdm\n",
    "import sys\n",
    "\n",
    "import numpy as np\n",
    "import pandas as pd\n",
    "import geopandas as gpd\n",
    "import matplotlib.pyplot as plt\n",
    "import torch\n",
    "from torch.utils.data import Dataset\n",
    "from shapely.geometry import Point\n",
    "from sklearn.ensemble import RandomForestClassifier\n",
    "from sklearn.model_selection import train_test_split\n",
    "from sklearn.metrics import f1_score, precision_score, recall_score, roc_auc_score, accuracy_score\n",
    "from cropharvest.datasets import CropHarvest, CropHarvestLabels, Task\n",
    "from cropharvest.columns import NullableColumns, RequiredColumns\n",
    "from cropharvest.config import FEATURES_DIR\n",
    "from cropharvest.engineer import Engineer\n",
    "from cropharvest.utils import load_normalizing_dict\n",
    "from cropharvest.bands import BANDS, DYNAMIC_BANDS, STATIC_BANDS, REMOVED_BANDS\n",
    "\n",
    "sys.path.append(\"..\")\n",
    "\n",
    "from src.models import STR2MODEL, STR2BASE, train_model\n",
    "\n",
    "\n",
    "S2_BANDS = ['B2','B3','B4','B5','B6','B7','B8','B8A','B9','B11','B12','NDVI']"
   ]
  },
  {
   "cell_type": "code",
   "execution_count": 2,
   "metadata": {},
   "outputs": [],
   "source": [
    "DATA_DIR = \"../data/cropharvest\""
   ]
  },
  {
   "cell_type": "code",
   "execution_count": 3,
   "metadata": {},
   "outputs": [],
   "source": [
    "# This will download all geowiki data\n",
    "evaluation_datasets = CropHarvest.create_benchmark_datasets(DATA_DIR)"
   ]
  },
  {
   "attachments": {},
   "cell_type": "markdown",
   "metadata": {},
   "source": [
    "## Get geowiki data"
   ]
  },
  {
   "attachments": {},
   "cell_type": "markdown",
   "metadata": {},
   "source": [
    "- Load all labels and get all h5 files paths\n",
    "- Recalculate normalizing dict\n",
    "- Get as array"
   ]
  },
  {
   "cell_type": "code",
   "execution_count": 58,
   "metadata": {},
   "outputs": [],
   "source": [
    "# Make parent CropHarvest base class\n",
    "class BaseCropHarvestDataset():\n",
    "    root: Path\n",
    "    filepaths: List\n",
    "    y_vals: List\n",
    "\n",
    "    def __len__(self):\n",
    "        return len(self.filepaths)\n",
    "\n",
    "    def __getitem__(self, index: int):\n",
    "        file = h5py.File(self.filepaths[index], \"r\")\n",
    "        return self._normalize(file.get(\"array\")[:]), self.y_vals[index]\n",
    "    \n",
    "    def as_array(self, flatten_x=False, S2_features_only=False):\n",
    "        indices_to_sample = list(range(len(self)))\n",
    "        X, Y = zip(*[self[i] for i in indices_to_sample])\n",
    "        X_np, y_np = np.stack(X), np.stack(Y)\n",
    "        if S2_features_only:\n",
    "            indices = [BANDS.index(band) for band in S2_BANDS]\n",
    "            X_np = np.take(X_np, indices, axis=2)\n",
    "        if flatten_x:\n",
    "            X_np = self._flatten_array(X_np)\n",
    "        return X_np, y_np\n",
    "\n",
    "    def _path_from_row(self, row):\n",
    "        path = self.root / f\"features/arrays/{row[RequiredColumns.INDEX]}_{row[RequiredColumns.DATASET]}.h5\"\n",
    "        if not path.exists():\n",
    "            return None\n",
    "        return path\n",
    "\n",
    "    def _discard_missing_files(self):\n",
    "        self.labels['path'] = self.labels.apply(lambda row: self._path_from_row(row), axis=1)\n",
    "        self.labels = self.labels[~self.labels['path'].isna()].reset_index(drop=True)\n",
    "        \n",
    "    def _normalize(self, array):\n",
    "        if not self.normalizing_dict:\n",
    "            return array\n",
    "        return (array - self.normalizing_dict[\"mean\"]) / self.normalizing_dict[\"std\"]\n",
    "            \n",
    "    @staticmethod\n",
    "    def _flatten_array(array):\n",
    "        return array.reshape(array.shape[0], -1)\n",
    "    "
   ]
  },
  {
   "cell_type": "code",
   "execution_count": 59,
   "metadata": {},
   "outputs": [],
   "source": [
    "# GeowikiCropHarvest = TypeVar('GeowikiCropHarvest', bound='Parent') # for typing\n",
    "\n",
    "# class GeowikiCropHarvest:\n",
    "#     def __init__(self, root=\"data\",\n",
    "#                 countries_subset = Optional[List[str]],\n",
    "#                 labels: Optional[pd.DataFrame] = None, # if this is passed csv_file will be ignored\n",
    "#                 normalizing_dict: Optional[Dict] = None,\n",
    "#                 ) -> None:    \n",
    "#         self.root = Path(root)\n",
    "#         self.countries_subset = countries_subset\n",
    "\n",
    "#         # Labels\n",
    "#         if labels is None:\n",
    "#             cropharvest_labels = CropHarvestLabels(root, download=True)\n",
    "#             cropharvest_df = cropharvest_labels.as_geojson()\n",
    "#             self.labels = cropharvest_df[cropharvest_df['dataset'] == 'geowiki-landcover-2017'].reset_index(drop=True)\n",
    "#             self.labels = self._add_country()\n",
    "#             self._discard_missing_files() # only around 24761/35866 geowiki files come with cropharvest\n",
    "#             # Country subset\n",
    "#             if self.countries_subset:\n",
    "#                 self.labels = self.labels[self.labels.country.str.lower().isin(list(map(str.lower, self.countries_subset)))]\n",
    "#         else: # Comes from split\n",
    "#             self.labels = labels\n",
    "\n",
    "#         self.filepaths = self.labels['path'].tolist()\n",
    "#         self.y_vals = self.labels['is_crop'].tolist()\n",
    "#         if normalizing_dict is None:\n",
    "#             self.normalizing_dict = self.get_normalizing_dict()\n",
    "#         else:\n",
    "#             self.normalizing_dict = normalizing_dict  \n",
    "\n",
    "#     def __len__(self):\n",
    "#         return len(self.filepaths)\n",
    "\n",
    "#     def __getitem__(self, index: int):\n",
    "#         file = h5py.File(self.filepaths[index], \"r\")\n",
    "#         return self._normalize(file.get(\"array\")[:]), self.y_vals[index]\n",
    "    \n",
    "#     def as_array(self, flatten_x=False):\n",
    "#         indices_to_sample = list(range(len(self)))\n",
    "#         X, Y = zip(*[self[i] for i in indices_to_sample])\n",
    "#         X_np, y_np = np.stack(X), np.stack(Y)\n",
    "#         if flatten_x:\n",
    "#             X_np = self._flatten_array(X_np)\n",
    "#         return X_np, y_np\n",
    "\n",
    "#     def _path_from_row(self, row):\n",
    "#         path = self.root / f\"features/arrays/{row[RequiredColumns.INDEX]}_{row[RequiredColumns.DATASET]}.h5\"\n",
    "#         if not path.exists():\n",
    "#             return None\n",
    "#         return path\n",
    "\n",
    "#     def _add_country(self):\n",
    "#         world_map = gpd.read_file('../assets/ne_50m_admin_0_countries/ne_50m_admin_0_countries.shp') # TODO: maybe move to utils to access from different places with a fixed path to assets\n",
    "#         labels = self.labels.copy()\n",
    "#         join_df = gpd.sjoin(labels, world_map, how='left', op=\"within\")[['index', 'ADMIN']] # spatial merge and keep only necessary columns\n",
    "#         new_labels = pd.merge(labels, join_df, on='index', how='left')\n",
    "#         new_labels.rename(columns={'ADMIN': 'country'}, inplace=True)\n",
    "#         new_labels.loc[new_labels.country.isnull(), 'country'] = 'unknown' # convert NaN country entries to strings\n",
    "#         return new_labels\n",
    "\n",
    "#     def _discard_missing_files(self):\n",
    "#         self.labels['path'] = self.labels.apply(lambda row: self._path_from_row(row), axis=1)\n",
    "#         self.labels = self.labels[~self.labels['path'].isna()].reset_index(drop=True)\n",
    "        \n",
    "#     def _search_normalizing_dict(self, default_file_name: str=\"geowiki_normalizing_dict.h5\") -> Optional[Path]:\n",
    "#         '''Searches for the normalizing dict file in the self.data_dir directory and returns its path. Returns None if it was not found.'''\n",
    "#         prefix = default_file_name.split('.')[0]\n",
    "#         file_path = self.root / FEATURES_DIR / default_file_name\n",
    "#         if not self.countries_subset:\n",
    "#             if file_path.exists():\n",
    "#                 print(f'Found normalizing dict {file_path.name}')\n",
    "#                 return file_path\n",
    "#         elif len(self.countries_subset) == 1 and self.countries_subset[0].lower() == 'africa':\n",
    "#             raise NotImplementedError # TODO\n",
    "#         else:\n",
    "#             assert len(self.countries_subset) < 10, 'Execution time will be too big!' # TODO: add warning when passing subset to constructor\n",
    "#             countries_permutations = list(permutations(self.countries_subset))\n",
    "#             countries_permutations = ['_'.join(permutation) for permutation in countries_permutations]\n",
    "#             for permutation in countries_permutations:\n",
    "#                 file_name = f\"{prefix}_{permutation}.h5\"\n",
    "#                 file_path = file_path.parent / file_name\n",
    "#                 if file_path.exists():\n",
    "#                     print(f'Found normalizing dict {file_name}')\n",
    "#                     return file_path\n",
    "#         print('Normalizing dict not found.')\n",
    "#         return None\n",
    "\n",
    "#     def get_normalizing_dict(self, save: bool=True):\n",
    "#         nd_name = \"geowiki_normalizing_dict.h5\"\n",
    "#         nd_path = self._search_normalizing_dict(nd_name)\n",
    "#         if nd_path:\n",
    "#             print(f'Loading normalizing dict {nd_path}')\n",
    "#             normalizing_dict = load_normalizing_dict(nd_path)\n",
    "#         else:\n",
    "#             print('Calculating normalizing dict')\n",
    "#             geowiki_engineer = Engineer(self.root)\n",
    "#             for file_path in tqdm(self.filepaths):\n",
    "#                 with h5py.File(file_path, \"r\") as file:\n",
    "#                     array = file.get(\"array\")[:]\n",
    "#                 geowiki_engineer.update_normalizing_values(array)\n",
    "\n",
    "#             normalizing_dict = geowiki_engineer.calculate_normalizing_dict()\n",
    "\n",
    "#             # Write file\n",
    "#             if save and normalizing_dict is not None:\n",
    "#                 if self.countries_subset: # modify nd file name\n",
    "#                     prefix = nd_name.split('.')[0]\n",
    "#                     countries_str = '_'.join(self.countries_subset)\n",
    "#                     nd_name = f\"{prefix}_{countries_str}.h5\"\n",
    "#                 nd_path = self.root / FEATURES_DIR / nd_name\n",
    "#                 print('Saving normalizing dict', nd_path.name)\n",
    "#                 hf = h5py.File(nd_path, \"w\")\n",
    "#                 for key, val in normalizing_dict.items():\n",
    "#                     hf.create_dataset(key, data=val)\n",
    "#                 hf.close()\n",
    "            \n",
    "#         return normalizing_dict\n",
    "\n",
    "#     def _normalize(self, array):\n",
    "#         if not self.normalizing_dict:\n",
    "#             return array\n",
    "#         return (array - self.normalizing_dict[\"mean\"]) / self.normalizing_dict[\"std\"]\n",
    "            \n",
    "#     @staticmethod\n",
    "#     def _flatten_array(array):\n",
    "#         return array.reshape(array.shape[0], -1)\n",
    "    \n",
    "#     @classmethod\n",
    "#     def train_val_split(cls: Type[GeowikiCropHarvest], class_instance: Type[GeowikiCropHarvest],\n",
    "#                         train_size: float=0.8, stratify_column: Optional[str]=None\n",
    "#                         ) -> Tuple[GeowikiCropHarvest]:\n",
    "#         # Made it a class method to be able to generate two child instances of the class.\n",
    "#         # Haven't figured out a better way for now than passing the parent instance as an argument.\n",
    "\n",
    "#         # Split labels dataframe\n",
    "#         stratify = None if not stratify_column else class_instance.labels[stratify_column] # Could stratify on label crop or no-crop but it doesn't make a big difference\n",
    "#         df_train, df_val = train_test_split(class_instance.labels, train_size=train_size, stratify=stratify, random_state=42)\n",
    "#         df_train.reset_index(drop=True, inplace=True) \n",
    "#         df_val.reset_index(drop=True, inplace=True)\n",
    "\n",
    "#         # Create two new GeowikiDataset instances (train and val)\n",
    "#         print('Train split')\n",
    "#         train_dataset = cls(root=class_instance.root, labels=df_train,\n",
    "#                         normalizing_dict=class_instance.normalizing_dict)\n",
    "#         print('Val split')\n",
    "#         val_dataset = cls(root=class_instance.root, labels=df_val,\n",
    "#                         normalizing_dict=class_instance.normalizing_dict)\n",
    "#         return train_dataset, val_dataset\n",
    "\n",
    "# #countries_subset = ['Ghana', 'Togo', 'Nigeria', 'Cameroon', 'Benin']\n",
    "# #countries_subset = ['Nigeria']\n",
    "# countries_subset = None\n",
    "# dataset = GeowikiCropHarvest(DATA_DIR, countries_subset)    "
   ]
  },
  {
   "cell_type": "code",
   "execution_count": 109,
   "metadata": {},
   "outputs": [
    {
     "name": "stdout",
     "output_type": "stream",
     "text": [
      "Found normalizing dict geowiki_normalizing_dict.h5\n",
      "Loading normalizing dict ../data/cropharvest/features/geowiki_normalizing_dict.h5\n"
     ]
    }
   ],
   "source": [
    "GeowikiCropHarvestDataset = TypeVar('GeowikiCropHarvestDataset', bound='Parent') # for typing\n",
    "\n",
    "class GeowikiCropHarvestDataset(BaseCropHarvestDataset):\n",
    "    def __init__(self, root,\n",
    "                countries_subset = Optional[List[str]],\n",
    "                labels: Optional[pd.DataFrame] = None, # if this is passed csv_file will be ignored\n",
    "                normalizing_dict: Optional[Dict] = None,\n",
    "                ) -> None:\n",
    "            \n",
    "        self.root = Path(root)\n",
    "        self.countries_subset = countries_subset\n",
    "\n",
    "        # Labels\n",
    "        if labels is None:\n",
    "            cropharvest_labels = CropHarvestLabels(root, download=True)\n",
    "            cropharvest_df = cropharvest_labels.as_geojson()\n",
    "            self.labels = cropharvest_df[cropharvest_df['dataset'] == 'geowiki-landcover-2017'].reset_index(drop=True)\n",
    "            self.labels = self._add_country()\n",
    "            self._discard_missing_files() # only around 24761/35866 geowiki files come with cropharvest\n",
    "            # Country subset\n",
    "            if self.countries_subset:\n",
    "                self.labels = self.labels[self.labels.country.str.lower().isin(list(map(str.lower, self.countries_subset)))]\n",
    "        else: # Comes from split\n",
    "            self.labels = labels\n",
    "\n",
    "        self.filepaths = self.labels['path'].tolist()\n",
    "        self.y_vals = self.labels['is_crop'].tolist()\n",
    "        if normalizing_dict is None:\n",
    "            self.normalizing_dict = self.get_normalizing_dict()\n",
    "        else:\n",
    "            self.normalizing_dict = normalizing_dict  \n",
    "\n",
    "    def _add_country(self):\n",
    "        world_map = gpd.read_file('../assets/ne_50m_admin_0_countries/ne_50m_admin_0_countries.shp') # TODO: maybe move to utils to access from different places with a fixed path to assets\n",
    "        labels = self.labels.copy()\n",
    "        join_df = gpd.sjoin(labels, world_map, how='left', op=\"within\")[['index', 'ADMIN']] # spatial merge and keep only necessary columns\n",
    "        new_labels = pd.merge(labels, join_df, on='index', how='left')\n",
    "        new_labels.rename(columns={'ADMIN': 'country'}, inplace=True)\n",
    "        new_labels.loc[new_labels.country.isnull(), 'country'] = 'unknown' # convert NaN country entries to strings\n",
    "        return new_labels\n",
    "        \n",
    "    def _search_normalizing_dict(self, default_file_name: str=\"geowiki_normalizing_dict.h5\") -> Optional[Path]:\n",
    "        '''Searches for the normalizing dict file in the self.data_dir directory and returns its path. Returns None if it was not found.'''\n",
    "        prefix = default_file_name.split('.')[0]\n",
    "        file_path = self.root / FEATURES_DIR / default_file_name\n",
    "        if not self.countries_subset:\n",
    "            if file_path.exists():\n",
    "                print(f'Found normalizing dict {file_path.name}')\n",
    "                return file_path\n",
    "        elif len(self.countries_subset) == 1 and self.countries_subset[0].lower() == 'africa':\n",
    "            raise NotImplementedError # TODO\n",
    "        else:\n",
    "            assert len(self.countries_subset) < 10, 'Execution time will be too big!' # TODO: add warning when passing subset to constructor\n",
    "            countries_permutations = list(permutations(self.countries_subset))\n",
    "            countries_permutations = ['_'.join(permutation) for permutation in countries_permutations]\n",
    "            for permutation in countries_permutations:\n",
    "                file_name = f\"{prefix}_{permutation}.h5\"\n",
    "                file_path = file_path.parent / file_name\n",
    "                if file_path.exists():\n",
    "                    print(f'Found normalizing dict {file_name}')\n",
    "                    return file_path\n",
    "        print('Normalizing dict not found.')\n",
    "        return None\n",
    "\n",
    "    def get_normalizing_dict(self, save: bool=True):\n",
    "        nd_name = \"geowiki_normalizing_dict.h5\"\n",
    "        nd_path = self._search_normalizing_dict(nd_name)\n",
    "        if nd_path:\n",
    "            print(f'Loading normalizing dict {nd_path}')\n",
    "            normalizing_dict = load_normalizing_dict(nd_path)\n",
    "        else:\n",
    "            print('Calculating normalizing dict')\n",
    "            geowiki_engineer = Engineer(self.root)\n",
    "            for file_path in tqdm(self.filepaths):\n",
    "                with h5py.File(file_path, \"r\") as file:\n",
    "                    array = file.get(\"array\")[:]\n",
    "                geowiki_engineer.update_normalizing_values(array)\n",
    "\n",
    "            normalizing_dict = geowiki_engineer.calculate_normalizing_dict()\n",
    "\n",
    "            # Write file\n",
    "            if save and normalizing_dict is not None:\n",
    "                if self.countries_subset: # modify nd file name\n",
    "                    prefix = nd_name.split('.')[0]\n",
    "                    countries_str = '_'.join(self.countries_subset)\n",
    "                    nd_name = f\"{prefix}_{countries_str}.h5\"\n",
    "                nd_path = self.root / FEATURES_DIR / nd_name\n",
    "                print('Saving normalizing dict', nd_path.name)\n",
    "                hf = h5py.File(nd_path, \"w\")\n",
    "                for key, val in normalizing_dict.items():\n",
    "                    hf.create_dataset(key, data=val)\n",
    "                hf.close()\n",
    "            \n",
    "        return normalizing_dict\n",
    "    \n",
    "    @classmethod\n",
    "    def train_val_split(cls: Type[GeowikiCropHarvestDataset], class_instance: Type[GeowikiCropHarvestDataset],\n",
    "                        train_size: float=0.8, stratify_column: Optional[str]=None\n",
    "                        ) -> Tuple[GeowikiCropHarvestDataset]:\n",
    "        # Made it a class method to be able to generate two child instances of the class.\n",
    "        # Haven't figured out a better way for now than passing the parent instance as an argument.\n",
    "\n",
    "        # Split labels dataframe\n",
    "        stratify = None if not stratify_column else class_instance.labels[stratify_column] # Could stratify on label crop or no-crop but it doesn't make a big difference\n",
    "        df_train, df_val = train_test_split(class_instance.labels, train_size=train_size, stratify=stratify, random_state=42)\n",
    "        df_train.reset_index(drop=True, inplace=True) \n",
    "        df_val.reset_index(drop=True, inplace=True)\n",
    "\n",
    "        # Create two new GeowikiDataset instances (train and val)\n",
    "        print('Train split')\n",
    "        train_dataset = cls(root=class_instance.root, labels=df_train,\n",
    "                        normalizing_dict=class_instance.normalizing_dict)\n",
    "        print('Val split')\n",
    "        val_dataset = cls(root=class_instance.root, labels=df_val,\n",
    "                        normalizing_dict=class_instance.normalizing_dict)\n",
    "        return train_dataset, val_dataset\n",
    "\n",
    "countries_subset = ['Ghana', 'Togo', 'Nigeria', 'Cameroon', 'Benin']\n",
    "countries_subset = ['Nigeria']\n",
    "countries_subset = None\n",
    "dataset = GeowikiCropHarvestDataset(DATA_DIR, countries_subset)    "
   ]
  },
  {
   "cell_type": "code",
   "execution_count": 110,
   "metadata": {},
   "outputs": [
    {
     "name": "stdout",
     "output_type": "stream",
     "text": [
      "Train split\n",
      "Val split\n"
     ]
    }
   ],
   "source": [
    "train_dataset, val_dataset = dataset.train_val_split(dataset)"
   ]
  },
  {
   "cell_type": "code",
   "execution_count": 111,
   "metadata": {},
   "outputs": [
    {
     "data": {
      "text/plain": [
       "True"
      ]
     },
     "execution_count": 111,
     "metadata": {},
     "output_type": "execute_result"
    }
   ],
   "source": [
    "len(train_dataset.labels) + len(val_dataset.labels) == len(dataset)"
   ]
  },
  {
   "cell_type": "code",
   "execution_count": 113,
   "metadata": {},
   "outputs": [
    {
     "data": {
      "text/plain": [
       "('0', 'geowiki-landcover-2017')"
      ]
     },
     "execution_count": 113,
     "metadata": {},
     "output_type": "execute_result"
    }
   ],
   "source": [
    "#'geowiki-landcover' in str(dataset.filepaths[0])\n",
    "filepath = dataset.filepaths[0]\n",
    "identifier, dataset_name = filepath.stem.split('_')\n",
    "identifier, dataset_name"
   ]
  },
  {
   "cell_type": "code",
   "execution_count": 116,
   "metadata": {},
   "outputs": [
    {
     "data": {
      "text/plain": [
       "'../data/cropharvest/features/arrays/0_geowiki-landcover-2017.h5'"
      ]
     },
     "execution_count": 116,
     "metadata": {},
     "output_type": "execute_result"
    }
   ],
   "source": [
    "str(filepath)"
   ]
  },
  {
   "cell_type": "code",
   "execution_count": 145,
   "metadata": {},
   "outputs": [],
   "source": [
    "df = dataset.labels\n",
    "row = df.loc[df['index'] == int(identifier)]\n",
    "assert len(row) == 1 # should be unique\n",
    "lat = row.iloc[0]['lat']\n",
    "lon = row.iloc[0]['lon']\n"
   ]
  },
  {
   "cell_type": "code",
   "execution_count": 124,
   "metadata": {},
   "outputs": [
    {
     "data": {
      "text/html": [
       "<div>\n",
       "<style scoped>\n",
       "    .dataframe tbody tr th:only-of-type {\n",
       "        vertical-align: middle;\n",
       "    }\n",
       "\n",
       "    .dataframe tbody tr th {\n",
       "        vertical-align: top;\n",
       "    }\n",
       "\n",
       "    .dataframe thead th {\n",
       "        text-align: right;\n",
       "    }\n",
       "</style>\n",
       "<table border=\"1\" class=\"dataframe\">\n",
       "  <thead>\n",
       "    <tr style=\"text-align: right;\">\n",
       "      <th></th>\n",
       "      <th>harvest_date</th>\n",
       "      <th>planting_date</th>\n",
       "      <th>label</th>\n",
       "      <th>classification_label</th>\n",
       "      <th>index</th>\n",
       "      <th>is_crop</th>\n",
       "      <th>lat</th>\n",
       "      <th>lon</th>\n",
       "      <th>dataset</th>\n",
       "      <th>collection_date</th>\n",
       "      <th>export_end_date</th>\n",
       "      <th>externally_contributed_dataset</th>\n",
       "      <th>is_test</th>\n",
       "      <th>geometry</th>\n",
       "      <th>country</th>\n",
       "      <th>path</th>\n",
       "    </tr>\n",
       "  </thead>\n",
       "  <tbody>\n",
       "    <tr>\n",
       "      <th>0</th>\n",
       "      <td>None</td>\n",
       "      <td>None</td>\n",
       "      <td>None</td>\n",
       "      <td>None</td>\n",
       "      <td>0</td>\n",
       "      <td>0</td>\n",
       "      <td>-16.547619</td>\n",
       "      <td>46.250000</td>\n",
       "      <td>geowiki-landcover-2017</td>\n",
       "      <td>2016-09-30T00:00:00</td>\n",
       "      <td>2017-02-01T00:00:00</td>\n",
       "      <td>False</td>\n",
       "      <td>False</td>\n",
       "      <td>POINT (46.25000 -16.54762)</td>\n",
       "      <td>Madagascar</td>\n",
       "      <td>../data/cropharvest/features/arrays/0_geowiki-...</td>\n",
       "    </tr>\n",
       "    <tr>\n",
       "      <th>1</th>\n",
       "      <td>None</td>\n",
       "      <td>None</td>\n",
       "      <td>None</td>\n",
       "      <td>None</td>\n",
       "      <td>1</td>\n",
       "      <td>1</td>\n",
       "      <td>-18.547619</td>\n",
       "      <td>48.250000</td>\n",
       "      <td>geowiki-landcover-2017</td>\n",
       "      <td>2016-09-30T00:00:00</td>\n",
       "      <td>2017-02-01T00:00:00</td>\n",
       "      <td>False</td>\n",
       "      <td>False</td>\n",
       "      <td>POINT (48.25000 -18.54762)</td>\n",
       "      <td>Madagascar</td>\n",
       "      <td>../data/cropharvest/features/arrays/1_geowiki-...</td>\n",
       "    </tr>\n",
       "    <tr>\n",
       "      <th>2</th>\n",
       "      <td>None</td>\n",
       "      <td>None</td>\n",
       "      <td>None</td>\n",
       "      <td>None</td>\n",
       "      <td>2</td>\n",
       "      <td>0</td>\n",
       "      <td>-21.547619</td>\n",
       "      <td>44.250000</td>\n",
       "      <td>geowiki-landcover-2017</td>\n",
       "      <td>2016-09-30T00:00:00</td>\n",
       "      <td>2017-02-01T00:00:00</td>\n",
       "      <td>False</td>\n",
       "      <td>False</td>\n",
       "      <td>POINT (44.25000 -21.54762)</td>\n",
       "      <td>Madagascar</td>\n",
       "      <td>../data/cropharvest/features/arrays/2_geowiki-...</td>\n",
       "    </tr>\n",
       "    <tr>\n",
       "      <th>3</th>\n",
       "      <td>None</td>\n",
       "      <td>None</td>\n",
       "      <td>None</td>\n",
       "      <td>None</td>\n",
       "      <td>3</td>\n",
       "      <td>1</td>\n",
       "      <td>-17.547619</td>\n",
       "      <td>45.250000</td>\n",
       "      <td>geowiki-landcover-2017</td>\n",
       "      <td>2016-09-30T00:00:00</td>\n",
       "      <td>2017-02-01T00:00:00</td>\n",
       "      <td>False</td>\n",
       "      <td>False</td>\n",
       "      <td>POINT (45.25000 -17.54762)</td>\n",
       "      <td>Madagascar</td>\n",
       "      <td>../data/cropharvest/features/arrays/3_geowiki-...</td>\n",
       "    </tr>\n",
       "    <tr>\n",
       "      <th>4</th>\n",
       "      <td>None</td>\n",
       "      <td>None</td>\n",
       "      <td>None</td>\n",
       "      <td>None</td>\n",
       "      <td>4</td>\n",
       "      <td>0</td>\n",
       "      <td>-21.547619</td>\n",
       "      <td>46.250000</td>\n",
       "      <td>geowiki-landcover-2017</td>\n",
       "      <td>2016-09-30T00:00:00</td>\n",
       "      <td>2017-02-01T00:00:00</td>\n",
       "      <td>False</td>\n",
       "      <td>False</td>\n",
       "      <td>POINT (46.25000 -21.54762)</td>\n",
       "      <td>Madagascar</td>\n",
       "      <td>../data/cropharvest/features/arrays/4_geowiki-...</td>\n",
       "    </tr>\n",
       "    <tr>\n",
       "      <th>...</th>\n",
       "      <td>...</td>\n",
       "      <td>...</td>\n",
       "      <td>...</td>\n",
       "      <td>...</td>\n",
       "      <td>...</td>\n",
       "      <td>...</td>\n",
       "      <td>...</td>\n",
       "      <td>...</td>\n",
       "      <td>...</td>\n",
       "      <td>...</td>\n",
       "      <td>...</td>\n",
       "      <td>...</td>\n",
       "      <td>...</td>\n",
       "      <td>...</td>\n",
       "      <td>...</td>\n",
       "      <td>...</td>\n",
       "    </tr>\n",
       "    <tr>\n",
       "      <th>24756</th>\n",
       "      <td>None</td>\n",
       "      <td>None</td>\n",
       "      <td>None</td>\n",
       "      <td>None</td>\n",
       "      <td>35849</td>\n",
       "      <td>1</td>\n",
       "      <td>16.651786</td>\n",
       "      <td>103.550595</td>\n",
       "      <td>geowiki-landcover-2017</td>\n",
       "      <td>2016-09-30T00:00:00</td>\n",
       "      <td>2017-02-01T00:00:00</td>\n",
       "      <td>False</td>\n",
       "      <td>False</td>\n",
       "      <td>POINT (103.55060 16.65179)</td>\n",
       "      <td>Thailand</td>\n",
       "      <td>../data/cropharvest/features/arrays/35849_geow...</td>\n",
       "    </tr>\n",
       "    <tr>\n",
       "      <th>24757</th>\n",
       "      <td>None</td>\n",
       "      <td>None</td>\n",
       "      <td>None</td>\n",
       "      <td>None</td>\n",
       "      <td>35850</td>\n",
       "      <td>1</td>\n",
       "      <td>22.651786</td>\n",
       "      <td>84.550595</td>\n",
       "      <td>geowiki-landcover-2017</td>\n",
       "      <td>2016-09-30T00:00:00</td>\n",
       "      <td>2017-02-01T00:00:00</td>\n",
       "      <td>False</td>\n",
       "      <td>False</td>\n",
       "      <td>POINT (84.55060 22.65179)</td>\n",
       "      <td>India</td>\n",
       "      <td>../data/cropharvest/features/arrays/35850_geow...</td>\n",
       "    </tr>\n",
       "    <tr>\n",
       "      <th>24758</th>\n",
       "      <td>None</td>\n",
       "      <td>None</td>\n",
       "      <td>None</td>\n",
       "      <td>None</td>\n",
       "      <td>35851</td>\n",
       "      <td>1</td>\n",
       "      <td>10.651786</td>\n",
       "      <td>76.550595</td>\n",
       "      <td>geowiki-landcover-2017</td>\n",
       "      <td>2016-09-30T00:00:00</td>\n",
       "      <td>2017-02-01T00:00:00</td>\n",
       "      <td>False</td>\n",
       "      <td>False</td>\n",
       "      <td>POINT (76.55060 10.65179)</td>\n",
       "      <td>India</td>\n",
       "      <td>../data/cropharvest/features/arrays/35851_geow...</td>\n",
       "    </tr>\n",
       "    <tr>\n",
       "      <th>24759</th>\n",
       "      <td>None</td>\n",
       "      <td>None</td>\n",
       "      <td>None</td>\n",
       "      <td>None</td>\n",
       "      <td>35860</td>\n",
       "      <td>0</td>\n",
       "      <td>-0.348214</td>\n",
       "      <td>36.550595</td>\n",
       "      <td>geowiki-landcover-2017</td>\n",
       "      <td>2016-09-30T00:00:00</td>\n",
       "      <td>2017-02-01T00:00:00</td>\n",
       "      <td>False</td>\n",
       "      <td>False</td>\n",
       "      <td>POINT (36.55060 -0.34821)</td>\n",
       "      <td>Kenya</td>\n",
       "      <td>../data/cropharvest/features/arrays/35860_geow...</td>\n",
       "    </tr>\n",
       "    <tr>\n",
       "      <th>24760</th>\n",
       "      <td>None</td>\n",
       "      <td>None</td>\n",
       "      <td>None</td>\n",
       "      <td>None</td>\n",
       "      <td>35864</td>\n",
       "      <td>1</td>\n",
       "      <td>-24.348214</td>\n",
       "      <td>26.550595</td>\n",
       "      <td>geowiki-landcover-2017</td>\n",
       "      <td>2016-09-30T00:00:00</td>\n",
       "      <td>2017-02-01T00:00:00</td>\n",
       "      <td>False</td>\n",
       "      <td>False</td>\n",
       "      <td>POINT (26.55060 -24.34821)</td>\n",
       "      <td>Botswana</td>\n",
       "      <td>../data/cropharvest/features/arrays/35864_geow...</td>\n",
       "    </tr>\n",
       "  </tbody>\n",
       "</table>\n",
       "<p>24761 rows × 16 columns</p>\n",
       "</div>"
      ],
      "text/plain": [
       "      harvest_date planting_date label classification_label  index  is_crop  \\\n",
       "0             None          None  None                 None      0        0   \n",
       "1             None          None  None                 None      1        1   \n",
       "2             None          None  None                 None      2        0   \n",
       "3             None          None  None                 None      3        1   \n",
       "4             None          None  None                 None      4        0   \n",
       "...            ...           ...   ...                  ...    ...      ...   \n",
       "24756         None          None  None                 None  35849        1   \n",
       "24757         None          None  None                 None  35850        1   \n",
       "24758         None          None  None                 None  35851        1   \n",
       "24759         None          None  None                 None  35860        0   \n",
       "24760         None          None  None                 None  35864        1   \n",
       "\n",
       "             lat         lon                 dataset      collection_date  \\\n",
       "0     -16.547619   46.250000  geowiki-landcover-2017  2016-09-30T00:00:00   \n",
       "1     -18.547619   48.250000  geowiki-landcover-2017  2016-09-30T00:00:00   \n",
       "2     -21.547619   44.250000  geowiki-landcover-2017  2016-09-30T00:00:00   \n",
       "3     -17.547619   45.250000  geowiki-landcover-2017  2016-09-30T00:00:00   \n",
       "4     -21.547619   46.250000  geowiki-landcover-2017  2016-09-30T00:00:00   \n",
       "...          ...         ...                     ...                  ...   \n",
       "24756  16.651786  103.550595  geowiki-landcover-2017  2016-09-30T00:00:00   \n",
       "24757  22.651786   84.550595  geowiki-landcover-2017  2016-09-30T00:00:00   \n",
       "24758  10.651786   76.550595  geowiki-landcover-2017  2016-09-30T00:00:00   \n",
       "24759  -0.348214   36.550595  geowiki-landcover-2017  2016-09-30T00:00:00   \n",
       "24760 -24.348214   26.550595  geowiki-landcover-2017  2016-09-30T00:00:00   \n",
       "\n",
       "           export_end_date  externally_contributed_dataset  is_test  \\\n",
       "0      2017-02-01T00:00:00                           False    False   \n",
       "1      2017-02-01T00:00:00                           False    False   \n",
       "2      2017-02-01T00:00:00                           False    False   \n",
       "3      2017-02-01T00:00:00                           False    False   \n",
       "4      2017-02-01T00:00:00                           False    False   \n",
       "...                    ...                             ...      ...   \n",
       "24756  2017-02-01T00:00:00                           False    False   \n",
       "24757  2017-02-01T00:00:00                           False    False   \n",
       "24758  2017-02-01T00:00:00                           False    False   \n",
       "24759  2017-02-01T00:00:00                           False    False   \n",
       "24760  2017-02-01T00:00:00                           False    False   \n",
       "\n",
       "                         geometry     country  \\\n",
       "0      POINT (46.25000 -16.54762)  Madagascar   \n",
       "1      POINT (48.25000 -18.54762)  Madagascar   \n",
       "2      POINT (44.25000 -21.54762)  Madagascar   \n",
       "3      POINT (45.25000 -17.54762)  Madagascar   \n",
       "4      POINT (46.25000 -21.54762)  Madagascar   \n",
       "...                           ...         ...   \n",
       "24756  POINT (103.55060 16.65179)    Thailand   \n",
       "24757   POINT (84.55060 22.65179)       India   \n",
       "24758   POINT (76.55060 10.65179)       India   \n",
       "24759   POINT (36.55060 -0.34821)       Kenya   \n",
       "24760  POINT (26.55060 -24.34821)    Botswana   \n",
       "\n",
       "                                                    path  \n",
       "0      ../data/cropharvest/features/arrays/0_geowiki-...  \n",
       "1      ../data/cropharvest/features/arrays/1_geowiki-...  \n",
       "2      ../data/cropharvest/features/arrays/2_geowiki-...  \n",
       "3      ../data/cropharvest/features/arrays/3_geowiki-...  \n",
       "4      ../data/cropharvest/features/arrays/4_geowiki-...  \n",
       "...                                                  ...  \n",
       "24756  ../data/cropharvest/features/arrays/35849_geow...  \n",
       "24757  ../data/cropharvest/features/arrays/35850_geow...  \n",
       "24758  ../data/cropharvest/features/arrays/35851_geow...  \n",
       "24759  ../data/cropharvest/features/arrays/35860_geow...  \n",
       "24760  ../data/cropharvest/features/arrays/35864_geow...  \n",
       "\n",
       "[24761 rows x 16 columns]"
      ]
     },
     "execution_count": 124,
     "metadata": {},
     "output_type": "execute_result"
    }
   ],
   "source": [
    "dataset.labels"
   ]
  },
  {
   "cell_type": "code",
   "execution_count": 65,
   "metadata": {},
   "outputs": [],
   "source": [
    "X, y = dataset.as_array(flatten_x=False)\n",
    "X_flat, y_flat = dataset.as_array(flatten_x=True)"
   ]
  },
  {
   "cell_type": "code",
   "execution_count": 66,
   "metadata": {},
   "outputs": [
    {
     "name": "stdout",
     "output_type": "stream",
     "text": [
      "(24761, 12, 18) (24761,)\n"
     ]
    },
    {
     "data": {
      "text/plain": [
       "((24761, 216), (24761,))"
      ]
     },
     "execution_count": 66,
     "metadata": {},
     "output_type": "execute_result"
    }
   ],
   "source": [
    "print(X.shape, y.shape)\n",
    "X_flat.shape, y_flat.shape"
   ]
  },
  {
   "attachments": {},
   "cell_type": "markdown",
   "metadata": {},
   "source": [
    "## Get Nigeria data"
   ]
  },
  {
   "cell_type": "code",
   "execution_count": 67,
   "metadata": {},
   "outputs": [],
   "source": [
    "data_root = Path('../data/features/nigeria-cropharvest')\n",
    "file_name = 'labels.geojson'"
   ]
  },
  {
   "cell_type": "code",
   "execution_count": 68,
   "metadata": {},
   "outputs": [
    {
     "data": {
      "text/html": [
       "<div>\n",
       "<style scoped>\n",
       "    .dataframe tbody tr th:only-of-type {\n",
       "        vertical-align: middle;\n",
       "    }\n",
       "\n",
       "    .dataframe tbody tr th {\n",
       "        vertical-align: top;\n",
       "    }\n",
       "\n",
       "    .dataframe thead th {\n",
       "        text-align: right;\n",
       "    }\n",
       "</style>\n",
       "<table border=\"1\" class=\"dataframe\">\n",
       "  <thead>\n",
       "    <tr style=\"text-align: right;\">\n",
       "      <th></th>\n",
       "      <th>is_crop</th>\n",
       "      <th>lat</th>\n",
       "      <th>lon</th>\n",
       "      <th>index</th>\n",
       "      <th>identifier</th>\n",
       "      <th>new_set</th>\n",
       "      <th>start_date</th>\n",
       "      <th>end_date</th>\n",
       "      <th>export_end_date</th>\n",
       "      <th>dataset</th>\n",
       "      <th>export_identifier</th>\n",
       "      <th>is_test</th>\n",
       "      <th>label</th>\n",
       "      <th>geometry</th>\n",
       "    </tr>\n",
       "  </thead>\n",
       "  <tbody>\n",
       "    <tr>\n",
       "      <th>0</th>\n",
       "      <td>0</td>\n",
       "      <td>13.062977</td>\n",
       "      <td>7.169715</td>\n",
       "      <td>0</td>\n",
       "      <td>0</td>\n",
       "      <td>validation</td>\n",
       "      <td>2019-04-03</td>\n",
       "      <td>2020-03-28</td>\n",
       "      <td>2020-03-28</td>\n",
       "      <td>nigeria</td>\n",
       "      <td>0_nigeria_2019-04-03_2020-03-28</td>\n",
       "      <td>False</td>\n",
       "      <td>None</td>\n",
       "      <td>POINT (7.16971 13.06298)</td>\n",
       "    </tr>\n",
       "    <tr>\n",
       "      <th>1</th>\n",
       "      <td>0</td>\n",
       "      <td>9.861582</td>\n",
       "      <td>5.029259</td>\n",
       "      <td>1</td>\n",
       "      <td>1</td>\n",
       "      <td>training</td>\n",
       "      <td>2019-04-03</td>\n",
       "      <td>2020-03-28</td>\n",
       "      <td>2020-03-28</td>\n",
       "      <td>nigeria</td>\n",
       "      <td>1_nigeria_2019-04-03_2020-03-28</td>\n",
       "      <td>False</td>\n",
       "      <td>None</td>\n",
       "      <td>POINT (5.02926 9.86158)</td>\n",
       "    </tr>\n",
       "    <tr>\n",
       "      <th>2</th>\n",
       "      <td>0</td>\n",
       "      <td>10.442239</td>\n",
       "      <td>11.673885</td>\n",
       "      <td>2</td>\n",
       "      <td>2</td>\n",
       "      <td>testing</td>\n",
       "      <td>2019-04-03</td>\n",
       "      <td>2020-03-28</td>\n",
       "      <td>2020-03-28</td>\n",
       "      <td>nigeria</td>\n",
       "      <td>2_nigeria_2019-04-03_2020-03-28</td>\n",
       "      <td>True</td>\n",
       "      <td>None</td>\n",
       "      <td>POINT (11.67388 10.44224)</td>\n",
       "    </tr>\n",
       "    <tr>\n",
       "      <th>3</th>\n",
       "      <td>0</td>\n",
       "      <td>6.506252</td>\n",
       "      <td>6.584187</td>\n",
       "      <td>3</td>\n",
       "      <td>3</td>\n",
       "      <td>training</td>\n",
       "      <td>2019-04-03</td>\n",
       "      <td>2020-03-28</td>\n",
       "      <td>2020-03-28</td>\n",
       "      <td>nigeria</td>\n",
       "      <td>3_nigeria_2019-04-03_2020-03-28</td>\n",
       "      <td>False</td>\n",
       "      <td>None</td>\n",
       "      <td>POINT (6.58419 6.50625)</td>\n",
       "    </tr>\n",
       "    <tr>\n",
       "      <th>4</th>\n",
       "      <td>0</td>\n",
       "      <td>7.980531</td>\n",
       "      <td>7.099293</td>\n",
       "      <td>4</td>\n",
       "      <td>4</td>\n",
       "      <td>testing</td>\n",
       "      <td>2019-04-03</td>\n",
       "      <td>2020-03-28</td>\n",
       "      <td>2020-03-28</td>\n",
       "      <td>nigeria</td>\n",
       "      <td>4_nigeria_2019-04-03_2020-03-28</td>\n",
       "      <td>True</td>\n",
       "      <td>None</td>\n",
       "      <td>POINT (7.09929 7.98053)</td>\n",
       "    </tr>\n",
       "    <tr>\n",
       "      <th>...</th>\n",
       "      <td>...</td>\n",
       "      <td>...</td>\n",
       "      <td>...</td>\n",
       "      <td>...</td>\n",
       "      <td>...</td>\n",
       "      <td>...</td>\n",
       "      <td>...</td>\n",
       "      <td>...</td>\n",
       "      <td>...</td>\n",
       "      <td>...</td>\n",
       "      <td>...</td>\n",
       "      <td>...</td>\n",
       "      <td>...</td>\n",
       "      <td>...</td>\n",
       "    </tr>\n",
       "    <tr>\n",
       "      <th>1822</th>\n",
       "      <td>0</td>\n",
       "      <td>11.505429</td>\n",
       "      <td>6.910431</td>\n",
       "      <td>1822</td>\n",
       "      <td>1822</td>\n",
       "      <td>validation</td>\n",
       "      <td>2019-04-03</td>\n",
       "      <td>2020-03-28</td>\n",
       "      <td>2020-03-28</td>\n",
       "      <td>nigeria</td>\n",
       "      <td>1822_nigeria_2019-04-03_2020-03-28</td>\n",
       "      <td>False</td>\n",
       "      <td>None</td>\n",
       "      <td>POINT (6.91043 11.50543)</td>\n",
       "    </tr>\n",
       "    <tr>\n",
       "      <th>1823</th>\n",
       "      <td>0</td>\n",
       "      <td>13.281881</td>\n",
       "      <td>13.412151</td>\n",
       "      <td>1823</td>\n",
       "      <td>1823</td>\n",
       "      <td>validation</td>\n",
       "      <td>2019-04-03</td>\n",
       "      <td>2020-03-28</td>\n",
       "      <td>2020-03-28</td>\n",
       "      <td>nigeria</td>\n",
       "      <td>1823_nigeria_2019-04-03_2020-03-28</td>\n",
       "      <td>False</td>\n",
       "      <td>None</td>\n",
       "      <td>POINT (13.41215 13.28188)</td>\n",
       "    </tr>\n",
       "    <tr>\n",
       "      <th>1824</th>\n",
       "      <td>0</td>\n",
       "      <td>8.912081</td>\n",
       "      <td>3.703954</td>\n",
       "      <td>1824</td>\n",
       "      <td>1824</td>\n",
       "      <td>testing</td>\n",
       "      <td>2019-04-03</td>\n",
       "      <td>2020-03-28</td>\n",
       "      <td>2020-03-28</td>\n",
       "      <td>nigeria</td>\n",
       "      <td>1824_nigeria_2019-04-03_2020-03-28</td>\n",
       "      <td>True</td>\n",
       "      <td>None</td>\n",
       "      <td>POINT (3.70395 8.91208)</td>\n",
       "    </tr>\n",
       "    <tr>\n",
       "      <th>1825</th>\n",
       "      <td>1</td>\n",
       "      <td>8.653739</td>\n",
       "      <td>4.971758</td>\n",
       "      <td>1825</td>\n",
       "      <td>1825</td>\n",
       "      <td>validation</td>\n",
       "      <td>2019-04-03</td>\n",
       "      <td>2020-03-28</td>\n",
       "      <td>2020-03-28</td>\n",
       "      <td>nigeria</td>\n",
       "      <td>1825_nigeria_2019-04-03_2020-03-28</td>\n",
       "      <td>False</td>\n",
       "      <td>None</td>\n",
       "      <td>POINT (4.97176 8.65374)</td>\n",
       "    </tr>\n",
       "    <tr>\n",
       "      <th>1826</th>\n",
       "      <td>1</td>\n",
       "      <td>9.802278</td>\n",
       "      <td>12.565271</td>\n",
       "      <td>1826</td>\n",
       "      <td>1826</td>\n",
       "      <td>training</td>\n",
       "      <td>2019-04-03</td>\n",
       "      <td>2020-03-28</td>\n",
       "      <td>2020-03-28</td>\n",
       "      <td>nigeria</td>\n",
       "      <td>1826_nigeria_2019-04-03_2020-03-28</td>\n",
       "      <td>False</td>\n",
       "      <td>None</td>\n",
       "      <td>POINT (12.56527 9.80228)</td>\n",
       "    </tr>\n",
       "  </tbody>\n",
       "</table>\n",
       "<p>1827 rows × 14 columns</p>\n",
       "</div>"
      ],
      "text/plain": [
       "      is_crop        lat        lon  index  identifier     new_set  \\\n",
       "0           0  13.062977   7.169715      0           0  validation   \n",
       "1           0   9.861582   5.029259      1           1    training   \n",
       "2           0  10.442239  11.673885      2           2     testing   \n",
       "3           0   6.506252   6.584187      3           3    training   \n",
       "4           0   7.980531   7.099293      4           4     testing   \n",
       "...       ...        ...        ...    ...         ...         ...   \n",
       "1822        0  11.505429   6.910431   1822        1822  validation   \n",
       "1823        0  13.281881  13.412151   1823        1823  validation   \n",
       "1824        0   8.912081   3.703954   1824        1824     testing   \n",
       "1825        1   8.653739   4.971758   1825        1825  validation   \n",
       "1826        1   9.802278  12.565271   1826        1826    training   \n",
       "\n",
       "      start_date    end_date export_end_date  dataset  \\\n",
       "0     2019-04-03  2020-03-28      2020-03-28  nigeria   \n",
       "1     2019-04-03  2020-03-28      2020-03-28  nigeria   \n",
       "2     2019-04-03  2020-03-28      2020-03-28  nigeria   \n",
       "3     2019-04-03  2020-03-28      2020-03-28  nigeria   \n",
       "4     2019-04-03  2020-03-28      2020-03-28  nigeria   \n",
       "...          ...         ...             ...      ...   \n",
       "1822  2019-04-03  2020-03-28      2020-03-28  nigeria   \n",
       "1823  2019-04-03  2020-03-28      2020-03-28  nigeria   \n",
       "1824  2019-04-03  2020-03-28      2020-03-28  nigeria   \n",
       "1825  2019-04-03  2020-03-28      2020-03-28  nigeria   \n",
       "1826  2019-04-03  2020-03-28      2020-03-28  nigeria   \n",
       "\n",
       "                       export_identifier  is_test label  \\\n",
       "0        0_nigeria_2019-04-03_2020-03-28    False  None   \n",
       "1        1_nigeria_2019-04-03_2020-03-28    False  None   \n",
       "2        2_nigeria_2019-04-03_2020-03-28     True  None   \n",
       "3        3_nigeria_2019-04-03_2020-03-28    False  None   \n",
       "4        4_nigeria_2019-04-03_2020-03-28     True  None   \n",
       "...                                  ...      ...   ...   \n",
       "1822  1822_nigeria_2019-04-03_2020-03-28    False  None   \n",
       "1823  1823_nigeria_2019-04-03_2020-03-28    False  None   \n",
       "1824  1824_nigeria_2019-04-03_2020-03-28     True  None   \n",
       "1825  1825_nigeria_2019-04-03_2020-03-28    False  None   \n",
       "1826  1826_nigeria_2019-04-03_2020-03-28    False  None   \n",
       "\n",
       "                       geometry  \n",
       "0      POINT (7.16971 13.06298)  \n",
       "1       POINT (5.02926 9.86158)  \n",
       "2     POINT (11.67388 10.44224)  \n",
       "3       POINT (6.58419 6.50625)  \n",
       "4       POINT (7.09929 7.98053)  \n",
       "...                         ...  \n",
       "1822   POINT (6.91043 11.50543)  \n",
       "1823  POINT (13.41215 13.28188)  \n",
       "1824    POINT (3.70395 8.91208)  \n",
       "1825    POINT (4.97176 8.65374)  \n",
       "1826   POINT (12.56527 9.80228)  \n",
       "\n",
       "[1827 rows x 14 columns]"
      ]
     },
     "execution_count": 68,
     "metadata": {},
     "output_type": "execute_result"
    }
   ],
   "source": [
    "gdf = gpd.read_file(data_root / file_name)\n",
    "gdf"
   ]
  },
  {
   "cell_type": "code",
   "execution_count": 69,
   "metadata": {},
   "outputs": [],
   "source": [
    "# class NigeriaDataset():\n",
    "#     def __init__(self, root='../data/features/nigeria-cropharvest', split='testing'):    \n",
    "#         self.root = Path(root)\n",
    "#         self._labels = CropHarvestLabels(self.root).as_geojson()\n",
    "#         # Slice per subset\n",
    "#         assert split in [\"training\", \"validation\", \"testing\"], 'Split must be either \"training\", \"validation\" or \"testing\".'\n",
    "#         self.labels = self._labels[self._labels['new_set'] == split].reset_index()\n",
    "#         self._discard_missing_files()  \n",
    "#         self.filepaths = self.labels['path'].tolist()\n",
    "#         self.y_vals = self.labels['is_crop'].tolist()\n",
    "#         self.normalizing_dict = load_normalizing_dict(self.root/ FEATURES_DIR / 'normalizing_dict.h5')\n",
    "\n",
    "#     def __len__(self):\n",
    "#         return len(self.filepaths)\n",
    "\n",
    "#     def __getitem__(self, index: int):\n",
    "#         file = h5py.File(self.filepaths[index], \"r\")\n",
    "#         return self._normalize(file.get(\"array\")[:]), self.y_vals[index]\n",
    "    \n",
    "#     def as_array(self, flatten_x=False, S2_features_only=False):\n",
    "#         indices_to_sample = list(range(len(self)))\n",
    "#         X, Y = zip(*[self[i] for i in indices_to_sample])\n",
    "#         X_np, y_np = np.stack(X), np.stack(Y)\n",
    "#         if S2_features_only:\n",
    "#             indices = [BANDS.index(band) for band in S2_BANDS]\n",
    "#             X_np = np.take(X_np, indices, axis=2)\n",
    "#         if flatten_x:\n",
    "#             X_np = self._flatten_array(X_np)\n",
    "#         return X_np, y_np\n",
    "\n",
    "#     def _path_from_row(self, row):\n",
    "#         path = self.root / f\"features/arrays/{row[RequiredColumns.INDEX]}_{row[RequiredColumns.DATASET]}.h5\"\n",
    "#         if not path.exists():\n",
    "#             return None\n",
    "#         return path\n",
    "\n",
    "#     def _dataframe_to_paths(self, gdf: gpd.GeoDataFrame):\n",
    "#         return [self._path_from_row(row) for _, row in gdf.iterrows()]\n",
    "\n",
    "#     def _discard_missing_files(self):\n",
    "#         self.labels['path'] = self.labels.apply(lambda row: self._path_from_row(row), axis=1)\n",
    "#         self.labels = self.labels[~self.labels['path'].isna()].reset_index(drop=True)\n",
    "\n",
    "#     def _normalize(self, array):\n",
    "#         if not self.normalizing_dict:\n",
    "#             return array\n",
    "#         return (array - self.normalizing_dict[\"mean\"]) / self.normalizing_dict[\"std\"]\n",
    "            \n",
    "#     @staticmethod\n",
    "#     def _flatten_array(array):\n",
    "#         return array.reshape(array.shape[0], -1)\n",
    "\n",
    "# nigeria_train = NigeriaDataset('../data/features/nigeria-cropharvest', split='training')      \n",
    "# nigeria_val = NigeriaDataset('../data/features/nigeria-cropharvest', split='validation')      \n",
    "# nigeria_test = NigeriaDataset('../data/features/nigeria-cropharvest', split='testing') "
   ]
  },
  {
   "cell_type": "code",
   "execution_count": 70,
   "metadata": {},
   "outputs": [],
   "source": [
    "class NigeriaDataset(BaseCropHarvestDataset):\n",
    "    def __init__(self, root='../data/features/nigeria-cropharvest', split='testing'):    \n",
    "        self.root = Path(root)\n",
    "        self._labels = CropHarvestLabels(self.root).as_geojson()\n",
    "        # Slice per subset\n",
    "        assert split in [\"training\", \"validation\", \"testing\"], 'Split must be either \"training\", \"validation\" or \"testing\".'\n",
    "        self.labels = self._labels[self._labels['new_set'] == split].reset_index()\n",
    "        self._discard_missing_files()  \n",
    "        self.filepaths = self.labels['path'].tolist()\n",
    "        self.y_vals = self.labels['is_crop'].tolist()\n",
    "        self.normalizing_dict = load_normalizing_dict(self.root/ FEATURES_DIR / 'normalizing_dict.h5')\n",
    "\n",
    "nigeria_train = NigeriaDataset('../data/features/nigeria-cropharvest', split='training')      \n",
    "nigeria_val = NigeriaDataset('../data/features/nigeria-cropharvest', split='validation')      \n",
    "nigeria_test = NigeriaDataset('../data/features/nigeria-cropharvest', split='testing') "
   ]
  },
  {
   "cell_type": "code",
   "execution_count": 71,
   "metadata": {},
   "outputs": [
    {
     "data": {
      "text/html": [
       "<div>\n",
       "<style scoped>\n",
       "    .dataframe tbody tr th:only-of-type {\n",
       "        vertical-align: middle;\n",
       "    }\n",
       "\n",
       "    .dataframe tbody tr th {\n",
       "        vertical-align: top;\n",
       "    }\n",
       "\n",
       "    .dataframe thead th {\n",
       "        text-align: right;\n",
       "    }\n",
       "</style>\n",
       "<table border=\"1\" class=\"dataframe\">\n",
       "  <thead>\n",
       "    <tr style=\"text-align: right;\">\n",
       "      <th></th>\n",
       "      <th>level_0</th>\n",
       "      <th>is_crop</th>\n",
       "      <th>lat</th>\n",
       "      <th>lon</th>\n",
       "      <th>index</th>\n",
       "      <th>identifier</th>\n",
       "      <th>new_set</th>\n",
       "      <th>start_date</th>\n",
       "      <th>end_date</th>\n",
       "      <th>export_end_date</th>\n",
       "      <th>dataset</th>\n",
       "      <th>export_identifier</th>\n",
       "      <th>is_test</th>\n",
       "      <th>label</th>\n",
       "      <th>geometry</th>\n",
       "      <th>path</th>\n",
       "    </tr>\n",
       "  </thead>\n",
       "  <tbody>\n",
       "    <tr>\n",
       "      <th>0</th>\n",
       "      <td>2</td>\n",
       "      <td>0</td>\n",
       "      <td>10.442239</td>\n",
       "      <td>11.673885</td>\n",
       "      <td>2</td>\n",
       "      <td>2</td>\n",
       "      <td>testing</td>\n",
       "      <td>2019-04-03</td>\n",
       "      <td>2020-03-28</td>\n",
       "      <td>2020-03-28</td>\n",
       "      <td>nigeria</td>\n",
       "      <td>2_nigeria_2019-04-03_2020-03-28</td>\n",
       "      <td>True</td>\n",
       "      <td>None</td>\n",
       "      <td>POINT (11.67388 10.44224)</td>\n",
       "      <td>../data/features/nigeria-cropharvest/features/...</td>\n",
       "    </tr>\n",
       "    <tr>\n",
       "      <th>1</th>\n",
       "      <td>4</td>\n",
       "      <td>0</td>\n",
       "      <td>7.980531</td>\n",
       "      <td>7.099293</td>\n",
       "      <td>4</td>\n",
       "      <td>4</td>\n",
       "      <td>testing</td>\n",
       "      <td>2019-04-03</td>\n",
       "      <td>2020-03-28</td>\n",
       "      <td>2020-03-28</td>\n",
       "      <td>nigeria</td>\n",
       "      <td>4_nigeria_2019-04-03_2020-03-28</td>\n",
       "      <td>True</td>\n",
       "      <td>None</td>\n",
       "      <td>POINT (7.09929 7.98053)</td>\n",
       "      <td>../data/features/nigeria-cropharvest/features/...</td>\n",
       "    </tr>\n",
       "    <tr>\n",
       "      <th>2</th>\n",
       "      <td>6</td>\n",
       "      <td>0</td>\n",
       "      <td>8.898685</td>\n",
       "      <td>10.414310</td>\n",
       "      <td>6</td>\n",
       "      <td>6</td>\n",
       "      <td>testing</td>\n",
       "      <td>2019-04-03</td>\n",
       "      <td>2020-03-28</td>\n",
       "      <td>2020-03-28</td>\n",
       "      <td>nigeria</td>\n",
       "      <td>6_nigeria_2019-04-03_2020-03-28</td>\n",
       "      <td>True</td>\n",
       "      <td>None</td>\n",
       "      <td>POINT (10.41431 8.89868)</td>\n",
       "      <td>../data/features/nigeria-cropharvest/features/...</td>\n",
       "    </tr>\n",
       "    <tr>\n",
       "      <th>3</th>\n",
       "      <td>7</td>\n",
       "      <td>1</td>\n",
       "      <td>8.670462</td>\n",
       "      <td>5.551517</td>\n",
       "      <td>7</td>\n",
       "      <td>7</td>\n",
       "      <td>testing</td>\n",
       "      <td>2019-04-03</td>\n",
       "      <td>2020-03-28</td>\n",
       "      <td>2020-03-28</td>\n",
       "      <td>nigeria</td>\n",
       "      <td>7_nigeria_2019-04-03_2020-03-28</td>\n",
       "      <td>True</td>\n",
       "      <td>None</td>\n",
       "      <td>POINT (5.55152 8.67046)</td>\n",
       "      <td>../data/features/nigeria-cropharvest/features/...</td>\n",
       "    </tr>\n",
       "    <tr>\n",
       "      <th>4</th>\n",
       "      <td>16</td>\n",
       "      <td>0</td>\n",
       "      <td>8.369347</td>\n",
       "      <td>9.376651</td>\n",
       "      <td>16</td>\n",
       "      <td>16</td>\n",
       "      <td>testing</td>\n",
       "      <td>2019-04-03</td>\n",
       "      <td>2020-03-28</td>\n",
       "      <td>2020-03-28</td>\n",
       "      <td>nigeria</td>\n",
       "      <td>16_nigeria_2019-04-03_2020-03-28</td>\n",
       "      <td>True</td>\n",
       "      <td>None</td>\n",
       "      <td>POINT (9.37665 8.36935)</td>\n",
       "      <td>../data/features/nigeria-cropharvest/features/...</td>\n",
       "    </tr>\n",
       "    <tr>\n",
       "      <th>...</th>\n",
       "      <td>...</td>\n",
       "      <td>...</td>\n",
       "      <td>...</td>\n",
       "      <td>...</td>\n",
       "      <td>...</td>\n",
       "      <td>...</td>\n",
       "      <td>...</td>\n",
       "      <td>...</td>\n",
       "      <td>...</td>\n",
       "      <td>...</td>\n",
       "      <td>...</td>\n",
       "      <td>...</td>\n",
       "      <td>...</td>\n",
       "      <td>...</td>\n",
       "      <td>...</td>\n",
       "      <td>...</td>\n",
       "    </tr>\n",
       "    <tr>\n",
       "      <th>450</th>\n",
       "      <td>1811</td>\n",
       "      <td>0</td>\n",
       "      <td>13.160274</td>\n",
       "      <td>12.016438</td>\n",
       "      <td>1811</td>\n",
       "      <td>1811</td>\n",
       "      <td>testing</td>\n",
       "      <td>2019-04-03</td>\n",
       "      <td>2020-03-28</td>\n",
       "      <td>2020-03-28</td>\n",
       "      <td>nigeria</td>\n",
       "      <td>1811_nigeria_2019-04-03_2020-03-28</td>\n",
       "      <td>True</td>\n",
       "      <td>None</td>\n",
       "      <td>POINT (12.01644 13.16027)</td>\n",
       "      <td>../data/features/nigeria-cropharvest/features/...</td>\n",
       "    </tr>\n",
       "    <tr>\n",
       "      <th>451</th>\n",
       "      <td>1813</td>\n",
       "      <td>1</td>\n",
       "      <td>9.574509</td>\n",
       "      <td>9.083099</td>\n",
       "      <td>1813</td>\n",
       "      <td>1813</td>\n",
       "      <td>testing</td>\n",
       "      <td>2019-04-03</td>\n",
       "      <td>2020-03-28</td>\n",
       "      <td>2020-03-28</td>\n",
       "      <td>nigeria</td>\n",
       "      <td>1813_nigeria_2019-04-03_2020-03-28</td>\n",
       "      <td>True</td>\n",
       "      <td>None</td>\n",
       "      <td>POINT (9.08310 9.57451)</td>\n",
       "      <td>../data/features/nigeria-cropharvest/features/...</td>\n",
       "    </tr>\n",
       "    <tr>\n",
       "      <th>452</th>\n",
       "      <td>1816</td>\n",
       "      <td>1</td>\n",
       "      <td>8.864097</td>\n",
       "      <td>6.457343</td>\n",
       "      <td>1816</td>\n",
       "      <td>1816</td>\n",
       "      <td>testing</td>\n",
       "      <td>2019-04-03</td>\n",
       "      <td>2020-03-28</td>\n",
       "      <td>2020-03-28</td>\n",
       "      <td>nigeria</td>\n",
       "      <td>1816_nigeria_2019-04-03_2020-03-28</td>\n",
       "      <td>True</td>\n",
       "      <td>None</td>\n",
       "      <td>POINT (6.45734 8.86410)</td>\n",
       "      <td>../data/features/nigeria-cropharvest/features/...</td>\n",
       "    </tr>\n",
       "    <tr>\n",
       "      <th>453</th>\n",
       "      <td>1819</td>\n",
       "      <td>0</td>\n",
       "      <td>8.261962</td>\n",
       "      <td>9.678086</td>\n",
       "      <td>1819</td>\n",
       "      <td>1819</td>\n",
       "      <td>testing</td>\n",
       "      <td>2019-04-03</td>\n",
       "      <td>2020-03-28</td>\n",
       "      <td>2020-03-28</td>\n",
       "      <td>nigeria</td>\n",
       "      <td>1819_nigeria_2019-04-03_2020-03-28</td>\n",
       "      <td>True</td>\n",
       "      <td>None</td>\n",
       "      <td>POINT (9.67809 8.26196)</td>\n",
       "      <td>../data/features/nigeria-cropharvest/features/...</td>\n",
       "    </tr>\n",
       "    <tr>\n",
       "      <th>454</th>\n",
       "      <td>1824</td>\n",
       "      <td>0</td>\n",
       "      <td>8.912081</td>\n",
       "      <td>3.703954</td>\n",
       "      <td>1824</td>\n",
       "      <td>1824</td>\n",
       "      <td>testing</td>\n",
       "      <td>2019-04-03</td>\n",
       "      <td>2020-03-28</td>\n",
       "      <td>2020-03-28</td>\n",
       "      <td>nigeria</td>\n",
       "      <td>1824_nigeria_2019-04-03_2020-03-28</td>\n",
       "      <td>True</td>\n",
       "      <td>None</td>\n",
       "      <td>POINT (3.70395 8.91208)</td>\n",
       "      <td>../data/features/nigeria-cropharvest/features/...</td>\n",
       "    </tr>\n",
       "  </tbody>\n",
       "</table>\n",
       "<p>455 rows × 16 columns</p>\n",
       "</div>"
      ],
      "text/plain": [
       "     level_0  is_crop        lat        lon  index  identifier  new_set  \\\n",
       "0          2        0  10.442239  11.673885      2           2  testing   \n",
       "1          4        0   7.980531   7.099293      4           4  testing   \n",
       "2          6        0   8.898685  10.414310      6           6  testing   \n",
       "3          7        1   8.670462   5.551517      7           7  testing   \n",
       "4         16        0   8.369347   9.376651     16          16  testing   \n",
       "..       ...      ...        ...        ...    ...         ...      ...   \n",
       "450     1811        0  13.160274  12.016438   1811        1811  testing   \n",
       "451     1813        1   9.574509   9.083099   1813        1813  testing   \n",
       "452     1816        1   8.864097   6.457343   1816        1816  testing   \n",
       "453     1819        0   8.261962   9.678086   1819        1819  testing   \n",
       "454     1824        0   8.912081   3.703954   1824        1824  testing   \n",
       "\n",
       "     start_date    end_date export_end_date  dataset  \\\n",
       "0    2019-04-03  2020-03-28      2020-03-28  nigeria   \n",
       "1    2019-04-03  2020-03-28      2020-03-28  nigeria   \n",
       "2    2019-04-03  2020-03-28      2020-03-28  nigeria   \n",
       "3    2019-04-03  2020-03-28      2020-03-28  nigeria   \n",
       "4    2019-04-03  2020-03-28      2020-03-28  nigeria   \n",
       "..          ...         ...             ...      ...   \n",
       "450  2019-04-03  2020-03-28      2020-03-28  nigeria   \n",
       "451  2019-04-03  2020-03-28      2020-03-28  nigeria   \n",
       "452  2019-04-03  2020-03-28      2020-03-28  nigeria   \n",
       "453  2019-04-03  2020-03-28      2020-03-28  nigeria   \n",
       "454  2019-04-03  2020-03-28      2020-03-28  nigeria   \n",
       "\n",
       "                      export_identifier  is_test label  \\\n",
       "0       2_nigeria_2019-04-03_2020-03-28     True  None   \n",
       "1       4_nigeria_2019-04-03_2020-03-28     True  None   \n",
       "2       6_nigeria_2019-04-03_2020-03-28     True  None   \n",
       "3       7_nigeria_2019-04-03_2020-03-28     True  None   \n",
       "4      16_nigeria_2019-04-03_2020-03-28     True  None   \n",
       "..                                  ...      ...   ...   \n",
       "450  1811_nigeria_2019-04-03_2020-03-28     True  None   \n",
       "451  1813_nigeria_2019-04-03_2020-03-28     True  None   \n",
       "452  1816_nigeria_2019-04-03_2020-03-28     True  None   \n",
       "453  1819_nigeria_2019-04-03_2020-03-28     True  None   \n",
       "454  1824_nigeria_2019-04-03_2020-03-28     True  None   \n",
       "\n",
       "                      geometry  \\\n",
       "0    POINT (11.67388 10.44224)   \n",
       "1      POINT (7.09929 7.98053)   \n",
       "2     POINT (10.41431 8.89868)   \n",
       "3      POINT (5.55152 8.67046)   \n",
       "4      POINT (9.37665 8.36935)   \n",
       "..                         ...   \n",
       "450  POINT (12.01644 13.16027)   \n",
       "451    POINT (9.08310 9.57451)   \n",
       "452    POINT (6.45734 8.86410)   \n",
       "453    POINT (9.67809 8.26196)   \n",
       "454    POINT (3.70395 8.91208)   \n",
       "\n",
       "                                                  path  \n",
       "0    ../data/features/nigeria-cropharvest/features/...  \n",
       "1    ../data/features/nigeria-cropharvest/features/...  \n",
       "2    ../data/features/nigeria-cropharvest/features/...  \n",
       "3    ../data/features/nigeria-cropharvest/features/...  \n",
       "4    ../data/features/nigeria-cropharvest/features/...  \n",
       "..                                                 ...  \n",
       "450  ../data/features/nigeria-cropharvest/features/...  \n",
       "451  ../data/features/nigeria-cropharvest/features/...  \n",
       "452  ../data/features/nigeria-cropharvest/features/...  \n",
       "453  ../data/features/nigeria-cropharvest/features/...  \n",
       "454  ../data/features/nigeria-cropharvest/features/...  \n",
       "\n",
       "[455 rows x 16 columns]"
      ]
     },
     "execution_count": 71,
     "metadata": {},
     "output_type": "execute_result"
    }
   ],
   "source": [
    "gdf = nigeria_test.labels\n",
    "gdf"
   ]
  },
  {
   "cell_type": "code",
   "execution_count": 72,
   "metadata": {},
   "outputs": [],
   "source": [
    "X_test, y_test = nigeria_test.as_array(flatten_x=False)\n",
    "X_test_flat, y_test_flat = nigeria_test.as_array(flatten_x=True)"
   ]
  },
  {
   "cell_type": "code",
   "execution_count": 73,
   "metadata": {},
   "outputs": [
    {
     "name": "stdout",
     "output_type": "stream",
     "text": [
      "(455, 12, 18) (455,)\n"
     ]
    },
    {
     "data": {
      "text/plain": [
       "((455, 216), (455,))"
      ]
     },
     "execution_count": 73,
     "metadata": {},
     "output_type": "execute_result"
    }
   ],
   "source": [
    "print(X_test.shape, y_test.shape)\n",
    "X_test_flat.shape, y_test_flat.shape"
   ]
  },
  {
   "attachments": {},
   "cell_type": "markdown",
   "metadata": {},
   "source": [
    "# Train models and evaluate on Nigeria test set"
   ]
  },
  {
   "attachments": {},
   "cell_type": "markdown",
   "metadata": {},
   "source": [
    "## Random forest"
   ]
  },
  {
   "attachments": {},
   "cell_type": "markdown",
   "metadata": {},
   "source": [
    "### 1. All geowiki labels for training (no validation set)"
   ]
  },
  {
   "cell_type": "code",
   "execution_count": 74,
   "metadata": {},
   "outputs": [
    {
     "data": {
      "text/plain": [
       "RandomForestClassifier(random_state=0)"
      ]
     },
     "execution_count": 74,
     "metadata": {},
     "output_type": "execute_result"
    }
   ],
   "source": [
    "rf = RandomForestClassifier(random_state=0)\n",
    "rf.fit(X_flat, y_flat)"
   ]
  },
  {
   "cell_type": "code",
   "execution_count": 75,
   "metadata": {},
   "outputs": [
    {
     "data": {
      "text/plain": [
       "(array([[0.89, 0.11],\n",
       "        [0.07, 0.93],\n",
       "        [0.89, 0.11],\n",
       "        [0.19, 0.81],\n",
       "        [0.81, 0.19],\n",
       "        [0.17, 0.83],\n",
       "        [0.9 , 0.1 ],\n",
       "        [0.25, 0.75],\n",
       "        [0.88, 0.12],\n",
       "        [0.79, 0.21]]),\n",
       " array([0, 1, 0, 1, 0, 1, 0, 1, 0, 0]))"
      ]
     },
     "execution_count": 75,
     "metadata": {},
     "output_type": "execute_result"
    }
   ],
   "source": [
    "# Predict on training set (just a quick check)\n",
    "y_pred = rf.predict_proba(X_flat[:10])\n",
    "y_pred, y_flat[:10]"
   ]
  },
  {
   "cell_type": "code",
   "execution_count": 76,
   "metadata": {},
   "outputs": [],
   "source": [
    "y_pred = rf.predict(X_test_flat)"
   ]
  },
  {
   "cell_type": "code",
   "execution_count": 77,
   "metadata": {},
   "outputs": [
    {
     "name": "stdout",
     "output_type": "stream",
     "text": [
      "RF roc-auc test set: 0.662\n",
      "RF recall test set: 0.891\n",
      "RF precision test set: 0.514\n",
      "RF f1-score test set: 0.652\n",
      "RF accuracy test set: 0.618\n"
     ]
    }
   ],
   "source": [
    "roc_auc = roc_auc_score(y_test_flat, y_pred)\n",
    "recall = recall_score(y_test_flat, y_pred)\n",
    "precision = precision_score(y_test_flat, y_pred)\n",
    "f1 = f1_score(y_test_flat, y_pred)\n",
    "acc = (y_pred == y_test_flat).sum() / len(y_test_flat)\n",
    "\n",
    "print('RF roc-auc test set:', round(roc_auc, 3))\n",
    "print('RF recall test set:', round(recall, 3))\n",
    "print('RF precision test set:', round(precision, 3))\n",
    "print('RF f1-score test set:', round(f1, 3))\n",
    "print('RF accuracy test set:', round(acc, 3))"
   ]
  },
  {
   "attachments": {},
   "cell_type": "markdown",
   "metadata": {},
   "source": [
    "### 2. Training only with Nigeria train set"
   ]
  },
  {
   "cell_type": "code",
   "execution_count": 44,
   "metadata": {},
   "outputs": [
    {
     "name": "stdout",
     "output_type": "stream",
     "text": [
      "(913, 12, 18) (913,)\n"
     ]
    },
    {
     "data": {
      "text/plain": [
       "((913, 216), (913,))"
      ]
     },
     "execution_count": 44,
     "metadata": {},
     "output_type": "execute_result"
    }
   ],
   "source": [
    "X_train, y_train = nigeria_train.as_array(flatten_x=False)\n",
    "X_train_flat, y_train_flat = nigeria_train.as_array(flatten_x=True)\n",
    "print(X_train.shape, y_train.shape)\n",
    "X_train_flat.shape, y_train_flat.shape"
   ]
  },
  {
   "cell_type": "code",
   "execution_count": 45,
   "metadata": {},
   "outputs": [],
   "source": [
    "rf = RandomForestClassifier(random_state=0)\n",
    "rf.fit(X_train_flat, y_train_flat)\n",
    "y_pred = rf.predict(X_test_flat)"
   ]
  },
  {
   "cell_type": "code",
   "execution_count": 20,
   "metadata": {},
   "outputs": [],
   "source": [
    "y_pred = rf.predict(X_test_flat)"
   ]
  },
  {
   "cell_type": "code",
   "execution_count": 21,
   "metadata": {},
   "outputs": [
    {
     "name": "stdout",
     "output_type": "stream",
     "text": [
      "RF roc-auc test set: 0.816\n",
      "RF recall test set: 0.787\n",
      "RF precision test set: 0.774\n",
      "RF f1-score test set: 0.78\n",
      "RF accuracy test set: 0.822\n"
     ]
    }
   ],
   "source": [
    "roc_auc = roc_auc_score(y_test_flat, y_pred)\n",
    "recall = recall_score(y_test_flat, y_pred)\n",
    "precision = precision_score(y_test_flat, y_pred)\n",
    "f1 = f1_score(y_test_flat, y_pred)\n",
    "acc = (y_pred == y_test_flat).sum() / len(y_test_flat)\n",
    "\n",
    "print('RF roc-auc test set:', round(roc_auc, 3))\n",
    "print('RF recall test set:', round(recall, 3))\n",
    "print('RF precision test set:', round(precision, 3))\n",
    "print('RF f1-score test set:', round(f1, 3))\n",
    "print('RF accuracy test set:', round(acc, 3))"
   ]
  },
  {
   "attachments": {},
   "cell_type": "markdown",
   "metadata": {},
   "source": [
    "Results are even better than single headed LSTM (higher f1) on S2 data only, but not better than mutiheaded one or WorldCover. Table 3 of manuscript!!"
   ]
  },
  {
   "attachments": {},
   "cell_type": "markdown",
   "metadata": {},
   "source": [
    "### Check feature importance"
   ]
  },
  {
   "cell_type": "code",
   "execution_count": 22,
   "metadata": {},
   "outputs": [],
   "source": [
    "# Feature importance (very high dimensional)\n",
    "from sklearn.inspection import permutation_importance\n",
    "\n",
    "result = permutation_importance(rf, X_test_flat, y_test_flat, n_repeats=10, random_state=42, n_jobs=2)\n",
    "forest_importances = pd.Series(result.importances_mean)"
   ]
  },
  {
   "cell_type": "code",
   "execution_count": 23,
   "metadata": {},
   "outputs": [
    {
     "data": {
      "text/plain": [
       "191    0.007912\n",
       "158    0.007692\n",
       "5      0.007692\n",
       "159    0.007033\n",
       "24     0.006593\n",
       "46     0.006374\n",
       "91     0.006374\n",
       "126    0.005714\n",
       "127    0.005714\n",
       "186    0.005495\n",
       "211    0.005275\n",
       "171    0.005055\n",
       "109    0.004835\n",
       "110    0.004835\n",
       "132    0.004835\n",
       "137    0.004615\n",
       "163    0.004615\n",
       "138    0.004615\n",
       "66     0.004615\n",
       "dtype: float64"
      ]
     },
     "execution_count": 23,
     "metadata": {},
     "output_type": "execute_result"
    }
   ],
   "source": [
    "forest_importances.sort_values(ascending=False)[:19]"
   ]
  },
  {
   "cell_type": "code",
   "execution_count": 24,
   "metadata": {},
   "outputs": [
    {
     "data": {
      "image/png": "[encoded data removed]",
      "text/plain": [
       "<Figure size 640x480 with 1 Axes>"
      ]
     },
     "metadata": {},
     "output_type": "display_data"
    }
   ],
   "source": [
    "fig, ax = plt.subplots()\n",
    "forest_importances.plot.bar(yerr=result.importances_std, ax=ax)\n",
    "ax.set_title(\"Feature importances using permutation on full model\")\n",
    "ax.set_ylabel(\"Mean accuracy decrease\")\n",
    "fig.tight_layout()\n",
    "plt.show()"
   ]
  },
  {
   "attachments": {},
   "cell_type": "markdown",
   "metadata": {},
   "source": [
    "Only with S2 data"
   ]
  },
  {
   "cell_type": "code",
   "execution_count": 25,
   "metadata": {},
   "outputs": [
    {
     "name": "stdout",
     "output_type": "stream",
     "text": [
      "(913, 12, 12) (913,)\n",
      "(913, 144) (913,)\n",
      "(455, 12, 12) (455,)\n",
      "(455, 144) (455,)\n"
     ]
    }
   ],
   "source": [
    "X_train_reduced, y_train = nigeria_train.as_array(flatten_x=False, S2_features_only=True)\n",
    "X_train_reduced_flat, y_train_flat = nigeria_train.as_array(flatten_x=True, S2_features_only=True)\n",
    "print(X_train_reduced.shape, y_train.shape)\n",
    "print(X_train_reduced_flat.shape, y_train_flat.shape)\n",
    "\n",
    "X_test_reduced, y_test = nigeria_test.as_array(flatten_x=False, S2_features_only=True)\n",
    "X_test_reduced_flat, y_test_flat = nigeria_test.as_array(flatten_x=True, S2_features_only=True)\n",
    "print(X_test_reduced.shape, y_test.shape)\n",
    "print(X_test_reduced_flat.shape, y_test_flat.shape)"
   ]
  },
  {
   "cell_type": "code",
   "execution_count": 26,
   "metadata": {},
   "outputs": [],
   "source": [
    "rf = RandomForestClassifier(random_state=0)\n",
    "rf.fit(X_train_reduced_flat, y_train_flat)\n",
    "y_pred = rf.predict(X_test_reduced_flat)"
   ]
  },
  {
   "cell_type": "code",
   "execution_count": 27,
   "metadata": {},
   "outputs": [
    {
     "name": "stdout",
     "output_type": "stream",
     "text": [
      "RF roc-auc test set: 0.796\n",
      "RF recall test set: 0.765\n",
      "RF precision test set: 0.749\n",
      "RF f1-score test set: 0.757\n",
      "RF accuracy test set: 0.802\n"
     ]
    }
   ],
   "source": [
    "roc_auc = roc_auc_score(y_test_flat, y_pred)\n",
    "recall = recall_score(y_test_flat, y_pred)\n",
    "precision = precision_score(y_test_flat, y_pred)\n",
    "f1 = f1_score(y_test_flat, y_pred)\n",
    "acc = (y_pred == y_test_flat).sum() / len(y_test_flat)\n",
    "\n",
    "print('RF roc-auc test set:', round(roc_auc, 3))\n",
    "print('RF recall test set:', round(recall, 3))\n",
    "print('RF precision test set:', round(precision, 3))\n",
    "print('RF f1-score test set:', round(f1, 3))\n",
    "print('RF accuracy test set:', round(acc, 3))"
   ]
  },
  {
   "attachments": {},
   "cell_type": "markdown",
   "metadata": {},
   "source": [
    "Results are about 2 decimal points better when using extra cropharvest features!"
   ]
  },
  {
   "attachments": {},
   "cell_type": "markdown",
   "metadata": {},
   "source": [
    "### 3. Training using Nigeria validation set as well"
   ]
  },
  {
   "cell_type": "code",
   "execution_count": 28,
   "metadata": {},
   "outputs": [
    {
     "name": "stdout",
     "output_type": "stream",
     "text": [
      "(913, 216) (913,)\n",
      "(454, 216) (454,)\n"
     ]
    }
   ],
   "source": [
    "X_train_flat, y_train_flat = nigeria_train.as_array(flatten_x=True)\n",
    "X_val_flat, y_val_flat = nigeria_val.as_array(flatten_x=True)\n",
    "print(X_train_flat.shape, y_train_flat.shape)\n",
    "print(X_val_flat.shape, y_val_flat.shape)"
   ]
  },
  {
   "cell_type": "code",
   "execution_count": 29,
   "metadata": {},
   "outputs": [
    {
     "name": "stdout",
     "output_type": "stream",
     "text": [
      "(1367, 216) (1367,)\n"
     ]
    }
   ],
   "source": [
    "X_train_val_flat = np.concatenate((X_train_flat, X_val_flat))\n",
    "y_train_val_flat = np.concatenate((y_train_flat, y_val_flat))\n",
    "print(X_train_val_flat.shape, y_train_val_flat.shape)"
   ]
  },
  {
   "cell_type": "code",
   "execution_count": 30,
   "metadata": {},
   "outputs": [],
   "source": [
    "rf = RandomForestClassifier(random_state=0)\n",
    "rf.fit(X_train_val_flat, y_train_val_flat)\n",
    "y_pred = rf.predict(X_test_flat)"
   ]
  },
  {
   "cell_type": "code",
   "execution_count": 31,
   "metadata": {},
   "outputs": [
    {
     "name": "stdout",
     "output_type": "stream",
     "text": [
      "RF roc-auc test set: 0.812\n",
      "RF recall test set: 0.76\n",
      "RF precision test set: 0.79\n",
      "RF f1-score test set: 0.774\n",
      "RF accuracy test set: 0.822\n"
     ]
    }
   ],
   "source": [
    "roc_auc = roc_auc_score(y_test_flat, y_pred)\n",
    "recall = recall_score(y_test_flat, y_pred)\n",
    "precision = precision_score(y_test_flat, y_pred)\n",
    "f1 = f1_score(y_test_flat, y_pred)\n",
    "acc = (y_pred == y_test_flat).sum() / len(y_test_flat)\n",
    "\n",
    "print('RF roc-auc test set:', round(roc_auc, 3))\n",
    "print('RF recall test set:', round(recall, 3))\n",
    "print('RF precision test set:', round(precision, 3))\n",
    "print('RF f1-score test set:', round(f1, 3))\n",
    "print('RF accuracy test set:', round(acc, 3))"
   ]
  },
  {
   "cell_type": "markdown",
   "metadata": {},
   "source": [
    "### 4. Geowiki + Nigeria training"
   ]
  },
  {
   "cell_type": "code",
   "execution_count": 173,
   "metadata": {},
   "outputs": [],
   "source": [
    "class LandTypeClassificationDataset(Dataset):\n",
    "    r\"\"\"\n",
    "    A dataset for land-type classification data.\n",
    "    Iterating through this dataset returns a tuple\n",
    "    (x, y, weight), where weight is an optionally added\n",
    "    geographically defined weight.\n",
    "\n",
    "    The dataset should be called through the model - the parameters\n",
    "    are defined there.\n",
    "    \"\"\"\n",
    "\n",
    "    def __init__(\n",
    "        self,\n",
    "        subset: str,\n",
    "        include_geowiki: bool,\n",
    "        include_nigeria: bool,\n",
    "        evaluating: bool = False,\n",
    "        geowiki_dataset: Optional[GeowikiCropHarvestDataset] = None,\n",
    "        nigeria_dataset: Optional[GeowikiCropHarvestDataset] = None,\n",
    "    ) -> None:\n",
    "\n",
    "        assert subset in [\"training\", \"validation\", \"testing\"]\n",
    "        self.subset_name = subset\n",
    "        self.target_country_borders = gpd.read_file(Path('../assets/nigeria_borders.shp')) # Assumes target country is Nigeria. TODO: take from geowiki_set.countries_to_weight and natural earth countries shapefiles\n",
    "\n",
    "        # To evaluate/test. We use Nigeria dataset validation files (for dev) or testing folder (for final results)\n",
    "        if (subset == \"testing\") or (evaluating and subset == \"validation\"):\n",
    "            \n",
    "            #print(f\"Evaluating using the Nigeria dataset {subset} folder\")\n",
    "            # assert normalizing_dict is not None # we want to normalize our test set with the training and val data statistics \n",
    "            # self.normalizing_dict = normalizing_dict\n",
    "\n",
    "            self.filepaths = nigeria_dataset.filepaths\n",
    "            self.y_vals = nigeria_dataset.y_vals\n",
    "            self.normalizing_dict = nigeria_dataset.normalizing_dict\n",
    "            print(f'Number of instances in Nigeria {subset} set: {len(self.filepaths)}')\n",
    "\n",
    "        # For training and validation\n",
    "        else:\n",
    "            assert (\n",
    "                max(include_geowiki, include_nigeria) is True\n",
    "            ), \"At least one dataset must be included\"\n",
    "\n",
    "            files_and_dicts: List[Tuple[List[Path], Optional[Dict]]] = []\n",
    "            datasets: Dict[str: gpd.GeoDataFrame] = dict()\n",
    "\n",
    "            ### Grab files and normalizing dicts from each dataset ###\n",
    "            if include_geowiki:\n",
    "                geowiki_filepaths = geowiki_dataset.filepaths\n",
    "                geowiki_y_vals = geowiki_dataset.y_vals\n",
    "                geowiki_nd = geowiki_dataset.normalizing_dict\n",
    "                datasets['geowiki-landcover-2017'] = geowiki_dataset.labels\n",
    "                files_and_dicts.append((geowiki_filepaths, geowiki_y_vals, geowiki_nd))\n",
    "                print(f'Number of instances in Geowiki {subset} set: {len(geowiki_filepaths)}')\n",
    "\n",
    "            if include_nigeria:\n",
    "                nigeria_filepaths = nigeria_dataset.filepaths\n",
    "                nigeria_y_vals = nigeria_dataset.y_vals\n",
    "                nigeria_nd = nigeria_dataset.normalizing_dict\n",
    "                datasets['nigeria'] = nigeria_dataset.labels\n",
    "                files_and_dicts.append((nigeria_filepaths, nigeria_y_vals, nigeria_nd))\n",
    "                print(f'Number of instances in Nigeria {subset} set: {len(nigeria_filepaths)}')\n",
    "\n",
    "            ### Combine the datasets ###\n",
    "            self.normalizing_dict = self.adjust_normalizing_dict([(len(x[0]), x[2]) for x in files_and_dicts]) # pass on len of each dataset and their normalizing dicts\n",
    "\n",
    "            filepaths: List[Path] = []\n",
    "            y_vals: List[int] = []\n",
    "            for files, y_val, nd in files_and_dicts:\n",
    "                filepaths.extend(files)\n",
    "                y_vals.extend(y_val)\n",
    "            self.filepaths = filepaths\n",
    "            self.y_vals = y_vals\n",
    "            self.datasets = datasets\n",
    "            print(f\"Total number of files used for {subset}: {len(self.filepaths)}\")\n",
    "\n",
    "    @property\n",
    "    def num_output_classes(self) -> int:\n",
    "        return 1\n",
    "\n",
    "    @property\n",
    "    def num_input_features(self) -> int: \n",
    "        # assumes the first value in the tuple is x\n",
    "        assert len(self.filepaths) > 0, \"No files to load!\"\n",
    "        output_tuple = self[0]\n",
    "        return output_tuple[0].shape[1] #TODO: check how this works if we do flatten the input or not (sol: index via -1)\n",
    "\n",
    "    @property\n",
    "    def num_timesteps(self) -> int:\n",
    "        # assumes the first value in the tuple is x\n",
    "        assert len(self.filepaths) > 0, \"No files to load!\"\n",
    "        output_tuple = self[0]\n",
    "        return output_tuple[0].shape[0]\n",
    "    \n",
    "    def __len__(self) -> int:\n",
    "        return len(self.filepaths)\n",
    "\n",
    "    def __getitem__(\n",
    "        self, index: int\n",
    "    ) -> Tuple[torch.Tensor, torch.Tensor, torch.Tensor]:\n",
    "        \"\"\"Return the data, label, and weight tensors.\n",
    "        \"\"\"\n",
    "        # Load up target file\n",
    "        target_filepath = self.filepaths[index]\n",
    "        target_file = h5py.File(target_filepath, \"r\")\n",
    "\n",
    "        # Infer dataset name from path\n",
    "        identifier, dataset_name = target_filepath.stem.split('_')\n",
    "\n",
    "        # Crop probability threshold\n",
    "        # --> not used, as cropharvest geowiki has hard labels anyways\n",
    "\n",
    "        # Look up label in self.labels dict\n",
    "        labels = self.datasets[dataset_name]\n",
    "        row = labels.loc[labels['index'] == int(identifier)]\n",
    "        assert len(row) == 1 # should be unique\n",
    "        lat = row.iloc[0]['lat']\n",
    "        lon = row.iloc[0]['lon']\n",
    "\n",
    "        # Weight if point falls in Nigeria (for multiheaded LSTM)\n",
    "        weight = 0 \n",
    "        point = Point(lon, lat)\n",
    "        if self.target_country_borders.contains(point).bool():\n",
    "            weight = 1\n",
    "\n",
    "        return (\n",
    "            torch.from_numpy(self._normalize(target_file.get(\"array\")[:])).float(),\n",
    "            torch.tensor(self.y_vals[index]).float(),\n",
    "            torch.tensor(weight).long(),\n",
    "        )\n",
    "\n",
    "    @staticmethod\n",
    "    def adjust_normalizing_dict(\n",
    "        dicts: Sequence[Tuple[int, Optional[Dict[str, np.ndarray]]]]\n",
    "    ) -> Optional[Dict[str, np.ndarray]]:\n",
    "\n",
    "        for length, single_dict in dicts:\n",
    "            if single_dict is None:  # This means if the first normalizing dict (geowiki or Togo if we don't include geowiki) is missing we won't use any (we return None). #NOTE: beware of behaviour if I had more datasets like not geowiki and only use Nigeria or Togo.\n",
    "                return None\n",
    "\n",
    "        dicts = cast(Sequence[Tuple[int, Dict[str, np.ndarray]]], dicts)\n",
    "\n",
    "        new_total = sum([x[0] for x in dicts])\n",
    "\n",
    "        new_mean = (\n",
    "            sum([single_dict[\"mean\"] * length for length, single_dict in dicts])\n",
    "            / new_total\n",
    "        )\n",
    "\n",
    "        new_variance = (\n",
    "            sum(\n",
    "                [\n",
    "                    (single_dict[\"std\"] ** 2 + (single_dict[\"mean\"] - new_mean) ** 2)\n",
    "                    * length\n",
    "                    for length, single_dict in dicts\n",
    "                ]\n",
    "            )\n",
    "            / new_total\n",
    "        )\n",
    "\n",
    "        return {\"mean\": new_mean, \"std\": np.sqrt(new_variance)}\n",
    "\n",
    "    def _normalize(self, array: np.ndarray) -> np.ndarray:\n",
    "        if self.normalizing_dict is None:\n",
    "            return array\n",
    "        else:\n",
    "            return (array - self.normalizing_dict[\"mean\"]) / self.normalizing_dict[\n",
    "                \"std\"\n",
    "            ]\n"
   ]
  },
  {
   "cell_type": "code",
   "execution_count": 175,
   "metadata": {},
   "outputs": [
    {
     "name": "stdout",
     "output_type": "stream",
     "text": [
      "Number of instances in Geowiki training set: 19808\n",
      "Number of instances in Nigeria training set: 913\n",
      "Total number of files used for training: 20721\n"
     ]
    }
   ],
   "source": [
    "subset = 'training'\n",
    "#subset = 'validation'\n",
    "#subset = 'testing'\n",
    "#evaluating = False if subset == 'training' else True\n",
    "evaluating = True\n",
    "# Might be better to create a dictionary instead with the subset/split as keys and pass the whole dict to the class\n",
    "if subset == 'training':\n",
    "    geowiki_dataset = train_dataset\n",
    "    nigeria_dataset = nigeria_train\n",
    "elif subset == 'validation':\n",
    "    geowiki_dataset = val_dataset\n",
    "    nigeria_dataset = nigeria_val\n",
    "else:\n",
    "    geowiki_dataset = None\n",
    "    nigeria_dataset = nigeria_test\n",
    "\n",
    "combined_datasets = LandTypeClassificationDataset(\n",
    "    subset = subset,\n",
    "    include_geowiki = True,\n",
    "    include_nigeria = True,\n",
    "    evaluating = evaluating,\n",
    "    geowiki_dataset = geowiki_dataset,\n",
    "    nigeria_dataset = nigeria_dataset,\n",
    "    )"
   ]
  },
  {
   "cell_type": "code",
   "execution_count": null,
   "metadata": {},
   "outputs": [],
   "source": []
  },
  {
   "attachments": {},
   "cell_type": "markdown",
   "metadata": {},
   "source": [
    "Using validation data for training seems to worsen the results a bit!"
   ]
  },
  {
   "attachments": {},
   "cell_type": "markdown",
   "metadata": {},
   "source": [
    "## LSTM model"
   ]
  },
  {
   "cell_type": "code",
   "execution_count": 32,
   "metadata": {},
   "outputs": [
    {
     "data": {
      "text/plain": [
       "['VV',\n",
       " 'VH',\n",
       " 'B2',\n",
       " 'B3',\n",
       " 'B4',\n",
       " 'B5',\n",
       " 'B6',\n",
       " 'B7',\n",
       " 'B8',\n",
       " 'B8A',\n",
       " 'B9',\n",
       " 'B11',\n",
       " 'B12',\n",
       " 'temperature_2m',\n",
       " 'total_precipitation',\n",
       " 'elevation',\n",
       " 'slope',\n",
       " 'NDVI']"
      ]
     },
     "execution_count": 32,
     "metadata": {},
     "output_type": "execute_result"
    }
   ],
   "source": [
    "BANDS"
   ]
  },
  {
   "cell_type": "code",
   "execution_count": 33,
   "metadata": {},
   "outputs": [
    {
     "name": "stdout",
     "output_type": "stream",
     "text": [
      "Checking for data files\n"
     ]
    },
    {
     "name": "stderr",
     "output_type": "stream",
     "text": [
      "2946it [00:00, 29451.46it/s]"
     ]
    },
    {
     "name": "stderr",
     "output_type": "stream",
     "text": [
      "35599it [00:09, 3693.82it/s]\n"
     ]
    },
    {
     "name": "stdout",
     "output_type": "stream",
     "text": [
      "All pickle files were found!\n",
      "length labels: 35599\n",
      "length pickle files: 35599\n",
      "length local ids: 490\n",
      "Found normalizing dict normalizing_dict.pkl\n",
      "Loading normalizing dict.\n",
      "{'mean': array([0.19353804, 0.17112217, 0.16083624, 0.16354993, 0.18635676,\n",
      "       0.25554994, 0.29061711, 0.28009877, 0.31469831, 0.10141977,\n",
      "       0.0087153 , 0.22964706, 0.15255525, 0.3221835 ]), 'std': array([0.14932182, 0.15265479, 0.14360899, 0.16329558, 0.15796025,\n",
      "       0.14746618, 0.15011357, 0.14306833, 0.14913972, 0.09338568,\n",
      "       0.02771975, 0.1111936 , 0.09549155, 0.23958353])}\n",
      "Train split\n",
      "Checking for data files\n"
     ]
    },
    {
     "name": "stderr",
     "output_type": "stream",
     "text": [
      "35599it [00:14, 2472.21it/s]\n"
     ]
    },
    {
     "name": "stdout",
     "output_type": "stream",
     "text": [
      "All pickle files were found!\n",
      "length labels: 28479\n",
      "length pickle files: 28479\n",
      "length local ids: 404\n",
      "{'mean': array([0.19353804, 0.17112217, 0.16083624, 0.16354993, 0.18635676,\n",
      "       0.25554994, 0.29061711, 0.28009877, 0.31469831, 0.10141977,\n",
      "       0.0087153 , 0.22964706, 0.15255525, 0.3221835 ]), 'std': array([0.14932182, 0.15265479, 0.14360899, 0.16329558, 0.15796025,\n",
      "       0.14746618, 0.15011357, 0.14306833, 0.14913972, 0.09338568,\n",
      "       0.02771975, 0.1111936 , 0.09549155, 0.23958353])}\n",
      "Val split\n",
      "Checking for data files\n"
     ]
    },
    {
     "name": "stderr",
     "output_type": "stream",
     "text": [
      "35599it [00:04, 8203.09it/s]\n"
     ]
    },
    {
     "name": "stdout",
     "output_type": "stream",
     "text": [
      "All pickle files were found!\n",
      "length labels: 7120\n",
      "length pickle files: 7120\n",
      "length local ids: 86\n",
      "{'mean': array([0.19353804, 0.17112217, 0.16083624, 0.16354993, 0.18635676,\n",
      "       0.25554994, 0.29061711, 0.28009877, 0.31469831, 0.10141977,\n",
      "       0.0087153 , 0.22964706, 0.15255525, 0.3221835 ]), 'std': array([0.14932182, 0.15265479, 0.14360899, 0.16329558, 0.15796025,\n",
      "       0.14746618, 0.15011357, 0.14306833, 0.14913972, 0.09338568,\n",
      "       0.02771975, 0.1111936 , 0.09549155, 0.23958353])}\n",
      "training set -> number of instances of geowiki_landcover_2017: 28479\n",
      "training set -> number of instances of nigeria: 915\n",
      "Total number of files used for training: 29394\n",
      "Number of model parameters: 23937\n"
     ]
    }
   ],
   "source": [
    "parser = ArgumentParser()\n",
    "\n",
    "model_args = STR2MODEL[\"land_cover\"].add_model_specific_args(parser).parse_args(args=[])\n",
    "model = STR2MODEL[\"land_cover\"](model_args)"
   ]
  },
  {
   "cell_type": "code",
   "execution_count": 34,
   "metadata": {},
   "outputs": [
    {
     "data": {
      "text/plain": [
       "Namespace(add_geowiki=True, add_nigeria=True, add_togo=False, alpha=10, batch_size=64, data_folder='/home/gajo/code/togo-crop-mask/notebooks/../data', geowiki_subset='world', hidden_vector_size=64, learning_rate=0.001, lstm_dropout=0.2, model_base='lstm', multi_headed=False, num_classification_layers=2, num_lstm_layers=1, probability_threshold=0.5, remove_b1_b10=True, weighted_loss_fn=False)"
      ]
     },
     "execution_count": 34,
     "metadata": {},
     "output_type": "execute_result"
    }
   ],
   "source": [
    "model_args"
   ]
  },
  {
   "cell_type": "code",
   "execution_count": 35,
   "metadata": {},
   "outputs": [],
   "source": [
    "# Adjust for more input channels on cropharvest (hack to avoid changing code for experimentation)\n",
    "model.input_size = X.shape[-1] # now 18 features instead of 12\n",
    "model.base = STR2BASE[model.hparams.model_base](input_size=model.input_size, hparams=model.hparams) # re-initialize LSTM with correct input size"
   ]
  },
  {
   "cell_type": "code",
   "execution_count": 36,
   "metadata": {},
   "outputs": [],
   "source": [
    "X_tensor = torch.from_numpy(X).to(torch.float32)"
   ]
  },
  {
   "cell_type": "code",
   "execution_count": 37,
   "metadata": {},
   "outputs": [
    {
     "data": {
      "text/plain": [
       "((24761, 12, 18), torch.Size([24761, 12, 18]))"
      ]
     },
     "execution_count": 37,
     "metadata": {},
     "output_type": "execute_result"
    }
   ],
   "source": [
    "X.shape, X_tensor.shape"
   ]
  },
  {
   "cell_type": "code",
   "execution_count": 38,
   "metadata": {},
   "outputs": [
    {
     "data": {
      "text/plain": [
       "(tensor([[0.5160],\n",
       "         [0.5238],\n",
       "         [0.5153],\n",
       "         ...,\n",
       "         [0.5211],\n",
       "         [0.5161],\n",
       "         [0.5242]], grad_fn=<SigmoidBackward0>),\n",
       " torch.Size([24761, 1]))"
      ]
     },
     "execution_count": 38,
     "metadata": {},
     "output_type": "execute_result"
    }
   ],
   "source": [
    "y_pred = model.forward(X_tensor)\n",
    "y_pred, y_pred.shape"
   ]
  },
  {
   "cell_type": "code",
   "execution_count": 39,
   "metadata": {},
   "outputs": [
    {
     "name": "stdout",
     "output_type": "stream",
     "text": [
      "Without training, just random weights intialized near 0, this is what the networks predicts as \\% of cropland pixels for Geowiki. Makes sense that sigmoid outputs are near 0.5 as sigmoid is 0-centered.\n"
     ]
    },
    {
     "data": {
      "text/plain": [
       "tensor(0.9955)"
      ]
     },
     "execution_count": 39,
     "metadata": {},
     "output_type": "execute_result"
    }
   ],
   "source": [
    "print(\"Without training, just random weights intialized near 0, this is what the networks predicts as \\% of cropland pixels for Geowiki. Makes sense that sigmoid outputs are near 0.5 as sigmoid is 0-centered.\")\n",
    "(y_pred > 0.5).sum() / len(y_pred)"
   ]
  },
  {
   "attachments": {},
   "cell_type": "markdown",
   "metadata": {},
   "source": [
    "### Training"
   ]
  },
  {
   "attachments": {},
   "cell_type": "markdown",
   "metadata": {},
   "source": [
    "Now we need to train the LSTM model on the nigeria train set, on geowiki, on both nigeria and geowiki, while testing on the Nigeria test set. For experimentation, I can just use pytorch instead of lightning and reimplementing the `LandcCoverMapper` and `LandTypeClassificationDataset` classes."
   ]
  },
  {
   "cell_type": "code",
   "execution_count": 40,
   "metadata": {},
   "outputs": [
    {
     "data": {
      "text/plain": [
       "\"add_geowiki\":               True\n",
       "\"add_nigeria\":               True\n",
       "\"add_togo\":                  False\n",
       "\"alpha\":                     10\n",
       "\"batch_size\":                64\n",
       "\"data_folder\":               /home/gajo/code/togo-crop-mask/notebooks/../data\n",
       "\"geowiki_subset\":            world\n",
       "\"hidden_vector_size\":        64\n",
       "\"learning_rate\":             0.001\n",
       "\"lstm_dropout\":              0.2\n",
       "\"model_base\":                lstm\n",
       "\"multi_headed\":              False\n",
       "\"num_classification_layers\": 2\n",
       "\"num_lstm_layers\":           1\n",
       "\"probability_threshold\":     0.5\n",
       "\"remove_b1_b10\":             True\n",
       "\"weighted_loss_fn\":          False"
      ]
     },
     "execution_count": 40,
     "metadata": {},
     "output_type": "execute_result"
    }
   ],
   "source": [
    "max_epochs = 1000\n",
    "num_workers = 8\n",
    "model.hparams"
   ]
  },
  {
   "cell_type": "code",
   "execution_count": 41,
   "metadata": {},
   "outputs": [
    {
     "data": {
      "text/plain": [
       "LandCoverMapper(\n",
       "  (base): LSTM(\n",
       "    (lstm): UnrolledLSTM(\n",
       "      (rnn): UnrolledLSTMCell(\n",
       "        (forget_gate): Sequential(\n",
       "          (0): Linear(in_features=82, out_features=64, bias=True)\n",
       "          (1): Sigmoid()\n",
       "        )\n",
       "        (update_gate): Sequential(\n",
       "          (0): Linear(in_features=82, out_features=64, bias=True)\n",
       "          (1): Sigmoid()\n",
       "        )\n",
       "        (update_candidates): Sequential(\n",
       "          (0): Linear(in_features=82, out_features=64, bias=True)\n",
       "          (1): Tanh()\n",
       "        )\n",
       "        (output_gate): Sequential(\n",
       "          (0): Linear(in_features=82, out_features=64, bias=True)\n",
       "          (1): Sigmoid()\n",
       "        )\n",
       "        (cell_state_activation): Tanh()\n",
       "      )\n",
       "      (dropout): Dropout(p=0.2, inplace=False)\n",
       "    )\n",
       "  )\n",
       "  (global_classifier): Sequential(\n",
       "    (0): Linear(in_features=64, out_features=64, bias=True)\n",
       "    (1): ReLU()\n",
       "    (2): Linear(in_features=64, out_features=1, bias=True)\n",
       "  )\n",
       ")"
      ]
     },
     "execution_count": 41,
     "metadata": {},
     "output_type": "execute_result"
    }
   ],
   "source": [
    "model"
   ]
  },
  {
   "cell_type": "code",
   "execution_count": 42,
   "metadata": {},
   "outputs": [],
   "source": [
    "# Define dataloaders\n",
    "train_dataloader = torch.utils.data.DataLoader(nigeria_train, batch_size=model.hparams[\"batch_size\"], num_workers=num_workers, shuffle=True)\n",
    "val_dataloader = torch.utils.data.DataLoader(nigeria_val, batch_size=model.hparams[\"batch_size\"], num_workers=num_workers)\n",
    "test_dataloader = torch.utils.data.DataLoader(nigeria_test, batch_size=model.hparams[\"batch_size\"], num_workers=num_workers)"
   ]
  },
  {
   "cell_type": "code",
   "execution_count": 43,
   "metadata": {},
   "outputs": [],
   "source": [
    "# Define optimizer and loss function\n",
    "optimizer = torch.optim.Adam(model.parameters(), lr=model.hparams[\"learning_rate\"])\n",
    "loss_fn = model.loss_function"
   ]
  },
  {
   "cell_type": "code",
   "execution_count": 44,
   "metadata": {},
   "outputs": [
    {
     "name": "stderr",
     "output_type": "stream",
     "text": [
      "100%|██████████| 500/500 [04:23<00:00,  1.90it/s]\n"
     ]
    }
   ],
   "source": [
    "# Training loop\n",
    "for epoch in tqdm(range(500)):\n",
    "    model.train()\n",
    "    for batch in train_dataloader:\n",
    "        data, labels = batch\n",
    "        data = data.to(torch.float32)\n",
    "        labels = labels.to(torch.float32).unsqueeze(-1)\n",
    "        preds = model.forward(data)\n",
    "        loss = loss_fn(preds, labels)\n",
    "\n",
    "        optimizer.zero_grad()\n",
    "        loss.backward()\n",
    "        optimizer.step()"
   ]
  },
  {
   "cell_type": "code",
   "execution_count": 45,
   "metadata": {},
   "outputs": [],
   "source": [
    "X_test_tensor = torch.from_numpy(X_test).to(torch.float32)"
   ]
  },
  {
   "cell_type": "code",
   "execution_count": 46,
   "metadata": {},
   "outputs": [],
   "source": [
    "y_pred = model.forward(X_test_tensor)"
   ]
  },
  {
   "cell_type": "code",
   "execution_count": 47,
   "metadata": {},
   "outputs": [],
   "source": [
    "y_pred = (y_pred > 0.5).to(torch.int64)"
   ]
  },
  {
   "cell_type": "code",
   "execution_count": 48,
   "metadata": {},
   "outputs": [],
   "source": [
    "y_pred = y_pred.detach().numpy()"
   ]
  },
  {
   "cell_type": "code",
   "execution_count": 49,
   "metadata": {},
   "outputs": [
    {
     "name": "stdout",
     "output_type": "stream",
     "text": [
      "LSTM roc-auc test set: 0.808\n",
      "LSTM recall test set: 0.814\n",
      "LSTM precision test set: 0.734\n",
      "LSTM f1-score test set: 0.772\n",
      "LSTM accuracy test set: 0.807\n"
     ]
    }
   ],
   "source": [
    "roc_auc = roc_auc_score(y_test, y_pred)\n",
    "recall = recall_score(y_test, y_pred)\n",
    "precision = precision_score(y_test, y_pred)\n",
    "f1 = f1_score(y_test, y_pred)\n",
    "acc = accuracy_score(y_test, y_pred)\n",
    "\n",
    "print('LSTM roc-auc test set:', round(roc_auc, 3))\n",
    "print('LSTM recall test set:', round(recall, 3))\n",
    "print('LSTM precision test set:', round(precision, 3))\n",
    "print('LSTM f1-score test set:', round(f1, 3))\n",
    "print('LSTM accuracy test set:', round(acc, 3))"
   ]
  },
  {
   "attachments": {},
   "cell_type": "markdown",
   "metadata": {},
   "source": [
    "Results with 50 epochs:\n",
    "\n",
    "LSTM roc-auc test set: 0.813\n",
    "\n",
    "LSTM recall test set: 0.798\n",
    "\n",
    "LSTM precision test set: 0.756\n",
    "\n",
    "LSTM f1-score test set: 0.777\n",
    "\n",
    "LSTM accuracy test set: 0.815"
   ]
  },
  {
   "attachments": {},
   "cell_type": "markdown",
   "metadata": {},
   "source": [
    "Results with 100 epochs:\n",
    "\n",
    "LSTM roc-auc test set: 0.811\n",
    "\n",
    "LSTM recall test set: 0.809\n",
    "\n",
    "LSTM precision test set: 0.744\n",
    "\n",
    "LSTM f1-score test set: 0.775\n",
    "\n",
    "LSTM accuracy test set: 0.811"
   ]
  },
  {
   "attachments": {},
   "cell_type": "markdown",
   "metadata": {},
   "source": [
    "Still a bit worse than RF. Also worst than corresponding resuls on the manscript (table 3; acc 0.82, f1: 0.773), slightly better f1, but worse acc, and much worse AUCROC (why?)\n",
    "Need to try weighted loss fn and also multiheaded with geowiki or single headed with full geowiki but combine normalizing dicts"
   ]
  },
  {
   "cell_type": "code",
   "execution_count": null,
   "metadata": {},
   "outputs": [],
   "source": []
  },
  {
   "attachments": {},
   "cell_type": "markdown",
   "metadata": {},
   "source": []
  }
 ],
 "metadata": {
  "kernelspec": {
   "display_name": "cropharvest",
   "language": "python",
   "name": "python3"
  },
  "language_info": {
   "codemirror_mode": {
    "name": "ipython",
    "version": 3
   },
   "file_extension": ".py",
   "mimetype": "text/x-python",
   "name": "python",
   "nbconvert_exporter": "python",
   "pygments_lexer": "ipython3",
   "version": "3.7.16"
  },
  "orig_nbformat": 4
 },
 "nbformat": 4,
 "nbformat_minor": 2
}
