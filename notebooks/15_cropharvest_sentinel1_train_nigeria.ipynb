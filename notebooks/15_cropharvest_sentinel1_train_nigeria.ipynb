{
 "cells": [
  {
   "cell_type": "code",
   "execution_count": 1,
   "metadata": {},
   "outputs": [],
   "source": [
    "from pathlib import Path\n",
    "import h5py\n",
    "\n",
    "import numpy as np\n",
    "from sklearn.ensemble import RandomForestClassifier\n",
    "\n",
    "from cropharvest.datasets import CropHarvest, CropHarvestLabels, Task\n",
    "from cropharvest.columns import NullableColumns, RequiredColumns\n",
    "from cropharvest.engineer import Engineer\n",
    "from cropharvest.bands import BANDS, DYNAMIC_BANDS, STATIC_BANDS, REMOVED_BANDS"
   ]
  },
  {
   "cell_type": "code",
   "execution_count": 5,
   "metadata": {},
   "outputs": [],
   "source": [
    "DATA_DIR = \"../data/cropharvest\""
   ]
  },
  {
   "attachments": {},
   "cell_type": "markdown",
   "metadata": {},
   "source": [
    "## Get geowiki data"
   ]
  },
  {
   "attachments": {},
   "cell_type": "markdown",
   "metadata": {},
   "source": [
    "- Load all labels and get all h5 files paths\n",
    "- Recalculate normalizing dict\n",
    "- Get as array"
   ]
  },
  {
   "cell_type": "code",
   "execution_count": 6,
   "metadata": {},
   "outputs": [
    {
     "ename": "NotADirectoryError",
     "evalue": "data should be a directory.",
     "output_type": "error",
     "traceback": [
      "\u001b[0;31m---------------------------------------------------------------------------\u001b[0m",
      "\u001b[0;31mNotADirectoryError\u001b[0m                        Traceback (most recent call last)",
      "\u001b[0;32m/tmp/ipykernel_80843/622979882.py\u001b[0m in \u001b[0;36m<module>\u001b[0;34m\u001b[0m\n\u001b[1;32m     46\u001b[0m         \u001b[0;32mreturn\u001b[0m \u001b[0marray\u001b[0m\u001b[0;34m.\u001b[0m\u001b[0mreshape\u001b[0m\u001b[0;34m(\u001b[0m\u001b[0marray\u001b[0m\u001b[0;34m.\u001b[0m\u001b[0mshape\u001b[0m\u001b[0;34m[\u001b[0m\u001b[0;36m0\u001b[0m\u001b[0;34m]\u001b[0m\u001b[0;34m,\u001b[0m \u001b[0;34m-\u001b[0m\u001b[0;36m1\u001b[0m\u001b[0;34m)\u001b[0m\u001b[0;34m\u001b[0m\u001b[0;34m\u001b[0m\u001b[0m\n\u001b[1;32m     47\u001b[0m \u001b[0;34m\u001b[0m\u001b[0m\n\u001b[0;32m---> 48\u001b[0;31m \u001b[0mdataset\u001b[0m \u001b[0;34m=\u001b[0m \u001b[0mGeowikiCropHarvest\u001b[0m\u001b[0;34m(\u001b[0m\u001b[0;34m)\u001b[0m\u001b[0;34m\u001b[0m\u001b[0;34m\u001b[0m\u001b[0m\n\u001b[0m",
      "\u001b[0;32m/tmp/ipykernel_80843/622979882.py\u001b[0m in \u001b[0;36m__init__\u001b[0;34m(self, root)\u001b[0m\n\u001b[1;32m      2\u001b[0m     \u001b[0;32mdef\u001b[0m \u001b[0m__init__\u001b[0m\u001b[0;34m(\u001b[0m\u001b[0mself\u001b[0m\u001b[0;34m,\u001b[0m \u001b[0mroot\u001b[0m\u001b[0;34m=\u001b[0m\u001b[0;34m\"data\"\u001b[0m\u001b[0;34m)\u001b[0m\u001b[0;34m:\u001b[0m\u001b[0;34m\u001b[0m\u001b[0;34m\u001b[0m\u001b[0m\n\u001b[1;32m      3\u001b[0m         \u001b[0mself\u001b[0m\u001b[0;34m.\u001b[0m\u001b[0mroot\u001b[0m \u001b[0;34m=\u001b[0m \u001b[0mPath\u001b[0m\u001b[0;34m(\u001b[0m\u001b[0mroot\u001b[0m\u001b[0;34m)\u001b[0m\u001b[0;34m\u001b[0m\u001b[0;34m\u001b[0m\u001b[0m\n\u001b[0;32m----> 4\u001b[0;31m         \u001b[0mcropharvest_labels\u001b[0m \u001b[0;34m=\u001b[0m \u001b[0mCropHarvestLabels\u001b[0m\u001b[0;34m(\u001b[0m\u001b[0mroot\u001b[0m\u001b[0;34m,\u001b[0m \u001b[0mdownload\u001b[0m\u001b[0;34m=\u001b[0m\u001b[0;32mTrue\u001b[0m\u001b[0;34m)\u001b[0m\u001b[0;34m\u001b[0m\u001b[0;34m\u001b[0m\u001b[0m\n\u001b[0m\u001b[1;32m      5\u001b[0m         \u001b[0mcropharvest_df\u001b[0m \u001b[0;34m=\u001b[0m \u001b[0mcropharvest_labels\u001b[0m\u001b[0;34m.\u001b[0m\u001b[0mas_geojson\u001b[0m\u001b[0;34m(\u001b[0m\u001b[0;34m)\u001b[0m\u001b[0;34m\u001b[0m\u001b[0;34m\u001b[0m\u001b[0m\n\u001b[1;32m      6\u001b[0m         \u001b[0mself\u001b[0m\u001b[0;34m.\u001b[0m\u001b[0mlabels\u001b[0m \u001b[0;34m=\u001b[0m \u001b[0mcropharvest_df\u001b[0m\u001b[0;34m[\u001b[0m\u001b[0mcropharvest_df\u001b[0m\u001b[0;34m[\u001b[0m\u001b[0;34m'dataset'\u001b[0m\u001b[0;34m]\u001b[0m \u001b[0;34m==\u001b[0m \u001b[0;34m'geowiki-landcover-2017'\u001b[0m\u001b[0;34m]\u001b[0m\u001b[0;34m.\u001b[0m\u001b[0mreset_index\u001b[0m\u001b[0;34m(\u001b[0m\u001b[0mdrop\u001b[0m\u001b[0;34m=\u001b[0m\u001b[0;32mTrue\u001b[0m\u001b[0;34m)\u001b[0m\u001b[0;34m\u001b[0m\u001b[0;34m\u001b[0m\u001b[0m\n",
      "\u001b[0;32m~/miniconda3/envs/nigeria-crop-mask-gpu/lib/python3.7/site-packages/cropharvest/datasets.py\u001b[0m in \u001b[0;36m__init__\u001b[0;34m(self, root, download)\u001b[0m\n\u001b[1;32m     82\u001b[0m \u001b[0;32mclass\u001b[0m \u001b[0mCropHarvestLabels\u001b[0m\u001b[0;34m(\u001b[0m\u001b[0mBaseDataset\u001b[0m\u001b[0;34m)\u001b[0m\u001b[0;34m:\u001b[0m\u001b[0;34m\u001b[0m\u001b[0;34m\u001b[0m\u001b[0m\n\u001b[1;32m     83\u001b[0m     \u001b[0;32mdef\u001b[0m \u001b[0m__init__\u001b[0m\u001b[0;34m(\u001b[0m\u001b[0mself\u001b[0m\u001b[0;34m,\u001b[0m \u001b[0mroot\u001b[0m\u001b[0;34m,\u001b[0m \u001b[0mdownload\u001b[0m\u001b[0;34m=\u001b[0m\u001b[0;32mFalse\u001b[0m\u001b[0;34m)\u001b[0m\u001b[0;34m:\u001b[0m\u001b[0;34m\u001b[0m\u001b[0;34m\u001b[0m\u001b[0m\n\u001b[0;32m---> 84\u001b[0;31m         \u001b[0msuper\u001b[0m\u001b[0;34m(\u001b[0m\u001b[0;34m)\u001b[0m\u001b[0;34m.\u001b[0m\u001b[0m__init__\u001b[0m\u001b[0;34m(\u001b[0m\u001b[0mroot\u001b[0m\u001b[0;34m,\u001b[0m \u001b[0mdownload\u001b[0m\u001b[0;34m,\u001b[0m \u001b[0mfilenames\u001b[0m\u001b[0;34m=\u001b[0m\u001b[0;34m(\u001b[0m\u001b[0mLABELS_FILENAME\u001b[0m\u001b[0;34m,\u001b[0m\u001b[0;34m)\u001b[0m\u001b[0;34m)\u001b[0m\u001b[0;34m\u001b[0m\u001b[0;34m\u001b[0m\u001b[0m\n\u001b[0m\u001b[1;32m     85\u001b[0m \u001b[0;34m\u001b[0m\u001b[0m\n\u001b[1;32m     86\u001b[0m         \u001b[0;31m# self._labels will always contain the original dataframe;\u001b[0m\u001b[0;34m\u001b[0m\u001b[0;34m\u001b[0m\u001b[0;34m\u001b[0m\u001b[0m\n",
      "\u001b[0;32m~/miniconda3/envs/nigeria-crop-mask-gpu/lib/python3.7/site-packages/cropharvest/datasets.py\u001b[0m in \u001b[0;36m__init__\u001b[0;34m(self, root, download, filenames)\u001b[0m\n\u001b[1;32m     61\u001b[0m         \u001b[0mself\u001b[0m\u001b[0;34m.\u001b[0m\u001b[0mroot\u001b[0m \u001b[0;34m=\u001b[0m \u001b[0mPath\u001b[0m\u001b[0;34m(\u001b[0m\u001b[0mroot\u001b[0m\u001b[0;34m)\u001b[0m\u001b[0;34m\u001b[0m\u001b[0;34m\u001b[0m\u001b[0m\n\u001b[1;32m     62\u001b[0m         \u001b[0;32mif\u001b[0m \u001b[0;32mnot\u001b[0m \u001b[0mself\u001b[0m\u001b[0;34m.\u001b[0m\u001b[0mroot\u001b[0m\u001b[0;34m.\u001b[0m\u001b[0mis_dir\u001b[0m\u001b[0;34m(\u001b[0m\u001b[0;34m)\u001b[0m\u001b[0;34m:\u001b[0m\u001b[0;34m\u001b[0m\u001b[0;34m\u001b[0m\u001b[0m\n\u001b[0;32m---> 63\u001b[0;31m             \u001b[0;32mraise\u001b[0m \u001b[0mNotADirectoryError\u001b[0m\u001b[0;34m(\u001b[0m\u001b[0;34mf\"{root} should be a directory.\"\u001b[0m\u001b[0;34m)\u001b[0m\u001b[0;34m\u001b[0m\u001b[0;34m\u001b[0m\u001b[0m\n\u001b[0m\u001b[1;32m     64\u001b[0m \u001b[0;34m\u001b[0m\u001b[0m\n\u001b[1;32m     65\u001b[0m         \u001b[0;32mfor\u001b[0m \u001b[0mfilename\u001b[0m \u001b[0;32min\u001b[0m \u001b[0mfilenames\u001b[0m\u001b[0;34m:\u001b[0m\u001b[0;34m\u001b[0m\u001b[0;34m\u001b[0m\u001b[0m\n",
      "\u001b[0;31mNotADirectoryError\u001b[0m: data should be a directory."
     ]
    }
   ],
   "source": [
    "class GeowikiCropHarvest():\n",
    "    def __init__(self, root=\"data\"):    \n",
    "        self.root = Path(root)\n",
    "        cropharvest_labels = CropHarvestLabels(root, download=True)\n",
    "        cropharvest_df = cropharvest_labels.as_geojson()\n",
    "        self.labels = cropharvest_df[cropharvest_df['dataset'] == 'geowiki-landcover-2017'].reset_index(drop=True)\n",
    "        self._discard_missing_files()\n",
    "\n",
    "        self.filepaths = self.labels['path'].tolist()\n",
    "        self.y_vals = self.labels['is_crop'].tolist()\n",
    "        self.normalizing_dict = None # TODO: recalculate\n",
    "\n",
    "    def __len__(self):\n",
    "        return len(self.filepaths)\n",
    "\n",
    "    def __getitem__(self, index: int):\n",
    "        file = h5py.File(self.filepaths[index], \"r\")\n",
    "        return self._normalize(file.get(\"array\")[:]), self.y_vals[index]\n",
    "    \n",
    "    def as_array(self, flatten_x=False):\n",
    "        indices_to_sample = list(range(len(self)))\n",
    "        X, Y = zip(*[self[i] for i in indices_to_sample])\n",
    "        X_np, y_np = np.stack(X), np.stack(Y)\n",
    "        if flatten_x:\n",
    "            X_np = self._flatten_array(X_np)\n",
    "        return X_np, y_np\n",
    "\n",
    "    def _path_from_row(self, row):\n",
    "        path = self.root / f\"features/arrays/{row[RequiredColumns.INDEX]}_{row[RequiredColumns.DATASET]}.h5\"\n",
    "        if not path.exists():\n",
    "            return None\n",
    "        return path\n",
    "\n",
    "    def _discard_missing_files(self):\n",
    "        self.labels['path'] = self.labels.apply(lambda row: self._path_from_row(row), axis=1)\n",
    "        self.labels['missing_file'] = self.labels['path'].isna()\n",
    "        self.labels = self.labels[~self.labels['missing_file']].reset_index(drop=True)\n",
    "\n",
    "    def _normalize(self, array):\n",
    "        if not self.normalizing_dict:\n",
    "            return array\n",
    "        return (array - self.normalizing_dict[\"mean\"]) / self.normalizing_dict[\"std\"]\n",
    "            \n",
    "    @staticmethod\n",
    "    def _flatten_array(array):\n",
    "        return array.reshape(array.shape[0], -1)\n",
    "\n",
    "dataset = GeowikiCropHarvest()    "
   ]
  },
  {
   "cell_type": "code",
   "execution_count": 4,
   "metadata": {},
   "outputs": [
    {
     "data": {
      "text/html": [
       "<div>\n",
       "<style scoped>\n",
       "    .dataframe tbody tr th:only-of-type {\n",
       "        vertical-align: middle;\n",
       "    }\n",
       "\n",
       "    .dataframe tbody tr th {\n",
       "        vertical-align: top;\n",
       "    }\n",
       "\n",
       "    .dataframe thead th {\n",
       "        text-align: right;\n",
       "    }\n",
       "</style>\n",
       "<table border=\"1\" class=\"dataframe\">\n",
       "  <thead>\n",
       "    <tr style=\"text-align: right;\">\n",
       "      <th></th>\n",
       "      <th>harvest_date</th>\n",
       "      <th>planting_date</th>\n",
       "      <th>label</th>\n",
       "      <th>classification_label</th>\n",
       "      <th>index</th>\n",
       "      <th>is_crop</th>\n",
       "      <th>lat</th>\n",
       "      <th>lon</th>\n",
       "      <th>dataset</th>\n",
       "      <th>collection_date</th>\n",
       "      <th>export_end_date</th>\n",
       "      <th>externally_contributed_dataset</th>\n",
       "      <th>is_test</th>\n",
       "      <th>geometry</th>\n",
       "      <th>path</th>\n",
       "      <th>missing_file</th>\n",
       "    </tr>\n",
       "  </thead>\n",
       "  <tbody>\n",
       "    <tr>\n",
       "      <th>0</th>\n",
       "      <td>NaN</td>\n",
       "      <td>NaN</td>\n",
       "      <td>NaN</td>\n",
       "      <td>NaN</td>\n",
       "      <td>0</td>\n",
       "      <td>0</td>\n",
       "      <td>-16.547619</td>\n",
       "      <td>46.250000</td>\n",
       "      <td>geowiki-landcover-2017</td>\n",
       "      <td>2016-09-30T00:00:00</td>\n",
       "      <td>2017-02-01T00:00:00</td>\n",
       "      <td>False</td>\n",
       "      <td>False</td>\n",
       "      <td>POINT (46.25000 -16.54762)</td>\n",
       "      <td>data/features/arrays/0_geowiki-landcover-2017.h5</td>\n",
       "      <td>False</td>\n",
       "    </tr>\n",
       "    <tr>\n",
       "      <th>1</th>\n",
       "      <td>NaN</td>\n",
       "      <td>NaN</td>\n",
       "      <td>NaN</td>\n",
       "      <td>NaN</td>\n",
       "      <td>1</td>\n",
       "      <td>1</td>\n",
       "      <td>-18.547619</td>\n",
       "      <td>48.250000</td>\n",
       "      <td>geowiki-landcover-2017</td>\n",
       "      <td>2016-09-30T00:00:00</td>\n",
       "      <td>2017-02-01T00:00:00</td>\n",
       "      <td>False</td>\n",
       "      <td>False</td>\n",
       "      <td>POINT (48.25000 -18.54762)</td>\n",
       "      <td>data/features/arrays/1_geowiki-landcover-2017.h5</td>\n",
       "      <td>False</td>\n",
       "    </tr>\n",
       "    <tr>\n",
       "      <th>2</th>\n",
       "      <td>NaN</td>\n",
       "      <td>NaN</td>\n",
       "      <td>NaN</td>\n",
       "      <td>NaN</td>\n",
       "      <td>2</td>\n",
       "      <td>0</td>\n",
       "      <td>-21.547619</td>\n",
       "      <td>44.250000</td>\n",
       "      <td>geowiki-landcover-2017</td>\n",
       "      <td>2016-09-30T00:00:00</td>\n",
       "      <td>2017-02-01T00:00:00</td>\n",
       "      <td>False</td>\n",
       "      <td>False</td>\n",
       "      <td>POINT (44.25000 -21.54762)</td>\n",
       "      <td>data/features/arrays/2_geowiki-landcover-2017.h5</td>\n",
       "      <td>False</td>\n",
       "    </tr>\n",
       "    <tr>\n",
       "      <th>3</th>\n",
       "      <td>NaN</td>\n",
       "      <td>NaN</td>\n",
       "      <td>NaN</td>\n",
       "      <td>NaN</td>\n",
       "      <td>3</td>\n",
       "      <td>1</td>\n",
       "      <td>-17.547619</td>\n",
       "      <td>45.250000</td>\n",
       "      <td>geowiki-landcover-2017</td>\n",
       "      <td>2016-09-30T00:00:00</td>\n",
       "      <td>2017-02-01T00:00:00</td>\n",
       "      <td>False</td>\n",
       "      <td>False</td>\n",
       "      <td>POINT (45.25000 -17.54762)</td>\n",
       "      <td>data/features/arrays/3_geowiki-landcover-2017.h5</td>\n",
       "      <td>False</td>\n",
       "    </tr>\n",
       "    <tr>\n",
       "      <th>4</th>\n",
       "      <td>NaN</td>\n",
       "      <td>NaN</td>\n",
       "      <td>NaN</td>\n",
       "      <td>NaN</td>\n",
       "      <td>4</td>\n",
       "      <td>0</td>\n",
       "      <td>-21.547619</td>\n",
       "      <td>46.250000</td>\n",
       "      <td>geowiki-landcover-2017</td>\n",
       "      <td>2016-09-30T00:00:00</td>\n",
       "      <td>2017-02-01T00:00:00</td>\n",
       "      <td>False</td>\n",
       "      <td>False</td>\n",
       "      <td>POINT (46.25000 -21.54762)</td>\n",
       "      <td>data/features/arrays/4_geowiki-landcover-2017.h5</td>\n",
       "      <td>False</td>\n",
       "    </tr>\n",
       "    <tr>\n",
       "      <th>...</th>\n",
       "      <td>...</td>\n",
       "      <td>...</td>\n",
       "      <td>...</td>\n",
       "      <td>...</td>\n",
       "      <td>...</td>\n",
       "      <td>...</td>\n",
       "      <td>...</td>\n",
       "      <td>...</td>\n",
       "      <td>...</td>\n",
       "      <td>...</td>\n",
       "      <td>...</td>\n",
       "      <td>...</td>\n",
       "      <td>...</td>\n",
       "      <td>...</td>\n",
       "      <td>...</td>\n",
       "      <td>...</td>\n",
       "    </tr>\n",
       "    <tr>\n",
       "      <th>24756</th>\n",
       "      <td>NaN</td>\n",
       "      <td>NaN</td>\n",
       "      <td>NaN</td>\n",
       "      <td>NaN</td>\n",
       "      <td>35849</td>\n",
       "      <td>1</td>\n",
       "      <td>16.651786</td>\n",
       "      <td>103.550595</td>\n",
       "      <td>geowiki-landcover-2017</td>\n",
       "      <td>2016-09-30T00:00:00</td>\n",
       "      <td>2017-02-01T00:00:00</td>\n",
       "      <td>False</td>\n",
       "      <td>False</td>\n",
       "      <td>POINT (103.55060 16.65179)</td>\n",
       "      <td>data/features/arrays/35849_geowiki-landcover-2...</td>\n",
       "      <td>False</td>\n",
       "    </tr>\n",
       "    <tr>\n",
       "      <th>24757</th>\n",
       "      <td>NaN</td>\n",
       "      <td>NaN</td>\n",
       "      <td>NaN</td>\n",
       "      <td>NaN</td>\n",
       "      <td>35850</td>\n",
       "      <td>1</td>\n",
       "      <td>22.651786</td>\n",
       "      <td>84.550595</td>\n",
       "      <td>geowiki-landcover-2017</td>\n",
       "      <td>2016-09-30T00:00:00</td>\n",
       "      <td>2017-02-01T00:00:00</td>\n",
       "      <td>False</td>\n",
       "      <td>False</td>\n",
       "      <td>POINT (84.55060 22.65179)</td>\n",
       "      <td>data/features/arrays/35850_geowiki-landcover-2...</td>\n",
       "      <td>False</td>\n",
       "    </tr>\n",
       "    <tr>\n",
       "      <th>24758</th>\n",
       "      <td>NaN</td>\n",
       "      <td>NaN</td>\n",
       "      <td>NaN</td>\n",
       "      <td>NaN</td>\n",
       "      <td>35851</td>\n",
       "      <td>1</td>\n",
       "      <td>10.651786</td>\n",
       "      <td>76.550595</td>\n",
       "      <td>geowiki-landcover-2017</td>\n",
       "      <td>2016-09-30T00:00:00</td>\n",
       "      <td>2017-02-01T00:00:00</td>\n",
       "      <td>False</td>\n",
       "      <td>False</td>\n",
       "      <td>POINT (76.55060 10.65179)</td>\n",
       "      <td>data/features/arrays/35851_geowiki-landcover-2...</td>\n",
       "      <td>False</td>\n",
       "    </tr>\n",
       "    <tr>\n",
       "      <th>24759</th>\n",
       "      <td>NaN</td>\n",
       "      <td>NaN</td>\n",
       "      <td>NaN</td>\n",
       "      <td>NaN</td>\n",
       "      <td>35860</td>\n",
       "      <td>0</td>\n",
       "      <td>-0.348214</td>\n",
       "      <td>36.550595</td>\n",
       "      <td>geowiki-landcover-2017</td>\n",
       "      <td>2016-09-30T00:00:00</td>\n",
       "      <td>2017-02-01T00:00:00</td>\n",
       "      <td>False</td>\n",
       "      <td>False</td>\n",
       "      <td>POINT (36.55060 -0.34821)</td>\n",
       "      <td>data/features/arrays/35860_geowiki-landcover-2...</td>\n",
       "      <td>False</td>\n",
       "    </tr>\n",
       "    <tr>\n",
       "      <th>24760</th>\n",
       "      <td>NaN</td>\n",
       "      <td>NaN</td>\n",
       "      <td>NaN</td>\n",
       "      <td>NaN</td>\n",
       "      <td>35864</td>\n",
       "      <td>1</td>\n",
       "      <td>-24.348214</td>\n",
       "      <td>26.550595</td>\n",
       "      <td>geowiki-landcover-2017</td>\n",
       "      <td>2016-09-30T00:00:00</td>\n",
       "      <td>2017-02-01T00:00:00</td>\n",
       "      <td>False</td>\n",
       "      <td>False</td>\n",
       "      <td>POINT (26.55060 -24.34821)</td>\n",
       "      <td>data/features/arrays/35864_geowiki-landcover-2...</td>\n",
       "      <td>False</td>\n",
       "    </tr>\n",
       "  </tbody>\n",
       "</table>\n",
       "<p>24761 rows × 16 columns</p>\n",
       "</div>"
      ],
      "text/plain": [
       "      harvest_date planting_date label classification_label  index  is_crop  \\\n",
       "0              NaN           NaN   NaN                  NaN      0        0   \n",
       "1              NaN           NaN   NaN                  NaN      1        1   \n",
       "2              NaN           NaN   NaN                  NaN      2        0   \n",
       "3              NaN           NaN   NaN                  NaN      3        1   \n",
       "4              NaN           NaN   NaN                  NaN      4        0   \n",
       "...            ...           ...   ...                  ...    ...      ...   \n",
       "24756          NaN           NaN   NaN                  NaN  35849        1   \n",
       "24757          NaN           NaN   NaN                  NaN  35850        1   \n",
       "24758          NaN           NaN   NaN                  NaN  35851        1   \n",
       "24759          NaN           NaN   NaN                  NaN  35860        0   \n",
       "24760          NaN           NaN   NaN                  NaN  35864        1   \n",
       "\n",
       "             lat         lon                 dataset      collection_date  \\\n",
       "0     -16.547619   46.250000  geowiki-landcover-2017  2016-09-30T00:00:00   \n",
       "1     -18.547619   48.250000  geowiki-landcover-2017  2016-09-30T00:00:00   \n",
       "2     -21.547619   44.250000  geowiki-landcover-2017  2016-09-30T00:00:00   \n",
       "3     -17.547619   45.250000  geowiki-landcover-2017  2016-09-30T00:00:00   \n",
       "4     -21.547619   46.250000  geowiki-landcover-2017  2016-09-30T00:00:00   \n",
       "...          ...         ...                     ...                  ...   \n",
       "24756  16.651786  103.550595  geowiki-landcover-2017  2016-09-30T00:00:00   \n",
       "24757  22.651786   84.550595  geowiki-landcover-2017  2016-09-30T00:00:00   \n",
       "24758  10.651786   76.550595  geowiki-landcover-2017  2016-09-30T00:00:00   \n",
       "24759  -0.348214   36.550595  geowiki-landcover-2017  2016-09-30T00:00:00   \n",
       "24760 -24.348214   26.550595  geowiki-landcover-2017  2016-09-30T00:00:00   \n",
       "\n",
       "           export_end_date  externally_contributed_dataset  is_test  \\\n",
       "0      2017-02-01T00:00:00                           False    False   \n",
       "1      2017-02-01T00:00:00                           False    False   \n",
       "2      2017-02-01T00:00:00                           False    False   \n",
       "3      2017-02-01T00:00:00                           False    False   \n",
       "4      2017-02-01T00:00:00                           False    False   \n",
       "...                    ...                             ...      ...   \n",
       "24756  2017-02-01T00:00:00                           False    False   \n",
       "24757  2017-02-01T00:00:00                           False    False   \n",
       "24758  2017-02-01T00:00:00                           False    False   \n",
       "24759  2017-02-01T00:00:00                           False    False   \n",
       "24760  2017-02-01T00:00:00                           False    False   \n",
       "\n",
       "                         geometry  \\\n",
       "0      POINT (46.25000 -16.54762)   \n",
       "1      POINT (48.25000 -18.54762)   \n",
       "2      POINT (44.25000 -21.54762)   \n",
       "3      POINT (45.25000 -17.54762)   \n",
       "4      POINT (46.25000 -21.54762)   \n",
       "...                           ...   \n",
       "24756  POINT (103.55060 16.65179)   \n",
       "24757   POINT (84.55060 22.65179)   \n",
       "24758   POINT (76.55060 10.65179)   \n",
       "24759   POINT (36.55060 -0.34821)   \n",
       "24760  POINT (26.55060 -24.34821)   \n",
       "\n",
       "                                                    path  missing_file  \n",
       "0       data/features/arrays/0_geowiki-landcover-2017.h5         False  \n",
       "1       data/features/arrays/1_geowiki-landcover-2017.h5         False  \n",
       "2       data/features/arrays/2_geowiki-landcover-2017.h5         False  \n",
       "3       data/features/arrays/3_geowiki-landcover-2017.h5         False  \n",
       "4       data/features/arrays/4_geowiki-landcover-2017.h5         False  \n",
       "...                                                  ...           ...  \n",
       "24756  data/features/arrays/35849_geowiki-landcover-2...         False  \n",
       "24757  data/features/arrays/35850_geowiki-landcover-2...         False  \n",
       "24758  data/features/arrays/35851_geowiki-landcover-2...         False  \n",
       "24759  data/features/arrays/35860_geowiki-landcover-2...         False  \n",
       "24760  data/features/arrays/35864_geowiki-landcover-2...         False  \n",
       "\n",
       "[24761 rows x 16 columns]"
      ]
     },
     "execution_count": 4,
     "metadata": {},
     "output_type": "execute_result"
    }
   ],
   "source": [
    "dataset.labels"
   ]
  },
  {
   "cell_type": "code",
   "execution_count": 7,
   "metadata": {},
   "outputs": [],
   "source": [
    "X, y = dataset.as_array(flatten_x=False)\n",
    "X_flat, y_flat = dataset.as_array(flatten_x=True)"
   ]
  },
  {
   "cell_type": "code",
   "execution_count": 9,
   "metadata": {},
   "outputs": [
    {
     "name": "stdout",
     "output_type": "stream",
     "text": [
      "(24761, 12, 18) (24761,)\n"
     ]
    },
    {
     "data": {
      "text/plain": [
       "((24761, 216), (24761,))"
      ]
     },
     "execution_count": 9,
     "metadata": {},
     "output_type": "execute_result"
    }
   ],
   "source": [
    "print(X.shape, y.shape)\n",
    "X_flat.shape, y_flat.shape"
   ]
  },
  {
   "attachments": {},
   "cell_type": "markdown",
   "metadata": {},
   "source": [
    "## Get Nigeria data"
   ]
  },
  {
   "cell_type": "code",
   "execution_count": null,
   "metadata": {},
   "outputs": [],
   "source": []
  },
  {
   "attachments": {},
   "cell_type": "markdown",
   "metadata": {},
   "source": [
    "# Train model and evaluate on Nigeria"
   ]
  },
  {
   "attachments": {},
   "cell_type": "markdown",
   "metadata": {},
   "source": [
    "## 1. Use all data and geowiki labels for training (no validation set)"
   ]
  },
  {
   "attachments": {},
   "cell_type": "markdown",
   "metadata": {},
   "source": [
    "- Train random forest on it as in demo.ipynb\n",
    "- Normalizing dict\n",
    "- Test on Nigeria set (is_test)"
   ]
  },
  {
   "cell_type": "code",
   "execution_count": 10,
   "metadata": {},
   "outputs": [
    {
     "data": {
      "text/plain": [
       "RandomForestClassifier(random_state=0)"
      ]
     },
     "execution_count": 10,
     "metadata": {},
     "output_type": "execute_result"
    }
   ],
   "source": [
    "model = RandomForestClassifier(random_state=0)\n",
    "model.fit(X_flat, y_flat)"
   ]
  },
  {
   "cell_type": "code",
   "execution_count": 11,
   "metadata": {},
   "outputs": [
    {
     "data": {
      "text/plain": [
       "array([[0.86, 0.14],\n",
       "       [0.05, 0.95],\n",
       "       [0.86, 0.14],\n",
       "       [0.14, 0.86],\n",
       "       [0.78, 0.22],\n",
       "       [0.18, 0.82],\n",
       "       [0.83, 0.17],\n",
       "       [0.19, 0.81],\n",
       "       [0.87, 0.13],\n",
       "       [0.75, 0.25]])"
      ]
     },
     "execution_count": 11,
     "metadata": {},
     "output_type": "execute_result"
    }
   ],
   "source": [
    "# Predict on training set (just a quick check)\n",
    "model.predict_proba(X_flat[:10])"
   ]
  },
  {
   "cell_type": "code",
   "execution_count": 12,
   "metadata": {},
   "outputs": [
    {
     "data": {
      "text/plain": [
       "array([0, 1, 0, 1, 0, 1, 0, 1, 0, 0])"
      ]
     },
     "execution_count": 12,
     "metadata": {},
     "output_type": "execute_result"
    }
   ],
   "source": [
    "y_flat[:10]"
   ]
  }
 ],
 "metadata": {
  "kernelspec": {
   "display_name": "cropharvest",
   "language": "python",
   "name": "python3"
  },
  "language_info": {
   "codemirror_mode": {
    "name": "ipython",
    "version": 3
   },
   "file_extension": ".py",
   "mimetype": "text/x-python",
   "name": "python",
   "nbconvert_exporter": "python",
   "pygments_lexer": "ipython3",
   "version": "3.7.16"
  },
  "orig_nbformat": 4
 },
 "nbformat": 4,
 "nbformat_minor": 2
}
