{
 "cells": [
  {
   "cell_type": "code",
   "execution_count": 1,
   "metadata": {},
   "outputs": [],
   "source": [
    "import sys\n",
    "from pathlib import Path\n",
    "import h5py\n",
    "from argparse import ArgumentParser\n",
    "\n",
    "import numpy as np\n",
    "import torch\n",
    "from sklearn.ensemble import RandomForestClassifier\n",
    "from cropharvest.datasets import CropHarvest, CropHarvestLabels, Task\n",
    "from cropharvest.columns import NullableColumns, RequiredColumns\n",
    "from cropharvest.engineer import Engineer\n",
    "from cropharvest.bands import BANDS, DYNAMIC_BANDS, STATIC_BANDS, REMOVED_BANDS\n",
    "\n",
    "sys.path.append(\"..\")\n",
    "\n",
    "from src.models import STR2MODEL, STR2BASE, train_model"
   ]
  },
  {
   "cell_type": "code",
   "execution_count": 2,
   "metadata": {},
   "outputs": [],
   "source": [
    "DATA_DIR = \"../data/cropharvest\""
   ]
  },
  {
   "cell_type": "code",
   "execution_count": 3,
   "metadata": {},
   "outputs": [],
   "source": [
    "# This will download all geowiki data\n",
    "evaluation_datasets = CropHarvest.create_benchmark_datasets(DATA_DIR)"
   ]
  },
  {
   "attachments": {},
   "cell_type": "markdown",
   "metadata": {},
   "source": [
    "## Get geowiki data"
   ]
  },
  {
   "attachments": {},
   "cell_type": "markdown",
   "metadata": {},
   "source": [
    "- Load all labels and get all h5 files paths\n",
    "- Recalculate normalizing dict\n",
    "- Get as array"
   ]
  },
  {
   "cell_type": "code",
   "execution_count": 4,
   "metadata": {},
   "outputs": [],
   "source": [
    "class GeowikiCropHarvest():\n",
    "    def __init__(self, root=\"data\"):    \n",
    "        self.root = Path(root)\n",
    "        cropharvest_labels = CropHarvestLabels(root, download=True)\n",
    "        cropharvest_df = cropharvest_labels.as_geojson()\n",
    "        self.labels = cropharvest_df[cropharvest_df['dataset'] == 'geowiki-landcover-2017'].reset_index(drop=True)\n",
    "        self._discard_missing_files()\n",
    "\n",
    "        self.filepaths = self.labels['path'].tolist()\n",
    "        self.y_vals = self.labels['is_crop'].tolist()\n",
    "        self.normalizing_dict = None # TODO: recalculate\n",
    "\n",
    "    def __len__(self):\n",
    "        return len(self.filepaths)\n",
    "\n",
    "    def __getitem__(self, index: int):\n",
    "        file = h5py.File(self.filepaths[index], \"r\")\n",
    "        return self._normalize(file.get(\"array\")[:]), self.y_vals[index]\n",
    "    \n",
    "    def as_array(self, flatten_x=False):\n",
    "        indices_to_sample = list(range(len(self)))\n",
    "        X, Y = zip(*[self[i] for i in indices_to_sample])\n",
    "        X_np, y_np = np.stack(X), np.stack(Y)\n",
    "        if flatten_x:\n",
    "            X_np = self._flatten_array(X_np)\n",
    "        return X_np, y_np\n",
    "\n",
    "    def _path_from_row(self, row):\n",
    "        path = self.root / f\"features/arrays/{row[RequiredColumns.INDEX]}_{row[RequiredColumns.DATASET]}.h5\"\n",
    "        if not path.exists():\n",
    "            return None\n",
    "        return path\n",
    "\n",
    "    def _discard_missing_files(self):\n",
    "        self.labels['path'] = self.labels.apply(lambda row: self._path_from_row(row), axis=1)\n",
    "        self.labels = self.labels[~self.labels['path'].isna()].reset_index(drop=True)\n",
    "\n",
    "    def _normalize(self, array):\n",
    "        if not self.normalizing_dict:\n",
    "            return array\n",
    "        return (array - self.normalizing_dict[\"mean\"]) / self.normalizing_dict[\"std\"]\n",
    "            \n",
    "    @staticmethod\n",
    "    def _flatten_array(array):\n",
    "        return array.reshape(array.shape[0], -1)\n",
    "\n",
    "dataset = GeowikiCropHarvest(DATA_DIR)    "
   ]
  },
  {
   "cell_type": "code",
   "execution_count": 5,
   "metadata": {},
   "outputs": [
    {
     "data": {
      "text/html": [
       "<div>\n",
       "<style scoped>\n",
       "    .dataframe tbody tr th:only-of-type {\n",
       "        vertical-align: middle;\n",
       "    }\n",
       "\n",
       "    .dataframe tbody tr th {\n",
       "        vertical-align: top;\n",
       "    }\n",
       "\n",
       "    .dataframe thead th {\n",
       "        text-align: right;\n",
       "    }\n",
       "</style>\n",
       "<table border=\"1\" class=\"dataframe\">\n",
       "  <thead>\n",
       "    <tr style=\"text-align: right;\">\n",
       "      <th></th>\n",
       "      <th>harvest_date</th>\n",
       "      <th>planting_date</th>\n",
       "      <th>label</th>\n",
       "      <th>classification_label</th>\n",
       "      <th>index</th>\n",
       "      <th>is_crop</th>\n",
       "      <th>lat</th>\n",
       "      <th>lon</th>\n",
       "      <th>dataset</th>\n",
       "      <th>collection_date</th>\n",
       "      <th>export_end_date</th>\n",
       "      <th>externally_contributed_dataset</th>\n",
       "      <th>is_test</th>\n",
       "      <th>geometry</th>\n",
       "      <th>path</th>\n",
       "    </tr>\n",
       "  </thead>\n",
       "  <tbody>\n",
       "    <tr>\n",
       "      <th>0</th>\n",
       "      <td>None</td>\n",
       "      <td>None</td>\n",
       "      <td>None</td>\n",
       "      <td>None</td>\n",
       "      <td>0</td>\n",
       "      <td>0</td>\n",
       "      <td>-16.547619</td>\n",
       "      <td>46.250000</td>\n",
       "      <td>geowiki-landcover-2017</td>\n",
       "      <td>2016-09-30T00:00:00</td>\n",
       "      <td>2017-02-01T00:00:00</td>\n",
       "      <td>False</td>\n",
       "      <td>False</td>\n",
       "      <td>POINT (46.25000 -16.54762)</td>\n",
       "      <td>../data/cropharvest/features/arrays/0_geowiki-...</td>\n",
       "    </tr>\n",
       "    <tr>\n",
       "      <th>1</th>\n",
       "      <td>None</td>\n",
       "      <td>None</td>\n",
       "      <td>None</td>\n",
       "      <td>None</td>\n",
       "      <td>1</td>\n",
       "      <td>1</td>\n",
       "      <td>-18.547619</td>\n",
       "      <td>48.250000</td>\n",
       "      <td>geowiki-landcover-2017</td>\n",
       "      <td>2016-09-30T00:00:00</td>\n",
       "      <td>2017-02-01T00:00:00</td>\n",
       "      <td>False</td>\n",
       "      <td>False</td>\n",
       "      <td>POINT (48.25000 -18.54762)</td>\n",
       "      <td>../data/cropharvest/features/arrays/1_geowiki-...</td>\n",
       "    </tr>\n",
       "    <tr>\n",
       "      <th>2</th>\n",
       "      <td>None</td>\n",
       "      <td>None</td>\n",
       "      <td>None</td>\n",
       "      <td>None</td>\n",
       "      <td>2</td>\n",
       "      <td>0</td>\n",
       "      <td>-21.547619</td>\n",
       "      <td>44.250000</td>\n",
       "      <td>geowiki-landcover-2017</td>\n",
       "      <td>2016-09-30T00:00:00</td>\n",
       "      <td>2017-02-01T00:00:00</td>\n",
       "      <td>False</td>\n",
       "      <td>False</td>\n",
       "      <td>POINT (44.25000 -21.54762)</td>\n",
       "      <td>../data/cropharvest/features/arrays/2_geowiki-...</td>\n",
       "    </tr>\n",
       "    <tr>\n",
       "      <th>3</th>\n",
       "      <td>None</td>\n",
       "      <td>None</td>\n",
       "      <td>None</td>\n",
       "      <td>None</td>\n",
       "      <td>3</td>\n",
       "      <td>1</td>\n",
       "      <td>-17.547619</td>\n",
       "      <td>45.250000</td>\n",
       "      <td>geowiki-landcover-2017</td>\n",
       "      <td>2016-09-30T00:00:00</td>\n",
       "      <td>2017-02-01T00:00:00</td>\n",
       "      <td>False</td>\n",
       "      <td>False</td>\n",
       "      <td>POINT (45.25000 -17.54762)</td>\n",
       "      <td>../data/cropharvest/features/arrays/3_geowiki-...</td>\n",
       "    </tr>\n",
       "    <tr>\n",
       "      <th>4</th>\n",
       "      <td>None</td>\n",
       "      <td>None</td>\n",
       "      <td>None</td>\n",
       "      <td>None</td>\n",
       "      <td>4</td>\n",
       "      <td>0</td>\n",
       "      <td>-21.547619</td>\n",
       "      <td>46.250000</td>\n",
       "      <td>geowiki-landcover-2017</td>\n",
       "      <td>2016-09-30T00:00:00</td>\n",
       "      <td>2017-02-01T00:00:00</td>\n",
       "      <td>False</td>\n",
       "      <td>False</td>\n",
       "      <td>POINT (46.25000 -21.54762)</td>\n",
       "      <td>../data/cropharvest/features/arrays/4_geowiki-...</td>\n",
       "    </tr>\n",
       "    <tr>\n",
       "      <th>...</th>\n",
       "      <td>...</td>\n",
       "      <td>...</td>\n",
       "      <td>...</td>\n",
       "      <td>...</td>\n",
       "      <td>...</td>\n",
       "      <td>...</td>\n",
       "      <td>...</td>\n",
       "      <td>...</td>\n",
       "      <td>...</td>\n",
       "      <td>...</td>\n",
       "      <td>...</td>\n",
       "      <td>...</td>\n",
       "      <td>...</td>\n",
       "      <td>...</td>\n",
       "      <td>...</td>\n",
       "    </tr>\n",
       "    <tr>\n",
       "      <th>24756</th>\n",
       "      <td>None</td>\n",
       "      <td>None</td>\n",
       "      <td>None</td>\n",
       "      <td>None</td>\n",
       "      <td>35849</td>\n",
       "      <td>1</td>\n",
       "      <td>16.651786</td>\n",
       "      <td>103.550595</td>\n",
       "      <td>geowiki-landcover-2017</td>\n",
       "      <td>2016-09-30T00:00:00</td>\n",
       "      <td>2017-02-01T00:00:00</td>\n",
       "      <td>False</td>\n",
       "      <td>False</td>\n",
       "      <td>POINT (103.55060 16.65179)</td>\n",
       "      <td>../data/cropharvest/features/arrays/35849_geow...</td>\n",
       "    </tr>\n",
       "    <tr>\n",
       "      <th>24757</th>\n",
       "      <td>None</td>\n",
       "      <td>None</td>\n",
       "      <td>None</td>\n",
       "      <td>None</td>\n",
       "      <td>35850</td>\n",
       "      <td>1</td>\n",
       "      <td>22.651786</td>\n",
       "      <td>84.550595</td>\n",
       "      <td>geowiki-landcover-2017</td>\n",
       "      <td>2016-09-30T00:00:00</td>\n",
       "      <td>2017-02-01T00:00:00</td>\n",
       "      <td>False</td>\n",
       "      <td>False</td>\n",
       "      <td>POINT (84.55060 22.65179)</td>\n",
       "      <td>../data/cropharvest/features/arrays/35850_geow...</td>\n",
       "    </tr>\n",
       "    <tr>\n",
       "      <th>24758</th>\n",
       "      <td>None</td>\n",
       "      <td>None</td>\n",
       "      <td>None</td>\n",
       "      <td>None</td>\n",
       "      <td>35851</td>\n",
       "      <td>1</td>\n",
       "      <td>10.651786</td>\n",
       "      <td>76.550595</td>\n",
       "      <td>geowiki-landcover-2017</td>\n",
       "      <td>2016-09-30T00:00:00</td>\n",
       "      <td>2017-02-01T00:00:00</td>\n",
       "      <td>False</td>\n",
       "      <td>False</td>\n",
       "      <td>POINT (76.55060 10.65179)</td>\n",
       "      <td>../data/cropharvest/features/arrays/35851_geow...</td>\n",
       "    </tr>\n",
       "    <tr>\n",
       "      <th>24759</th>\n",
       "      <td>None</td>\n",
       "      <td>None</td>\n",
       "      <td>None</td>\n",
       "      <td>None</td>\n",
       "      <td>35860</td>\n",
       "      <td>0</td>\n",
       "      <td>-0.348214</td>\n",
       "      <td>36.550595</td>\n",
       "      <td>geowiki-landcover-2017</td>\n",
       "      <td>2016-09-30T00:00:00</td>\n",
       "      <td>2017-02-01T00:00:00</td>\n",
       "      <td>False</td>\n",
       "      <td>False</td>\n",
       "      <td>POINT (36.55060 -0.34821)</td>\n",
       "      <td>../data/cropharvest/features/arrays/35860_geow...</td>\n",
       "    </tr>\n",
       "    <tr>\n",
       "      <th>24760</th>\n",
       "      <td>None</td>\n",
       "      <td>None</td>\n",
       "      <td>None</td>\n",
       "      <td>None</td>\n",
       "      <td>35864</td>\n",
       "      <td>1</td>\n",
       "      <td>-24.348214</td>\n",
       "      <td>26.550595</td>\n",
       "      <td>geowiki-landcover-2017</td>\n",
       "      <td>2016-09-30T00:00:00</td>\n",
       "      <td>2017-02-01T00:00:00</td>\n",
       "      <td>False</td>\n",
       "      <td>False</td>\n",
       "      <td>POINT (26.55060 -24.34821)</td>\n",
       "      <td>../data/cropharvest/features/arrays/35864_geow...</td>\n",
       "    </tr>\n",
       "  </tbody>\n",
       "</table>\n",
       "<p>24761 rows × 15 columns</p>\n",
       "</div>"
      ],
      "text/plain": [
       "      harvest_date planting_date label classification_label  index  is_crop  \\\n",
       "0             None          None  None                 None      0        0   \n",
       "1             None          None  None                 None      1        1   \n",
       "2             None          None  None                 None      2        0   \n",
       "3             None          None  None                 None      3        1   \n",
       "4             None          None  None                 None      4        0   \n",
       "...            ...           ...   ...                  ...    ...      ...   \n",
       "24756         None          None  None                 None  35849        1   \n",
       "24757         None          None  None                 None  35850        1   \n",
       "24758         None          None  None                 None  35851        1   \n",
       "24759         None          None  None                 None  35860        0   \n",
       "24760         None          None  None                 None  35864        1   \n",
       "\n",
       "             lat         lon                 dataset      collection_date  \\\n",
       "0     -16.547619   46.250000  geowiki-landcover-2017  2016-09-30T00:00:00   \n",
       "1     -18.547619   48.250000  geowiki-landcover-2017  2016-09-30T00:00:00   \n",
       "2     -21.547619   44.250000  geowiki-landcover-2017  2016-09-30T00:00:00   \n",
       "3     -17.547619   45.250000  geowiki-landcover-2017  2016-09-30T00:00:00   \n",
       "4     -21.547619   46.250000  geowiki-landcover-2017  2016-09-30T00:00:00   \n",
       "...          ...         ...                     ...                  ...   \n",
       "24756  16.651786  103.550595  geowiki-landcover-2017  2016-09-30T00:00:00   \n",
       "24757  22.651786   84.550595  geowiki-landcover-2017  2016-09-30T00:00:00   \n",
       "24758  10.651786   76.550595  geowiki-landcover-2017  2016-09-30T00:00:00   \n",
       "24759  -0.348214   36.550595  geowiki-landcover-2017  2016-09-30T00:00:00   \n",
       "24760 -24.348214   26.550595  geowiki-landcover-2017  2016-09-30T00:00:00   \n",
       "\n",
       "           export_end_date  externally_contributed_dataset  is_test  \\\n",
       "0      2017-02-01T00:00:00                           False    False   \n",
       "1      2017-02-01T00:00:00                           False    False   \n",
       "2      2017-02-01T00:00:00                           False    False   \n",
       "3      2017-02-01T00:00:00                           False    False   \n",
       "4      2017-02-01T00:00:00                           False    False   \n",
       "...                    ...                             ...      ...   \n",
       "24756  2017-02-01T00:00:00                           False    False   \n",
       "24757  2017-02-01T00:00:00                           False    False   \n",
       "24758  2017-02-01T00:00:00                           False    False   \n",
       "24759  2017-02-01T00:00:00                           False    False   \n",
       "24760  2017-02-01T00:00:00                           False    False   \n",
       "\n",
       "                         geometry  \\\n",
       "0      POINT (46.25000 -16.54762)   \n",
       "1      POINT (48.25000 -18.54762)   \n",
       "2      POINT (44.25000 -21.54762)   \n",
       "3      POINT (45.25000 -17.54762)   \n",
       "4      POINT (46.25000 -21.54762)   \n",
       "...                           ...   \n",
       "24756  POINT (103.55060 16.65179)   \n",
       "24757   POINT (84.55060 22.65179)   \n",
       "24758   POINT (76.55060 10.65179)   \n",
       "24759   POINT (36.55060 -0.34821)   \n",
       "24760  POINT (26.55060 -24.34821)   \n",
       "\n",
       "                                                    path  \n",
       "0      ../data/cropharvest/features/arrays/0_geowiki-...  \n",
       "1      ../data/cropharvest/features/arrays/1_geowiki-...  \n",
       "2      ../data/cropharvest/features/arrays/2_geowiki-...  \n",
       "3      ../data/cropharvest/features/arrays/3_geowiki-...  \n",
       "4      ../data/cropharvest/features/arrays/4_geowiki-...  \n",
       "...                                                  ...  \n",
       "24756  ../data/cropharvest/features/arrays/35849_geow...  \n",
       "24757  ../data/cropharvest/features/arrays/35850_geow...  \n",
       "24758  ../data/cropharvest/features/arrays/35851_geow...  \n",
       "24759  ../data/cropharvest/features/arrays/35860_geow...  \n",
       "24760  ../data/cropharvest/features/arrays/35864_geow...  \n",
       "\n",
       "[24761 rows x 15 columns]"
      ]
     },
     "execution_count": 5,
     "metadata": {},
     "output_type": "execute_result"
    }
   ],
   "source": [
    "dataset.labels"
   ]
  },
  {
   "cell_type": "code",
   "execution_count": 6,
   "metadata": {},
   "outputs": [],
   "source": [
    "X, y = dataset.as_array(flatten_x=False)\n",
    "X_flat, y_flat = dataset.as_array(flatten_x=True)"
   ]
  },
  {
   "cell_type": "code",
   "execution_count": 7,
   "metadata": {},
   "outputs": [
    {
     "name": "stdout",
     "output_type": "stream",
     "text": [
      "(24761, 12, 18) (24761,)\n"
     ]
    },
    {
     "data": {
      "text/plain": [
       "((24761, 216), (24761,))"
      ]
     },
     "execution_count": 7,
     "metadata": {},
     "output_type": "execute_result"
    }
   ],
   "source": [
    "print(X.shape, y.shape)\n",
    "X_flat.shape, y_flat.shape"
   ]
  },
  {
   "attachments": {},
   "cell_type": "markdown",
   "metadata": {},
   "source": [
    "## Get Nigeria data"
   ]
  },
  {
   "cell_type": "code",
   "execution_count": null,
   "metadata": {},
   "outputs": [],
   "source": []
  },
  {
   "attachments": {},
   "cell_type": "markdown",
   "metadata": {},
   "source": [
    "# Train model and evaluate on Nigeria"
   ]
  },
  {
   "attachments": {},
   "cell_type": "markdown",
   "metadata": {},
   "source": [
    "## 1. Use all data and geowiki labels for training (no validation set)"
   ]
  },
  {
   "attachments": {},
   "cell_type": "markdown",
   "metadata": {},
   "source": [
    "- Train random forest on it as in demo.ipynb\n",
    "- Normalizing dict\n",
    "- Test on Nigeria set (is_test)"
   ]
  },
  {
   "attachments": {},
   "cell_type": "markdown",
   "metadata": {},
   "source": [
    "### Random forest"
   ]
  },
  {
   "cell_type": "code",
   "execution_count": 8,
   "metadata": {},
   "outputs": [
    {
     "data": {
      "text/plain": [
       "RandomForestClassifier(random_state=0)"
      ]
     },
     "execution_count": 8,
     "metadata": {},
     "output_type": "execute_result"
    }
   ],
   "source": [
    "model = RandomForestClassifier(random_state=0)\n",
    "model.fit(X_flat, y_flat)"
   ]
  },
  {
   "cell_type": "code",
   "execution_count": 9,
   "metadata": {},
   "outputs": [
    {
     "data": {
      "text/plain": [
       "array([[0.86, 0.14],\n",
       "       [0.05, 0.95],\n",
       "       [0.86, 0.14],\n",
       "       [0.14, 0.86],\n",
       "       [0.78, 0.22],\n",
       "       [0.18, 0.82],\n",
       "       [0.83, 0.17],\n",
       "       [0.19, 0.81],\n",
       "       [0.87, 0.13],\n",
       "       [0.75, 0.25]])"
      ]
     },
     "execution_count": 9,
     "metadata": {},
     "output_type": "execute_result"
    }
   ],
   "source": [
    "# Predict on training set (just a quick check)\n",
    "model.predict_proba(X_flat[:10])"
   ]
  },
  {
   "cell_type": "code",
   "execution_count": 10,
   "metadata": {},
   "outputs": [
    {
     "data": {
      "text/plain": [
       "array([0, 1, 0, 1, 0, 1, 0, 1, 0, 0])"
      ]
     },
     "execution_count": 10,
     "metadata": {},
     "output_type": "execute_result"
    }
   ],
   "source": [
    "y_flat[:10]"
   ]
  },
  {
   "attachments": {},
   "cell_type": "markdown",
   "metadata": {},
   "source": [
    "### LSTM model"
   ]
  },
  {
   "cell_type": "code",
   "execution_count": 15,
   "metadata": {},
   "outputs": [
    {
     "data": {
      "text/plain": [
       "['VV',\n",
       " 'VH',\n",
       " 'B2',\n",
       " 'B3',\n",
       " 'B4',\n",
       " 'B5',\n",
       " 'B6',\n",
       " 'B7',\n",
       " 'B8',\n",
       " 'B8A',\n",
       " 'B9',\n",
       " 'B11',\n",
       " 'B12',\n",
       " 'temperature_2m',\n",
       " 'total_precipitation',\n",
       " 'elevation',\n",
       " 'slope',\n",
       " 'NDVI']"
      ]
     },
     "execution_count": 15,
     "metadata": {},
     "output_type": "execute_result"
    }
   ],
   "source": [
    "BANDS"
   ]
  },
  {
   "cell_type": "code",
   "execution_count": 11,
   "metadata": {},
   "outputs": [
    {
     "name": "stdout",
     "output_type": "stream",
     "text": [
      "Checking for data files\n"
     ]
    },
    {
     "name": "stderr",
     "output_type": "stream",
     "text": [
      "35599it [00:09, 3790.58it/s]\n"
     ]
    },
    {
     "name": "stdout",
     "output_type": "stream",
     "text": [
      "All pickle files were found!\n",
      "length labels: 35599\n",
      "length pickle files: 35599\n",
      "length local ids: 490\n",
      "Found normalizing dict normalizing_dict.pkl\n",
      "Loading normalizing dict.\n",
      "{'mean': array([0.19353804, 0.17112217, 0.16083624, 0.16354993, 0.18635676,\n",
      "       0.25554994, 0.29061711, 0.28009877, 0.31469831, 0.10141977,\n",
      "       0.0087153 , 0.22964706, 0.15255525, 0.3221835 ]), 'std': array([0.14932182, 0.15265479, 0.14360899, 0.16329558, 0.15796025,\n",
      "       0.14746618, 0.15011357, 0.14306833, 0.14913972, 0.09338568,\n",
      "       0.02771975, 0.1111936 , 0.09549155, 0.23958353])}\n",
      "Train split\n",
      "Checking for data files\n"
     ]
    },
    {
     "name": "stderr",
     "output_type": "stream",
     "text": [
      "35599it [00:14, 2396.30it/s]\n"
     ]
    },
    {
     "name": "stdout",
     "output_type": "stream",
     "text": [
      "All pickle files were found!\n",
      "length labels: 28479\n",
      "length pickle files: 28479\n",
      "length local ids: 404\n",
      "{'mean': array([0.19353804, 0.17112217, 0.16083624, 0.16354993, 0.18635676,\n",
      "       0.25554994, 0.29061711, 0.28009877, 0.31469831, 0.10141977,\n",
      "       0.0087153 , 0.22964706, 0.15255525, 0.3221835 ]), 'std': array([0.14932182, 0.15265479, 0.14360899, 0.16329558, 0.15796025,\n",
      "       0.14746618, 0.15011357, 0.14306833, 0.14913972, 0.09338568,\n",
      "       0.02771975, 0.1111936 , 0.09549155, 0.23958353])}\n",
      "Val split\n",
      "Checking for data files\n"
     ]
    },
    {
     "name": "stderr",
     "output_type": "stream",
     "text": [
      "35599it [00:04, 7860.07it/s]\n"
     ]
    },
    {
     "name": "stdout",
     "output_type": "stream",
     "text": [
      "All pickle files were found!\n",
      "length labels: 7120\n",
      "length pickle files: 7120\n",
      "length local ids: 86\n",
      "{'mean': array([0.19353804, 0.17112217, 0.16083624, 0.16354993, 0.18635676,\n",
      "       0.25554994, 0.29061711, 0.28009877, 0.31469831, 0.10141977,\n",
      "       0.0087153 , 0.22964706, 0.15255525, 0.3221835 ]), 'std': array([0.14932182, 0.15265479, 0.14360899, 0.16329558, 0.15796025,\n",
      "       0.14746618, 0.15011357, 0.14306833, 0.14913972, 0.09338568,\n",
      "       0.02771975, 0.1111936 , 0.09549155, 0.23958353])}\n",
      "training set -> number of instances of geowiki_landcover_2017: 28479\n",
      "training set -> number of instances of nigeria: 915\n",
      "Total number of files used for training: 29394\n",
      "Number of model parameters: 23937\n"
     ]
    }
   ],
   "source": [
    "parser = ArgumentParser()\n",
    "\n",
    "model_args = STR2MODEL[\"land_cover\"].add_model_specific_args(parser).parse_args(args=[])\n",
    "model = STR2MODEL[\"land_cover\"](model_args)"
   ]
  },
  {
   "cell_type": "code",
   "execution_count": 12,
   "metadata": {},
   "outputs": [
    {
     "data": {
      "text/plain": [
       "Namespace(add_geowiki=True, add_nigeria=True, add_togo=False, alpha=10, batch_size=64, data_folder='/home/gajo/code/togo-crop-mask/notebooks/../data', geowiki_subset='world', hidden_vector_size=64, learning_rate=0.001, lstm_dropout=0.2, model_base='lstm', multi_headed=False, num_classification_layers=2, num_lstm_layers=1, probability_threshold=0.5, remove_b1_b10=True, weighted_loss_fn=False)"
      ]
     },
     "execution_count": 12,
     "metadata": {},
     "output_type": "execute_result"
    }
   ],
   "source": [
    "model_args"
   ]
  },
  {
   "cell_type": "code",
   "execution_count": 19,
   "metadata": {},
   "outputs": [],
   "source": [
    "model.input_size = X.shape[-1]"
   ]
  },
  {
   "cell_type": "code",
   "execution_count": 20,
   "metadata": {},
   "outputs": [],
   "source": [
    "model.base = STR2BASE[model.hparams.model_base](input_size=model.input_size, hparams=model.hparams)"
   ]
  },
  {
   "cell_type": "code",
   "execution_count": 21,
   "metadata": {},
   "outputs": [],
   "source": [
    "X_tensor = torch.from_numpy(X).to(torch.float32)"
   ]
  },
  {
   "cell_type": "code",
   "execution_count": 25,
   "metadata": {},
   "outputs": [
    {
     "data": {
      "text/plain": [
       "(tensor([[0.5180],\n",
       "         [0.5043],\n",
       "         [0.5329],\n",
       "         ...,\n",
       "         [0.5439],\n",
       "         [0.5399],\n",
       "         [0.5115]], grad_fn=<SigmoidBackward0>),\n",
       " torch.Size([24761, 1]))"
      ]
     },
     "execution_count": 25,
     "metadata": {},
     "output_type": "execute_result"
    }
   ],
   "source": [
    "y_pred = model.forward(X_tensor)\n",
    "y_pred, y_pred.shape"
   ]
  },
  {
   "cell_type": "code",
   "execution_count": 33,
   "metadata": {},
   "outputs": [
    {
     "name": "stdout",
     "output_type": "stream",
     "text": [
      "Without training, just random weights intialized near 0, this is what the networks predicts as \\% of cropland pixels for Geowiki. Makes sense that sigmoid outputs are near 0.5 as sigmoid is 0-centered.\n"
     ]
    },
    {
     "data": {
      "text/plain": [
       "tensor(0.9196)"
      ]
     },
     "execution_count": 33,
     "metadata": {},
     "output_type": "execute_result"
    }
   ],
   "source": [
    "print(\"Without training, just random weights intialized near 0, this is what the networks predicts as \\% of cropland pixels for Geowiki. Makes sense that sigmoid outputs are near 0.5 as sigmoid is 0-centered.\")\n",
    "(y_pred > 0.5).sum() / len(y_pred)"
   ]
  },
  {
   "cell_type": "code",
   "execution_count": null,
   "metadata": {},
   "outputs": [],
   "source": []
  }
 ],
 "metadata": {
  "kernelspec": {
   "display_name": "cropharvest",
   "language": "python",
   "name": "python3"
  },
  "language_info": {
   "codemirror_mode": {
    "name": "ipython",
    "version": 3
   },
   "file_extension": ".py",
   "mimetype": "text/x-python",
   "name": "python",
   "nbconvert_exporter": "python",
   "pygments_lexer": "ipython3",
   "version": "3.7.16"
  },
  "orig_nbformat": 4
 },
 "nbformat": 4,
 "nbformat_minor": 2
}
