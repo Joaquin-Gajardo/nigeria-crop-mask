{
 "cells": [
  {
   "cell_type": "code",
   "execution_count": 1,
   "metadata": {},
   "outputs": [],
   "source": [
    "import sys\n",
    "from pathlib import Path\n",
    "from argparse import ArgumentParser, Namespace\n",
    "from tqdm import tqdm\n",
    "import math\n",
    "import pickle\n",
    "from typing import Tuple, List, Dict, Union, Optional, TypeVar, Type\n",
    "\n",
    "import numpy as np\n",
    "import pandas as pd\n",
    "from sklearn.model_selection import train_test_split\n",
    "import torch\n",
    "from torch.utils.data import Dataset, DataLoader, random_split\n",
    "\n",
    "sys.path.append('..')\n",
    "\n",
    "from src.engineer.geowiki import GeoWikiDataInstance\n",
    "from src.exporters.sentinel.cloudfree import BANDS\n",
    "from src.models import STR2MODEL, train_model\n",
    "\n",
    "%reload_ext autoreload\n",
    "%autoreload 2"
   ]
  },
  {
   "cell_type": "markdown",
   "metadata": {},
   "source": [
    "### Create custom Dataset class"
   ]
  },
  {
   "cell_type": "code",
   "execution_count": 2,
   "metadata": {},
   "outputs": [],
   "source": [
    "GeowikiDatasetType = TypeVar('GeowikiDatasetType', bound='Parent') # for typing\n",
    "\n",
    "class GeowikiDataset(Dataset):\n",
    "    \n",
    "    def __init__(self, data_dir: Union[Path, str],\n",
    "                csv_file: str='geowiki_labels_country_crs4326.csv',\n",
    "                countries_subset: Optional[List[str]]=None,\n",
    "                countries_to_weight: Optional[List[str]]=None,\n",
    "                remove_b1_b10: bool=True,\n",
    "                labels: Optional[pd.DataFrame]=None # if this is passed csv_file will be ignored\n",
    "                ) -> None:\n",
    "        \n",
    "        # Constructor arguments\n",
    "        self.data_dir = data_dir\n",
    "        self.csv_file = csv_file\n",
    "        self.countries_subset = countries_subset\n",
    "        self.countries_to_weight = countries_to_weight\n",
    "        self.remove_b1_b10 = remove_b1_b10\n",
    "        \n",
    "        # Instance parameters\n",
    "        self.bands_to_remove = [\"B1\", \"B10\"]\n",
    "        self.crop_probability_threshold = 0.5\n",
    "        self.normalizing_dict = self.load_files_and_normalizing_dict(data_dir)[1]\n",
    "        print(self.normalizing_dict)\n",
    "\n",
    "        # Functions\n",
    "        if labels is None:\n",
    "            self.labels = pd.read_csv(self.data_dir / self.csv_file)\n",
    "            self.labels.loc[self.labels['country'].isnull(), 'country'] = 'unknown'\n",
    "            if self.countries_subset:\n",
    "                self.labels = self.labels[self.labels['country'].str.lower().isin(list(map(str.lower, self.countries_subset)))].reset_index(drop=True)\n",
    "        else:\n",
    "            self.labels = labels\n",
    "        self.picke_files = self.get_pickle_files_paths(self.data_dir / 'all')\n",
    "        self.file_identifiers_countries_to_weight = self.get_file_ids_for_countries(self.countries_to_weight)\n",
    "        print('length labels:', len(self.labels))\n",
    "        print('length pickle files:', len(self.picke_files))\n",
    "        print('length local ids:', len(self.file_identifiers_countries_to_weight))\n",
    "\n",
    "    def __len__(self) -> int:\n",
    "        return len(self.labels)\n",
    "\n",
    "    def __getitem__(self, index: int) -> Tuple[torch.Tensor, torch.Tensor, torch.Tensor]:\n",
    "        \"\"\"Return the data, label, and weight tensors.\n",
    "        \"\"\"\n",
    "        target_file = self.picke_files[index]\n",
    "        identifier = int(target_file.name.split('_')[0])\n",
    "\n",
    "        with target_file.open(\"rb\") as f:\n",
    "            target_datainstance = pickle.load(f)\n",
    "\n",
    "        if isinstance(target_datainstance, GeoWikiDataInstance):\n",
    "            if self.crop_probability_threshold is None:\n",
    "                label = target_datainstance.crop_probability\n",
    "            else:\n",
    "                label = int(target_datainstance.crop_probability >= self.crop_probability_threshold)\n",
    "        else:\n",
    "            raise RuntimeError(f\"Unrecognized data instance type {type(target_datainstance)}\")\n",
    "\n",
    "        is_local = 0\n",
    "        if identifier in self.file_identifiers_countries_to_weight:\n",
    "           is_local = 1\n",
    "\n",
    "        return (\n",
    "            torch.from_numpy(\n",
    "                self.remove_bands(x=self._normalize(target_datainstance.labelled_array))\n",
    "            ).float(),\n",
    "            torch.tensor(label).float(),\n",
    "            torch.tensor(is_local).long(),\n",
    "        )\n",
    "\n",
    "    @property\n",
    "    def num_output_classes(self) -> int:\n",
    "        return 1\n",
    "\n",
    "    @property\n",
    "    def num_input_features(self) -> int:\n",
    "        # assumes the first value in the tuple is x\n",
    "        assert len(self.pickle_files) > 0, \"No files to load!\"\n",
    "        output_tuple = self[0]\n",
    "        return output_tuple[0].shape[1]\n",
    "\n",
    "    @property\n",
    "    def num_timesteps(self) -> int:\n",
    "        # assumes the first value in the tuple is x\n",
    "        assert len(self.pickle_files) > 0, \"No files to load!\"\n",
    "        output_tuple = self[0]\n",
    "        return output_tuple[0].shape[0]\n",
    "\n",
    "    def remove_bands(self, x: np.ndarray) -> np.ndarray:\n",
    "        \"\"\"\n",
    "        Expects the input to be of shape [timesteps, bands]\n",
    "        \"\"\"\n",
    "        if self.remove_b1_b10:\n",
    "            indices_to_remove: List[int] = []\n",
    "            for band in self.bands_to_remove:\n",
    "                indices_to_remove.append(BANDS.index(band))\n",
    "\n",
    "            bands_index = 1 if len(x.shape) == 2 else 2\n",
    "            indices_to_keep = [i for i in range(x.shape[bands_index]) if i not in indices_to_remove]\n",
    "            if len(x.shape) == 2:\n",
    "                # timesteps, bands\n",
    "                return x[:, indices_to_keep]\n",
    "            else:\n",
    "                # batches, timesteps, bands\n",
    "                return x[:, :, indices_to_keep]\n",
    "        else:\n",
    "            return x\n",
    "\n",
    "    @staticmethod\n",
    "    def load_files_and_normalizing_dict(\n",
    "        features_dir: Path, subset_name: str='training'\n",
    "    ) -> Tuple[List[Path], Optional[Dict[str, np.ndarray]]]:\n",
    "        pickle_files = list((features_dir / subset_name).glob(\"*.pkl\"))\n",
    "\n",
    "        # try loading the normalizing dict. By default, if it exists we will use it\n",
    "        if (features_dir / \"normalizing_dict.pkl\").exists():\n",
    "            with (features_dir / \"normalizing_dict.pkl\").open(\"rb\") as f:\n",
    "                normalizing_dict = pickle.load(f)\n",
    "        else:\n",
    "            normalizing_dict = None\n",
    "\n",
    "        return pickle_files, normalizing_dict\n",
    "\n",
    "    def _normalize(self, array: np.ndarray) -> np.ndarray:\n",
    "        if self.normalizing_dict is None:\n",
    "            return array\n",
    "        else:\n",
    "            return (array - self.normalizing_dict[\"mean\"]) / self.normalizing_dict[\"std\"]\n",
    "\n",
    "    def get_pickle_files_paths(self, folder_path: Path) -> Tuple[List[Path]]:\n",
    "        file_paths = self.labels.filename.tolist()\n",
    "        print('Checking for data files')\n",
    "        pickle_files = [path for path in tqdm(folder_path.glob('*.pkl')) if path.name in file_paths]\n",
    "        self._check_label_files(pickle_files)\n",
    "        return pickle_files\n",
    "\n",
    "    def _check_label_files(self, pickle_files) -> None:\n",
    "        same_files = set([file.name for file in pickle_files]) == set(self.labels.filename.tolist())\n",
    "        assert same_files, \"Some pickle files of the labels were not found!\"\n",
    "        print('All pickle files were found!')\n",
    "\n",
    "    def get_file_ids_for_countries(self, countries_list: List[str]) -> List[int]:\n",
    "        file_ids = []\n",
    "        if countries_list:\n",
    "            countries_list_lowercase = list(map(str.lower, countries_list))\n",
    "            file_ids.extend(self.labels[self.labels['country'].str.lower().isin(countries_list_lowercase)]['identifier'].tolist())\n",
    "        return file_ids\n",
    "\n",
    "    @classmethod\n",
    "    def train_val_split(cls: Type[GeowikiDatasetType], class_instance: Type[GeowikiDatasetType], train_size: float=0.8, stratify_column: Optional[str]=None) -> Tuple[GeowikiDatasetType]:\n",
    "        # Split labels dataframe\n",
    "        stratify = None if not stratify_column else class_instance.labels[stratify_column]\n",
    "        df_train, df_val = train_test_split(class_instance.labels, train_size=train_size, stratify=stratify, random_state=42)\n",
    "        df_train.reset_index(drop=True, inplace=True) \n",
    "        df_val.reset_index(drop=True, inplace=True)\n",
    "\n",
    "        # Create two new GeowikiDataset instances (train and val)\n",
    "        print('Train split')\n",
    "        train_dataset = cls(class_instance.data_dir, countries_to_weight=class_instance.countries_to_weight, labels=df_train)\n",
    "        print('Val split')\n",
    "        val_dataset = cls(class_instance.data_dir, countries_to_weight=class_instance.countries_to_weight, labels=df_val)\n",
    "        return train_dataset, val_dataset\n",
    "\n",
    "    def get_file_by_identifier(self):\n",
    "        pass"
   ]
  },
  {
   "cell_type": "code",
   "execution_count": 4,
   "metadata": {},
   "outputs": [
    {
     "name": "stdout",
     "output_type": "stream",
     "text": [
      "{'mean': array([0.19353804, 0.17112217, 0.16083624, 0.16354993, 0.18635676,\n",
      "       0.25554994, 0.29061711, 0.28009877, 0.31469831, 0.10141977,\n",
      "       0.0087153 , 0.22964706, 0.15255525, 0.3221835 ]), 'std': array([0.14932182, 0.15265479, 0.14360899, 0.16329558, 0.15796025,\n",
      "       0.14746618, 0.15011357, 0.14306833, 0.14913972, 0.09338568,\n",
      "       0.02771975, 0.1111936 , 0.09549155, 0.23958353])}\n",
      "Checking for data files\n"
     ]
    },
    {
     "name": "stderr",
     "output_type": "stream",
     "text": [
      "35599it [00:06, 5234.67it/s] "
     ]
    },
    {
     "name": "stdout",
     "output_type": "stream",
     "text": [
      "All pickle files were found!\n",
      "length labels: 35599\n",
      "length pickle files: 35599\n",
      "length local ids: 490\n"
     ]
    },
    {
     "name": "stderr",
     "output_type": "stream",
     "text": [
      "\n"
     ]
    }
   ],
   "source": [
    "data_dir = Path('../data/features/geowiki_landcover_2017')\n",
    "subset = None #['Ghana', 'Togo', 'Nigeria', 'Chad', 'Democratic Republic of the Congo', 'Ethiopia', 'Chad', 'Mali']\n",
    "dataset = GeowikiDataset(data_dir, 'geowiki_labels_country_crs4326.csv', countries_subset=subset, countries_to_weight=['Nigeria'])"
   ]
  },
  {
   "cell_type": "code",
   "execution_count": null,
   "metadata": {},
   "outputs": [
    {
     "name": "stderr",
     "output_type": "stream",
     "text": [
      "35599it [00:00, 37640.66it/s]\n"
     ]
    },
    {
     "data": {
      "text/plain": [
       "[PosixPath('../data/features/geowiki_landcover_2017/all/12178_2017-03-28_2018-03-28.pkl'),\n",
       " PosixPath('../data/features/geowiki_landcover_2017/all/10292_2017-03-28_2018-03-28.pkl'),\n",
       " PosixPath('../data/features/geowiki_landcover_2017/all/6515_2017-03-28_2018-03-28.pkl'),\n",
       " PosixPath('../data/features/geowiki_landcover_2017/all/13225_2017-03-28_2018-03-28.pkl'),\n",
       " PosixPath('../data/features/geowiki_landcover_2017/all/11281_2017-03-28_2018-03-28.pkl'),\n",
       " PosixPath('../data/features/geowiki_landcover_2017/all/10037_2017-03-28_2018-03-28.pkl'),\n",
       " PosixPath('../data/features/geowiki_landcover_2017/all/8208_2017-03-28_2018-03-28.pkl'),\n",
       " PosixPath('../data/features/geowiki_landcover_2017/all/13822_2017-03-28_2018-03-28.pkl'),\n",
       " PosixPath('../data/features/geowiki_landcover_2017/all/7614_2017-03-28_2018-03-28.pkl'),\n",
       " PosixPath('../data/features/geowiki_landcover_2017/all/9226_2017-03-28_2018-03-28.pkl'),\n",
       " PosixPath('../data/features/geowiki_landcover_2017/all/11237_2017-03-28_2018-03-28.pkl'),\n",
       " PosixPath('../data/features/geowiki_landcover_2017/all/8288_2017-03-28_2018-03-28.pkl'),\n",
       " PosixPath('../data/features/geowiki_landcover_2017/all/11552_2017-03-28_2018-03-28.pkl'),\n",
       " PosixPath('../data/features/geowiki_landcover_2017/all/13142_2017-03-28_2018-03-28.pkl'),\n",
       " PosixPath('../data/features/geowiki_landcover_2017/all/13189_2017-03-28_2018-03-28.pkl'),\n",
       " PosixPath('../data/features/geowiki_landcover_2017/all/10189_2017-03-28_2018-03-28.pkl'),\n",
       " PosixPath('../data/features/geowiki_landcover_2017/all/7927_2017-03-28_2018-03-28.pkl'),\n",
       " PosixPath('../data/features/geowiki_landcover_2017/all/8537_2017-03-28_2018-03-28.pkl'),\n",
       " PosixPath('../data/features/geowiki_landcover_2017/all/8375_2017-03-28_2018-03-28.pkl'),\n",
       " PosixPath('../data/features/geowiki_landcover_2017/all/8715_2017-03-28_2018-03-28.pkl'),\n",
       " PosixPath('../data/features/geowiki_landcover_2017/all/12898_2017-03-28_2018-03-28.pkl'),\n",
       " PosixPath('../data/features/geowiki_landcover_2017/all/14293_2017-03-28_2018-03-28.pkl'),\n",
       " PosixPath('../data/features/geowiki_landcover_2017/all/13865_2017-03-28_2018-03-28.pkl'),\n",
       " PosixPath('../data/features/geowiki_landcover_2017/all/6801_2017-03-28_2018-03-28.pkl'),\n",
       " PosixPath('../data/features/geowiki_landcover_2017/all/14560_2017-03-28_2018-03-28.pkl'),\n",
       " PosixPath('../data/features/geowiki_landcover_2017/all/11010_2017-03-28_2018-03-28.pkl'),\n",
       " PosixPath('../data/features/geowiki_landcover_2017/all/12556_2017-03-28_2018-03-28.pkl'),\n",
       " PosixPath('../data/features/geowiki_landcover_2017/all/12993_2017-03-28_2018-03-28.pkl'),\n",
       " PosixPath('../data/features/geowiki_landcover_2017/all/15214_2017-03-28_2018-03-28.pkl'),\n",
       " PosixPath('../data/features/geowiki_landcover_2017/all/9231_2017-03-28_2018-03-28.pkl'),\n",
       " PosixPath('../data/features/geowiki_landcover_2017/all/12973_2017-03-28_2018-03-28.pkl'),\n",
       " PosixPath('../data/features/geowiki_landcover_2017/all/10758_2017-03-28_2018-03-28.pkl'),\n",
       " PosixPath('../data/features/geowiki_landcover_2017/all/12367_2017-03-28_2018-03-28.pkl'),\n",
       " PosixPath('../data/features/geowiki_landcover_2017/all/14610_2017-03-28_2018-03-28.pkl'),\n",
       " PosixPath('../data/features/geowiki_landcover_2017/all/13226_2017-03-28_2018-03-28.pkl'),\n",
       " PosixPath('../data/features/geowiki_landcover_2017/all/12317_2017-03-28_2018-03-28.pkl'),\n",
       " PosixPath('../data/features/geowiki_landcover_2017/all/10788_2017-03-28_2018-03-28.pkl'),\n",
       " PosixPath('../data/features/geowiki_landcover_2017/all/8952_2017-03-28_2018-03-28.pkl'),\n",
       " PosixPath('../data/features/geowiki_landcover_2017/all/12827_2017-03-28_2018-03-28.pkl'),\n",
       " PosixPath('../data/features/geowiki_landcover_2017/all/14169_2017-03-28_2018-03-28.pkl'),\n",
       " PosixPath('../data/features/geowiki_landcover_2017/all/10814_2017-03-28_2018-03-28.pkl'),\n",
       " PosixPath('../data/features/geowiki_landcover_2017/all/14503_2017-03-28_2018-03-28.pkl'),\n",
       " PosixPath('../data/features/geowiki_landcover_2017/all/12020_2017-03-28_2018-03-28.pkl'),\n",
       " PosixPath('../data/features/geowiki_landcover_2017/all/8716_2017-03-28_2018-03-28.pkl'),\n",
       " PosixPath('../data/features/geowiki_landcover_2017/all/7264_2017-03-28_2018-03-28.pkl'),\n",
       " PosixPath('../data/features/geowiki_landcover_2017/all/12416_2017-03-28_2018-03-28.pkl'),\n",
       " PosixPath('../data/features/geowiki_landcover_2017/all/8547_2017-03-28_2018-03-28.pkl'),\n",
       " PosixPath('../data/features/geowiki_landcover_2017/all/13197_2017-03-28_2018-03-28.pkl'),\n",
       " PosixPath('../data/features/geowiki_landcover_2017/all/13982_2017-03-28_2018-03-28.pkl'),\n",
       " PosixPath('../data/features/geowiki_landcover_2017/all/12399_2017-03-28_2018-03-28.pkl'),\n",
       " PosixPath('../data/features/geowiki_landcover_2017/all/13797_2017-03-28_2018-03-28.pkl'),\n",
       " PosixPath('../data/features/geowiki_landcover_2017/all/8371_2017-03-28_2018-03-28.pkl'),\n",
       " PosixPath('../data/features/geowiki_landcover_2017/all/11746_2017-03-28_2018-03-28.pkl'),\n",
       " PosixPath('../data/features/geowiki_landcover_2017/all/13335_2017-03-28_2018-03-28.pkl'),\n",
       " PosixPath('../data/features/geowiki_landcover_2017/all/11238_2017-03-28_2018-03-28.pkl'),\n",
       " PosixPath('../data/features/geowiki_landcover_2017/all/10088_2017-03-28_2018-03-28.pkl'),\n",
       " PosixPath('../data/features/geowiki_landcover_2017/all/11286_2017-03-28_2018-03-28.pkl'),\n",
       " PosixPath('../data/features/geowiki_landcover_2017/all/12623_2017-03-28_2018-03-28.pkl'),\n",
       " PosixPath('../data/features/geowiki_landcover_2017/all/9082_2017-03-28_2018-03-28.pkl'),\n",
       " PosixPath('../data/features/geowiki_landcover_2017/all/12815_2017-03-28_2018-03-28.pkl'),\n",
       " PosixPath('../data/features/geowiki_landcover_2017/all/13767_2017-03-28_2018-03-28.pkl'),\n",
       " PosixPath('../data/features/geowiki_landcover_2017/all/10357_2017-03-28_2018-03-28.pkl'),\n",
       " PosixPath('../data/features/geowiki_landcover_2017/all/7428_2017-03-28_2018-03-28.pkl'),\n",
       " PosixPath('../data/features/geowiki_landcover_2017/all/15117_2017-03-28_2018-03-28.pkl'),\n",
       " PosixPath('../data/features/geowiki_landcover_2017/all/12326_2017-03-28_2018-03-28.pkl'),\n",
       " PosixPath('../data/features/geowiki_landcover_2017/all/7722_2017-03-28_2018-03-28.pkl'),\n",
       " PosixPath('../data/features/geowiki_landcover_2017/all/11871_2017-03-28_2018-03-28.pkl'),\n",
       " PosixPath('../data/features/geowiki_landcover_2017/all/13866_2017-03-28_2018-03-28.pkl'),\n",
       " PosixPath('../data/features/geowiki_landcover_2017/all/11632_2017-03-28_2018-03-28.pkl'),\n",
       " PosixPath('../data/features/geowiki_landcover_2017/all/14370_2017-03-28_2018-03-28.pkl'),\n",
       " PosixPath('../data/features/geowiki_landcover_2017/all/12466_2017-03-28_2018-03-28.pkl'),\n",
       " PosixPath('../data/features/geowiki_landcover_2017/all/8536_2017-03-28_2018-03-28.pkl'),\n",
       " PosixPath('../data/features/geowiki_landcover_2017/all/13065_2017-03-28_2018-03-28.pkl'),\n",
       " PosixPath('../data/features/geowiki_landcover_2017/all/7514_2017-03-28_2018-03-28.pkl'),\n",
       " PosixPath('../data/features/geowiki_landcover_2017/all/13723_2017-03-28_2018-03-28.pkl'),\n",
       " PosixPath('../data/features/geowiki_landcover_2017/all/13585_2017-03-28_2018-03-28.pkl'),\n",
       " PosixPath('../data/features/geowiki_landcover_2017/all/11465_2017-03-28_2018-03-28.pkl'),\n",
       " PosixPath('../data/features/geowiki_landcover_2017/all/11024_2017-03-28_2018-03-28.pkl'),\n",
       " PosixPath('../data/features/geowiki_landcover_2017/all/10786_2017-03-28_2018-03-28.pkl'),\n",
       " PosixPath('../data/features/geowiki_landcover_2017/all/12795_2017-03-28_2018-03-28.pkl'),\n",
       " PosixPath('../data/features/geowiki_landcover_2017/all/12991_2017-03-28_2018-03-28.pkl'),\n",
       " PosixPath('../data/features/geowiki_landcover_2017/all/10598_2017-03-28_2018-03-28.pkl'),\n",
       " PosixPath('../data/features/geowiki_landcover_2017/all/14916_2017-03-28_2018-03-28.pkl'),\n",
       " PosixPath('../data/features/geowiki_landcover_2017/all/13484_2017-03-28_2018-03-28.pkl'),\n",
       " PosixPath('../data/features/geowiki_landcover_2017/all/13491_2017-03-28_2018-03-28.pkl'),\n",
       " PosixPath('../data/features/geowiki_landcover_2017/all/10433_2017-03-28_2018-03-28.pkl'),\n",
       " PosixPath('../data/features/geowiki_landcover_2017/all/10086_2017-03-28_2018-03-28.pkl'),\n",
       " PosixPath('../data/features/geowiki_landcover_2017/all/14609_2017-03-28_2018-03-28.pkl'),\n",
       " PosixPath('../data/features/geowiki_landcover_2017/all/10695_2017-03-28_2018-03-28.pkl'),\n",
       " PosixPath('../data/features/geowiki_landcover_2017/all/12814_2017-03-28_2018-03-28.pkl'),\n",
       " PosixPath('../data/features/geowiki_landcover_2017/all/13443_2017-03-28_2018-03-28.pkl'),\n",
       " PosixPath('../data/features/geowiki_landcover_2017/all/9536_2017-03-28_2018-03-28.pkl'),\n",
       " PosixPath('../data/features/geowiki_landcover_2017/all/11945_2017-03-28_2018-03-28.pkl'),\n",
       " PosixPath('../data/features/geowiki_landcover_2017/all/9227_2017-03-28_2018-03-28.pkl'),\n",
       " PosixPath('../data/features/geowiki_landcover_2017/all/12131_2017-03-28_2018-03-28.pkl'),\n",
       " PosixPath('../data/features/geowiki_landcover_2017/all/6932_2017-03-28_2018-03-28.pkl'),\n",
       " PosixPath('../data/features/geowiki_landcover_2017/all/13208_2017-03-28_2018-03-28.pkl'),\n",
       " PosixPath('../data/features/geowiki_landcover_2017/all/10736_2017-03-28_2018-03-28.pkl'),\n",
       " PosixPath('../data/features/geowiki_landcover_2017/all/13830_2017-03-28_2018-03-28.pkl'),\n",
       " PosixPath('../data/features/geowiki_landcover_2017/all/11467_2017-03-28_2018-03-28.pkl'),\n",
       " PosixPath('../data/features/geowiki_landcover_2017/all/11757_2017-03-28_2018-03-28.pkl'),\n",
       " PosixPath('../data/features/geowiki_landcover_2017/all/12022_2017-03-28_2018-03-28.pkl'),\n",
       " PosixPath('../data/features/geowiki_landcover_2017/all/12080_2017-03-28_2018-03-28.pkl'),\n",
       " PosixPath('../data/features/geowiki_landcover_2017/all/12305_2017-03-28_2018-03-28.pkl'),\n",
       " PosixPath('../data/features/geowiki_landcover_2017/all/12929_2017-03-28_2018-03-28.pkl'),\n",
       " PosixPath('../data/features/geowiki_landcover_2017/all/14038_2017-03-28_2018-03-28.pkl'),\n",
       " PosixPath('../data/features/geowiki_landcover_2017/all/10550_2017-03-28_2018-03-28.pkl'),\n",
       " PosixPath('../data/features/geowiki_landcover_2017/all/12135_2017-03-28_2018-03-28.pkl'),\n",
       " PosixPath('../data/features/geowiki_landcover_2017/all/7176_2017-03-28_2018-03-28.pkl'),\n",
       " PosixPath('../data/features/geowiki_landcover_2017/all/12883_2017-03-28_2018-03-28.pkl'),\n",
       " PosixPath('../data/features/geowiki_landcover_2017/all/9835_2017-03-28_2018-03-28.pkl'),\n",
       " PosixPath('../data/features/geowiki_landcover_2017/all/11123_2017-03-28_2018-03-28.pkl'),\n",
       " PosixPath('../data/features/geowiki_landcover_2017/all/12754_2017-03-28_2018-03-28.pkl'),\n",
       " PosixPath('../data/features/geowiki_landcover_2017/all/10843_2017-03-28_2018-03-28.pkl'),\n",
       " PosixPath('../data/features/geowiki_landcover_2017/all/11545_2017-03-28_2018-03-28.pkl'),\n",
       " PosixPath('../data/features/geowiki_landcover_2017/all/14039_2017-03-28_2018-03-28.pkl'),\n",
       " PosixPath('../data/features/geowiki_landcover_2017/all/10111_2017-03-28_2018-03-28.pkl'),\n",
       " PosixPath('../data/features/geowiki_landcover_2017/all/10823_2017-03-28_2018-03-28.pkl'),\n",
       " PosixPath('../data/features/geowiki_landcover_2017/all/10879_2017-03-28_2018-03-28.pkl'),\n",
       " PosixPath('../data/features/geowiki_landcover_2017/all/12674_2017-03-28_2018-03-28.pkl'),\n",
       " PosixPath('../data/features/geowiki_landcover_2017/all/12826_2017-03-28_2018-03-28.pkl'),\n",
       " PosixPath('../data/features/geowiki_landcover_2017/all/14912_2017-03-28_2018-03-28.pkl'),\n",
       " PosixPath('../data/features/geowiki_landcover_2017/all/12183_2017-03-28_2018-03-28.pkl'),\n",
       " PosixPath('../data/features/geowiki_landcover_2017/all/12596_2017-03-28_2018-03-28.pkl'),\n",
       " PosixPath('../data/features/geowiki_landcover_2017/all/13778_2017-03-28_2018-03-28.pkl'),\n",
       " PosixPath('../data/features/geowiki_landcover_2017/all/13317_2017-03-28_2018-03-28.pkl'),\n",
       " PosixPath('../data/features/geowiki_landcover_2017/all/10960_2017-03-28_2018-03-28.pkl'),\n",
       " PosixPath('../data/features/geowiki_landcover_2017/all/10613_2017-03-28_2018-03-28.pkl'),\n",
       " PosixPath('../data/features/geowiki_landcover_2017/all/14285_2017-03-28_2018-03-28.pkl'),\n",
       " PosixPath('../data/features/geowiki_landcover_2017/all/14605_2017-03-28_2018-03-28.pkl'),\n",
       " PosixPath('../data/features/geowiki_landcover_2017/all/10813_2017-03-28_2018-03-28.pkl'),\n",
       " PosixPath('../data/features/geowiki_landcover_2017/all/10435_2017-03-28_2018-03-28.pkl'),\n",
       " PosixPath('../data/features/geowiki_landcover_2017/all/10787_2017-03-28_2018-03-28.pkl'),\n",
       " PosixPath('../data/features/geowiki_landcover_2017/all/13356_2017-03-28_2018-03-28.pkl'),\n",
       " PosixPath('../data/features/geowiki_landcover_2017/all/13388_2017-03-28_2018-03-28.pkl'),\n",
       " PosixPath('../data/features/geowiki_landcover_2017/all/12414_2017-03-28_2018-03-28.pkl'),\n",
       " PosixPath('../data/features/geowiki_landcover_2017/all/7981_2017-03-28_2018-03-28.pkl'),\n",
       " PosixPath('../data/features/geowiki_landcover_2017/all/14522_2017-03-28_2018-03-28.pkl'),\n",
       " PosixPath('../data/features/geowiki_landcover_2017/all/13825_2017-03-28_2018-03-28.pkl'),\n",
       " PosixPath('../data/features/geowiki_landcover_2017/all/14167_2017-03-28_2018-03-28.pkl'),\n",
       " PosixPath('../data/features/geowiki_landcover_2017/all/14500_2017-03-28_2018-03-28.pkl'),\n",
       " PosixPath('../data/features/geowiki_landcover_2017/all/12133_2017-03-28_2018-03-28.pkl'),\n",
       " PosixPath('../data/features/geowiki_landcover_2017/all/12024_2017-03-28_2018-03-28.pkl'),\n",
       " PosixPath('../data/features/geowiki_landcover_2017/all/8052_2017-03-28_2018-03-28.pkl'),\n",
       " PosixPath('../data/features/geowiki_landcover_2017/all/10653_2017-03-28_2018-03-28.pkl'),\n",
       " PosixPath('../data/features/geowiki_landcover_2017/all/12460_2017-03-28_2018-03-28.pkl'),\n",
       " PosixPath('../data/features/geowiki_landcover_2017/all/11303_2017-03-28_2018-03-28.pkl'),\n",
       " PosixPath('../data/features/geowiki_landcover_2017/all/11865_2017-03-28_2018-03-28.pkl'),\n",
       " PosixPath('../data/features/geowiki_landcover_2017/all/14364_2017-03-28_2018-03-28.pkl'),\n",
       " PosixPath('../data/features/geowiki_landcover_2017/all/10882_2017-03-28_2018-03-28.pkl'),\n",
       " PosixPath('../data/features/geowiki_landcover_2017/all/8041_2017-03-28_2018-03-28.pkl'),\n",
       " PosixPath('../data/features/geowiki_landcover_2017/all/14578_2017-03-28_2018-03-28.pkl'),\n",
       " PosixPath('../data/features/geowiki_landcover_2017/all/9182_2017-03-28_2018-03-28.pkl'),\n",
       " PosixPath('../data/features/geowiki_landcover_2017/all/12306_2017-03-28_2018-03-28.pkl'),\n",
       " PosixPath('../data/features/geowiki_landcover_2017/all/8325_2017-03-28_2018-03-28.pkl'),\n",
       " PosixPath('../data/features/geowiki_landcover_2017/all/13330_2017-03-28_2018-03-28.pkl'),\n",
       " PosixPath('../data/features/geowiki_landcover_2017/all/7726_2017-03-28_2018-03-28.pkl'),\n",
       " PosixPath('../data/features/geowiki_landcover_2017/all/6933_2017-03-28_2018-03-28.pkl'),\n",
       " PosixPath('../data/features/geowiki_landcover_2017/all/10909_2017-03-28_2018-03-28.pkl'),\n",
       " PosixPath('../data/features/geowiki_landcover_2017/all/10723_2017-03-28_2018-03-28.pkl'),\n",
       " PosixPath('../data/features/geowiki_landcover_2017/all/14805_2017-03-28_2018-03-28.pkl'),\n",
       " PosixPath('../data/features/geowiki_landcover_2017/all/11861_2017-03-28_2018-03-28.pkl'),\n",
       " PosixPath('../data/features/geowiki_landcover_2017/all/12559_2017-03-28_2018-03-28.pkl'),\n",
       " PosixPath('../data/features/geowiki_landcover_2017/all/11868_2017-03-28_2018-03-28.pkl'),\n",
       " PosixPath('../data/features/geowiki_landcover_2017/all/8499_2017-03-28_2018-03-28.pkl'),\n",
       " PosixPath('../data/features/geowiki_landcover_2017/all/14417_2017-03-28_2018-03-28.pkl'),\n",
       " PosixPath('../data/features/geowiki_landcover_2017/all/11673_2017-03-28_2018-03-28.pkl'),\n",
       " PosixPath('../data/features/geowiki_landcover_2017/all/8719_2017-03-28_2018-03-28.pkl'),\n",
       " PosixPath('../data/features/geowiki_landcover_2017/all/14799_2017-03-28_2018-03-28.pkl'),\n",
       " PosixPath('../data/features/geowiki_landcover_2017/all/11783_2017-03-28_2018-03-28.pkl'),\n",
       " PosixPath('../data/features/geowiki_landcover_2017/all/14227_2017-03-28_2018-03-28.pkl'),\n",
       " PosixPath('../data/features/geowiki_landcover_2017/all/13595_2017-03-28_2018-03-28.pkl'),\n",
       " PosixPath('../data/features/geowiki_landcover_2017/all/11333_2017-03-28_2018-03-28.pkl'),\n",
       " PosixPath('../data/features/geowiki_landcover_2017/all/12099_2017-03-28_2018-03-28.pkl'),\n",
       " PosixPath('../data/features/geowiki_landcover_2017/all/14028_2017-03-28_2018-03-28.pkl'),\n",
       " PosixPath('../data/features/geowiki_landcover_2017/all/14693_2017-03-28_2018-03-28.pkl'),\n",
       " PosixPath('../data/features/geowiki_landcover_2017/all/12123_2017-03-28_2018-03-28.pkl'),\n",
       " PosixPath('../data/features/geowiki_landcover_2017/all/14286_2017-03-28_2018-03-28.pkl'),\n",
       " PosixPath('../data/features/geowiki_landcover_2017/all/9183_2017-03-28_2018-03-28.pkl'),\n",
       " PosixPath('../data/features/geowiki_landcover_2017/all/14304_2017-03-28_2018-03-28.pkl'),\n",
       " PosixPath('../data/features/geowiki_landcover_2017/all/14532_2017-03-28_2018-03-28.pkl'),\n",
       " PosixPath('../data/features/geowiki_landcover_2017/all/11067_2017-03-28_2018-03-28.pkl'),\n",
       " PosixPath('../data/features/geowiki_landcover_2017/all/12255_2017-03-28_2018-03-28.pkl'),\n",
       " PosixPath('../data/features/geowiki_landcover_2017/all/11005_2017-03-28_2018-03-28.pkl'),\n",
       " PosixPath('../data/features/geowiki_landcover_2017/all/10821_2017-03-28_2018-03-28.pkl'),\n",
       " PosixPath('../data/features/geowiki_landcover_2017/all/12649_2017-03-28_2018-03-28.pkl'),\n",
       " PosixPath('../data/features/geowiki_landcover_2017/all/12215_2017-03-28_2018-03-28.pkl'),\n",
       " PosixPath('../data/features/geowiki_landcover_2017/all/10784_2017-03-28_2018-03-28.pkl'),\n",
       " PosixPath('../data/features/geowiki_landcover_2017/all/10752_2017-03-28_2018-03-28.pkl'),\n",
       " PosixPath('../data/features/geowiki_landcover_2017/all/8044_2017-03-28_2018-03-28.pkl'),\n",
       " PosixPath('../data/features/geowiki_landcover_2017/all/7886_2017-03-28_2018-03-28.pkl'),\n",
       " PosixPath('../data/features/geowiki_landcover_2017/all/13803_2017-03-28_2018-03-28.pkl'),\n",
       " PosixPath('../data/features/geowiki_landcover_2017/all/13014_2017-03-28_2018-03-28.pkl'),\n",
       " PosixPath('../data/features/geowiki_landcover_2017/all/12128_2017-03-28_2018-03-28.pkl'),\n",
       " PosixPath('../data/features/geowiki_landcover_2017/all/12627_2017-03-28_2018-03-28.pkl'),\n",
       " PosixPath('../data/features/geowiki_landcover_2017/all/6724_2017-03-28_2018-03-28.pkl'),\n",
       " PosixPath('../data/features/geowiki_landcover_2017/all/12001_2017-03-28_2018-03-28.pkl'),\n",
       " PosixPath('../data/features/geowiki_landcover_2017/all/9781_2017-03-28_2018-03-28.pkl'),\n",
       " PosixPath('../data/features/geowiki_landcover_2017/all/7665_2017-03-28_2018-03-28.pkl'),\n",
       " PosixPath('../data/features/geowiki_landcover_2017/all/13963_2017-03-28_2018-03-28.pkl'),\n",
       " PosixPath('../data/features/geowiki_landcover_2017/all/14292_2017-03-28_2018-03-28.pkl'),\n",
       " PosixPath('../data/features/geowiki_landcover_2017/all/13821_2017-03-28_2018-03-28.pkl'),\n",
       " PosixPath('../data/features/geowiki_landcover_2017/all/8374_2017-03-28_2018-03-28.pkl'),\n",
       " PosixPath('../data/features/geowiki_landcover_2017/all/9230_2017-03-28_2018-03-28.pkl'),\n",
       " PosixPath('../data/features/geowiki_landcover_2017/all/10957_2017-03-28_2018-03-28.pkl'),\n",
       " PosixPath('../data/features/geowiki_landcover_2017/all/13768_2017-03-28_2018-03-28.pkl'),\n",
       " PosixPath('../data/features/geowiki_landcover_2017/all/12119_2017-03-28_2018-03-28.pkl'),\n",
       " PosixPath('../data/features/geowiki_landcover_2017/all/9778_2017-03-28_2018-03-28.pkl'),\n",
       " PosixPath('../data/features/geowiki_landcover_2017/all/7556_2017-03-28_2018-03-28.pkl'),\n",
       " PosixPath('../data/features/geowiki_landcover_2017/all/6598_2017-03-28_2018-03-28.pkl'),\n",
       " PosixPath('../data/features/geowiki_landcover_2017/all/11652_2017-03-28_2018-03-28.pkl'),\n",
       " PosixPath('../data/features/geowiki_landcover_2017/all/13475_2017-03-28_2018-03-28.pkl'),\n",
       " PosixPath('../data/features/geowiki_landcover_2017/all/6939_2017-03-28_2018-03-28.pkl'),\n",
       " PosixPath('../data/features/geowiki_landcover_2017/all/11685_2017-03-28_2018-03-28.pkl'),\n",
       " PosixPath('../data/features/geowiki_landcover_2017/all/12254_2017-03-28_2018-03-28.pkl'),\n",
       " PosixPath('../data/features/geowiki_landcover_2017/all/11984_2017-03-28_2018-03-28.pkl'),\n",
       " PosixPath('../data/features/geowiki_landcover_2017/all/13037_2017-03-28_2018-03-28.pkl'),\n",
       " PosixPath('../data/features/geowiki_landcover_2017/all/10389_2017-03-28_2018-03-28.pkl'),\n",
       " PosixPath('../data/features/geowiki_landcover_2017/all/10842_2017-03-28_2018-03-28.pkl'),\n",
       " PosixPath('../data/features/geowiki_landcover_2017/all/10691_2017-03-28_2018-03-28.pkl'),\n",
       " PosixPath('../data/features/geowiki_landcover_2017/all/8053_2017-03-28_2018-03-28.pkl'),\n",
       " PosixPath('../data/features/geowiki_landcover_2017/all/13607_2017-03-28_2018-03-28.pkl'),\n",
       " PosixPath('../data/features/geowiki_landcover_2017/all/11482_2017-03-28_2018-03-28.pkl'),\n",
       " PosixPath('../data/features/geowiki_landcover_2017/all/14734_2017-03-28_2018-03-28.pkl'),\n",
       " PosixPath('../data/features/geowiki_landcover_2017/all/12189_2017-03-28_2018-03-28.pkl'),\n",
       " PosixPath('../data/features/geowiki_landcover_2017/all/13311_2017-03-28_2018-03-28.pkl'),\n",
       " PosixPath('../data/features/geowiki_landcover_2017/all/8542_2017-03-28_2018-03-28.pkl'),\n",
       " PosixPath('../data/features/geowiki_landcover_2017/all/12191_2017-03-28_2018-03-28.pkl'),\n",
       " PosixPath('../data/features/geowiki_landcover_2017/all/12239_2017-03-28_2018-03-28.pkl'),\n",
       " PosixPath('../data/features/geowiki_landcover_2017/all/12916_2017-03-28_2018-03-28.pkl'),\n",
       " PosixPath('../data/features/geowiki_landcover_2017/all/13473_2017-03-28_2018-03-28.pkl'),\n",
       " PosixPath('../data/features/geowiki_landcover_2017/all/13187_2017-03-28_2018-03-28.pkl'),\n",
       " PosixPath('../data/features/geowiki_landcover_2017/all/14166_2017-03-28_2018-03-28.pkl'),\n",
       " PosixPath('../data/features/geowiki_landcover_2017/all/11038_2017-03-28_2018-03-28.pkl'),\n",
       " PosixPath('../data/features/geowiki_landcover_2017/all/12316_2017-03-28_2018-03-28.pkl'),\n",
       " PosixPath('../data/features/geowiki_landcover_2017/all/6465_2017-03-28_2018-03-28.pkl'),\n",
       " PosixPath('../data/features/geowiki_landcover_2017/all/7664_2017-03-28_2018-03-28.pkl'),\n",
       " PosixPath('../data/features/geowiki_landcover_2017/all/11142_2017-03-28_2018-03-28.pkl'),\n",
       " PosixPath('../data/features/geowiki_landcover_2017/all/13854_2017-03-28_2018-03-28.pkl'),\n",
       " PosixPath('../data/features/geowiki_landcover_2017/all/7255_2017-03-28_2018-03-28.pkl'),\n",
       " PosixPath('../data/features/geowiki_landcover_2017/all/13850_2017-03-28_2018-03-28.pkl'),\n",
       " PosixPath('../data/features/geowiki_landcover_2017/all/13829_2017-03-28_2018-03-28.pkl'),\n",
       " PosixPath('../data/features/geowiki_landcover_2017/all/7085_2017-03-28_2018-03-28.pkl'),\n",
       " PosixPath('../data/features/geowiki_landcover_2017/all/11301_2017-03-28_2018-03-28.pkl'),\n",
       " PosixPath('../data/features/geowiki_landcover_2017/all/14365_2017-03-28_2018-03-28.pkl'),\n",
       " PosixPath('../data/features/geowiki_landcover_2017/all/13307_2017-03-28_2018-03-28.pkl'),\n",
       " PosixPath('../data/features/geowiki_landcover_2017/all/11854_2017-03-28_2018-03-28.pkl'),\n",
       " PosixPath('../data/features/geowiki_landcover_2017/all/12568_2017-03-28_2018-03-28.pkl'),\n",
       " PosixPath('../data/features/geowiki_landcover_2017/all/11680_2017-03-28_2018-03-28.pkl'),\n",
       " PosixPath('../data/features/geowiki_landcover_2017/all/11002_2017-03-28_2018-03-28.pkl'),\n",
       " PosixPath('../data/features/geowiki_landcover_2017/all/11250_2017-03-28_2018-03-28.pkl'),\n",
       " PosixPath('../data/features/geowiki_landcover_2017/all/14330_2017-03-28_2018-03-28.pkl'),\n",
       " PosixPath('../data/features/geowiki_landcover_2017/all/10315_2017-03-28_2018-03-28.pkl'),\n",
       " PosixPath('../data/features/geowiki_landcover_2017/all/9934_2017-03-28_2018-03-28.pkl'),\n",
       " PosixPath('../data/features/geowiki_landcover_2017/all/7610_2017-03-28_2018-03-28.pkl'),\n",
       " PosixPath('../data/features/geowiki_landcover_2017/all/10912_2017-03-28_2018-03-28.pkl'),\n",
       " PosixPath('../data/features/geowiki_landcover_2017/all/7562_2017-03-28_2018-03-28.pkl'),\n",
       " PosixPath('../data/features/geowiki_landcover_2017/all/14107_2017-03-28_2018-03-28.pkl'),\n",
       " PosixPath('../data/features/geowiki_landcover_2017/all/12187_2017-03-28_2018-03-28.pkl'),\n",
       " PosixPath('../data/features/geowiki_landcover_2017/all/12082_2017-03-28_2018-03-28.pkl'),\n",
       " PosixPath('../data/features/geowiki_landcover_2017/all/11670_2017-03-28_2018-03-28.pkl'),\n",
       " PosixPath('../data/features/geowiki_landcover_2017/all/13975_2017-03-28_2018-03-28.pkl'),\n",
       " PosixPath('../data/features/geowiki_landcover_2017/all/11177_2017-03-28_2018-03-28.pkl'),\n",
       " PosixPath('../data/features/geowiki_landcover_2017/all/13251_2017-03-28_2018-03-28.pkl'),\n",
       " PosixPath('../data/features/geowiki_landcover_2017/all/10880_2017-03-28_2018-03-28.pkl'),\n",
       " PosixPath('../data/features/geowiki_landcover_2017/all/13806_2017-03-28_2018-03-28.pkl'),\n",
       " PosixPath('../data/features/geowiki_landcover_2017/all/11993_2017-03-28_2018-03-28.pkl'),\n",
       " PosixPath('../data/features/geowiki_landcover_2017/all/11898_2017-03-28_2018-03-28.pkl'),\n",
       " PosixPath('../data/features/geowiki_landcover_2017/all/8217_2017-03-28_2018-03-28.pkl'),\n",
       " PosixPath('../data/features/geowiki_landcover_2017/all/11363_2017-03-28_2018-03-28.pkl'),\n",
       " PosixPath('../data/features/geowiki_landcover_2017/all/13054_2017-03-28_2018-03-28.pkl'),\n",
       " PosixPath('../data/features/geowiki_landcover_2017/all/13194_2017-03-28_2018-03-28.pkl'),\n",
       " PosixPath('../data/features/geowiki_landcover_2017/all/7923_2017-03-28_2018-03-28.pkl'),\n",
       " PosixPath('../data/features/geowiki_landcover_2017/all/13596_2017-03-28_2018-03-28.pkl'),\n",
       " PosixPath('../data/features/geowiki_landcover_2017/all/12077_2017-03-28_2018-03-28.pkl'),\n",
       " PosixPath('../data/features/geowiki_landcover_2017/all/12690_2017-03-28_2018-03-28.pkl'),\n",
       " PosixPath('../data/features/geowiki_landcover_2017/all/10969_2017-03-28_2018-03-28.pkl'),\n",
       " PosixPath('../data/features/geowiki_landcover_2017/all/12339_2017-03-28_2018-03-28.pkl'),\n",
       " PosixPath('../data/features/geowiki_landcover_2017/all/12882_2017-03-28_2018-03-28.pkl'),\n",
       " PosixPath('../data/features/geowiki_landcover_2017/all/10195_2017-03-28_2018-03-28.pkl'),\n",
       " PosixPath('../data/features/geowiki_landcover_2017/all/11641_2017-03-28_2018-03-28.pkl'),\n",
       " PosixPath('../data/features/geowiki_landcover_2017/all/12319_2017-03-28_2018-03-28.pkl'),\n",
       " PosixPath('../data/features/geowiki_landcover_2017/all/12084_2017-03-28_2018-03-28.pkl'),\n",
       " PosixPath('../data/features/geowiki_landcover_2017/all/13959_2017-03-28_2018-03-28.pkl'),\n",
       " PosixPath('../data/features/geowiki_landcover_2017/all/9727_2017-03-28_2018-03-28.pkl'),\n",
       " PosixPath('../data/features/geowiki_landcover_2017/all/12579_2017-03-28_2018-03-28.pkl'),\n",
       " PosixPath('../data/features/geowiki_landcover_2017/all/11864_2017-03-28_2018-03-28.pkl'),\n",
       " PosixPath('../data/features/geowiki_landcover_2017/all/11354_2017-03-28_2018-03-28.pkl'),\n",
       " PosixPath('../data/features/geowiki_landcover_2017/all/12400_2017-03-28_2018-03-28.pkl'),\n",
       " PosixPath('../data/features/geowiki_landcover_2017/all/9989_2017-03-28_2018-03-28.pkl'),\n",
       " PosixPath('../data/features/geowiki_landcover_2017/all/13429_2017-03-28_2018-03-28.pkl'),\n",
       " PosixPath('../data/features/geowiki_landcover_2017/all/13694_2017-03-28_2018-03-28.pkl'),\n",
       " PosixPath('../data/features/geowiki_landcover_2017/all/14812_2017-03-28_2018-03-28.pkl'),\n",
       " PosixPath('../data/features/geowiki_landcover_2017/all/14646_2017-03-28_2018-03-28.pkl'),\n",
       " PosixPath('../data/features/geowiki_landcover_2017/all/12927_2017-03-28_2018-03-28.pkl'),\n",
       " PosixPath('../data/features/geowiki_landcover_2017/all/12257_2017-03-28_2018-03-28.pkl'),\n",
       " PosixPath('../data/features/geowiki_landcover_2017/all/12253_2017-03-28_2018-03-28.pkl'),\n",
       " PosixPath('../data/features/geowiki_landcover_2017/all/14810_2017-03-28_2018-03-28.pkl'),\n",
       " PosixPath('../data/features/geowiki_landcover_2017/all/11029_2017-03-28_2018-03-28.pkl'),\n",
       " PosixPath('../data/features/geowiki_landcover_2017/all/13324_2017-03-28_2018-03-28.pkl'),\n",
       " PosixPath('../data/features/geowiki_landcover_2017/all/12452_2017-03-28_2018-03-28.pkl'),\n",
       " PosixPath('../data/features/geowiki_landcover_2017/all/14244_2017-03-28_2018-03-28.pkl'),\n",
       " PosixPath('../data/features/geowiki_landcover_2017/all/11786_2017-03-28_2018-03-28.pkl'),\n",
       " PosixPath('../data/features/geowiki_landcover_2017/all/10388_2017-03-28_2018-03-28.pkl'),\n",
       " PosixPath('../data/features/geowiki_landcover_2017/all/10680_2017-03-28_2018-03-28.pkl'),\n",
       " PosixPath('../data/features/geowiki_landcover_2017/all/12721_2017-03-28_2018-03-28.pkl'),\n",
       " PosixPath('../data/features/geowiki_landcover_2017/all/13312_2017-03-28_2018-03-28.pkl'),\n",
       " PosixPath('../data/features/geowiki_landcover_2017/all/12804_2017-03-28_2018-03-28.pkl'),\n",
       " PosixPath('../data/features/geowiki_landcover_2017/all/12689_2017-03-28_2018-03-28.pkl'),\n",
       " PosixPath('../data/features/geowiki_landcover_2017/all/8140_2017-03-28_2018-03-28.pkl'),\n",
       " PosixPath('../data/features/geowiki_landcover_2017/all/8204_2017-03-28_2018-03-28.pkl'),\n",
       " PosixPath('../data/features/geowiki_landcover_2017/all/11627_2017-03-28_2018-03-28.pkl'),\n",
       " PosixPath('../data/features/geowiki_landcover_2017/all/11631_2017-03-28_2018-03-28.pkl'),\n",
       " PosixPath('../data/features/geowiki_landcover_2017/all/12981_2017-03-28_2018-03-28.pkl'),\n",
       " PosixPath('../data/features/geowiki_landcover_2017/all/13387_2017-03-28_2018-03-28.pkl'),\n",
       " PosixPath('../data/features/geowiki_landcover_2017/all/13428_2017-03-28_2018-03-28.pkl'),\n",
       " PosixPath('../data/features/geowiki_landcover_2017/all/10053_2017-03-28_2018-03-28.pkl'),\n",
       " PosixPath('../data/features/geowiki_landcover_2017/all/12811_2017-03-28_2018-03-28.pkl'),\n",
       " PosixPath('../data/features/geowiki_landcover_2017/all/12456_2017-03-28_2018-03-28.pkl'),\n",
       " PosixPath('../data/features/geowiki_landcover_2017/all/13201_2017-03-28_2018-03-28.pkl'),\n",
       " PosixPath('../data/features/geowiki_landcover_2017/all/14037_2017-03-28_2018-03-28.pkl'),\n",
       " PosixPath('../data/features/geowiki_landcover_2017/all/7431_2017-03-28_2018-03-28.pkl'),\n",
       " PosixPath('../data/features/geowiki_landcover_2017/all/11788_2017-03-28_2018-03-28.pkl'),\n",
       " PosixPath('../data/features/geowiki_landcover_2017/all/11197_2017-03-28_2018-03-28.pkl'),\n",
       " PosixPath('../data/features/geowiki_landcover_2017/all/8538_2017-03-28_2018-03-28.pkl'),\n",
       " PosixPath('../data/features/geowiki_landcover_2017/all/13845_2017-03-28_2018-03-28.pkl'),\n",
       " PosixPath('../data/features/geowiki_landcover_2017/all/13153_2017-03-28_2018-03-28.pkl'),\n",
       " PosixPath('../data/features/geowiki_landcover_2017/all/14695_2017-03-28_2018-03-28.pkl'),\n",
       " PosixPath('../data/features/geowiki_landcover_2017/all/9664_2017-03-28_2018-03-28.pkl'),\n",
       " PosixPath('../data/features/geowiki_landcover_2017/all/13336_2017-03-28_2018-03-28.pkl'),\n",
       " PosixPath('../data/features/geowiki_landcover_2017/all/11233_2017-03-28_2018-03-28.pkl'),\n",
       " PosixPath('../data/features/geowiki_landcover_2017/all/15537_2017-03-28_2018-03-28.pkl'),\n",
       " PosixPath('../data/features/geowiki_landcover_2017/all/12340_2017-03-28_2018-03-28.pkl'),\n",
       " PosixPath('../data/features/geowiki_landcover_2017/all/8934_2017-03-28_2018-03-28.pkl'),\n",
       " PosixPath('../data/features/geowiki_landcover_2017/all/13269_2017-03-28_2018-03-28.pkl'),\n",
       " PosixPath('../data/features/geowiki_landcover_2017/all/11549_2017-03-28_2018-03-28.pkl'),\n",
       " PosixPath('../data/features/geowiki_landcover_2017/all/6372_2017-03-28_2018-03-28.pkl'),\n",
       " PosixPath('../data/features/geowiki_landcover_2017/all/11276_2017-03-28_2018-03-28.pkl'),\n",
       " PosixPath('../data/features/geowiki_landcover_2017/all/9535_2017-03-28_2018-03-28.pkl'),\n",
       " PosixPath('../data/features/geowiki_landcover_2017/all/14359_2017-03-28_2018-03-28.pkl'),\n",
       " PosixPath('../data/features/geowiki_landcover_2017/all/14319_2017-03-28_2018-03-28.pkl'),\n",
       " PosixPath('../data/features/geowiki_landcover_2017/all/8141_2017-03-28_2018-03-28.pkl'),\n",
       " PosixPath('../data/features/geowiki_landcover_2017/all/10812_2017-03-28_2018-03-28.pkl'),\n",
       " PosixPath('../data/features/geowiki_landcover_2017/all/10318_2017-03-28_2018-03-28.pkl'),\n",
       " PosixPath('../data/features/geowiki_landcover_2017/all/12697_2017-03-28_2018-03-28.pkl'),\n",
       " PosixPath('../data/features/geowiki_landcover_2017/all/14755_2017-03-28_2018-03-28.pkl'),\n",
       " PosixPath('../data/features/geowiki_landcover_2017/all/13704_2017-03-28_2018-03-28.pkl'),\n",
       " PosixPath('../data/features/geowiki_landcover_2017/all/12014_2017-03-28_2018-03-28.pkl'),\n",
       " PosixPath('../data/features/geowiki_landcover_2017/all/13103_2017-03-28_2018-03-28.pkl'),\n",
       " PosixPath('../data/features/geowiki_landcover_2017/all/11247_2017-03-28_2018-03-28.pkl'),\n",
       " PosixPath('../data/features/geowiki_landcover_2017/all/13229_2017-03-28_2018-03-28.pkl'),\n",
       " PosixPath('../data/features/geowiki_landcover_2017/all/14294_2017-03-28_2018-03-28.pkl'),\n",
       " PosixPath('../data/features/geowiki_landcover_2017/all/13454_2017-03-28_2018-03-28.pkl'),\n",
       " PosixPath('../data/features/geowiki_landcover_2017/all/13456_2017-03-28_2018-03-28.pkl'),\n",
       " PosixPath('../data/features/geowiki_landcover_2017/all/12461_2017-03-28_2018-03-28.pkl'),\n",
       " PosixPath('../data/features/geowiki_landcover_2017/all/6673_2017-03-28_2018-03-28.pkl'),\n",
       " PosixPath('../data/features/geowiki_landcover_2017/all/10596_2017-03-28_2018-03-28.pkl'),\n",
       " PosixPath('../data/features/geowiki_landcover_2017/all/8540_2017-03-28_2018-03-28.pkl'),\n",
       " PosixPath('../data/features/geowiki_landcover_2017/all/14326_2017-03-28_2018-03-28.pkl'),\n",
       " PosixPath('../data/features/geowiki_landcover_2017/all/8804_2017-03-28_2018-03-28.pkl'),\n",
       " PosixPath('../data/features/geowiki_landcover_2017/all/13101_2017-03-28_2018-03-28.pkl'),\n",
       " PosixPath('../data/features/geowiki_landcover_2017/all/12861_2017-03-28_2018-03-28.pkl'),\n",
       " PosixPath('../data/features/geowiki_landcover_2017/all/6870_2017-03-28_2018-03-28.pkl'),\n",
       " PosixPath('../data/features/geowiki_landcover_2017/all/10054_2017-03-28_2018-03-28.pkl'),\n",
       " PosixPath('../data/features/geowiki_landcover_2017/all/8216_2017-03-28_2018-03-28.pkl'),\n",
       " PosixPath('../data/features/geowiki_landcover_2017/all/11733_2017-03-28_2018-03-28.pkl'),\n",
       " PosixPath('../data/features/geowiki_landcover_2017/all/12806_2017-03-28_2018-03-28.pkl'),\n",
       " PosixPath('../data/features/geowiki_landcover_2017/all/7663_2017-03-28_2018-03-28.pkl'),\n",
       " PosixPath('../data/features/geowiki_landcover_2017/all/13288_2017-03-28_2018-03-28.pkl'),\n",
       " PosixPath('../data/features/geowiki_landcover_2017/all/10611_2017-03-28_2018-03-28.pkl'),\n",
       " PosixPath('../data/features/geowiki_landcover_2017/all/12127_2017-03-28_2018-03-28.pkl'),\n",
       " PosixPath('../data/features/geowiki_landcover_2017/all/8874_2017-03-28_2018-03-28.pkl'),\n",
       " PosixPath('../data/features/geowiki_landcover_2017/all/8289_2017-03-28_2018-03-28.pkl'),\n",
       " PosixPath('../data/features/geowiki_landcover_2017/all/10231_2017-03-28_2018-03-28.pkl'),\n",
       " PosixPath('../data/features/geowiki_landcover_2017/all/6725_2017-03-28_2018-03-28.pkl'),\n",
       " PosixPath('../data/features/geowiki_landcover_2017/all/15288_2017-03-28_2018-03-28.pkl'),\n",
       " PosixPath('../data/features/geowiki_landcover_2017/all/12786_2017-03-28_2018-03-28.pkl'),\n",
       " PosixPath('../data/features/geowiki_landcover_2017/all/11283_2017-03-28_2018-03-28.pkl'),\n",
       " PosixPath('../data/features/geowiki_landcover_2017/all/9834_2017-03-28_2018-03-28.pkl'),\n",
       " PosixPath('../data/features/geowiki_landcover_2017/all/13827_2017-03-28_2018-03-28.pkl'),\n",
       " PosixPath('../data/features/geowiki_landcover_2017/all/9405_2017-03-28_2018-03-28.pkl'),\n",
       " PosixPath('../data/features/geowiki_landcover_2017/all/14393_2017-03-28_2018-03-28.pkl'),\n",
       " PosixPath('../data/features/geowiki_landcover_2017/all/13264_2017-03-28_2018-03-28.pkl'),\n",
       " PosixPath('../data/features/geowiki_landcover_2017/all/13587_2017-03-28_2018-03-28.pkl'),\n",
       " PosixPath('../data/features/geowiki_landcover_2017/all/11035_2017-03-28_2018-03-28.pkl'),\n",
       " PosixPath('../data/features/geowiki_landcover_2017/all/10038_2017-03-28_2018-03-28.pkl'),\n",
       " PosixPath('../data/features/geowiki_landcover_2017/all/12997_2017-03-28_2018-03-28.pkl'),\n",
       " PosixPath('../data/features/geowiki_landcover_2017/all/7507_2017-03-28_2018-03-28.pkl'),\n",
       " PosixPath('../data/features/geowiki_landcover_2017/all/11070_2017-03-28_2018-03-28.pkl'),\n",
       " PosixPath('../data/features/geowiki_landcover_2017/all/8210_2017-03-28_2018-03-28.pkl'),\n",
       " PosixPath('../data/features/geowiki_landcover_2017/all/14418_2017-03-28_2018-03-28.pkl'),\n",
       " PosixPath('../data/features/geowiki_landcover_2017/all/12398_2017-03-28_2018-03-28.pkl'),\n",
       " PosixPath('../data/features/geowiki_landcover_2017/all/7171_2017-03-28_2018-03-28.pkl'),\n",
       " PosixPath('../data/features/geowiki_landcover_2017/all/8215_2017-03-28_2018-03-28.pkl'),\n",
       " PosixPath('../data/features/geowiki_landcover_2017/all/7729_2017-03-28_2018-03-28.pkl'),\n",
       " PosixPath('../data/features/geowiki_landcover_2017/all/11994_2017-03-28_2018-03-28.pkl'),\n",
       " PosixPath('../data/features/geowiki_landcover_2017/all/12122_2017-03-28_2018-03-28.pkl'),\n",
       " PosixPath('../data/features/geowiki_landcover_2017/all/13792_2017-03-28_2018-03-28.pkl'),\n",
       " PosixPath('../data/features/geowiki_landcover_2017/all/8544_2017-03-28_2018-03-28.pkl'),\n",
       " PosixPath('../data/features/geowiki_landcover_2017/all/11569_2017-03-28_2018-03-28.pkl'),\n",
       " PosixPath('../data/features/geowiki_landcover_2017/all/8801_2017-03-28_2018-03-28.pkl'),\n",
       " PosixPath('../data/features/geowiki_landcover_2017/all/12207_2017-03-28_2018-03-28.pkl'),\n",
       " PosixPath('../data/features/geowiki_landcover_2017/all/10539_2017-03-28_2018-03-28.pkl'),\n",
       " PosixPath('../data/features/geowiki_landcover_2017/all/7668_2017-03-28_2018-03-28.pkl'),\n",
       " PosixPath('../data/features/geowiki_landcover_2017/all/13318_2017-03-28_2018-03-28.pkl'),\n",
       " PosixPath('../data/features/geowiki_landcover_2017/all/11937_2017-03-28_2018-03-28.pkl'),\n",
       " PosixPath('../data/features/geowiki_landcover_2017/all/11763_2017-03-28_2018-03-28.pkl'),\n",
       " PosixPath('../data/features/geowiki_landcover_2017/all/9005_2017-03-28_2018-03-28.pkl'),\n",
       " PosixPath('../data/features/geowiki_landcover_2017/all/11802_2017-03-28_2018-03-28.pkl'),\n",
       " PosixPath('../data/features/geowiki_landcover_2017/all/13143_2017-03-28_2018-03-28.pkl'),\n",
       " PosixPath('../data/features/geowiki_landcover_2017/all/13992_2017-03-28_2018-03-28.pkl'),\n",
       " PosixPath('../data/features/geowiki_landcover_2017/all/8368_2017-03-28_2018-03-28.pkl'),\n",
       " PosixPath('../data/features/geowiki_landcover_2017/all/8056_2017-03-28_2018-03-28.pkl'),\n",
       " PosixPath('../data/features/geowiki_landcover_2017/all/6264_2017-03-28_2018-03-28.pkl'),\n",
       " PosixPath('../data/features/geowiki_landcover_2017/all/12825_2017-03-28_2018-03-28.pkl'),\n",
       " PosixPath('../data/features/geowiki_landcover_2017/all/6398_2017-03-28_2018-03-28.pkl'),\n",
       " PosixPath('../data/features/geowiki_landcover_2017/all/13611_2017-03-28_2018-03-28.pkl'),\n",
       " PosixPath('../data/features/geowiki_landcover_2017/all/13948_2017-03-28_2018-03-28.pkl'),\n",
       " PosixPath('../data/features/geowiki_landcover_2017/all/12886_2017-03-28_2018-03-28.pkl'),\n",
       " PosixPath('../data/features/geowiki_landcover_2017/all/12342_2017-03-28_2018-03-28.pkl'),\n",
       " PosixPath('../data/features/geowiki_landcover_2017/all/13495_2017-03-28_2018-03-28.pkl'),\n",
       " PosixPath('../data/features/geowiki_landcover_2017/all/10654_2017-03-28_2018-03-28.pkl'),\n",
       " PosixPath('../data/features/geowiki_landcover_2017/all/13856_2017-03-28_2018-03-28.pkl'),\n",
       " PosixPath('../data/features/geowiki_landcover_2017/all/12415_2017-03-28_2018-03-28.pkl'),\n",
       " PosixPath('../data/features/geowiki_landcover_2017/all/14535_2017-03-28_2018-03-28.pkl'),\n",
       " PosixPath('../data/features/geowiki_landcover_2017/all/12129_2017-03-28_2018-03-28.pkl'),\n",
       " PosixPath('../data/features/geowiki_landcover_2017/all/12244_2017-03-28_2018-03-28.pkl'),\n",
       " PosixPath('../data/features/geowiki_landcover_2017/all/13858_2017-03-28_2018-03-28.pkl'),\n",
       " PosixPath('../data/features/geowiki_landcover_2017/all/13172_2017-03-28_2018-03-28.pkl'),\n",
       " PosixPath('../data/features/geowiki_landcover_2017/all/6871_2017-03-28_2018-03-28.pkl'),\n",
       " PosixPath('../data/features/geowiki_landcover_2017/all/10166_2017-03-28_2018-03-28.pkl'),\n",
       " PosixPath('../data/features/geowiki_landcover_2017/all/13066_2017-03-28_2018-03-28.pkl'),\n",
       " PosixPath('../data/features/geowiki_landcover_2017/all/11504_2017-03-28_2018-03-28.pkl'),\n",
       " PosixPath('../data/features/geowiki_landcover_2017/all/11679_2017-03-28_2018-03-28.pkl'),\n",
       " PosixPath('../data/features/geowiki_landcover_2017/all/14601_2017-03-28_2018-03-28.pkl'),\n",
       " PosixPath('../data/features/geowiki_landcover_2017/all/9993_2017-03-28_2018-03-28.pkl'),\n",
       " PosixPath('../data/features/geowiki_landcover_2017/all/12465_2017-03-28_2018-03-28.pkl'),\n",
       " PosixPath('../data/features/geowiki_landcover_2017/all/14361_2017-03-28_2018-03-28.pkl'),\n",
       " PosixPath('../data/features/geowiki_landcover_2017/all/12917_2017-03-28_2018-03-28.pkl'),\n",
       " PosixPath('../data/features/geowiki_landcover_2017/all/11636_2017-03-28_2018-03-28.pkl'),\n",
       " PosixPath('../data/features/geowiki_landcover_2017/all/12086_2017-03-28_2018-03-28.pkl'),\n",
       " PosixPath('../data/features/geowiki_landcover_2017/all/7843_2017-03-28_2018-03-28.pkl'),\n",
       " PosixPath('../data/features/geowiki_landcover_2017/all/14804_2017-03-28_2018-03-28.pkl'),\n",
       " PosixPath('../data/features/geowiki_landcover_2017/all/9444_2017-03-28_2018-03-28.pkl'),\n",
       " PosixPath('../data/features/geowiki_landcover_2017/all/9874_2017-03-28_2018-03-28.pkl'),\n",
       " PosixPath('../data/features/geowiki_landcover_2017/all/14475_2017-03-28_2018-03-28.pkl'),\n",
       " PosixPath('../data/features/geowiki_landcover_2017/all/14737_2017-03-28_2018-03-28.pkl'),\n",
       " PosixPath('../data/features/geowiki_landcover_2017/all/13056_2017-03-28_2018-03-28.pkl'),\n",
       " PosixPath('../data/features/geowiki_landcover_2017/all/7841_2017-03-28_2018-03-28.pkl'),\n",
       " PosixPath('../data/features/geowiki_landcover_2017/all/16371_2017-03-28_2018-03-28.pkl'),\n",
       " PosixPath('../data/features/geowiki_landcover_2017/all/8460_2017-03-28_2018-03-28.pkl'),\n",
       " PosixPath('../data/features/geowiki_landcover_2017/all/12120_2017-03-28_2018-03-28.pkl'),\n",
       " PosixPath('../data/features/geowiki_landcover_2017/all/11178_2017-03-28_2018-03-28.pkl'),\n",
       " PosixPath('../data/features/geowiki_landcover_2017/all/12933_2017-03-28_2018-03-28.pkl'),\n",
       " PosixPath('../data/features/geowiki_landcover_2017/all/11987_2017-03-28_2018-03-28.pkl'),\n",
       " PosixPath('../data/features/geowiki_landcover_2017/all/14109_2017-03-28_2018-03-28.pkl'),\n",
       " PosixPath('../data/features/geowiki_landcover_2017/all/14644_2017-03-28_2018-03-28.pkl'),\n",
       " PosixPath('../data/features/geowiki_landcover_2017/all/13227_2017-03-28_2018-03-28.pkl'),\n",
       " PosixPath('../data/features/geowiki_landcover_2017/all/10599_2017-03-28_2018-03-28.pkl'),\n",
       " PosixPath('../data/features/geowiki_landcover_2017/all/10837_2017-03-28_2018-03-28.pkl'),\n",
       " PosixPath('../data/features/geowiki_landcover_2017/all/12462_2017-03-28_2018-03-28.pkl'),\n",
       " PosixPath('../data/features/geowiki_landcover_2017/all/13315_2017-03-28_2018-03-28.pkl'),\n",
       " PosixPath('../data/features/geowiki_landcover_2017/all/8502_2017-03-28_2018-03-28.pkl'),\n",
       " PosixPath('../data/features/geowiki_landcover_2017/all/9229_2017-03-28_2018-03-28.pkl'),\n",
       " PosixPath('../data/features/geowiki_landcover_2017/all/14920_2017-03-28_2018-03-28.pkl'),\n",
       " PosixPath('../data/features/geowiki_landcover_2017/all/6668_2017-03-28_2018-03-28.pkl'),\n",
       " PosixPath('../data/features/geowiki_landcover_2017/all/10992_2017-03-28_2018-03-28.pkl'),\n",
       " PosixPath('../data/features/geowiki_landcover_2017/all/10114_2017-03-28_2018-03-28.pkl'),\n",
       " PosixPath('../data/features/geowiki_landcover_2017/all/11553_2017-03-28_2018-03-28.pkl'),\n",
       " PosixPath('../data/features/geowiki_landcover_2017/all/14415_2017-03-28_2018-03-28.pkl'),\n",
       " PosixPath('../data/features/geowiki_landcover_2017/all/11506_2017-03-28_2018-03-28.pkl'),\n",
       " PosixPath('../data/features/geowiki_landcover_2017/all/12096_2017-03-28_2018-03-28.pkl'),\n",
       " PosixPath('../data/features/geowiki_landcover_2017/all/14982_2017-03-28_2018-03-28.pkl'),\n",
       " PosixPath('../data/features/geowiki_landcover_2017/all/13636_2017-03-28_2018-03-28.pkl'),\n",
       " PosixPath('../data/features/geowiki_landcover_2017/all/7973_2017-03-28_2018-03-28.pkl'),\n",
       " PosixPath('../data/features/geowiki_landcover_2017/all/10694_2017-03-28_2018-03-28.pkl'),\n",
       " PosixPath('../data/features/geowiki_landcover_2017/all/12214_2017-03-28_2018-03-28.pkl'),\n",
       " PosixPath('../data/features/geowiki_landcover_2017/all/8211_2017-03-28_2018-03-28.pkl'),\n",
       " PosixPath('../data/features/geowiki_landcover_2017/all/13069_2017-03-28_2018-03-28.pkl'),\n",
       " PosixPath('../data/features/geowiki_landcover_2017/all/12190_2017-03-28_2018-03-28.pkl'),\n",
       " PosixPath('../data/features/geowiki_landcover_2017/all/8369_2017-03-28_2018-03-28.pkl'),\n",
       " PosixPath('../data/features/geowiki_landcover_2017/all/14031_2017-03-28_2018-03-28.pkl'),\n",
       " PosixPath('../data/features/geowiki_landcover_2017/all/8213_2017-03-28_2018-03-28.pkl'),\n",
       " PosixPath('../data/features/geowiki_landcover_2017/all/10226_2017-03-28_2018-03-28.pkl'),\n",
       " PosixPath('../data/features/geowiki_landcover_2017/all/11995_2017-03-28_2018-03-28.pkl'),\n",
       " PosixPath('../data/features/geowiki_landcover_2017/all/12409_2017-03-28_2018-03-28.pkl'),\n",
       " PosixPath('../data/features/geowiki_landcover_2017/all/15539_2017-03-28_2018-03-28.pkl'),\n",
       " PosixPath('../data/features/geowiki_landcover_2017/all/8060_2017-03-28_2018-03-28.pkl'),\n",
       " PosixPath('../data/features/geowiki_landcover_2017/all/6183_2017-03-28_2018-03-28.pkl'),\n",
       " PosixPath('../data/features/geowiki_landcover_2017/all/8372_2017-03-28_2018-03-28.pkl'),\n",
       " PosixPath('../data/features/geowiki_landcover_2017/all/12088_2017-03-28_2018-03-28.pkl'),\n",
       " PosixPath('../data/features/geowiki_landcover_2017/all/11566_2017-03-28_2018-03-28.pkl'),\n",
       " PosixPath('../data/features/geowiki_landcover_2017/all/10320_2017-03-28_2018-03-28.pkl'),\n",
       " PosixPath('../data/features/geowiki_landcover_2017/all/12002_2017-03-28_2018-03-28.pkl'),\n",
       " PosixPath('../data/features/geowiki_landcover_2017/all/7925_2017-03-28_2018-03-28.pkl'),\n",
       " PosixPath('../data/features/geowiki_landcover_2017/all/13870_2017-03-28_2018-03-28.pkl'),\n",
       " PosixPath('../data/features/geowiki_landcover_2017/all/12830_2017-03-28_2018-03-28.pkl'),\n",
       " PosixPath('../data/features/geowiki_landcover_2017/all/7888_2017-03-28_2018-03-28.pkl'),\n",
       " PosixPath('../data/features/geowiki_landcover_2017/all/7660_2017-03-28_2018-03-28.pkl'),\n",
       " PosixPath('../data/features/geowiki_landcover_2017/all/11978_2017-03-28_2018-03-28.pkl'),\n",
       " PosixPath('../data/features/geowiki_landcover_2017/all/6798_2017-03-28_2018-03-28.pkl'),\n",
       " PosixPath('../data/features/geowiki_landcover_2017/all/13412_2017-03-28_2018-03-28.pkl'),\n",
       " PosixPath('../data/features/geowiki_landcover_2017/all/12682_2017-03-28_2018-03-28.pkl'),\n",
       " PosixPath('../data/features/geowiki_landcover_2017/all/11041_2017-03-28_2018-03-28.pkl'),\n",
       " PosixPath('../data/features/geowiki_landcover_2017/all/6669_2017-03-28_2018-03-28.pkl'),\n",
       " PosixPath('../data/features/geowiki_landcover_2017/all/13802_2017-03-28_2018-03-28.pkl'),\n",
       " PosixPath('../data/features/geowiki_landcover_2017/all/13711_2017-03-28_2018-03-28.pkl'),\n",
       " PosixPath('../data/features/geowiki_landcover_2017/all/9604_2017-03-28_2018-03-28.pkl'),\n",
       " PosixPath('../data/features/geowiki_landcover_2017/all/13488_2017-03-28_2018-03-28.pkl'),\n",
       " PosixPath('../data/features/geowiki_landcover_2017/all/12078_2017-03-28_2018-03-28.pkl'),\n",
       " PosixPath('../data/features/geowiki_landcover_2017/all/14534_2017-03-28_2018-03-28.pkl'),\n",
       " PosixPath('../data/features/geowiki_landcover_2017/all/12919_2017-03-28_2018-03-28.pkl'),\n",
       " PosixPath('../data/features/geowiki_landcover_2017/all/14502_2017-03-28_2018-03-28.pkl'),\n",
       " PosixPath('../data/features/geowiki_landcover_2017/all/7257_2017-03-28_2018-03-28.pkl'),\n",
       " PosixPath('../data/features/geowiki_landcover_2017/all/11548_2017-03-28_2018-03-28.pkl'),\n",
       " PosixPath('../data/features/geowiki_landcover_2017/all/14048_2017-03-28_2018-03-28.pkl'),\n",
       " PosixPath('../data/features/geowiki_landcover_2017/all/12309_2017-03-28_2018-03-28.pkl'),\n",
       " PosixPath('../data/features/geowiki_landcover_2017/all/12346_2017-03-28_2018-03-28.pkl'),\n",
       " PosixPath('../data/features/geowiki_landcover_2017/all/13517_2017-03-28_2018-03-28.pkl'),\n",
       " PosixPath('../data/features/geowiki_landcover_2017/all/11462_2017-03-28_2018-03-28.pkl'),\n",
       " PosixPath('../data/features/geowiki_landcover_2017/all/11244_2017-03-28_2018-03-28.pkl'),\n",
       " PosixPath('../data/features/geowiki_landcover_2017/all/11555_2017-03-28_2018-03-28.pkl'),\n",
       " PosixPath('../data/features/geowiki_landcover_2017/all/13360_2017-03-28_2018-03-28.pkl'),\n",
       " PosixPath('../data/features/geowiki_landcover_2017/all/7775_2017-03-28_2018-03-28.pkl'),\n",
       " PosixPath('../data/features/geowiki_landcover_2017/all/13759_2017-03-28_2018-03-28.pkl'),\n",
       " PosixPath('../data/features/geowiki_landcover_2017/all/14004_2017-03-28_2018-03-28.pkl'),\n",
       " PosixPath('../data/features/geowiki_landcover_2017/all/12558_2017-03-28_2018-03-28.pkl'),\n",
       " PosixPath('../data/features/geowiki_landcover_2017/all/13383_2017-03-28_2018-03-28.pkl'),\n",
       " PosixPath('../data/features/geowiki_landcover_2017/all/11200_2017-03-28_2018-03-28.pkl'),\n",
       " PosixPath('../data/features/geowiki_landcover_2017/all/10785_2017-03-28_2018-03-28.pkl'),\n",
       " PosixPath('../data/features/geowiki_landcover_2017/all/13933_2017-03-28_2018-03-28.pkl'),\n",
       " PosixPath('../data/features/geowiki_landcover_2017/all/7302_2017-03-28_2018-03-28.pkl'),\n",
       " PosixPath('../data/features/geowiki_landcover_2017/all/11188_2017-03-28_2018-03-28.pkl'),\n",
       " PosixPath('../data/features/geowiki_landcover_2017/all/8058_2017-03-28_2018-03-28.pkl'),\n",
       " PosixPath('../data/features/geowiki_landcover_2017/all/11457_2017-03-28_2018-03-28.pkl'),\n",
       " PosixPath('../data/features/geowiki_landcover_2017/all/8714_2017-03-28_2018-03-28.pkl'),\n",
       " PosixPath('../data/features/geowiki_landcover_2017/all/13820_2017-03-28_2018-03-28.pkl'),\n",
       " PosixPath('../data/features/geowiki_landcover_2017/all/7256_2017-03-28_2018-03-28.pkl'),\n",
       " PosixPath('../data/features/geowiki_landcover_2017/all/7378_2017-03-28_2018-03-28.pkl'),\n",
       " PosixPath('../data/features/geowiki_landcover_2017/all/11062_2017-03-28_2018-03-28.pkl'),\n",
       " PosixPath('../data/features/geowiki_landcover_2017/all/7720_2017-03-28_2018-03-28.pkl'),\n",
       " PosixPath('../data/features/geowiki_landcover_2017/all/14896_2017-03-28_2018-03-28.pkl'),\n",
       " PosixPath('../data/features/geowiki_landcover_2017/all/8290_2017-03-28_2018-03-28.pkl'),\n",
       " PosixPath('../data/features/geowiki_landcover_2017/all/11804_2017-03-28_2018-03-28.pkl'),\n",
       " PosixPath('../data/features/geowiki_landcover_2017/all/10773_2017-03-28_2018-03-28.pkl'),\n",
       " PosixPath('../data/features/geowiki_landcover_2017/all/8545_2017-03-28_2018-03-28.pkl'),\n",
       " PosixPath('../data/features/geowiki_landcover_2017/all/11175_2017-03-28_2018-03-28.pkl'),\n",
       " PosixPath('../data/features/geowiki_landcover_2017/all/14495_2017-03-28_2018-03-28.pkl'),\n",
       " PosixPath('../data/features/geowiki_landcover_2017/all/11880_2017-03-28_2018-03-28.pkl'),\n",
       " PosixPath('../data/features/geowiki_landcover_2017/all/8378_2017-03-28_2018-03-28.pkl'),\n",
       " PosixPath('../data/features/geowiki_landcover_2017/all/13634_2017-03-28_2018-03-28.pkl'),\n",
       " PosixPath('../data/features/geowiki_landcover_2017/all/12097_2017-03-28_2018-03-28.pkl'),\n",
       " PosixPath('../data/features/geowiki_landcover_2017/all/14040_2017-03-28_2018-03-28.pkl'),\n",
       " PosixPath('../data/features/geowiki_landcover_2017/all/14008_2017-03-28_2018-03-28.pkl'),\n",
       " PosixPath('../data/features/geowiki_landcover_2017/all/14913_2017-03-28_2018-03-28.pkl'),\n",
       " PosixPath('../data/features/geowiki_landcover_2017/all/14205_2017-03-28_2018-03-28.pkl'),\n",
       " PosixPath('../data/features/geowiki_landcover_2017/all/11624_2017-03-28_2018-03-28.pkl'),\n",
       " PosixPath('../data/features/geowiki_landcover_2017/all/7172_2017-03-28_2018-03-28.pkl'),\n",
       " PosixPath('../data/features/geowiki_landcover_2017/all/14029_2017-03-28_2018-03-28.pkl'),\n",
       " PosixPath('../data/features/geowiki_landcover_2017/all/14145_2017-03-28_2018-03-28.pkl'),\n",
       " PosixPath('../data/features/geowiki_landcover_2017/all/13800_2017-03-28_2018-03-28.pkl'),\n",
       " PosixPath('../data/features/geowiki_landcover_2017/all/13861_2017-03-28_2018-03-28.pkl'),\n",
       " PosixPath('../data/features/geowiki_landcover_2017/all/7433_2017-03-28_2018-03-28.pkl'),\n",
       " PosixPath('../data/features/geowiki_landcover_2017/all/14616_2017-03-28_2018-03-28.pkl'),\n",
       " PosixPath('../data/features/geowiki_landcover_2017/all/10775_2017-03-28_2018-03-28.pkl'),\n",
       " PosixPath('../data/features/geowiki_landcover_2017/all/13860_2017-03-28_2018-03-28.pkl'),\n",
       " PosixPath('../data/features/geowiki_landcover_2017/all/14274_2017-03-28_2018-03-28.pkl'),\n",
       " PosixPath('../data/features/geowiki_landcover_2017/all/10490_2017-03-28_2018-03-28.pkl'),\n",
       " PosixPath('../data/features/geowiki_landcover_2017/all/11111_2017-03-28_2018-03-28.pkl'),\n",
       " PosixPath('../data/features/geowiki_landcover_2017/all/10171_2017-03-28_2018-03-28.pkl'),\n",
       " PosixPath('../data/features/geowiki_landcover_2017/all/8061_2017-03-28_2018-03-28.pkl'),\n",
       " PosixPath('../data/features/geowiki_landcover_2017/all/13145_2017-03-28_2018-03-28.pkl'),\n",
       " PosixPath('../data/features/geowiki_landcover_2017/all/10257_2017-03-28_2018-03-28.pkl'),\n",
       " PosixPath('../data/features/geowiki_landcover_2017/all/14015_2017-03-28_2018-03-28.pkl'),\n",
       " PosixPath('../data/features/geowiki_landcover_2017/all/12366_2017-03-28_2018-03-28.pkl'),\n",
       " PosixPath('../data/features/geowiki_landcover_2017/all/7926_2017-03-28_2018-03-28.pkl'),\n",
       " PosixPath('../data/features/geowiki_landcover_2017/all/10719_2017-03-28_2018-03-28.pkl'),\n",
       " PosixPath('../data/features/geowiki_landcover_2017/all/13482_2017-03-28_2018-03-28.pkl'),\n",
       " PosixPath('../data/features/geowiki_landcover_2017/all/11573_2017-03-28_2018-03-28.pkl'),\n",
       " PosixPath('../data/features/geowiki_landcover_2017/all/10959_2017-03-28_2018-03-28.pkl'),\n",
       " PosixPath('../data/features/geowiki_landcover_2017/all/7934_2017-03-28_2018-03-28.pkl'),\n",
       " PosixPath('../data/features/geowiki_landcover_2017/all/14287_2017-03-28_2018-03-28.pkl'),\n",
       " PosixPath('../data/features/geowiki_landcover_2017/all/12980_2017-03-28_2018-03-28.pkl'),\n",
       " PosixPath('../data/features/geowiki_landcover_2017/all/10998_2017-03-28_2018-03-28.pkl'),\n",
       " PosixPath('../data/features/geowiki_landcover_2017/all/7612_2017-03-28_2018-03-28.pkl'),\n",
       " PosixPath('../data/features/geowiki_landcover_2017/all/10677_2017-03-28_2018-03-28.pkl'),\n",
       " PosixPath('../data/features/geowiki_landcover_2017/all/12184_2017-03-28_2018-03-28.pkl'),\n",
       " PosixPath('../data/features/geowiki_landcover_2017/all/7175_2017-03-28_2018-03-28.pkl'),\n",
       " PosixPath('../data/features/geowiki_landcover_2017/all/8201_2017-03-28_2018-03-28.pkl'),\n",
       " PosixPath('../data/features/geowiki_landcover_2017/all/12765_2017-03-28_2018-03-28.pkl'),\n",
       " PosixPath('../data/features/geowiki_landcover_2017/all/11977_2017-03-28_2018-03-28.pkl'),\n",
       " PosixPath('../data/features/geowiki_landcover_2017/all/13316_2017-03-28_2018-03-28.pkl'),\n",
       " PosixPath('../data/features/geowiki_landcover_2017/all/7370_2017-03-28_2018-03-28.pkl'),\n",
       " PosixPath('../data/features/geowiki_landcover_2017/all/11183_2017-03-28_2018-03-28.pkl'),\n",
       " PosixPath('../data/features/geowiki_landcover_2017/all/12809_2017-03-28_2018-03-28.pkl'),\n",
       " PosixPath('../data/features/geowiki_landcover_2017/all/14809_2017-03-28_2018-03-28.pkl'),\n",
       " PosixPath('../data/features/geowiki_landcover_2017/all/13426_2017-03-28_2018-03-28.pkl'),\n",
       " PosixPath('../data/features/geowiki_landcover_2017/all/7174_2017-03-28_2018-03-28.pkl'),\n",
       " PosixPath('../data/features/geowiki_landcover_2017/all/12928_2017-03-28_2018-03-28.pkl'),\n",
       " PosixPath('../data/features/geowiki_landcover_2017/all/7303_2017-03-28_2018-03-28.pkl'),\n",
       " PosixPath('../data/features/geowiki_landcover_2017/all/12925_2017-03-28_2018-03-28.pkl'),\n",
       " PosixPath('../data/features/geowiki_landcover_2017/all/11124_2017-03-28_2018-03-28.pkl'),\n",
       " PosixPath('../data/features/geowiki_landcover_2017/all/11633_2017-03-28_2018-03-28.pkl'),\n",
       " PosixPath('../data/features/geowiki_landcover_2017/all/13152_2017-03-28_2018-03-28.pkl'),\n",
       " PosixPath('../data/features/geowiki_landcover_2017/all/14921_2017-03-28_2018-03-28.pkl'),\n",
       " PosixPath('../data/features/geowiki_landcover_2017/all/13773_2017-03-28_2018-03-28.pkl'),\n",
       " PosixPath('../data/features/geowiki_landcover_2017/all/11682_2017-03-28_2018-03-28.pkl'),\n",
       " PosixPath('../data/features/geowiki_landcover_2017/all/12571_2017-03-28_2018-03-28.pkl'),\n",
       " PosixPath('../data/features/geowiki_landcover_2017/all/10552_2017-03-28_2018-03-28.pkl'),\n",
       " PosixPath('../data/features/geowiki_landcover_2017/all/9346_2017-03-28_2018-03-28.pkl'),\n",
       " PosixPath('../data/features/geowiki_landcover_2017/all/7613_2017-03-28_2018-03-28.pkl'),\n",
       " PosixPath('../data/features/geowiki_landcover_2017/all/12769_2017-03-28_2018-03-28.pkl'),\n",
       " PosixPath('../data/features/geowiki_landcover_2017/all/9008_2017-03-28_2018-03-28.pkl'),\n",
       " PosixPath('../data/features/geowiki_landcover_2017/all/9262_2017-03-28_2018-03-28.pkl'),\n",
       " PosixPath('../data/features/geowiki_landcover_2017/all/11484_2017-03-28_2018-03-28.pkl'),\n",
       " PosixPath('../data/features/geowiki_landcover_2017/all/11730_2017-03-28_2018-03-28.pkl'),\n",
       " PosixPath('../data/features/geowiki_landcover_2017/all/12698_2017-03-28_2018-03-28.pkl'),\n",
       " PosixPath('../data/features/geowiki_landcover_2017/all/7980_2017-03-28_2018-03-28.pkl'),\n",
       " PosixPath('../data/features/geowiki_landcover_2017/all/9665_2017-03-28_2018-03-28.pkl'),\n",
       " PosixPath('../data/features/geowiki_landcover_2017/all/11674_2017-03-28_2018-03-28.pkl'),\n",
       " PosixPath('../data/features/geowiki_landcover_2017/all/10971_2017-03-28_2018-03-28.pkl'),\n",
       " PosixPath('../data/features/geowiki_landcover_2017/all/8621_2017-03-28_2018-03-28.pkl'),\n",
       " PosixPath('../data/features/geowiki_landcover_2017/all/12023_2017-03-28_2018-03-28.pkl'),\n",
       " PosixPath('../data/features/geowiki_landcover_2017/all/10739_2017-03-28_2018-03-28.pkl'),\n",
       " PosixPath('../data/features/geowiki_landcover_2017/all/10642_2017-03-28_2018-03-28.pkl'),\n",
       " PosixPath('../data/features/geowiki_landcover_2017/all/14527_2017-03-28_2018-03-28.pkl'),\n",
       " PosixPath('../data/features/geowiki_landcover_2017/all/9995_2017-03-28_2018-03-28.pkl'),\n",
       " PosixPath('../data/features/geowiki_landcover_2017/all/12235_2017-03-28_2018-03-28.pkl'),\n",
       " PosixPath('../data/features/geowiki_landcover_2017/all/11881_2017-03-28_2018-03-28.pkl'),\n",
       " PosixPath('../data/features/geowiki_landcover_2017/all/11351_2017-03-28_2018-03-28.pkl'),\n",
       " PosixPath('../data/features/geowiki_landcover_2017/all/8205_2017-03-28_2018-03-28.pkl'),\n",
       " PosixPath('../data/features/geowiki_landcover_2017/all/7561_2017-03-28_2018-03-28.pkl'),\n",
       " PosixPath('../data/features/geowiki_landcover_2017/all/8666_2017-03-28_2018-03-28.pkl'),\n",
       " PosixPath('../data/features/geowiki_landcover_2017/all/12888_2017-03-28_2018-03-28.pkl'),\n",
       " PosixPath('../data/features/geowiki_landcover_2017/all/11738_2017-03-28_2018-03-28.pkl'),\n",
       " PosixPath('../data/features/geowiki_landcover_2017/all/7892_2017-03-28_2018-03-28.pkl'),\n",
       " PosixPath('../data/features/geowiki_landcover_2017/all/12085_2017-03-28_2018-03-28.pkl'),\n",
       " PosixPath('../data/features/geowiki_landcover_2017/all/11334_2017-03-28_2018-03-28.pkl'),\n",
       " PosixPath('../data/features/geowiki_landcover_2017/all/12986_2017-03-28_2018-03-28.pkl'),\n",
       " PosixPath('../data/features/geowiki_landcover_2017/all/8869_2017-03-28_2018-03-28.pkl'),\n",
       " PosixPath('../data/features/geowiki_landcover_2017/all/13501_2017-03-28_2018-03-28.pkl'),\n",
       " PosixPath('../data/features/geowiki_landcover_2017/all/13594_2017-03-28_2018-03-28.pkl'),\n",
       " PosixPath('../data/features/geowiki_landcover_2017/all/14806_2017-03-28_2018-03-28.pkl'),\n",
       " PosixPath('../data/features/geowiki_landcover_2017/all/14690_2017-03-28_2018-03-28.pkl'),\n",
       " PosixPath('../data/features/geowiki_landcover_2017/all/11294_2017-03-28_2018-03-28.pkl'),\n",
       " PosixPath('../data/features/geowiki_landcover_2017/all/13492_2017-03-28_2018-03-28.pkl'),\n",
       " PosixPath('../data/features/geowiki_landcover_2017/all/9052_2017-03-28_2018-03-28.pkl'),\n",
       " PosixPath('../data/features/geowiki_landcover_2017/all/11747_2017-03-28_2018-03-28.pkl'),\n",
       " PosixPath('../data/features/geowiki_landcover_2017/all/12954_2017-03-28_2018-03-28.pkl'),\n",
       " PosixPath('../data/features/geowiki_landcover_2017/all/11139_2017-03-28_2018-03-28.pkl'),\n",
       " PosixPath('../data/features/geowiki_landcover_2017/all/14526_2017-03-28_2018-03-28.pkl'),\n",
       " PosixPath('../data/features/geowiki_landcover_2017/all/10949_2017-03-28_2018-03-28.pkl'),\n",
       " PosixPath('../data/features/geowiki_landcover_2017/all/7839_2017-03-28_2018-03-28.pkl'),\n",
       " PosixPath('../data/features/geowiki_landcover_2017/all/9743_2017-03-28_2018-03-28.pkl'),\n",
       " PosixPath('../data/features/geowiki_landcover_2017/all/6432_2017-03-28_2018-03-28.pkl'),\n",
       " PosixPath('../data/features/geowiki_landcover_2017/all/11410_2017-03-28_2018-03-28.pkl'),\n",
       " PosixPath('../data/features/geowiki_landcover_2017/all/6135_2017-03-28_2018-03-28.pkl'),\n",
       " PosixPath('../data/features/geowiki_landcover_2017/all/13058_2017-03-28_2018-03-28.pkl'),\n",
       " PosixPath('../data/features/geowiki_landcover_2017/all/10172_2017-03-28_2018-03-28.pkl'),\n",
       " PosixPath('../data/features/geowiki_landcover_2017/all/7557_2017-03-28_2018-03-28.pkl'),\n",
       " PosixPath('../data/features/geowiki_landcover_2017/all/9947_2017-03-28_2018-03-28.pkl'),\n",
       " PosixPath('../data/features/geowiki_landcover_2017/all/13055_2017-03-28_2018-03-28.pkl'),\n",
       " PosixPath('../data/features/geowiki_landcover_2017/all/13798_2017-03-28_2018-03-28.pkl'),\n",
       " PosixPath('../data/features/geowiki_landcover_2017/all/12124_2017-03-28_2018-03-28.pkl'),\n",
       " PosixPath('../data/features/geowiki_landcover_2017/all/14887_2017-03-28_2018-03-28.pkl'),\n",
       " PosixPath('../data/features/geowiki_landcover_2017/all/9805_2017-03-28_2018-03-28.pkl'),\n",
       " PosixPath('../data/features/geowiki_landcover_2017/all/13983_2017-03-28_2018-03-28.pkl'),\n",
       " PosixPath('../data/features/geowiki_landcover_2017/all/7376_2017-03-28_2018-03-28.pkl'),\n",
       " PosixPath('../data/features/geowiki_landcover_2017/all/11634_2017-03-28_2018-03-28.pkl'),\n",
       " PosixPath('../data/features/geowiki_landcover_2017/all/8806_2017-03-28_2018-03-28.pkl'),\n",
       " PosixPath('../data/features/geowiki_landcover_2017/all/7932_2017-03-28_2018-03-28.pkl'),\n",
       " PosixPath('../data/features/geowiki_landcover_2017/all/14603_2017-03-28_2018-03-28.pkl'),\n",
       " PosixPath('../data/features/geowiki_landcover_2017/all/12177_2017-03-28_2018-03-28.pkl'),\n",
       " PosixPath('../data/features/geowiki_landcover_2017/all/7094_2017-03-28_2018-03-28.pkl'),\n",
       " PosixPath('../data/features/geowiki_landcover_2017/all/13331_2017-03-28_2018-03-28.pkl'),\n",
       " PosixPath('../data/features/geowiki_landcover_2017/all/12016_2017-03-28_2018-03-28.pkl'),\n",
       " PosixPath('../data/features/geowiki_landcover_2017/all/11298_2017-03-28_2018-03-28.pkl'),\n",
       " PosixPath('../data/features/geowiki_landcover_2017/all/11185_2017-03-28_2018-03-28.pkl'),\n",
       " PosixPath('../data/features/geowiki_landcover_2017/all/11758_2017-03-28_2018-03-28.pkl'),\n",
       " PosixPath('../data/features/geowiki_landcover_2017/all/11335_2017-03-28_2018-03-28.pkl'),\n",
       " PosixPath('../data/features/geowiki_landcover_2017/all/12996_2017-03-28_2018-03-28.pkl'),\n",
       " PosixPath('../data/features/geowiki_landcover_2017/all/10483_2017-03-28_2018-03-28.pkl'),\n",
       " PosixPath('../data/features/geowiki_landcover_2017/all/15287_2017-03-28_2018-03-28.pkl'),\n",
       " PosixPath('../data/features/geowiki_landcover_2017/all/14106_2017-03-28_2018-03-28.pkl'),\n",
       " PosixPath('../data/features/geowiki_landcover_2017/all/12017_2017-03-28_2018-03-28.pkl'),\n",
       " PosixPath('../data/features/geowiki_landcover_2017/all/8681_2017-03-28_2018-03-28.pkl'),\n",
       " PosixPath('../data/features/geowiki_landcover_2017/all/11199_2017-03-28_2018-03-28.pkl'),\n",
       " PosixPath('../data/features/geowiki_landcover_2017/all/12704_2017-03-28_2018-03-28.pkl'),\n",
       " PosixPath('../data/features/geowiki_landcover_2017/all/14110_2017-03-28_2018-03-28.pkl'),\n",
       " PosixPath('../data/features/geowiki_landcover_2017/all/12932_2017-03-28_2018-03-28.pkl'),\n",
       " PosixPath('../data/features/geowiki_landcover_2017/all/10721_2017-03-28_2018-03-28.pkl'),\n",
       " PosixPath('../data/features/geowiki_landcover_2017/all/13605_2017-03-28_2018-03-28.pkl'),\n",
       " PosixPath('../data/features/geowiki_landcover_2017/all/12196_2017-03-28_2018-03-28.pkl'),\n",
       " PosixPath('../data/features/geowiki_landcover_2017/all/13604_2017-03-28_2018-03-28.pkl'),\n",
       " PosixPath('../data/features/geowiki_landcover_2017/all/11039_2017-03-28_2018-03-28.pkl'),\n",
       " PosixPath('../data/features/geowiki_landcover_2017/all/11855_2017-03-28_2018-03-28.pkl'),\n",
       " PosixPath('../data/features/geowiki_landcover_2017/all/12858_2017-03-28_2018-03-28.pkl'),\n",
       " PosixPath('../data/features/geowiki_landcover_2017/all/11999_2017-03-28_2018-03-28.pkl'),\n",
       " PosixPath('../data/features/geowiki_landcover_2017/all/6937_2017-03-28_2018-03-28.pkl'),\n",
       " PosixPath('../data/features/geowiki_landcover_2017/all/13897_2017-03-28_2018-03-28.pkl'),\n",
       " PosixPath('../data/features/geowiki_landcover_2017/all/13924_2017-03-28_2018-03-28.pkl'),\n",
       " PosixPath('../data/features/geowiki_landcover_2017/all/12175_2017-03-28_2018-03-28.pkl'),\n",
       " PosixPath('../data/features/geowiki_landcover_2017/all/10571_2017-03-28_2018-03-28.pkl'),\n",
       " PosixPath('../data/features/geowiki_landcover_2017/all/8209_2017-03-28_2018-03-28.pkl'),\n",
       " PosixPath('../data/features/geowiki_landcover_2017/all/14872_2017-03-28_2018-03-28.pkl'),\n",
       " PosixPath('../data/features/geowiki_landcover_2017/all/8543_2017-03-28_2018-03-28.pkl'),\n",
       " PosixPath('../data/features/geowiki_landcover_2017/all/13256_2017-03-28_2018-03-28.pkl'),\n",
       " PosixPath('../data/features/geowiki_landcover_2017/all/12621_2017-03-28_2018-03-28.pkl'),\n",
       " PosixPath('../data/features/geowiki_landcover_2017/all/11735_2017-03-28_2018-03-28.pkl'),\n",
       " PosixPath('../data/features/geowiki_landcover_2017/all/9344_2017-03-28_2018-03-28.pkl'),\n",
       " PosixPath('../data/features/geowiki_landcover_2017/all/10087_2017-03-28_2018-03-28.pkl'),\n",
       " PosixPath('../data/features/geowiki_landcover_2017/all/13608_2017-03-28_2018-03-28.pkl'),\n",
       " PosixPath('../data/features/geowiki_landcover_2017/all/14530_2017-03-28_2018-03-28.pkl'),\n",
       " PosixPath('../data/features/geowiki_landcover_2017/all/12195_2017-03-28_2018-03-28.pkl'),\n",
       " PosixPath('../data/features/geowiki_landcover_2017/all/14394_2017-03-28_2018-03-28.pkl'),\n",
       " PosixPath('../data/features/geowiki_landcover_2017/all/12208_2017-03-28_2018-03-28.pkl'),\n",
       " PosixPath('../data/features/geowiki_landcover_2017/all/14242_2017-03-28_2018-03-28.pkl'),\n",
       " PosixPath('../data/features/geowiki_landcover_2017/all/11423_2017-03-28_2018-03-28.pkl'),\n",
       " PosixPath('../data/features/geowiki_landcover_2017/all/11176_2017-03-28_2018-03-28.pkl'),\n",
       " PosixPath('../data/features/geowiki_landcover_2017/all/12798_2017-03-28_2018-03-28.pkl'),\n",
       " PosixPath('../data/features/geowiki_landcover_2017/all/12132_2017-03-28_2018-03-28.pkl'),\n",
       " PosixPath('../data/features/geowiki_landcover_2017/all/8203_2017-03-28_2018-03-28.pkl'),\n",
       " PosixPath('../data/features/geowiki_landcover_2017/all/10838_2017-03-28_2018-03-28.pkl'),\n",
       " PosixPath('../data/features/geowiki_landcover_2017/all/9780_2017-03-28_2018-03-28.pkl'),\n",
       " PosixPath('../data/features/geowiki_landcover_2017/all/12588_2017-03-28_2018-03-28.pkl'),\n",
       " PosixPath('../data/features/geowiki_landcover_2017/all/13590_2017-03-28_2018-03-28.pkl'),\n",
       " PosixPath('../data/features/geowiki_landcover_2017/all/12343_2017-03-28_2018-03-28.pkl'),\n",
       " PosixPath('../data/features/geowiki_landcover_2017/all/12093_2017-03-28_2018-03-28.pkl'),\n",
       " PosixPath('../data/features/geowiki_landcover_2017/all/11734_2017-03-28_2018-03-28.pkl'),\n",
       " PosixPath('../data/features/geowiki_landcover_2017/all/14007_2017-03-28_2018-03-28.pkl'),\n",
       " PosixPath('../data/features/geowiki_landcover_2017/all/12403_2017-03-28_2018-03-28.pkl'),\n",
       " PosixPath('../data/features/geowiki_landcover_2017/all/8370_2017-03-28_2018-03-28.pkl'),\n",
       " PosixPath('../data/features/geowiki_landcover_2017/all/11805_2017-03-28_2018-03-28.pkl'),\n",
       " PosixPath('../data/features/geowiki_landcover_2017/all/11023_2017-03-28_2018-03-28.pkl'),\n",
       " PosixPath('../data/features/geowiki_landcover_2017/all/13141_2017-03-28_2018-03-28.pkl'),\n",
       " PosixPath('../data/features/geowiki_landcover_2017/all/11114_2017-03-28_2018-03-28.pkl'),\n",
       " PosixPath('../data/features/geowiki_landcover_2017/all/13519_2017-03-28_2018-03-28.pkl'),\n",
       " PosixPath('../data/features/geowiki_landcover_2017/all/12019_2017-03-28_2018-03-28.pkl'),\n",
       " PosixPath('../data/features/geowiki_landcover_2017/all/11906_2017-03-28_2018-03-28.pkl'),\n",
       " PosixPath('../data/features/geowiki_landcover_2017/all/9420_2017-03-28_2018-03-28.pkl'),\n",
       " PosixPath('../data/features/geowiki_landcover_2017/all/8047_2017-03-28_2018-03-28.pkl'),\n",
       " PosixPath('../data/features/geowiki_landcover_2017/all/7560_2017-03-28_2018-03-28.pkl'),\n",
       " PosixPath('../data/features/geowiki_landcover_2017/all/13487_2017-03-28_2018-03-28.pkl'),\n",
       " PosixPath('../data/features/geowiki_landcover_2017/all/13358_2017-03-28_2018-03-28.pkl'),\n",
       " PosixPath('../data/features/geowiki_landcover_2017/all/14171_2017-03-28_2018-03-28.pkl'),\n",
       " PosixPath('../data/features/geowiki_landcover_2017/all/12955_2017-03-28_2018-03-28.pkl'),\n",
       " PosixPath('../data/features/geowiki_landcover_2017/all/7893_2017-03-28_2018-03-28.pkl'),\n",
       " PosixPath('../data/features/geowiki_landcover_2017/all/11882_2017-03-28_2018-03-28.pkl'),\n",
       " PosixPath('../data/features/geowiki_landcover_2017/all/9347_2017-03-28_2018-03-28.pkl'),\n",
       " PosixPath('../data/features/geowiki_landcover_2017/all/12479_2017-03-28_2018-03-28.pkl'),\n",
       " PosixPath('../data/features/geowiki_landcover_2017/all/14303_2017-03-28_2018-03-28.pkl'),\n",
       " PosixPath('../data/features/geowiki_landcover_2017/all/13174_2017-03-28_2018-03-28.pkl'),\n",
       " PosixPath('../data/features/geowiki_landcover_2017/all/12748_2017-03-28_2018-03-28.pkl'),\n",
       " PosixPath('../data/features/geowiki_landcover_2017/all/14501_2017-03-28_2018-03-28.pkl'),\n",
       " PosixPath('../data/features/geowiki_landcover_2017/all/7609_2017-03-28_2018-03-28.pkl'),\n",
       " PosixPath('../data/features/geowiki_landcover_2017/all/12680_2017-03-28_2018-03-28.pkl'),\n",
       " PosixPath('../data/features/geowiki_landcover_2017/all/9990_2017-03-28_2018-03-28.pkl'),\n",
       " PosixPath('../data/features/geowiki_landcover_2017/all/11649_2017-03-28_2018-03-28.pkl'),\n",
       " PosixPath('../data/features/geowiki_landcover_2017/all/14005_2017-03-28_2018-03-28.pkl'),\n",
       " PosixPath('../data/features/geowiki_landcover_2017/all/11571_2017-03-28_2018-03-28.pkl'),\n",
       " PosixPath('../data/features/geowiki_landcover_2017/all/12473_2017-03-28_2018-03-28.pkl'),\n",
       " PosixPath('../data/features/geowiki_landcover_2017/all/11672_2017-03-28_2018-03-28.pkl'),\n",
       " PosixPath('../data/features/geowiki_landcover_2017/all/14689_2017-03-28_2018-03-28.pkl'),\n",
       " PosixPath('../data/features/geowiki_landcover_2017/all/10540_2017-03-28_2018-03-28.pkl'),\n",
       " PosixPath('../data/features/geowiki_landcover_2017/all/13391_2017-03-28_2018-03-28.pkl'),\n",
       " PosixPath('../data/features/geowiki_landcover_2017/all/10085_2017-03-28_2018-03-28.pkl'),\n",
       " PosixPath('../data/features/geowiki_landcover_2017/all/7889_2017-03-28_2018-03-28.pkl'),\n",
       " PosixPath('../data/features/geowiki_landcover_2017/all/10678_2017-03-28_2018-03-28.pkl'),\n",
       " PosixPath('../data/features/geowiki_landcover_2017/all/11572_2017-03-28_2018-03-28.pkl'),\n",
       " PosixPath('../data/features/geowiki_landcover_2017/all/13612_2017-03-28_2018-03-28.pkl'),\n",
       " PosixPath('../data/features/geowiki_landcover_2017/all/13826_2017-03-28_2018-03-28.pkl'),\n",
       " PosixPath('../data/features/geowiki_landcover_2017/all/13240_2017-03-28_2018-03-28.pkl'),\n",
       " PosixPath('../data/features/geowiki_landcover_2017/all/13939_2017-03-28_2018-03-28.pkl'),\n",
       " PosixPath('../data/features/geowiki_landcover_2017/all/8867_2017-03-28_2018-03-28.pkl'),\n",
       " PosixPath('../data/features/geowiki_landcover_2017/all/12694_2017-03-28_2018-03-28.pkl'),\n",
       " PosixPath('../data/features/geowiki_landcover_2017/all/11950_2017-03-28_2018-03-28.pkl'),\n",
       " PosixPath('../data/features/geowiki_landcover_2017/all/11910_2017-03-28_2018-03-28.pkl'),\n",
       " PosixPath('../data/features/geowiki_landcover_2017/all/6675_2017-03-28_2018-03-28.pkl'),\n",
       " PosixPath('../data/features/geowiki_landcover_2017/all/9662_2017-03-28_2018-03-28.pkl'),\n",
       " PosixPath('../data/features/geowiki_landcover_2017/all/12828_2017-03-28_2018-03-28.pkl'),\n",
       " PosixPath('../data/features/geowiki_landcover_2017/all/13308_2017-03-28_2018-03-28.pkl'),\n",
       " PosixPath('../data/features/geowiki_landcover_2017/all/13018_2017-03-28_2018-03-28.pkl'),\n",
       " PosixPath('../data/features/geowiki_landcover_2017/all/11079_2017-03-28_2018-03-28.pkl'),\n",
       " PosixPath('../data/features/geowiki_landcover_2017/all/12557_2017-03-28_2018-03-28.pkl'),\n",
       " PosixPath('../data/features/geowiki_landcover_2017/all/12180_2017-03-28_2018-03-28.pkl'),\n",
       " PosixPath('../data/features/geowiki_landcover_2017/all/7375_2017-03-28_2018-03-28.pkl'),\n",
       " PosixPath('../data/features/geowiki_landcover_2017/all/10951_2017-03-28_2018-03-28.pkl'),\n",
       " PosixPath('../data/features/geowiki_landcover_2017/all/9607_2017-03-28_2018-03-28.pkl'),\n",
       " PosixPath('../data/features/geowiki_landcover_2017/all/14003_2017-03-28_2018-03-28.pkl'),\n",
       " PosixPath('../data/features/geowiki_landcover_2017/all/7840_2017-03-28_2018-03-28.pkl'),\n",
       " PosixPath('../data/features/geowiki_landcover_2017/all/11508_2017-03-28_2018-03-28.pkl'),\n",
       " PosixPath('../data/features/geowiki_landcover_2017/all/10036_2017-03-28_2018-03-28.pkl'),\n",
       " PosixPath('../data/features/geowiki_landcover_2017/all/9833_2017-03-28_2018-03-28.pkl'),\n",
       " PosixPath('../data/features/geowiki_landcover_2017/all/7429_2017-03-28_2018-03-28.pkl'),\n",
       " PosixPath('../data/features/geowiki_landcover_2017/all/13581_2017-03-28_2018-03-28.pkl'),\n",
       " PosixPath('../data/features/geowiki_landcover_2017/all/7087_2017-03-28_2018-03-28.pkl'),\n",
       " PosixPath('../data/features/geowiki_landcover_2017/all/13250_2017-03-28_2018-03-28.pkl'),\n",
       " PosixPath('../data/features/geowiki_landcover_2017/all/13359_2017-03-28_2018-03-28.pkl'),\n",
       " PosixPath('../data/features/geowiki_landcover_2017/all/13799_2017-03-28_2018-03-28.pkl'),\n",
       " PosixPath('../data/features/geowiki_landcover_2017/all/11069_2017-03-28_2018-03-28.pkl'),\n",
       " PosixPath('../data/features/geowiki_landcover_2017/all/12885_2017-03-28_2018-03-28.pkl'),\n",
       " PosixPath('../data/features/geowiki_landcover_2017/all/11979_2017-03-28_2018-03-28.pkl'),\n",
       " PosixPath('../data/features/geowiki_landcover_2017/all/11408_2017-03-28_2018-03-28.pkl'),\n",
       " PosixPath('../data/features/geowiki_landcover_2017/all/12411_2017-03-28_2018-03-28.pkl'),\n",
       " PosixPath('../data/features/geowiki_landcover_2017/all/13287_2017-03-28_2018-03-28.pkl'),\n",
       " PosixPath('../data/features/geowiki_landcover_2017/all/14255_2017-03-28_2018-03-28.pkl'),\n",
       " PosixPath('../data/features/geowiki_landcover_2017/all/14067_2017-03-28_2018-03-28.pkl'),\n",
       " PosixPath('../data/features/geowiki_landcover_2017/all/7611_2017-03-28_2018-03-28.pkl'),\n",
       " PosixPath('../data/features/geowiki_landcover_2017/all/13073_2017-03-28_2018-03-28.pkl'),\n",
       " PosixPath('../data/features/geowiki_landcover_2017/all/9639_2017-03-28_2018-03-28.pkl'),\n",
       " PosixPath('../data/features/geowiki_landcover_2017/all/12013_2017-03-28_2018-03-28.pkl'),\n",
       " PosixPath('../data/features/geowiki_landcover_2017/all/11562_2017-03-28_2018-03-28.pkl'),\n",
       " PosixPath('../data/features/geowiki_landcover_2017/all/13741_2017-03-28_2018-03-28.pkl'),\n",
       " PosixPath('../data/features/geowiki_landcover_2017/all/7509_2017-03-28_2018-03-28.pkl'),\n",
       " PosixPath('../data/features/geowiki_landcover_2017/all/10877_2017-03-28_2018-03-28.pkl'),\n",
       " PosixPath('../data/features/geowiki_landcover_2017/all/9154_2017-03-28_2018-03-28.pkl'),\n",
       " PosixPath('../data/features/geowiki_landcover_2017/all/11875_2017-03-28_2018-03-28.pkl'),\n",
       " PosixPath('../data/features/geowiki_landcover_2017/all/13071_2017-03-28_2018-03-28.pkl'),\n",
       " PosixPath('../data/features/geowiki_landcover_2017/all/10551_2017-03-28_2018-03-28.pkl'),\n",
       " PosixPath('../data/features/geowiki_landcover_2017/all/13480_2017-03-28_2018-03-28.pkl'),\n",
       " PosixPath('../data/features/geowiki_landcover_2017/all/14889_2017-03-28_2018-03-28.pkl'),\n",
       " PosixPath('../data/features/geowiki_landcover_2017/all/11908_2017-03-28_2018-03-28.pkl'),\n",
       " PosixPath('../data/features/geowiki_landcover_2017/all/11912_2017-03-28_2018-03-28.pkl'),\n",
       " PosixPath('../data/features/geowiki_landcover_2017/all/12241_2017-03-28_2018-03-28.pkl'),\n",
       " PosixPath('../data/features/geowiki_landcover_2017/all/13563_2017-03-28_2018-03-28.pkl'),\n",
       " PosixPath('../data/features/geowiki_landcover_2017/all/12820_2017-03-28_2018-03-28.pkl'),\n",
       " PosixPath('../data/features/geowiki_landcover_2017/all/14113_2017-03-28_2018-03-28.pkl'),\n",
       " PosixPath('../data/features/geowiki_landcover_2017/all/14362_2017-03-28_2018-03-28.pkl'),\n",
       " PosixPath('../data/features/geowiki_landcover_2017/all/14802_2017-03-28_2018-03-28.pkl'),\n",
       " PosixPath('../data/features/geowiki_landcover_2017/all/11787_2017-03-28_2018-03-28.pkl'),\n",
       " PosixPath('../data/features/geowiki_landcover_2017/all/12186_2017-03-28_2018-03-28.pkl'),\n",
       " PosixPath('../data/features/geowiki_landcover_2017/all/11020_2017-03-28_2018-03-28.pkl'),\n",
       " PosixPath('../data/features/geowiki_landcover_2017/all/10958_2017-03-28_2018-03-28.pkl'),\n",
       " PosixPath('../data/features/geowiki_landcover_2017/all/12626_2017-03-28_2018-03-28.pkl'),\n",
       " PosixPath('../data/features/geowiki_landcover_2017/all/11456_2017-03-28_2018-03-28.pkl'),\n",
       " PosixPath('../data/features/geowiki_landcover_2017/all/11461_2017-03-28_2018-03-28.pkl'),\n",
       " PosixPath('../data/features/geowiki_landcover_2017/all/11635_2017-03-28_2018-03-28.pkl'),\n",
       " PosixPath('../data/features/geowiki_landcover_2017/all/13520_2017-03-28_2018-03-28.pkl'),\n",
       " PosixPath('../data/features/geowiki_landcover_2017/all/11556_2017-03-28_2018-03-28.pkl'),\n",
       " PosixPath('../data/features/geowiki_landcover_2017/all/10755_2017-03-28_2018-03-28.pkl'),\n",
       " PosixPath('../data/features/geowiki_landcover_2017/all/11331_2017-03-28_2018-03-28.pkl'),\n",
       " PosixPath('../data/features/geowiki_landcover_2017/all/9425_2017-03-28_2018-03-28.pkl'),\n",
       " PosixPath('../data/features/geowiki_landcover_2017/all/13693_2017-03-28_2018-03-28.pkl'),\n",
       " PosixPath('../data/features/geowiki_landcover_2017/all/11459_2017-03-28_2018-03-28.pkl'),\n",
       " PosixPath('../data/features/geowiki_landcover_2017/all/12069_2017-03-28_2018-03-28.pkl'),\n",
       " PosixPath('../data/features/geowiki_landcover_2017/all/11784_2017-03-28_2018-03-28.pkl'),\n",
       " PosixPath('../data/features/geowiki_landcover_2017/all/11943_2017-03-28_2018-03-28.pkl'),\n",
       " PosixPath('../data/features/geowiki_landcover_2017/all/10641_2017-03-28_2018-03-28.pkl'),\n",
       " PosixPath('../data/features/geowiki_landcover_2017/all/12094_2017-03-28_2018-03-28.pkl'),\n",
       " PosixPath('../data/features/geowiki_landcover_2017/all/10864_2017-03-28_2018-03-28.pkl'),\n",
       " PosixPath('../data/features/geowiki_landcover_2017/all/13846_2017-03-28_2018-03-28.pkl'),\n",
       " PosixPath('../data/features/geowiki_landcover_2017/all/13323_2017-03-28_2018-03-28.pkl'),\n",
       " PosixPath('../data/features/geowiki_landcover_2017/all/10169_2017-03-28_2018-03-28.pkl'),\n",
       " PosixPath('../data/features/geowiki_landcover_2017/all/6376_2017-03-28_2018-03-28.pkl'),\n",
       " PosixPath('../data/features/geowiki_landcover_2017/all/9261_2017-03-28_2018-03-28.pkl'),\n",
       " PosixPath('../data/features/geowiki_landcover_2017/all/10222_2017-03-28_2018-03-28.pkl'),\n",
       " PosixPath('../data/features/geowiki_landcover_2017/all/10325_2017-03-28_2018-03-28.pkl'),\n",
       " PosixPath('../data/features/geowiki_landcover_2017/all/10436_2017-03-28_2018-03-28.pkl'),\n",
       " PosixPath('../data/features/geowiki_landcover_2017/all/7615_2017-03-28_2018-03-28.pkl'),\n",
       " PosixPath('../data/features/geowiki_landcover_2017/all/12860_2017-03-28_2018-03-28.pkl'),\n",
       " PosixPath('../data/features/geowiki_landcover_2017/all/14980_2017-03-28_2018-03-28.pkl'),\n",
       " PosixPath('../data/features/geowiki_landcover_2017/all/8713_2017-03-28_2018-03-28.pkl'),\n",
       " PosixPath('../data/features/geowiki_landcover_2017/all/12480_2017-03-28_2018-03-28.pkl'),\n",
       " PosixPath('../data/features/geowiki_landcover_2017/all/13329_2017-03-28_2018-03-28.pkl'),\n",
       " PosixPath('../data/features/geowiki_landcover_2017/all/10110_2017-03-28_2018-03-28.pkl'),\n",
       " PosixPath('../data/features/geowiki_landcover_2017/all/14696_2017-03-28_2018-03-28.pkl'),\n",
       " PosixPath('../data/features/geowiki_landcover_2017/all/13255_2017-03-28_2018-03-28.pkl'),\n",
       " PosixPath('../data/features/geowiki_landcover_2017/all/10610_2017-03-28_2018-03-28.pkl'),\n",
       " PosixPath('../data/features/geowiki_landcover_2017/all/11251_2017-03-28_2018-03-28.pkl'),\n",
       " PosixPath('../data/features/geowiki_landcover_2017/all/7929_2017-03-28_2018-03-28.pkl'),\n",
       " PosixPath('../data/features/geowiki_landcover_2017/all/12725_2017-03-28_2018-03-28.pkl'),\n",
       " PosixPath('../data/features/geowiki_landcover_2017/all/13147_2017-03-28_2018-03-28.pkl'),\n",
       " PosixPath('../data/features/geowiki_landcover_2017/all/10996_2017-03-28_2018-03-28.pkl'),\n",
       " PosixPath('../data/features/geowiki_landcover_2017/all/9304_2017-03-28_2018-03-28.pkl'),\n",
       " PosixPath('../data/features/geowiki_landcover_2017/all/14012_2017-03-28_2018-03-28.pkl'),\n",
       " PosixPath('../data/features/geowiki_landcover_2017/all/11740_2017-03-28_2018-03-28.pkl'),\n",
       " PosixPath('../data/features/geowiki_landcover_2017/all/11425_2017-03-28_2018-03-28.pkl'),\n",
       " PosixPath('../data/features/geowiki_landcover_2017/all/12015_2017-03-28_2018-03-28.pkl'),\n",
       " PosixPath('../data/features/geowiki_landcover_2017/all/12797_2017-03-28_2018-03-28.pkl'),\n",
       " PosixPath('../data/features/geowiki_landcover_2017/all/11180_2017-03-28_2018-03-28.pkl'),\n",
       " PosixPath('../data/features/geowiki_landcover_2017/all/12693_2017-03-28_2018-03-28.pkl'),\n",
       " PosixPath('../data/features/geowiki_landcover_2017/all/11859_2017-03-28_2018-03-28.pkl'),\n",
       " PosixPath('../data/features/geowiki_landcover_2017/all/14315_2017-03-28_2018-03-28.pkl'),\n",
       " PosixPath('../data/features/geowiki_landcover_2017/all/12098_2017-03-28_2018-03-28.pkl'),\n",
       " PosixPath('../data/features/geowiki_landcover_2017/all/13425_2017-03-28_2018-03-28.pkl'),\n",
       " PosixPath('../data/features/geowiki_landcover_2017/all/12819_2017-03-28_2018-03-28.pkl'),\n",
       " PosixPath('../data/features/geowiki_landcover_2017/all/12501_2017-03-28_2018-03-28.pkl'),\n",
       " PosixPath('../data/features/geowiki_landcover_2017/all/14474_2017-03-28_2018-03-28.pkl'),\n",
       " PosixPath('../data/features/geowiki_landcover_2017/all/14477_2017-03-28_2018-03-28.pkl'),\n",
       " PosixPath('../data/features/geowiki_landcover_2017/all/9606_2017-03-28_2018-03-28.pkl'),\n",
       " PosixPath('../data/features/geowiki_landcover_2017/all/13708_2017-03-28_2018-03-28.pkl'),\n",
       " PosixPath('../data/features/geowiki_landcover_2017/all/10693_2017-03-28_2018-03-28.pkl'),\n",
       " PosixPath('../data/features/geowiki_landcover_2017/all/13423_2017-03-28_2018-03-28.pkl'),\n",
       " PosixPath('../data/features/geowiki_landcover_2017/all/11905_2017-03-28_2018-03-28.pkl'),\n",
       " PosixPath('../data/features/geowiki_landcover_2017/all/11240_2017-03-28_2018-03-28.pkl'),\n",
       " PosixPath('../data/features/geowiki_landcover_2017/all/8050_2017-03-28_2018-03-28.pkl'),\n",
       " PosixPath('../data/features/geowiki_landcover_2017/all/13669_2017-03-28_2018-03-28.pkl'),\n",
       " PosixPath('../data/features/geowiki_landcover_2017/all/9345_2017-03-28_2018-03-28.pkl'),\n",
       " PosixPath('../data/features/geowiki_landcover_2017/all/8010_2017-03-28_2018-03-28.pkl'),\n",
       " PosixPath('../data/features/geowiki_landcover_2017/all/14692_2017-03-28_2018-03-28.pkl'),\n",
       " PosixPath('../data/features/geowiki_landcover_2017/all/7173_2017-03-28_2018-03-28.pkl'),\n",
       " PosixPath('../data/features/geowiki_landcover_2017/all/7606_2017-03-28_2018-03-28.pkl'),\n",
       " PosixPath('../data/features/geowiki_landcover_2017/all/12334_2017-03-28_2018-03-28.pkl'),\n",
       " PosixPath('../data/features/geowiki_landcover_2017/all/12856_2017-03-28_2018-03-28.pkl'),\n",
       " PosixPath('../data/features/geowiki_landcover_2017/all/7723_2017-03-28_2018-03-28.pkl'),\n",
       " PosixPath('../data/features/geowiki_landcover_2017/all/11563_2017-03-28_2018-03-28.pkl'),\n",
       " PosixPath('../data/features/geowiki_landcover_2017/all/12577_2017-03-28_2018-03-28.pkl'),\n",
       " PosixPath('../data/features/geowiki_landcover_2017/all/6134_2017-03-28_2018-03-28.pkl'),\n",
       " PosixPath('../data/features/geowiki_landcover_2017/all/8046_2017-03-28_2018-03-28.pkl'),\n",
       " PosixPath('../data/features/geowiki_landcover_2017/all/13072_2017-03-28_2018-03-28.pkl'),\n",
       " PosixPath('../data/features/geowiki_landcover_2017/all/13070_2017-03-28_2018-03-28.pkl'),\n",
       " PosixPath('../data/features/geowiki_landcover_2017/all/10427_2017-03-28_2018-03-28.pkl'),\n",
       " PosixPath('../data/features/geowiki_landcover_2017/all/7217_2017-03-28_2018-03-28.pkl'),\n",
       " PosixPath('../data/features/geowiki_landcover_2017/all/7828_2017-03-28_2018-03-28.pkl'),\n",
       " PosixPath('../data/features/geowiki_landcover_2017/all/14531_2017-03-28_2018-03-28.pkl'),\n",
       " PosixPath('../data/features/geowiki_landcover_2017/all/13013_2017-03-28_2018-03-28.pkl'),\n",
       " PosixPath('../data/features/geowiki_landcover_2017/all/10428_2017-03-28_2018-03-28.pkl'),\n",
       " PosixPath('../data/features/geowiki_landcover_2017/all/11991_2017-03-28_2018-03-28.pkl'),\n",
       " PosixPath('../data/features/geowiki_landcover_2017/all/8720_2017-03-28_2018-03-28.pkl'),\n",
       " PosixPath('../data/features/geowiki_landcover_2017/all/10920_2017-03-28_2018-03-28.pkl'),\n",
       " PosixPath('../data/features/geowiki_landcover_2017/all/11551_2017-03-28_2018-03-28.pkl'),\n",
       " PosixPath('../data/features/geowiki_landcover_2017/all/11852_2017-03-28_2018-03-28.pkl'),\n",
       " PosixPath('../data/features/geowiki_landcover_2017/all/11412_2017-03-28_2018-03-28.pkl'),\n",
       " PosixPath('../data/features/geowiki_landcover_2017/all/9497_2017-03-28_2018-03-28.pkl'),\n",
       " PosixPath('../data/features/geowiki_landcover_2017/all/13334_2017-03-28_2018-03-28.pkl'),\n",
       " PosixPath('../data/features/geowiki_landcover_2017/all/7836_2017-03-28_2018-03-28.pkl'),\n",
       " PosixPath('../data/features/geowiki_landcover_2017/all/6263_2017-03-28_2018-03-28.pkl'),\n",
       " PosixPath('../data/features/geowiki_landcover_2017/all/8457_2017-03-28_2018-03-28.pkl'),\n",
       " PosixPath('../data/features/geowiki_landcover_2017/all/12926_2017-03-28_2018-03-28.pkl'),\n",
       " PosixPath('../data/features/geowiki_landcover_2017/all/13074_2017-03-28_2018-03-28.pkl'),\n",
       " PosixPath('../data/features/geowiki_landcover_2017/all/8284_2017-03-28_2018-03-28.pkl'),\n",
       " PosixPath('../data/features/geowiki_landcover_2017/all/12833_2017-03-28_2018-03-28.pkl'),\n",
       " PosixPath('../data/features/geowiki_landcover_2017/all/8133_2017-03-28_2018-03-28.pkl'),\n",
       " PosixPath('../data/features/geowiki_landcover_2017/all/12410_2017-03-28_2018-03-28.pkl'),\n",
       " PosixPath('../data/features/geowiki_landcover_2017/all/6670_2017-03-28_2018-03-28.pkl'),\n",
       " PosixPath('../data/features/geowiki_landcover_2017/all/13782_2017-03-28_2018-03-28.pkl'),\n",
       " PosixPath('../data/features/geowiki_landcover_2017/all/10442_2017-03-28_2018-03-28.pkl'),\n",
       " PosixPath('../data/features/geowiki_landcover_2017/all/7774_2017-03-28_2018-03-28.pkl'),\n",
       " PosixPath('../data/features/geowiki_landcover_2017/all/12068_2017-03-28_2018-03-28.pkl'),\n",
       " PosixPath('../data/features/geowiki_landcover_2017/all/12887_2017-03-28_2018-03-28.pkl'),\n",
       " PosixPath('../data/features/geowiki_landcover_2017/all/13228_2017-03-28_2018-03-28.pkl'),\n",
       " PosixPath('../data/features/geowiki_landcover_2017/all/11474_2017-03-28_2018-03-28.pkl'),\n",
       " PosixPath('../data/features/geowiki_landcover_2017/all/11911_2017-03-28_2018-03-28.pkl'),\n",
       " PosixPath('../data/features/geowiki_landcover_2017/all/11867_2017-03-28_2018-03-28.pkl'),\n",
       " PosixPath('../data/features/geowiki_landcover_2017/all/11872_2017-03-28_2018-03-28.pkl'),\n",
       " PosixPath('../data/features/geowiki_landcover_2017/all/10887_2017-03-28_2018-03-28.pkl'),\n",
       " PosixPath('../data/features/geowiki_landcover_2017/all/13592_2017-03-28_2018-03-28.pkl'),\n",
       " PosixPath('../data/features/geowiki_landcover_2017/all/8139_2017-03-28_2018-03-28.pkl'),\n",
       " PosixPath('../data/features/geowiki_landcover_2017/all/11325_2017-03-28_2018-03-28.pkl'),\n",
       " PosixPath('../data/features/geowiki_landcover_2017/all/14614_2017-03-28_2018-03-28.pkl'),\n",
       " PosixPath('../data/features/geowiki_landcover_2017/all/10748_2017-03-28_2018-03-28.pkl'),\n",
       " PosixPath('../data/features/geowiki_landcover_2017/all/13400_2017-03-28_2018-03-28.pkl'),\n",
       " PosixPath('../data/features/geowiki_landcover_2017/all/13314_2017-03-28_2018-03-28.pkl'),\n",
       " PosixPath('../data/features/geowiki_landcover_2017/all/11879_2017-03-28_2018-03-28.pkl'),\n",
       " PosixPath('../data/features/geowiki_landcover_2017/all/13892_2017-03-28_2018-03-28.pkl'),\n",
       " PosixPath('../data/features/geowiki_landcover_2017/all/12982_2017-03-28_2018-03-28.pkl'),\n",
       " PosixPath('../data/features/geowiki_landcover_2017/all/10811_2017-03-28_2018-03-28.pkl'),\n",
       " PosixPath('../data/features/geowiki_landcover_2017/all/11748_2017-03-28_2018-03-28.pkl'),\n",
       " PosixPath('../data/features/geowiki_landcover_2017/all/11675_2017-03-28_2018-03-28.pkl'),\n",
       " PosixPath('../data/features/geowiki_landcover_2017/all/13326_2017-03-28_2018-03-28.pkl'),\n",
       " PosixPath('../data/features/geowiki_landcover_2017/all/14114_2017-03-28_2018-03-28.pkl'),\n",
       " PosixPath('../data/features/geowiki_landcover_2017/all/12369_2017-03-28_2018-03-28.pkl'),\n",
       " PosixPath('../data/features/geowiki_landcover_2017/all/13565_2017-03-28_2018-03-28.pkl'),\n",
       " PosixPath('../data/features/geowiki_landcover_2017/all/13848_2017-03-28_2018-03-28.pkl'),\n",
       " PosixPath('../data/features/geowiki_landcover_2017/all/9443_2017-03-28_2018-03-28.pkl'),\n",
       " PosixPath('../data/features/geowiki_landcover_2017/all/11332_2017-03-28_2018-03-28.pkl'),\n",
       " PosixPath('../data/features/geowiki_landcover_2017/all/10815_2017-03-28_2018-03-28.pkl'),\n",
       " PosixPath('../data/features/geowiki_landcover_2017/all/13967_2017-03-28_2018-03-28.pkl'),\n",
       " PosixPath('../data/features/geowiki_landcover_2017/all/14357_2017-03-28_2018-03-28.pkl'),\n",
       " PosixPath('../data/features/geowiki_landcover_2017/all/10995_2017-03-28_2018-03-28.pkl'),\n",
       " PosixPath('../data/features/geowiki_landcover_2017/all/8712_2017-03-28_2018-03-28.pkl'),\n",
       " PosixPath('../data/features/geowiki_landcover_2017/all/12197_2017-03-28_2018-03-28.pkl'),\n",
       " PosixPath('../data/features/geowiki_landcover_2017/all/11191_2017-03-28_2018-03-28.pkl'),\n",
       " PosixPath('../data/features/geowiki_landcover_2017/all/8722_2017-03-28_2018-03-28.pkl'),\n",
       " PosixPath('../data/features/geowiki_landcover_2017/all/12095_2017-03-28_2018-03-28.pkl'),\n",
       " PosixPath('../data/features/geowiki_landcover_2017/all/11807_2017-03-28_2018-03-28.pkl'),\n",
       " PosixPath('../data/features/geowiki_landcover_2017/all/13589_2017-03-28_2018-03-28.pkl'),\n",
       " PosixPath('../data/features/geowiki_landcover_2017/all/8326_2017-03-28_2018-03-28.pkl'),\n",
       " PosixPath('../data/features/geowiki_landcover_2017/all/13696_2017-03-28_2018-03-28.pkl'),\n",
       " PosixPath('../data/features/geowiki_landcover_2017/all/13068_2017-03-28_2018-03-28.pkl'),\n",
       " PosixPath('../data/features/geowiki_landcover_2017/all/11003_2017-03-28_2018-03-28.pkl'),\n",
       " PosixPath('../data/features/geowiki_landcover_2017/all/12823_2017-03-28_2018-03-28.pkl'),\n",
       " PosixPath('../data/features/geowiki_landcover_2017/all/10520_2017-03-28_2018-03-28.pkl'),\n",
       " PosixPath('../data/features/geowiki_landcover_2017/all/13632_2017-03-28_2018-03-28.pkl'),\n",
       " PosixPath('../data/features/geowiki_landcover_2017/all/13432_2017-03-28_2018-03-28.pkl'),\n",
       " PosixPath('../data/features/geowiki_landcover_2017/all/15331_2017-03-28_2018-03-28.pkl'),\n",
       " PosixPath('../data/features/geowiki_landcover_2017/all/13597_2017-03-28_2018-03-28.pkl'),\n",
       " PosixPath('../data/features/geowiki_landcover_2017/all/12467_2017-03-28_2018-03-28.pkl'),\n",
       " PosixPath('../data/features/geowiki_landcover_2017/all/13586_2017-03-28_2018-03-28.pkl'),\n",
       " PosixPath('../data/features/geowiki_landcover_2017/all/13159_2017-03-28_2018-03-28.pkl'),\n",
       " PosixPath('../data/features/geowiki_landcover_2017/all/11001_2017-03-28_2018-03-28.pkl'),\n",
       " PosixPath('../data/features/geowiki_landcover_2017/all/11121_2017-03-28_2018-03-28.pkl'),\n",
       " PosixPath('../data/features/geowiki_landcover_2017/all/14918_2017-03-28_2018-03-28.pkl'),\n",
       " PosixPath('../data/features/geowiki_landcover_2017/all/13459_2017-03-28_2018-03-28.pkl'),\n",
       " PosixPath('../data/features/geowiki_landcover_2017/all/7835_2017-03-28_2018-03-28.pkl'),\n",
       " PosixPath('../data/features/geowiki_landcover_2017/all/12817_2017-03-28_2018-03-28.pkl'),\n",
       " PosixPath('../data/features/geowiki_landcover_2017/all/5910_2017-03-28_2018-03-28.pkl'),\n",
       " PosixPath('../data/features/geowiki_landcover_2017/all/11110_2017-03-28_2018-03-28.pkl'),\n",
       " PosixPath('../data/features/geowiki_landcover_2017/all/8057_2017-03-28_2018-03-28.pkl'),\n",
       " PosixPath('../data/features/geowiki_landcover_2017/all/9445_2017-03-28_2018-03-28.pkl'),\n",
       " ...]"
      ]
     },
     "execution_count": 4,
     "metadata": {},
     "output_type": "execute_result"
    }
   ],
   "source": [
    "file_paths = dataset.labels.filename.tolist()\n",
    "folder_path = dataset.data_dir / 'all'\n",
    "pickle_files = [path for path in tqdm(folder_path.glob('*.pkl')) if path.name in file_paths]\n",
    "pickle_files"
   ]
  },
  {
   "cell_type": "markdown",
   "metadata": {},
   "source": [
    "## How to get splits"
   ]
  },
  {
   "cell_type": "markdown",
   "metadata": {},
   "source": [
    "### Attempt by splitting Geowiki dataset class"
   ]
  },
  {
   "cell_type": "code",
   "execution_count": 10,
   "metadata": {},
   "outputs": [
    {
     "data": {
      "text/plain": [
       "[1828, 456]"
      ]
     },
     "execution_count": 10,
     "metadata": {},
     "output_type": "execute_result"
    }
   ],
   "source": [
    "test_ratio = 0.2\n",
    "test_size = math.floor(len(dataset) * test_ratio)\n",
    "lenghts = [len(dataset) - test_size, test_size]\n",
    "lenghts"
   ]
  },
  {
   "cell_type": "code",
   "execution_count": 11,
   "metadata": {},
   "outputs": [
    {
     "data": {
      "text/plain": [
       "2284"
      ]
     },
     "execution_count": 11,
     "metadata": {},
     "output_type": "execute_result"
    }
   ],
   "source": [
    "sum(lenghts)"
   ]
  },
  {
   "cell_type": "code",
   "execution_count": 12,
   "metadata": {},
   "outputs": [],
   "source": [
    "train_dataset, val_dataset = random_split(dataset, lenghts)  #generator is not yet available in this pytorch version, generator=torch.Generator().manual_seed(42))"
   ]
  },
  {
   "cell_type": "code",
   "execution_count": 13,
   "metadata": {},
   "outputs": [
    {
     "ename": "AttributeError",
     "evalue": "'Subset' object has no attribute 'pickle_files'",
     "output_type": "error",
     "traceback": [
      "\u001b[0;31m---------------------------------------------------------------------------\u001b[0m",
      "\u001b[0;31mAttributeError\u001b[0m                            Traceback (most recent call last)",
      "\u001b[0;32m<ipython-input-13-1e72e20a367f>\u001b[0m in \u001b[0;36m<module>\u001b[0;34m\u001b[0m\n\u001b[0;32m----> 1\u001b[0;31m \u001b[0mtrain_dataset\u001b[0m\u001b[0;34m.\u001b[0m\u001b[0mpickle_files\u001b[0m \u001b[0;31m# Subset class doesn't inheret properties like pickles files plus I would need to subset those as well\u001b[0m\u001b[0;34m\u001b[0m\u001b[0;34m\u001b[0m\u001b[0m\n\u001b[0m",
      "\u001b[0;31mAttributeError\u001b[0m: 'Subset' object has no attribute 'pickle_files'"
     ]
    }
   ],
   "source": [
    "train_dataset.pickle_files # Subset class doesn't inheret properties like pickles files plus I would need to subset those as well"
   ]
  },
  {
   "cell_type": "markdown",
   "metadata": {},
   "source": [
    "### With sklearn train test split on dataframe with labels and then create separate Geowiki datasets for each set"
   ]
  },
  {
   "cell_type": "code",
   "execution_count": 14,
   "metadata": {},
   "outputs": [
    {
     "data": {
      "text/plain": [
       "country\n",
       "Ghana      143\n",
       "Nigeria    490\n",
       "dtype: int64"
      ]
     },
     "execution_count": 14,
     "metadata": {},
     "output_type": "execute_result"
    }
   ],
   "source": [
    "df = dataset.labels\n",
    "df_subset = df[df['country'].isin(['Nigeria', 'Ghana'])]\n",
    "df_subset.groupby('country').size()"
   ]
  },
  {
   "cell_type": "code",
   "execution_count": 15,
   "metadata": {},
   "outputs": [],
   "source": [
    "df_train, df_test = train_test_split(df_subset, test_size=0.1, stratify=df_subset['country'])"
   ]
  },
  {
   "cell_type": "code",
   "execution_count": 16,
   "metadata": {},
   "outputs": [
    {
     "data": {
      "text/plain": [
       "country\n",
       "Ghana      129\n",
       "Nigeria    440\n",
       "dtype: int64"
      ]
     },
     "execution_count": 16,
     "metadata": {},
     "output_type": "execute_result"
    }
   ],
   "source": [
    "df_train.groupby('country').size()"
   ]
  },
  {
   "cell_type": "code",
   "execution_count": 17,
   "metadata": {},
   "outputs": [
    {
     "data": {
      "text/plain": [
       "country\n",
       "Ghana      14\n",
       "Nigeria    50\n",
       "dtype: int64"
      ]
     },
     "execution_count": 17,
     "metadata": {},
     "output_type": "execute_result"
    }
   ],
   "source": [
    "df_test.groupby('country').size()"
   ]
  },
  {
   "cell_type": "code",
   "execution_count": 18,
   "metadata": {},
   "outputs": [],
   "source": [
    "df_train, df_test = train_test_split(df_subset, test_size=0.1)"
   ]
  },
  {
   "cell_type": "code",
   "execution_count": 19,
   "metadata": {},
   "outputs": [
    {
     "data": {
      "text/plain": [
       "country\n",
       "Ghana      129\n",
       "Nigeria    440\n",
       "dtype: int64"
      ]
     },
     "execution_count": 19,
     "metadata": {},
     "output_type": "execute_result"
    }
   ],
   "source": [
    "df_train.groupby('country').size()"
   ]
  },
  {
   "cell_type": "code",
   "execution_count": 20,
   "metadata": {},
   "outputs": [
    {
     "data": {
      "text/plain": [
       "country\n",
       "Ghana      14\n",
       "Nigeria    50\n",
       "dtype: int64"
      ]
     },
     "execution_count": 20,
     "metadata": {},
     "output_type": "execute_result"
    }
   ],
   "source": [
    "df_test.groupby('country').size()"
   ]
  },
  {
   "cell_type": "code",
   "execution_count": 22,
   "metadata": {},
   "outputs": [],
   "source": [
    "df['country'].value_counts().to_csv('geowiki_points_per_country.csv')"
   ]
  },
  {
   "cell_type": "code",
   "execution_count": 23,
   "metadata": {},
   "outputs": [
    {
     "data": {
      "text/plain": [
       "False    2284\n",
       "Name: country, dtype: int64"
      ]
     },
     "execution_count": 23,
     "metadata": {},
     "output_type": "execute_result"
    }
   ],
   "source": [
    "df['country'].isnull().value_counts()"
   ]
  },
  {
   "cell_type": "markdown",
   "metadata": {},
   "source": [
    "## Train a model"
   ]
  },
  {
   "cell_type": "code",
   "execution_count": 5,
   "metadata": {},
   "outputs": [
    {
     "name": "stdout",
     "output_type": "stream",
     "text": [
      "Train split\n",
      "Checking for data files\n"
     ]
    },
    {
     "name": "stderr",
     "output_type": "stream",
     "text": [
      "35599it [00:00, 43137.46it/s]\n"
     ]
    },
    {
     "name": "stdout",
     "output_type": "stream",
     "text": [
      "All pickle files were found!\n",
      "length labels: 1827\n",
      "length pickle files: 1827\n",
      "length local ids: 374\n",
      "Val split\n",
      "Checking for data files\n"
     ]
    },
    {
     "name": "stderr",
     "output_type": "stream",
     "text": [
      "35599it [00:00, 142892.72it/s]"
     ]
    },
    {
     "name": "stdout",
     "output_type": "stream",
     "text": [
      "All pickle files were found!\n",
      "length labels: 457\n",
      "length pickle files: 457\n",
      "length local ids: 116\n"
     ]
    },
    {
     "name": "stderr",
     "output_type": "stream",
     "text": [
      "\n"
     ]
    }
   ],
   "source": [
    "train_dataset, val_dataset = dataset.train_val_split(dataset)"
   ]
  },
  {
   "cell_type": "code",
   "execution_count": 31,
   "metadata": {},
   "outputs": [
    {
     "data": {
      "text/plain": [
       "_StoreTrueAction(option_strings=['--weighted_loss_fn'], dest='weighted_loss_fn', nargs=0, const=True, default=False, type=None, choices=None, help=None, metavar=None)"
      ]
     },
     "execution_count": 31,
     "metadata": {},
     "output_type": "execute_result"
    }
   ],
   "source": [
    "parser = ArgumentParser()\n",
    "parser.add_argument(\"--max_epochs\", type=int, default=1000)\n",
    "parser.add_argument(\"--patience\", type=int, default=10)\n",
    "parser.add_argument(\"--gpus\", type=int, default=0)\n",
    "parser.add_argument(\"--wandb\", default=False, action=\"store_true\")\n",
    "parser.add_argument(\"--weighted_loss_fn\", default=False, action=\"store_true\")"
   ]
  },
  {
   "cell_type": "code",
   "execution_count": 32,
   "metadata": {},
   "outputs": [],
   "source": [
    "model_args = STR2MODEL[\"land_cover\"].add_model_specific_args(parser).parse_args(args=[])"
   ]
  },
  {
   "cell_type": "code",
   "execution_count": 33,
   "metadata": {},
   "outputs": [
    {
     "name": "stdout",
     "output_type": "stream",
     "text": [
      "Number of geowiki instances in training set: 27947\n"
     ]
    },
    {
     "data": {
      "text/plain": [
       "Namespace(add_geowiki=True, add_togo=True, alpha=10, batch_size=64, data_folder='/home/gajo/code/togo-crop-mask/notebooks/../data', gpus=0, hidden_vector_size=64, learning_rate=0.001, lstm_dropout=0.2, max_epochs=1000, model_base='lstm', multi_headed=True, num_classification_layers=2, num_lstm_layers=1, patience=10, probability_threshold=0.5, remove_b1_b10=True, wandb=False, weighted_loss_fn=False)"
      ]
     },
     "execution_count": 33,
     "metadata": {},
     "output_type": "execute_result"
    }
   ],
   "source": [
    "model = STR2MODEL[\"land_cover\"](model_args)\n",
    "model.hparams"
   ]
  },
  {
   "cell_type": "code",
   "execution_count": 34,
   "metadata": {},
   "outputs": [],
   "source": [
    "new_model_args_dict = vars(model_args)"
   ]
  },
  {
   "cell_type": "code",
   "execution_count": 35,
   "metadata": {},
   "outputs": [],
   "source": [
    "# SET MODIFICATIONS TO DEFAULT MODEL ARGUMENTS:\n",
    "new_model_args_dict['add_togo'] = False\n",
    "new_model_args_dict['multi_headed'] = False\n",
    "new_model_args_dict['num_classification_layers'] = 1\n",
    "new_model_args_dict['max_epochs'] = 10 # Just for dev\n",
    "new_model_args_dict['weighted_loss_fn'] = True"
   ]
  },
  {
   "cell_type": "code",
   "execution_count": 36,
   "metadata": {},
   "outputs": [
    {
     "name": "stdout",
     "output_type": "stream",
     "text": [
      "Number of geowiki instances in training set: 27947\n"
     ]
    },
    {
     "data": {
      "text/plain": [
       "Namespace(add_geowiki=True, add_togo=False, alpha=10, batch_size=64, data_folder='/home/gajo/code/togo-crop-mask/notebooks/../data', gpus=0, hidden_vector_size=64, learning_rate=0.001, lstm_dropout=0.2, max_epochs=10, model_base='lstm', multi_headed=False, num_classification_layers=1, num_lstm_layers=1, patience=10, probability_threshold=0.5, remove_b1_b10=True, wandb=False, weighted_loss_fn=True)"
      ]
     },
     "execution_count": 36,
     "metadata": {},
     "output_type": "execute_result"
    }
   ],
   "source": [
    "# Initialize model with new arguments\n",
    "new_model_args = Namespace(**new_model_args_dict)\n",
    "model = STR2MODEL[\"land_cover\"](new_model_args)\n",
    "model.hparams"
   ]
  },
  {
   "cell_type": "code",
   "execution_count": 18,
   "metadata": {},
   "outputs": [
    {
     "data": {
      "text/plain": [
       "<function __main__.<lambda>()>"
      ]
     },
     "execution_count": 18,
     "metadata": {},
     "output_type": "execute_result"
    }
   ],
   "source": [
    "model.train_dataloader = lambda: DataLoader(train_dataset, batch_size=model.hparams.batch_size)\n",
    "model.train_dataloader"
   ]
  },
  {
   "cell_type": "code",
   "execution_count": 19,
   "metadata": {},
   "outputs": [
    {
     "data": {
      "text/plain": [
       "<function __main__.<lambda>()>"
      ]
     },
     "execution_count": 19,
     "metadata": {},
     "output_type": "execute_result"
    }
   ],
   "source": [
    "model.val_dataloader = lambda: DataLoader(val_dataset, batch_size=model.hparams.batch_size)\n",
    "model.val_dataloader"
   ]
  },
  {
   "cell_type": "code",
   "execution_count": 37,
   "metadata": {},
   "outputs": [
    {
     "name": "stdout",
     "output_type": "stream",
     "text": [
      "Number of geowiki instances in validation set: 7301\n"
     ]
    },
    {
     "data": {
      "application/vnd.jupyter.widget-view+json": {
       "model_id": "34f95cfb3bdb414a8277d6a6b20366b9",
       "version_major": 2,
       "version_minor": 0
      },
      "text/plain": [
       "Validation sanity check:   0%|          | 0/5 [00:00<?, ?it/s]"
      ]
     },
     "metadata": {},
     "output_type": "display_data"
    },
    {
     "name": "stdout",
     "output_type": "stream",
     "text": [
      "confusion matrix: [[ 50 200]\n",
      " [ 15  55]]\n"
     ]
    },
    {
     "data": {
      "application/vnd.jupyter.widget-view+json": {
       "model_id": "36ffa622fb6740d2bdbaebdef4c4d754",
       "version_major": 2,
       "version_minor": 0
      },
      "text/plain": [
       "0it [00:00, ?it/s]"
      ]
     },
     "metadata": {},
     "output_type": "display_data"
    },
    {
     "name": "stdout",
     "output_type": "stream",
     "text": [
      "Number of geowiki instances in training set: 27947\n",
      "Number of geowiki instances in validation set: 7301\n"
     ]
    },
    {
     "data": {
      "application/vnd.jupyter.widget-view+json": {
       "model_id": "0555c688533347b5ab1c960b7d33dc97",
       "version_major": 2,
       "version_minor": 0
      },
      "text/plain": [
       "Validating:   0%|          | 0/115 [00:00<?, ?it/s]"
      ]
     },
     "metadata": {},
     "output_type": "display_data"
    },
    {
     "name": "stdout",
     "output_type": "stream",
     "text": [
      "confusion matrix: [[3939 1817]\n",
      " [ 375 1170]]\n"
     ]
    },
    {
     "data": {
      "application/vnd.jupyter.widget-view+json": {
       "model_id": "3b6fbfd559dd45f3b2f6823a35ab7106",
       "version_major": 2,
       "version_minor": 0
      },
      "text/plain": [
       "Validating:   0%|          | 0/115 [00:00<?, ?it/s]"
      ]
     },
     "metadata": {},
     "output_type": "display_data"
    },
    {
     "name": "stdout",
     "output_type": "stream",
     "text": [
      "confusion matrix: [[4098 1658]\n",
      " [ 315 1230]]\n"
     ]
    },
    {
     "data": {
      "application/vnd.jupyter.widget-view+json": {
       "model_id": "942de8ef227c439eb40322947c7efe58",
       "version_major": 2,
       "version_minor": 0
      },
      "text/plain": [
       "Validating:   0%|          | 0/115 [00:00<?, ?it/s]"
      ]
     },
     "metadata": {},
     "output_type": "display_data"
    },
    {
     "name": "stdout",
     "output_type": "stream",
     "text": [
      "confusion matrix: [[4162 1594]\n",
      " [ 307 1238]]\n"
     ]
    },
    {
     "data": {
      "application/vnd.jupyter.widget-view+json": {
       "model_id": "0b511af18f5446afb212784420d09bfa",
       "version_major": 2,
       "version_minor": 0
      },
      "text/plain": [
       "Validating:   0%|          | 0/115 [00:00<?, ?it/s]"
      ]
     },
     "metadata": {},
     "output_type": "display_data"
    },
    {
     "name": "stdout",
     "output_type": "stream",
     "text": [
      "confusion matrix: [[4373 1383]\n",
      " [ 333 1212]]\n"
     ]
    },
    {
     "data": {
      "application/vnd.jupyter.widget-view+json": {
       "model_id": "a4bf2d3755824be6a4956d07c0546ae8",
       "version_major": 2,
       "version_minor": 0
      },
      "text/plain": [
       "Validating:   0%|          | 0/115 [00:00<?, ?it/s]"
      ]
     },
     "metadata": {},
     "output_type": "display_data"
    },
    {
     "name": "stdout",
     "output_type": "stream",
     "text": [
      "confusion matrix: [[4586 1170]\n",
      " [ 379 1166]]\n"
     ]
    },
    {
     "data": {
      "application/vnd.jupyter.widget-view+json": {
       "model_id": "59ce2272e29645daa3b7c2d168673d6b",
       "version_major": 2,
       "version_minor": 0
      },
      "text/plain": [
       "Validating:   0%|          | 0/115 [00:00<?, ?it/s]"
      ]
     },
     "metadata": {},
     "output_type": "display_data"
    },
    {
     "name": "stdout",
     "output_type": "stream",
     "text": [
      "confusion matrix: [[4427 1329]\n",
      " [ 305 1240]]\n"
     ]
    },
    {
     "data": {
      "application/vnd.jupyter.widget-view+json": {
       "model_id": "b36e28ec153a4fd0baa9d016b3f2fa68",
       "version_major": 2,
       "version_minor": 0
      },
      "text/plain": [
       "Validating:   0%|          | 0/115 [00:00<?, ?it/s]"
      ]
     },
     "metadata": {},
     "output_type": "display_data"
    },
    {
     "name": "stdout",
     "output_type": "stream",
     "text": [
      "confusion matrix: [[4586 1170]\n",
      " [ 349 1196]]\n"
     ]
    },
    {
     "data": {
      "application/vnd.jupyter.widget-view+json": {
       "model_id": "0f61b701eca64c2a9cfabcdb38a17752",
       "version_major": 2,
       "version_minor": 0
      },
      "text/plain": [
       "Validating:   0%|          | 0/115 [00:00<?, ?it/s]"
      ]
     },
     "metadata": {},
     "output_type": "display_data"
    },
    {
     "name": "stdout",
     "output_type": "stream",
     "text": [
      "confusion matrix: [[4593 1163]\n",
      " [ 344 1201]]\n"
     ]
    },
    {
     "data": {
      "application/vnd.jupyter.widget-view+json": {
       "model_id": "46d47937dc344394b0d6944e5715b967",
       "version_major": 2,
       "version_minor": 0
      },
      "text/plain": [
       "Validating:   0%|          | 0/115 [00:00<?, ?it/s]"
      ]
     },
     "metadata": {},
     "output_type": "display_data"
    },
    {
     "name": "stdout",
     "output_type": "stream",
     "text": [
      "confusion matrix: [[4422 1334]\n",
      " [ 296 1249]]\n"
     ]
    },
    {
     "data": {
      "application/vnd.jupyter.widget-view+json": {
       "model_id": "a6b39c645c8346fb88a9382e3a59e9e4",
       "version_major": 2,
       "version_minor": 0
      },
      "text/plain": [
       "Validating:   0%|          | 0/115 [00:00<?, ?it/s]"
      ]
     },
     "metadata": {},
     "output_type": "display_data"
    },
    {
     "name": "stdout",
     "output_type": "stream",
     "text": [
      "confusion matrix: [[4694 1062]\n",
      " [ 352 1193]]\n"
     ]
    }
   ],
   "source": [
    "trainer = train_model(model, new_model_args) "
   ]
  },
  {
   "cell_type": "code",
   "execution_count": 38,
   "metadata": {},
   "outputs": [
    {
     "name": "stdout",
     "output_type": "stream",
     "text": [
      "Evaluating using the Nigeria evaluation dataset!\n",
      "Number of instances in nigeria_farmlands_v2 test set: 739\n"
     ]
    },
    {
     "data": {
      "application/vnd.jupyter.widget-view+json": {
       "model_id": "1774512630e84ccf825d97677b748f1f",
       "version_major": 2,
       "version_minor": 0
      },
      "text/plain": [
       "Testing:   0%|          | 0/12 [00:00<?, ?it/s]"
      ]
     },
     "metadata": {},
     "output_type": "display_data"
    },
    {
     "name": "stdout",
     "output_type": "stream",
     "text": [
      "confusion matrix: [[156 190]\n",
      " [265 128]]\n",
      "----------------------------------------------------------------------------------------------------\n",
      "TEST RESULTS\n",
      "{'test_loss': 2.4458844661712646, 'test_roc_auc_score': 0.32900175028313405, 'test_precision_score': 0.4025157232704403, 'test_recall_score': 0.3256997455470738, 'test_f1_score': 0.360056258790436, 'test_accuracy': 0.38430311231393777}\n",
      "----------------------------------------------------------------------------------------------------\n"
     ]
    }
   ],
   "source": [
    "trainer.test()"
   ]
  },
  {
   "cell_type": "code",
   "execution_count": null,
   "metadata": {},
   "outputs": [],
   "source": []
  },
  {
   "cell_type": "markdown",
   "metadata": {},
   "source": [
    "## DONE:\n",
    "- Support splitting dataset into train/val and update attributes (self.labels, self.pickle_files)\n",
    "    - Could either create dataset and split dataset, or split dataframe with sklearn and then create separate Geowiki datasets for each subset --> went for a hybrid\n",
    "    - Stratify:\n",
    "        - By country -> OK (just need to get rid of nans if there are any)\n",
    "        - By label (would need to define therhesold first)\n",
    "        - By both (https://stackoverflow.com/questions/45516424/sklearn-train-test-split-on-pandas-stratify-by-multiple-columns)\n",
    "- Add confusion matrix --> just printing it for now as tensorboard integration of lightning is only accepting scalars\n",
    "## TODOS:\n",
    "- Test multihead training with Nigeria (and Togo to see how much the local head helped in the original paper)\n",
    "    - Figure out normalizing dict for train and val set--> OK. just using normalizing_dict of full geowiki\n",
    "    - Weighted loss fuction in multihead case. --> Probably need some separate class weights per head\n",
    "- Train of subset of countries.\n",
    "    - Need to figure out how to deal with normalizing dict in this case.\n",
    "- Later maybe see a way if I could just inherent from LandTypeClassificationDataset so I don't repeat too much code"
   ]
  },
  {
   "cell_type": "markdown",
   "metadata": {},
   "source": []
  }
 ],
 "metadata": {
  "kernelspec": {
   "display_name": "Python 3.6.13 ('togo-paper')",
   "language": "python",
   "name": "python3"
  },
  "language_info": {
   "codemirror_mode": {
    "name": "ipython",
    "version": 3
   },
   "file_extension": ".py",
   "mimetype": "text/x-python",
   "name": "python",
   "nbconvert_exporter": "python",
   "pygments_lexer": "ipython3",
   "version": "3.6.13"
  },
  "orig_nbformat": 4,
  "vscode": {
   "interpreter": {
    "hash": "f1d702b24b358fb38573032b2736288a41648cae2db041d7fdb41486d06c5511"
   }
  }
 },
 "nbformat": 4,
 "nbformat_minor": 2
}
